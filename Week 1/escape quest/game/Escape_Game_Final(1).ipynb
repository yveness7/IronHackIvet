{
 "cells": [
  {
   "cell_type": "code",
   "execution_count": 4,
   "id": "f93482e9",
   "metadata": {},
   "outputs": [
    {
     "name": "stdout",
     "output_type": "stream",
     "text": [
      "The autoreload extension is already loaded. To reload it, use:\n",
      "  %reload_ext autoreload\n"
     ]
    }
   ],
   "source": [
    "%load_ext autoreload\n",
    "%autoreload 2 "
   ]
  },
  {
   "cell_type": "code",
   "execution_count": 5,
   "id": "98efef69",
   "metadata": {},
   "outputs": [],
   "source": [
    "# importing the functions\n",
    "import functions"
   ]
  },
  {
   "cell_type": "code",
   "execution_count": 6,
   "id": "f67bb710",
   "metadata": {
    "scrolled": true
   },
   "outputs": [
    {
     "name": "stdout",
     "output_type": "stream",
     "text": [
      "\n",
      "\n",
      "███████╗███████╗ ██████╗ █████╗ ██████╗ ███████╗    ██████╗  ██████╗  ██████╗ ███╗   ███╗     ██████╗  █████╗ ███╗   ███╗███████╗    \n",
      "██╔════╝██╔════╝██╔════╝██╔══██╗██╔══██╗██╔════╝    ██╔══██╗██╔═══██╗██╔═══██╗████╗ ████║    ██╔════╝ ██╔══██╗████╗ ████║██╔════╝    \n",
      "█████╗  ███████╗██║     ███████║██████╔╝█████╗      ██████╔╝██║   ██║██║   ██║██╔████╔██║    ██║  ███╗███████║██╔████╔██║█████╗      \n",
      "██╔══╝  ╚════██║██║     ██╔══██║██╔═══╝ ██╔══╝      ██╔══██╗██║   ██║██║   ██║██║╚██╔╝██║    ██║   ██║██╔══██║██║╚██╔╝██║██╔══╝      \n",
      "███████╗███████║╚██████╗██║  ██║██║     ███████╗    ██║  ██║╚██████╔╝╚██████╔╝██║ ╚═╝ ██║    ╚██████╔╝██║  ██║██║ ╚═╝ ██║███████╗    \n",
      "╚══════╝╚══════╝ ╚═════╝╚═╝  ╚═╝╚═╝     ╚══════╝    ╚═╝  ╚═╝ ╚═════╝  ╚═════╝ ╚═╝     ╚═╝     ╚═════╝ ╚═╝  ╚═╝╚═╝     ╚═╝╚══════╝    \n",
      "                                                                                                                                     \n",
      "\n",
      "\n",
      "\n",
      "\u001b[1mWelcome to the Escape Game!!!\u001b[0m\n",
      "\n",
      "You wake up on a couch and find yourself in a strange house with no windows which you have never been to.\n",
      "\n",
      "You don't remember why you are here and what had happened before.\n",
      "\n",
      "You feel some unknown danger is approaching and you must get out of the house, \u001b[1mRIGHT NOW!\u001b[0m\n",
      "\n",
      "\u001b[1m- - - - - - - - - - - - - - - - - - - - - - - - - - - - - - - - - - - - - - - - - - - - - - - - - - - - - - - \u001b[0m\n",
      "\n",
      "\u001b[1mARE YOU READY? LOS GEHTS!!!\u001b[0m\n",
      "\n",
      "\n",
      "You are now in the game room.\n"
     ]
    },
    {
     "name": "stdin",
     "output_type": "stream",
     "text": [
      "\n",
      "    --> What would you like to do? Type 'explore' or 'examine'?  explore\n"
     ]
    },
    {
     "name": "stdout",
     "output_type": "stream",
     "text": [
      "\n",
      "You are exploring the game room. Here you find: couch, piano, door a\n",
      "\n",
      "\n",
      "You are now in the game room.\n"
     ]
    },
    {
     "name": "stdin",
     "output_type": "stream",
     "text": [
      "\n",
      "    --> What would you like to do? Type 'explore' or 'examine'?  examin\n"
     ]
    },
    {
     "name": "stdout",
     "output_type": "stream",
     "text": [
      "\n",
      "    --> Not sure what you mean. Type 'explore' or 'examine'.\n",
      "\n",
      "\n",
      "You are now in the game room.\n"
     ]
    },
    {
     "name": "stdin",
     "output_type": "stream",
     "text": [
      "\n",
      "    --> What would you like to do? Type 'explore' or 'examine'?  examine\n",
      "\n",
      "    --> What would you like to examine?  couch\n"
     ]
    },
    {
     "name": "stdout",
     "output_type": "stream",
     "text": [
      "\n",
      "You examine the couch. \n",
      "There isn't anything interesting about it. Look somewhere else!\n",
      "\n",
      "\n",
      "You are now in the game room.\n"
     ]
    },
    {
     "name": "stdin",
     "output_type": "stream",
     "text": [
      "\n",
      "    --> What would you like to do? Type 'explore' or 'examine'?  examine\n",
      "\n",
      "    --> What would you like to examine?  piano\n"
     ]
    },
    {
     "name": "stdout",
     "output_type": "stream",
     "text": [
      "                                                                                   \n",
      "                                                                                            \n",
      "                                                                                            \n",
      "                                                                                            \n",
      "                                                                                            \n",
      "                      ██████████                                                            \n",
      "                  ████░░░░░░░░░░██████                                                   \n",
      "                ██░░░░░░░░░░░░░░░░░░░░██                                                    \n",
      "              ██░░░░░░░░░░░░░░░░░░░░░░░░██    ████                                          \n",
      "            ▓▓░░░░░░░░░░░░░░░░░░░░░░░░░░██  ██░░██                                          \n",
      "            ██░░░░░░░░░░░░░░░░░░░░░░░░░░░░██░░░░████████████████████████████████            \n",
      "          ██░░░░░░██████░░░░░░░░░░░░░░░░░░░░░░░░░░░░░░░░░░░░░░░░░░░░░░░░░░░░░░░░██          \n",
      "          ██░░░░██      ██░░░░░░░░░░░░░░░░░░░░░░░░░░░░░░░░░░░░░░░░░░░░░░░░░░░░░░░░██        \n",
      "          ██░░░░██      ▓▓░░░░░░░░░░░░░░░░░░░░░░░░░░░░░░░░░░░░░░░░░░░░░░░░░░░░░░██          \n",
      "          ██░░░░██      ██░░░░░░░░░░░░░░░░░░░░░░░░░░░░░░░░▓▓░░░░░░░░▓▓░░░░░░░░██            \n",
      "          ██░░░░░░██████░░░░░░░░░░░░░░░░░░░░░░░░██████░░██  ██░░░░██  ████████              \n",
      "            ██░░░░░░░░░░░░░░░░░░░░░░░░░░░░██░░░░██    ██      ████                          \n",
      "            ██░░░░░░░░░░░░░░░░░░░░░░░░░░██  ██░░██                                          \n",
      "              ██░░░░░░░░░░░░░░░░░░░░░░░░██    ████                                          \n",
      "                ██░░░░░░░░░░░░░░░░░░░░██                                                    \n",
      "                  ████░░░░░░░░░░██████                                                      \n",
      "                  ░░░░▓▓▓▓▓▓▓▓▓▓░░░░░░                                                      \n",
      "                                                                                            \n",
      "                                                                                            \n",
      "                                                                                         \n",
      "                 \n",
      "\n",
      "You examine the piano. \n",
      "\n",
      ">>> You found key for door a. <<<\n",
      "\n",
      "\n",
      "You are now in the game room.\n"
     ]
    },
    {
     "name": "stdin",
     "output_type": "stream",
     "text": [
      "\n",
      "    --> What would you like to do? Type 'explore' or 'examine'?  explore\n"
     ]
    },
    {
     "name": "stdout",
     "output_type": "stream",
     "text": [
      "\n",
      "You are exploring the game room. Here you find: couch, piano, door a\n",
      "\n",
      "\n",
      "You are now in the game room.\n"
     ]
    },
    {
     "name": "stdin",
     "output_type": "stream",
     "text": [
      "\n",
      "    --> What would you like to do? Type 'explore' or 'examine'?  examine\n",
      "\n",
      "    --> What would you like to examine?  door a\n"
     ]
    },
    {
     "name": "stdout",
     "output_type": "stream",
     "text": [
      "\n",
      "\n",
      "██╗   ██╗███╗   ██╗██╗      ██████╗  ██████╗██╗  ██╗███████╗██████╗        ███╗\n",
      "██║   ██║████╗  ██║██║     ██╔═══██╗██╔════╝██║ ██╔╝██╔════╝██╔══██╗    ██╗╚██║\n",
      "██║   ██║██╔██╗ ██║██║     ██║   ██║██║     █████╔╝ █████╗  ██║  ██║    ╚═╝ ██║\n",
      "██║   ██║██║╚██╗██║██║     ██║   ██║██║     ██╔═██╗ ██╔══╝  ██║  ██║    ██╗ ██║\n",
      "╚██████╔╝██║ ╚████║███████╗╚██████╔╝╚██████╗██║  ██╗███████╗██████╔╝    ╚═╝███║\n",
      " ╚═════╝ ╚═╝  ╚═══╝╚══════╝ ╚═════╝  ╚═════╝╚═╝  ╚═╝╚══════╝╚═════╝        ╚══╝\n",
      "                                                                               \n",
      "\n",
      "\n",
      "\n",
      "\n",
      "You examine the door a. \n",
      "\n",
      ">>> You unlock it with a key you have. Well done!!! <<<\n"
     ]
    },
    {
     "name": "stdin",
     "output_type": "stream",
     "text": [
      "\n",
      "    --> Do you want to go to the next room? Enter 'yes' or 'no'  yes\n"
     ]
    },
    {
     "name": "stdout",
     "output_type": "stream",
     "text": [
      "\n",
      "\n",
      "You are now in the bedroom 1.\n"
     ]
    },
    {
     "name": "stdin",
     "output_type": "stream",
     "text": [
      "\n",
      "    --> What would you like to do? Type 'explore' or 'examine'?  explore\n"
     ]
    },
    {
     "name": "stdout",
     "output_type": "stream",
     "text": [
      "\n",
      "You are exploring the bedroom 1. Here you find: queen bed, door b, door c\n",
      "\n",
      "\n",
      "You are now in the bedroom 1.\n"
     ]
    },
    {
     "name": "stdin",
     "output_type": "stream",
     "text": [
      "\n",
      "    --> What would you like to do? Type 'explore' or 'examine'?  examine\n",
      "\n",
      "    --> What would you like to examine?  queen bed\n"
     ]
    },
    {
     "name": "stdout",
     "output_type": "stream",
     "text": [
      "                                                                                   \n",
      "                                                                                            \n",
      "                                                                                            \n",
      "                                                                                            \n",
      "                                                                                            \n",
      "                      ██████████                                                            \n",
      "                  ████░░░░░░░░░░██████                                                   \n",
      "                ██░░░░░░░░░░░░░░░░░░░░██                                                    \n",
      "              ██░░░░░░░░░░░░░░░░░░░░░░░░██    ████                                          \n",
      "            ▓▓░░░░░░░░░░░░░░░░░░░░░░░░░░██  ██░░██                                          \n",
      "            ██░░░░░░░░░░░░░░░░░░░░░░░░░░░░██░░░░████████████████████████████████            \n",
      "          ██░░░░░░██████░░░░░░░░░░░░░░░░░░░░░░░░░░░░░░░░░░░░░░░░░░░░░░░░░░░░░░░░██          \n",
      "          ██░░░░██      ██░░░░░░░░░░░░░░░░░░░░░░░░░░░░░░░░░░░░░░░░░░░░░░░░░░░░░░░░██        \n",
      "          ██░░░░██      ▓▓░░░░░░░░░░░░░░░░░░░░░░░░░░░░░░░░░░░░░░░░░░░░░░░░░░░░░░██          \n",
      "          ██░░░░██      ██░░░░░░░░░░░░░░░░░░░░░░░░░░░░░░░░▓▓░░░░░░░░▓▓░░░░░░░░██            \n",
      "          ██░░░░░░██████░░░░░░░░░░░░░░░░░░░░░░░░██████░░██  ██░░░░██  ████████              \n",
      "            ██░░░░░░░░░░░░░░░░░░░░░░░░░░░░██░░░░██    ██      ████                          \n",
      "            ██░░░░░░░░░░░░░░░░░░░░░░░░░░██  ██░░██                                          \n",
      "              ██░░░░░░░░░░░░░░░░░░░░░░░░██    ████                                          \n",
      "                ██░░░░░░░░░░░░░░░░░░░░██                                                    \n",
      "                  ████░░░░░░░░░░██████                                                      \n",
      "                  ░░░░▓▓▓▓▓▓▓▓▓▓░░░░░░                                                      \n",
      "                                                                                            \n",
      "                                                                                            \n",
      "                                                                                         \n",
      "                 \n",
      "\n",
      "You examine the queen bed. \n",
      "\n",
      ">>> You found key for door b. <<<\n",
      "\n",
      "\n",
      "You are now in the bedroom 1.\n"
     ]
    },
    {
     "name": "stdin",
     "output_type": "stream",
     "text": [
      "\n",
      "    --> What would you like to do? Type 'explore' or 'examine'?  examine\n",
      "\n",
      "    --> What would you like to examine?  door b\n"
     ]
    },
    {
     "name": "stdout",
     "output_type": "stream",
     "text": [
      "\n",
      "\n",
      "██╗   ██╗███╗   ██╗██╗      ██████╗  ██████╗██╗  ██╗███████╗██████╗        ███╗\n",
      "██║   ██║████╗  ██║██║     ██╔═══██╗██╔════╝██║ ██╔╝██╔════╝██╔══██╗    ██╗╚██║\n",
      "██║   ██║██╔██╗ ██║██║     ██║   ██║██║     █████╔╝ █████╗  ██║  ██║    ╚═╝ ██║\n",
      "██║   ██║██║╚██╗██║██║     ██║   ██║██║     ██╔═██╗ ██╔══╝  ██║  ██║    ██╗ ██║\n",
      "╚██████╔╝██║ ╚████║███████╗╚██████╔╝╚██████╗██║  ██╗███████╗██████╔╝    ╚═╝███║\n",
      " ╚═════╝ ╚═╝  ╚═══╝╚══════╝ ╚═════╝  ╚═════╝╚═╝  ╚═╝╚══════╝╚═════╝        ╚══╝\n",
      "                                                                               \n",
      "\n",
      "\n",
      "\n",
      "\n",
      "You examine the door b. \n",
      "\n",
      ">>> You unlock it with a key you have. Well done!!! <<<\n"
     ]
    },
    {
     "name": "stdin",
     "output_type": "stream",
     "text": [
      "\n",
      "    --> Do you want to go to the next room? Enter 'yes' or 'no'  yes\n"
     ]
    },
    {
     "name": "stdout",
     "output_type": "stream",
     "text": [
      "\n",
      "\n",
      "You are now in the bedroom 2.\n"
     ]
    },
    {
     "name": "stdin",
     "output_type": "stream",
     "text": [
      "\n",
      "    --> What would you like to do? Type 'explore' or 'examine'?  explore\n"
     ]
    },
    {
     "name": "stdout",
     "output_type": "stream",
     "text": [
      "\n",
      "You are exploring the bedroom 2. Here you find: door b, double bed, dresser\n",
      "\n",
      "\n",
      "You are now in the bedroom 2.\n"
     ]
    },
    {
     "name": "stdin",
     "output_type": "stream",
     "text": [
      "\n",
      "    --> What would you like to do? Type 'explore' or 'examine'?  examine\n",
      "\n",
      "    --> What would you like to examine?  dresser\n"
     ]
    },
    {
     "name": "stdout",
     "output_type": "stream",
     "text": [
      "                                                                                   \n",
      "                                                                                            \n",
      "                                                                                            \n",
      "                                                                                            \n",
      "                                                                                            \n",
      "                      ██████████                                                            \n",
      "                  ████░░░░░░░░░░██████                                                   \n",
      "                ██░░░░░░░░░░░░░░░░░░░░██                                                    \n",
      "              ██░░░░░░░░░░░░░░░░░░░░░░░░██    ████                                          \n",
      "            ▓▓░░░░░░░░░░░░░░░░░░░░░░░░░░██  ██░░██                                          \n",
      "            ██░░░░░░░░░░░░░░░░░░░░░░░░░░░░██░░░░████████████████████████████████            \n",
      "          ██░░░░░░██████░░░░░░░░░░░░░░░░░░░░░░░░░░░░░░░░░░░░░░░░░░░░░░░░░░░░░░░░██          \n",
      "          ██░░░░██      ██░░░░░░░░░░░░░░░░░░░░░░░░░░░░░░░░░░░░░░░░░░░░░░░░░░░░░░░░██        \n",
      "          ██░░░░██      ▓▓░░░░░░░░░░░░░░░░░░░░░░░░░░░░░░░░░░░░░░░░░░░░░░░░░░░░░░██          \n",
      "          ██░░░░██      ██░░░░░░░░░░░░░░░░░░░░░░░░░░░░░░░░▓▓░░░░░░░░▓▓░░░░░░░░██            \n",
      "          ██░░░░░░██████░░░░░░░░░░░░░░░░░░░░░░░░██████░░██  ██░░░░██  ████████              \n",
      "            ██░░░░░░░░░░░░░░░░░░░░░░░░░░░░██░░░░██    ██      ████                          \n",
      "            ██░░░░░░░░░░░░░░░░░░░░░░░░░░██  ██░░██                                          \n",
      "              ██░░░░░░░░░░░░░░░░░░░░░░░░██    ████                                          \n",
      "                ██░░░░░░░░░░░░░░░░░░░░██                                                    \n",
      "                  ████░░░░░░░░░░██████                                                      \n",
      "                  ░░░░▓▓▓▓▓▓▓▓▓▓░░░░░░                                                      \n",
      "                                                                                            \n",
      "                                                                                            \n",
      "                                                                                         \n",
      "                 \n",
      "\n",
      "You examine the dresser. \n",
      "\n",
      ">>> You found key for door d. <<<\n",
      "\n",
      "\n",
      "You are now in the bedroom 2.\n"
     ]
    },
    {
     "name": "stdin",
     "output_type": "stream",
     "text": [
      "\n",
      "    --> What would you like to do? Type 'explore' or 'examine'?  examine\n",
      "\n",
      "    --> What would you like to examine?  explore\n"
     ]
    },
    {
     "name": "stdout",
     "output_type": "stream",
     "text": [
      "\n",
      "The item you requested is not found in the current room.\n",
      "\n",
      "\n",
      "You are now in the bedroom 2.\n"
     ]
    },
    {
     "name": "stdin",
     "output_type": "stream",
     "text": [
      "\n",
      "    --> What would you like to do? Type 'explore' or 'examine'?  explore\n"
     ]
    },
    {
     "name": "stdout",
     "output_type": "stream",
     "text": [
      "\n",
      "You are exploring the bedroom 2. Here you find: door b, double bed, dresser\n",
      "\n",
      "\n",
      "You are now in the bedroom 2.\n"
     ]
    },
    {
     "name": "stdin",
     "output_type": "stream",
     "text": [
      "\n",
      "    --> What would you like to do? Type 'explore' or 'examine'?  examine\n",
      "\n",
      "    --> What would you like to examine?  door b\n"
     ]
    },
    {
     "name": "stdout",
     "output_type": "stream",
     "text": [
      "\n",
      "\n",
      "██╗   ██╗███╗   ██╗██╗      ██████╗  ██████╗██╗  ██╗███████╗██████╗        ███╗\n",
      "██║   ██║████╗  ██║██║     ██╔═══██╗██╔════╝██║ ██╔╝██╔════╝██╔══██╗    ██╗╚██║\n",
      "██║   ██║██╔██╗ ██║██║     ██║   ██║██║     █████╔╝ █████╗  ██║  ██║    ╚═╝ ██║\n",
      "██║   ██║██║╚██╗██║██║     ██║   ██║██║     ██╔═██╗ ██╔══╝  ██║  ██║    ██╗ ██║\n",
      "╚██████╔╝██║ ╚████║███████╗╚██████╔╝╚██████╗██║  ██╗███████╗██████╔╝    ╚═╝███║\n",
      " ╚═════╝ ╚═╝  ╚═══╝╚══════╝ ╚═════╝  ╚═════╝╚═╝  ╚═╝╚══════╝╚═════╝        ╚══╝\n",
      "                                                                               \n",
      "\n",
      "\n",
      "\n",
      "\n",
      "You examine the door b. \n",
      "\n",
      ">>> You unlock it with a key you have. Well done!!! <<<\n"
     ]
    },
    {
     "name": "stdin",
     "output_type": "stream",
     "text": [
      "\n",
      "    --> Do you want to go to the next room? Enter 'yes' or 'no'  yes\n"
     ]
    },
    {
     "name": "stdout",
     "output_type": "stream",
     "text": [
      "\n",
      "\n",
      "You are now in the bedroom 1.\n"
     ]
    },
    {
     "name": "stdin",
     "output_type": "stream",
     "text": [
      "\n",
      "    --> What would you like to do? Type 'explore' or 'examine'?  examine\n",
      "\n",
      "    --> What would you like to examine?  door b\n"
     ]
    },
    {
     "name": "stdout",
     "output_type": "stream",
     "text": [
      "\n",
      "\n",
      "██╗   ██╗███╗   ██╗██╗      ██████╗  ██████╗██╗  ██╗███████╗██████╗        ███╗\n",
      "██║   ██║████╗  ██║██║     ██╔═══██╗██╔════╝██║ ██╔╝██╔════╝██╔══██╗    ██╗╚██║\n",
      "██║   ██║██╔██╗ ██║██║     ██║   ██║██║     █████╔╝ █████╗  ██║  ██║    ╚═╝ ██║\n",
      "██║   ██║██║╚██╗██║██║     ██║   ██║██║     ██╔═██╗ ██╔══╝  ██║  ██║    ██╗ ██║\n",
      "╚██████╔╝██║ ╚████║███████╗╚██████╔╝╚██████╗██║  ██╗███████╗██████╔╝    ╚═╝███║\n",
      " ╚═════╝ ╚═╝  ╚═══╝╚══════╝ ╚═════╝  ╚═════╝╚═╝  ╚═╝╚══════╝╚═════╝        ╚══╝\n",
      "                                                                               \n",
      "\n",
      "\n",
      "\n",
      "\n",
      "You examine the door b. \n",
      "\n",
      ">>> You unlock it with a key you have. Well done!!! <<<\n"
     ]
    },
    {
     "name": "stdin",
     "output_type": "stream",
     "text": [
      "\n",
      "    --> Do you want to go to the next room? Enter 'yes' or 'no'  no\n"
     ]
    },
    {
     "name": "stdout",
     "output_type": "stream",
     "text": [
      "\n",
      "\n",
      "You are now in the bedroom 1.\n"
     ]
    },
    {
     "name": "stdin",
     "output_type": "stream",
     "text": [
      "\n",
      "    --> What would you like to do? Type 'explore' or 'examine'?  examine\n",
      "\n",
      "    --> What would you like to examine?  door c\n"
     ]
    },
    {
     "name": "stdout",
     "output_type": "stream",
     "text": [
      "\n",
      "\n",
      "\n",
      "██╗      ██████╗  ██████╗██╗  ██╗███████╗██████╗         ██╗\n",
      "██║     ██╔═══██╗██╔════╝██║ ██╔╝██╔════╝██╔══██╗    ██╗██╔╝\n",
      "██║     ██║   ██║██║     █████╔╝ █████╗  ██║  ██║    ╚═╝██║ \n",
      "██║     ██║   ██║██║     ██╔═██╗ ██╔══╝  ██║  ██║    ██╗██║ \n",
      "███████╗╚██████╔╝╚██████╗██║  ██╗███████╗██████╔╝    ╚═╝╚██╗\n",
      "╚══════╝ ╚═════╝  ╚═════╝╚═╝  ╚═╝╚══════╝╚═════╝         ╚═╝\n",
      "                                                            \n",
      "\n",
      "\n",
      "\n",
      "You examine the door c. \n",
      "It is locked but you don't have the key. Keep trying.\n",
      "\n",
      "\n",
      "You are now in the bedroom 1.\n"
     ]
    },
    {
     "name": "stdin",
     "output_type": "stream",
     "text": [
      "\n",
      "    --> What would you like to do? Type 'explore' or 'examine'?  explore\n"
     ]
    },
    {
     "name": "stdout",
     "output_type": "stream",
     "text": [
      "\n",
      "You are exploring the bedroom 1. Here you find: queen bed, door b, door c\n",
      "\n",
      "\n",
      "You are now in the bedroom 1.\n"
     ]
    },
    {
     "name": "stdin",
     "output_type": "stream",
     "text": [
      "\n",
      "    --> What would you like to do? Type 'explore' or 'examine'?  examine\n",
      "\n",
      "    --> What would you like to examine?  door b\n"
     ]
    },
    {
     "name": "stdout",
     "output_type": "stream",
     "text": [
      "\n",
      "\n",
      "██╗   ██╗███╗   ██╗██╗      ██████╗  ██████╗██╗  ██╗███████╗██████╗        ███╗\n",
      "██║   ██║████╗  ██║██║     ██╔═══██╗██╔════╝██║ ██╔╝██╔════╝██╔══██╗    ██╗╚██║\n",
      "██║   ██║██╔██╗ ██║██║     ██║   ██║██║     █████╔╝ █████╗  ██║  ██║    ╚═╝ ██║\n",
      "██║   ██║██║╚██╗██║██║     ██║   ██║██║     ██╔═██╗ ██╔══╝  ██║  ██║    ██╗ ██║\n",
      "╚██████╔╝██║ ╚████║███████╗╚██████╔╝╚██████╗██║  ██╗███████╗██████╔╝    ╚═╝███║\n",
      " ╚═════╝ ╚═╝  ╚═══╝╚══════╝ ╚═════╝  ╚═════╝╚═╝  ╚═╝╚══════╝╚═════╝        ╚══╝\n",
      "                                                                               \n",
      "\n",
      "\n",
      "\n",
      "\n",
      "You examine the door b. \n",
      "\n",
      ">>> You unlock it with a key you have. Well done!!! <<<\n"
     ]
    },
    {
     "name": "stdin",
     "output_type": "stream",
     "text": [
      "\n",
      "    --> Do you want to go to the next room? Enter 'yes' or 'no'  yes\n"
     ]
    },
    {
     "name": "stdout",
     "output_type": "stream",
     "text": [
      "\n",
      "\n",
      "You are now in the bedroom 2.\n"
     ]
    },
    {
     "name": "stdin",
     "output_type": "stream",
     "text": [
      "\n",
      "    --> What would you like to do? Type 'explore' or 'examine'?  explore\n"
     ]
    },
    {
     "name": "stdout",
     "output_type": "stream",
     "text": [
      "\n",
      "You are exploring the bedroom 2. Here you find: door b, double bed, dresser\n",
      "\n",
      "\n",
      "You are now in the bedroom 2.\n"
     ]
    },
    {
     "name": "stdin",
     "output_type": "stream",
     "text": [
      "\n",
      "    --> What would you like to do? Type 'explore' or 'examine'?  examine\n",
      "\n",
      "    --> What would you like to examine?  double bed\n"
     ]
    },
    {
     "name": "stdout",
     "output_type": "stream",
     "text": [
      "                                                                                   \n",
      "                                                                                            \n",
      "                                                                                            \n",
      "                                                                                            \n",
      "                                                                                            \n",
      "                      ██████████                                                            \n",
      "                  ████░░░░░░░░░░██████                                                   \n",
      "                ██░░░░░░░░░░░░░░░░░░░░██                                                    \n",
      "              ██░░░░░░░░░░░░░░░░░░░░░░░░██    ████                                          \n",
      "            ▓▓░░░░░░░░░░░░░░░░░░░░░░░░░░██  ██░░██                                          \n",
      "            ██░░░░░░░░░░░░░░░░░░░░░░░░░░░░██░░░░████████████████████████████████            \n",
      "          ██░░░░░░██████░░░░░░░░░░░░░░░░░░░░░░░░░░░░░░░░░░░░░░░░░░░░░░░░░░░░░░░░██          \n",
      "          ██░░░░██      ██░░░░░░░░░░░░░░░░░░░░░░░░░░░░░░░░░░░░░░░░░░░░░░░░░░░░░░░░██        \n",
      "          ██░░░░██      ▓▓░░░░░░░░░░░░░░░░░░░░░░░░░░░░░░░░░░░░░░░░░░░░░░░░░░░░░░██          \n",
      "          ██░░░░██      ██░░░░░░░░░░░░░░░░░░░░░░░░░░░░░░░░▓▓░░░░░░░░▓▓░░░░░░░░██            \n",
      "          ██░░░░░░██████░░░░░░░░░░░░░░░░░░░░░░░░██████░░██  ██░░░░██  ████████              \n",
      "            ██░░░░░░░░░░░░░░░░░░░░░░░░░░░░██░░░░██    ██      ████                          \n",
      "            ██░░░░░░░░░░░░░░░░░░░░░░░░░░██  ██░░██                                          \n",
      "              ██░░░░░░░░░░░░░░░░░░░░░░░░██    ████                                          \n",
      "                ██░░░░░░░░░░░░░░░░░░░░██                                                    \n",
      "                  ████░░░░░░░░░░██████                                                      \n",
      "                  ░░░░▓▓▓▓▓▓▓▓▓▓░░░░░░                                                      \n",
      "                                                                                            \n",
      "                                                                                            \n",
      "                                                                                         \n",
      "                 \n",
      "\n",
      "You examine the double bed. \n",
      "\n",
      ">>> You found key for door c. <<<\n",
      "\n",
      "\n",
      "You are now in the bedroom 2.\n"
     ]
    },
    {
     "name": "stdin",
     "output_type": "stream",
     "text": [
      "\n",
      "    --> What would you like to do? Type 'explore' or 'examine'?  examine\n",
      "\n",
      "    --> What would you like to examine?  door b\n"
     ]
    },
    {
     "name": "stdout",
     "output_type": "stream",
     "text": [
      "\n",
      "\n",
      "██╗   ██╗███╗   ██╗██╗      ██████╗  ██████╗██╗  ██╗███████╗██████╗        ███╗\n",
      "██║   ██║████╗  ██║██║     ██╔═══██╗██╔════╝██║ ██╔╝██╔════╝██╔══██╗    ██╗╚██║\n",
      "██║   ██║██╔██╗ ██║██║     ██║   ██║██║     █████╔╝ █████╗  ██║  ██║    ╚═╝ ██║\n",
      "██║   ██║██║╚██╗██║██║     ██║   ██║██║     ██╔═██╗ ██╔══╝  ██║  ██║    ██╗ ██║\n",
      "╚██████╔╝██║ ╚████║███████╗╚██████╔╝╚██████╗██║  ██╗███████╗██████╔╝    ╚═╝███║\n",
      " ╚═════╝ ╚═╝  ╚═══╝╚══════╝ ╚═════╝  ╚═════╝╚═╝  ╚═╝╚══════╝╚═════╝        ╚══╝\n",
      "                                                                               \n",
      "\n",
      "\n",
      "\n",
      "\n",
      "You examine the door b. \n",
      "\n",
      ">>> You unlock it with a key you have. Well done!!! <<<\n"
     ]
    },
    {
     "name": "stdin",
     "output_type": "stream",
     "text": [
      "\n",
      "    --> Do you want to go to the next room? Enter 'yes' or 'no'  yes\n"
     ]
    },
    {
     "name": "stdout",
     "output_type": "stream",
     "text": [
      "\n",
      "\n",
      "You are now in the bedroom 1.\n"
     ]
    },
    {
     "name": "stdin",
     "output_type": "stream",
     "text": [
      "\n",
      "    --> What would you like to do? Type 'explore' or 'examine'?  examine\n",
      "\n",
      "    --> What would you like to examine?  door c\n"
     ]
    },
    {
     "name": "stdout",
     "output_type": "stream",
     "text": [
      "\n",
      "\n",
      "██╗   ██╗███╗   ██╗██╗      ██████╗  ██████╗██╗  ██╗███████╗██████╗        ███╗\n",
      "██║   ██║████╗  ██║██║     ██╔═══██╗██╔════╝██║ ██╔╝██╔════╝██╔══██╗    ██╗╚██║\n",
      "██║   ██║██╔██╗ ██║██║     ██║   ██║██║     █████╔╝ █████╗  ██║  ██║    ╚═╝ ██║\n",
      "██║   ██║██║╚██╗██║██║     ██║   ██║██║     ██╔═██╗ ██╔══╝  ██║  ██║    ██╗ ██║\n",
      "╚██████╔╝██║ ╚████║███████╗╚██████╔╝╚██████╗██║  ██╗███████╗██████╔╝    ╚═╝███║\n",
      " ╚═════╝ ╚═╝  ╚═══╝╚══════╝ ╚═════╝  ╚═════╝╚═╝  ╚═╝╚══════╝╚═════╝        ╚══╝\n",
      "                                                                               \n",
      "\n",
      "\n",
      "\n",
      "\n",
      "You examine the door c. \n",
      "\n",
      ">>> You unlock it with a key you have. Well done!!! <<<\n"
     ]
    },
    {
     "name": "stdin",
     "output_type": "stream",
     "text": [
      "\n",
      "    --> Do you want to go to the next room? Enter 'yes' or 'no'  yes\n"
     ]
    },
    {
     "name": "stdout",
     "output_type": "stream",
     "text": [
      "\n",
      "\n",
      "You are now in the living room.\n"
     ]
    },
    {
     "name": "stdin",
     "output_type": "stream",
     "text": [
      "\n",
      "    --> What would you like to do? Type 'explore' or 'examine'?  explore\n"
     ]
    },
    {
     "name": "stdout",
     "output_type": "stream",
     "text": [
      "\n",
      "You are exploring the living room. Here you find: dinning table, door d\n",
      "\n",
      "\n",
      "You are now in the living room.\n"
     ]
    },
    {
     "name": "stdin",
     "output_type": "stream",
     "text": [
      "\n",
      "    --> What would you like to do? Type 'explore' or 'examine'?  examine\n",
      "\n",
      "    --> What would you like to examine?  dinning table\n"
     ]
    },
    {
     "name": "stdout",
     "output_type": "stream",
     "text": [
      "                                                                                   \n",
      "                                                                                            \n",
      "                                                                                            \n",
      "                                                                                            \n",
      "                                                                                            \n",
      "                      ██████████                                                            \n",
      "                  ████░░░░░░░░░░██████                                                   \n",
      "                ██░░░░░░░░░░░░░░░░░░░░██                                                    \n",
      "              ██░░░░░░░░░░░░░░░░░░░░░░░░██    ████                                          \n",
      "            ▓▓░░░░░░░░░░░░░░░░░░░░░░░░░░██  ██░░██                                          \n",
      "            ██░░░░░░░░░░░░░░░░░░░░░░░░░░░░██░░░░████████████████████████████████            \n",
      "          ██░░░░░░██████░░░░░░░░░░░░░░░░░░░░░░░░░░░░░░░░░░░░░░░░░░░░░░░░░░░░░░░░██          \n",
      "          ██░░░░██      ██░░░░░░░░░░░░░░░░░░░░░░░░░░░░░░░░░░░░░░░░░░░░░░░░░░░░░░░░██        \n",
      "          ██░░░░██      ▓▓░░░░░░░░░░░░░░░░░░░░░░░░░░░░░░░░░░░░░░░░░░░░░░░░░░░░░░██          \n",
      "          ██░░░░██      ██░░░░░░░░░░░░░░░░░░░░░░░░░░░░░░░░▓▓░░░░░░░░▓▓░░░░░░░░██            \n",
      "          ██░░░░░░██████░░░░░░░░░░░░░░░░░░░░░░░░██████░░██  ██░░░░██  ████████              \n",
      "            ██░░░░░░░░░░░░░░░░░░░░░░░░░░░░██░░░░██    ██      ████                          \n",
      "            ██░░░░░░░░░░░░░░░░░░░░░░░░░░██  ██░░██                                          \n",
      "              ██░░░░░░░░░░░░░░░░░░░░░░░░██    ████                                          \n",
      "                ██░░░░░░░░░░░░░░░░░░░░██                                                    \n",
      "                  ████░░░░░░░░░░██████                                                      \n",
      "                  ░░░░▓▓▓▓▓▓▓▓▓▓░░░░░░                                                      \n",
      "                                                                                            \n",
      "                                                                                            \n",
      "                                                                                         \n",
      "                 \n",
      "\n",
      "You examine the dinning table. \n",
      "\n",
      ">>> You found living room. <<<\n",
      "\n",
      "\n",
      "You are now in the living room.\n"
     ]
    },
    {
     "name": "stdin",
     "output_type": "stream",
     "text": [
      "\n",
      "    --> What would you like to do? Type 'explore' or 'examine'?  examine\n",
      "\n",
      "    --> What would you like to examine?  door d\n"
     ]
    },
    {
     "ename": "KeyError",
     "evalue": "'target'",
     "output_type": "error",
     "traceback": [
      "\u001b[0;31m---------------------------------------------------------------------------\u001b[0m",
      "\u001b[0;31mKeyError\u001b[0m                                  Traceback (most recent call last)",
      "Cell \u001b[0;32mIn[6], line 2\u001b[0m\n\u001b[1;32m      1\u001b[0m \u001b[38;5;66;03m# Start the game\u001b[39;00m\n\u001b[0;32m----> 2\u001b[0m \u001b[43mfunctions\u001b[49m\u001b[38;5;241;43m.\u001b[39;49m\u001b[43mstart_game\u001b[49m\u001b[43m(\u001b[49m\u001b[43m)\u001b[49m\n",
      "File \u001b[0;32m~/Documents/GitHub/IronHackIvet/escape quest/game/functions.py:178\u001b[0m, in \u001b[0;36mstart_game\u001b[0;34m()\u001b[0m\n\u001b[1;32m    176\u001b[0m \u001b[38;5;28mprint\u001b[39m(\u001b[38;5;124m\"\u001b[39m\u001b[38;5;130;01m\\n\u001b[39;00m\u001b[38;5;130;01m\\033\u001b[39;00m\u001b[38;5;124m[1m- - - - - - - - - - - - - - - - - - - - - - - - - - - - - - - - - - - - - - - - - - - - - - - - - - - - - - - \u001b[39m\u001b[38;5;130;01m\\033\u001b[39;00m\u001b[38;5;124m[0m\u001b[39m\u001b[38;5;124m\"\u001b[39m)\n\u001b[1;32m    177\u001b[0m \u001b[38;5;28mprint\u001b[39m(\u001b[38;5;124m\"\u001b[39m\u001b[38;5;130;01m\\n\u001b[39;00m\u001b[38;5;130;01m\\033\u001b[39;00m\u001b[38;5;124m[1mARE YOU READY? LOS GEHTS!!!\u001b[39m\u001b[38;5;130;01m\\033\u001b[39;00m\u001b[38;5;124m[0m\u001b[39m\u001b[38;5;124m\"\u001b[39m)\n\u001b[0;32m--> 178\u001b[0m \u001b[43mplay_room\u001b[49m\u001b[43m(\u001b[49m\u001b[43mgame_state\u001b[49m\u001b[43m[\u001b[49m\u001b[38;5;124;43m\"\u001b[39;49m\u001b[38;5;124;43mcurrent_room\u001b[39;49m\u001b[38;5;124;43m\"\u001b[39;49m\u001b[43m]\u001b[49m\u001b[43m)\u001b[49m\n",
      "File \u001b[0;32m~/Documents/GitHub/IronHackIvet/escape quest/game/functions.py:212\u001b[0m, in \u001b[0;36mplay_room\u001b[0;34m(room)\u001b[0m\n\u001b[1;32m    210\u001b[0m \u001b[38;5;28;01mif\u001b[39;00m intended_action \u001b[38;5;241m==\u001b[39m \u001b[38;5;124m\"\u001b[39m\u001b[38;5;124mexplore\u001b[39m\u001b[38;5;124m\"\u001b[39m:\n\u001b[1;32m    211\u001b[0m     explore_room(room)\n\u001b[0;32m--> 212\u001b[0m     \u001b[43mplay_room\u001b[49m\u001b[43m(\u001b[49m\u001b[43mroom\u001b[49m\u001b[43m)\u001b[49m\n\u001b[1;32m    213\u001b[0m \u001b[38;5;28;01melif\u001b[39;00m intended_action \u001b[38;5;241m==\u001b[39m \u001b[38;5;124m\"\u001b[39m\u001b[38;5;124mexamine\u001b[39m\u001b[38;5;124m\"\u001b[39m:\n\u001b[1;32m    214\u001b[0m     examine_item(\u001b[38;5;28minput\u001b[39m(\u001b[38;5;124m\"\u001b[39m\u001b[38;5;130;01m\\n\u001b[39;00m\u001b[38;5;124m    --> What would you like to examine? \u001b[39m\u001b[38;5;124m\"\u001b[39m)\u001b[38;5;241m.\u001b[39mstrip())\n",
      "File \u001b[0;32m~/Documents/GitHub/IronHackIvet/escape quest/game/functions.py:217\u001b[0m, in \u001b[0;36mplay_room\u001b[0;34m(room)\u001b[0m\n\u001b[1;32m    215\u001b[0m \u001b[38;5;28;01melse\u001b[39;00m:\n\u001b[1;32m    216\u001b[0m     \u001b[38;5;28mprint\u001b[39m(\u001b[38;5;124m\"\u001b[39m\u001b[38;5;130;01m\\n\u001b[39;00m\u001b[38;5;124m    --> Not sure what you mean. Type \u001b[39m\u001b[38;5;124m'\u001b[39m\u001b[38;5;124mexplore\u001b[39m\u001b[38;5;124m'\u001b[39m\u001b[38;5;124m or \u001b[39m\u001b[38;5;124m'\u001b[39m\u001b[38;5;124mexamine\u001b[39m\u001b[38;5;124m'\u001b[39m\u001b[38;5;124m.\u001b[39m\u001b[38;5;124m\"\u001b[39m)\n\u001b[0;32m--> 217\u001b[0m     \u001b[43mplay_room\u001b[49m\u001b[43m(\u001b[49m\u001b[43mroom\u001b[49m\u001b[43m)\u001b[49m\n\u001b[1;32m    218\u001b[0m linebreak()\n",
      "File \u001b[0;32m~/Documents/GitHub/IronHackIvet/escape quest/game/functions.py:214\u001b[0m, in \u001b[0;36mplay_room\u001b[0;34m(room)\u001b[0m\n\u001b[1;32m    212\u001b[0m     play_room(room)\n\u001b[1;32m    213\u001b[0m \u001b[38;5;28;01melif\u001b[39;00m intended_action \u001b[38;5;241m==\u001b[39m \u001b[38;5;124m\"\u001b[39m\u001b[38;5;124mexamine\u001b[39m\u001b[38;5;124m\"\u001b[39m:\n\u001b[0;32m--> 214\u001b[0m     \u001b[43mexamine_item\u001b[49m\u001b[43m(\u001b[49m\u001b[38;5;28;43minput\u001b[39;49m\u001b[43m(\u001b[49m\u001b[38;5;124;43m\"\u001b[39;49m\u001b[38;5;130;43;01m\\n\u001b[39;49;00m\u001b[38;5;124;43m    --> What would you like to examine? \u001b[39;49m\u001b[38;5;124;43m\"\u001b[39;49m\u001b[43m)\u001b[49m\u001b[38;5;241;43m.\u001b[39;49m\u001b[43mstrip\u001b[49m\u001b[43m(\u001b[49m\u001b[43m)\u001b[49m\u001b[43m)\u001b[49m\n\u001b[1;32m    215\u001b[0m \u001b[38;5;28;01melse\u001b[39;00m:\n\u001b[1;32m    216\u001b[0m     \u001b[38;5;28mprint\u001b[39m(\u001b[38;5;124m\"\u001b[39m\u001b[38;5;130;01m\\n\u001b[39;00m\u001b[38;5;124m    --> Not sure what you mean. Type \u001b[39m\u001b[38;5;124m'\u001b[39m\u001b[38;5;124mexplore\u001b[39m\u001b[38;5;124m'\u001b[39m\u001b[38;5;124m or \u001b[39m\u001b[38;5;124m'\u001b[39m\u001b[38;5;124mexamine\u001b[39m\u001b[38;5;124m'\u001b[39m\u001b[38;5;124m.\u001b[39m\u001b[38;5;124m\"\u001b[39m)\n",
      "File \u001b[0;32m~/Documents/GitHub/IronHackIvet/escape quest/game/functions.py:340\u001b[0m, in \u001b[0;36mexamine_item\u001b[0;34m(item_name)\u001b[0m\n\u001b[1;32m    338\u001b[0m     play_room(next_room)\n\u001b[1;32m    339\u001b[0m \u001b[38;5;28;01melse\u001b[39;00m:\n\u001b[0;32m--> 340\u001b[0m     \u001b[43mplay_room\u001b[49m\u001b[43m(\u001b[49m\u001b[43mcurrent_room\u001b[49m\u001b[43m)\u001b[49m\n",
      "File \u001b[0;32m~/Documents/GitHub/IronHackIvet/escape quest/game/functions.py:214\u001b[0m, in \u001b[0;36mplay_room\u001b[0;34m(room)\u001b[0m\n\u001b[1;32m    212\u001b[0m     play_room(room)\n\u001b[1;32m    213\u001b[0m \u001b[38;5;28;01melif\u001b[39;00m intended_action \u001b[38;5;241m==\u001b[39m \u001b[38;5;124m\"\u001b[39m\u001b[38;5;124mexamine\u001b[39m\u001b[38;5;124m\"\u001b[39m:\n\u001b[0;32m--> 214\u001b[0m     \u001b[43mexamine_item\u001b[49m\u001b[43m(\u001b[49m\u001b[38;5;28;43minput\u001b[39;49m\u001b[43m(\u001b[49m\u001b[38;5;124;43m\"\u001b[39;49m\u001b[38;5;130;43;01m\\n\u001b[39;49;00m\u001b[38;5;124;43m    --> What would you like to examine? \u001b[39;49m\u001b[38;5;124;43m\"\u001b[39;49m\u001b[43m)\u001b[49m\u001b[38;5;241;43m.\u001b[39;49m\u001b[43mstrip\u001b[49m\u001b[43m(\u001b[49m\u001b[43m)\u001b[49m\u001b[43m)\u001b[49m\n\u001b[1;32m    215\u001b[0m \u001b[38;5;28;01melse\u001b[39;00m:\n\u001b[1;32m    216\u001b[0m     \u001b[38;5;28mprint\u001b[39m(\u001b[38;5;124m\"\u001b[39m\u001b[38;5;130;01m\\n\u001b[39;00m\u001b[38;5;124m    --> Not sure what you mean. Type \u001b[39m\u001b[38;5;124m'\u001b[39m\u001b[38;5;124mexplore\u001b[39m\u001b[38;5;124m'\u001b[39m\u001b[38;5;124m or \u001b[39m\u001b[38;5;124m'\u001b[39m\u001b[38;5;124mexamine\u001b[39m\u001b[38;5;124m'\u001b[39m\u001b[38;5;124m.\u001b[39m\u001b[38;5;124m\"\u001b[39m)\n",
      "File \u001b[0;32m~/Documents/GitHub/IronHackIvet/escape quest/game/functions.py:340\u001b[0m, in \u001b[0;36mexamine_item\u001b[0;34m(item_name)\u001b[0m\n\u001b[1;32m    338\u001b[0m     play_room(next_room)\n\u001b[1;32m    339\u001b[0m \u001b[38;5;28;01melse\u001b[39;00m:\n\u001b[0;32m--> 340\u001b[0m     \u001b[43mplay_room\u001b[49m\u001b[43m(\u001b[49m\u001b[43mcurrent_room\u001b[49m\u001b[43m)\u001b[49m\n",
      "File \u001b[0;32m~/Documents/GitHub/IronHackIvet/escape quest/game/functions.py:212\u001b[0m, in \u001b[0;36mplay_room\u001b[0;34m(room)\u001b[0m\n\u001b[1;32m    210\u001b[0m \u001b[38;5;28;01mif\u001b[39;00m intended_action \u001b[38;5;241m==\u001b[39m \u001b[38;5;124m\"\u001b[39m\u001b[38;5;124mexplore\u001b[39m\u001b[38;5;124m\"\u001b[39m:\n\u001b[1;32m    211\u001b[0m     explore_room(room)\n\u001b[0;32m--> 212\u001b[0m     \u001b[43mplay_room\u001b[49m\u001b[43m(\u001b[49m\u001b[43mroom\u001b[49m\u001b[43m)\u001b[49m\n\u001b[1;32m    213\u001b[0m \u001b[38;5;28;01melif\u001b[39;00m intended_action \u001b[38;5;241m==\u001b[39m \u001b[38;5;124m\"\u001b[39m\u001b[38;5;124mexamine\u001b[39m\u001b[38;5;124m\"\u001b[39m:\n\u001b[1;32m    214\u001b[0m     examine_item(\u001b[38;5;28minput\u001b[39m(\u001b[38;5;124m\"\u001b[39m\u001b[38;5;130;01m\\n\u001b[39;00m\u001b[38;5;124m    --> What would you like to examine? \u001b[39m\u001b[38;5;124m\"\u001b[39m)\u001b[38;5;241m.\u001b[39mstrip())\n",
      "    \u001b[0;31m[... skipping similar frames: play_room at line 214 (1 times)]\u001b[0m\n",
      "File \u001b[0;32m~/Documents/GitHub/IronHackIvet/escape quest/game/functions.py:338\u001b[0m, in \u001b[0;36mexamine_item\u001b[0;34m(item_name)\u001b[0m\n\u001b[1;32m    335\u001b[0m     \u001b[38;5;28mprint\u001b[39m(\u001b[38;5;124m\"\u001b[39m\u001b[38;5;130;01m\\n\u001b[39;00m\u001b[38;5;124mThe item you requested is not found in the current room.\u001b[39m\u001b[38;5;124m\"\u001b[39m)\n\u001b[1;32m    337\u001b[0m \u001b[38;5;28;01mif\u001b[39;00m(next_room \u001b[38;5;129;01mand\u001b[39;00m \u001b[38;5;28minput\u001b[39m(\u001b[38;5;124m\"\u001b[39m\u001b[38;5;130;01m\\n\u001b[39;00m\u001b[38;5;124m    --> Do you want to go to the next room? Enter \u001b[39m\u001b[38;5;124m'\u001b[39m\u001b[38;5;124myes\u001b[39m\u001b[38;5;124m'\u001b[39m\u001b[38;5;124m or \u001b[39m\u001b[38;5;124m'\u001b[39m\u001b[38;5;124mno\u001b[39m\u001b[38;5;124m'\u001b[39m\u001b[38;5;124m \u001b[39m\u001b[38;5;124m\"\u001b[39m)\u001b[38;5;241m.\u001b[39mstrip() \u001b[38;5;241m==\u001b[39m \u001b[38;5;124m'\u001b[39m\u001b[38;5;124myes\u001b[39m\u001b[38;5;124m'\u001b[39m):\n\u001b[0;32m--> 338\u001b[0m     \u001b[43mplay_room\u001b[49m\u001b[43m(\u001b[49m\u001b[43mnext_room\u001b[49m\u001b[43m)\u001b[49m\n\u001b[1;32m    339\u001b[0m \u001b[38;5;28;01melse\u001b[39;00m:\n\u001b[1;32m    340\u001b[0m     play_room(current_room)\n",
      "File \u001b[0;32m~/Documents/GitHub/IronHackIvet/escape quest/game/functions.py:212\u001b[0m, in \u001b[0;36mplay_room\u001b[0;34m(room)\u001b[0m\n\u001b[1;32m    210\u001b[0m \u001b[38;5;28;01mif\u001b[39;00m intended_action \u001b[38;5;241m==\u001b[39m \u001b[38;5;124m\"\u001b[39m\u001b[38;5;124mexplore\u001b[39m\u001b[38;5;124m\"\u001b[39m:\n\u001b[1;32m    211\u001b[0m     explore_room(room)\n\u001b[0;32m--> 212\u001b[0m     \u001b[43mplay_room\u001b[49m\u001b[43m(\u001b[49m\u001b[43mroom\u001b[49m\u001b[43m)\u001b[49m\n\u001b[1;32m    213\u001b[0m \u001b[38;5;28;01melif\u001b[39;00m intended_action \u001b[38;5;241m==\u001b[39m \u001b[38;5;124m\"\u001b[39m\u001b[38;5;124mexamine\u001b[39m\u001b[38;5;124m\"\u001b[39m:\n\u001b[1;32m    214\u001b[0m     examine_item(\u001b[38;5;28minput\u001b[39m(\u001b[38;5;124m\"\u001b[39m\u001b[38;5;130;01m\\n\u001b[39;00m\u001b[38;5;124m    --> What would you like to examine? \u001b[39m\u001b[38;5;124m\"\u001b[39m)\u001b[38;5;241m.\u001b[39mstrip())\n",
      "    \u001b[0;31m[... skipping similar frames: play_room at line 214 (2 times), examine_item at line 340 (1 times)]\u001b[0m\n",
      "File \u001b[0;32m~/Documents/GitHub/IronHackIvet/escape quest/game/functions.py:338\u001b[0m, in \u001b[0;36mexamine_item\u001b[0;34m(item_name)\u001b[0m\n\u001b[1;32m    335\u001b[0m     \u001b[38;5;28mprint\u001b[39m(\u001b[38;5;124m\"\u001b[39m\u001b[38;5;130;01m\\n\u001b[39;00m\u001b[38;5;124mThe item you requested is not found in the current room.\u001b[39m\u001b[38;5;124m\"\u001b[39m)\n\u001b[1;32m    337\u001b[0m \u001b[38;5;28;01mif\u001b[39;00m(next_room \u001b[38;5;129;01mand\u001b[39;00m \u001b[38;5;28minput\u001b[39m(\u001b[38;5;124m\"\u001b[39m\u001b[38;5;130;01m\\n\u001b[39;00m\u001b[38;5;124m    --> Do you want to go to the next room? Enter \u001b[39m\u001b[38;5;124m'\u001b[39m\u001b[38;5;124myes\u001b[39m\u001b[38;5;124m'\u001b[39m\u001b[38;5;124m or \u001b[39m\u001b[38;5;124m'\u001b[39m\u001b[38;5;124mno\u001b[39m\u001b[38;5;124m'\u001b[39m\u001b[38;5;124m \u001b[39m\u001b[38;5;124m\"\u001b[39m)\u001b[38;5;241m.\u001b[39mstrip() \u001b[38;5;241m==\u001b[39m \u001b[38;5;124m'\u001b[39m\u001b[38;5;124myes\u001b[39m\u001b[38;5;124m'\u001b[39m):\n\u001b[0;32m--> 338\u001b[0m     \u001b[43mplay_room\u001b[49m\u001b[43m(\u001b[49m\u001b[43mnext_room\u001b[49m\u001b[43m)\u001b[49m\n\u001b[1;32m    339\u001b[0m \u001b[38;5;28;01melse\u001b[39;00m:\n\u001b[1;32m    340\u001b[0m     play_room(current_room)\n",
      "    \u001b[0;31m[... skipping similar frames: play_room at line 214 (9 times), examine_item at line 340 (5 times), play_room at line 212 (4 times), examine_item at line 338 (3 times)]\u001b[0m\n",
      "File \u001b[0;32m~/Documents/GitHub/IronHackIvet/escape quest/game/functions.py:338\u001b[0m, in \u001b[0;36mexamine_item\u001b[0;34m(item_name)\u001b[0m\n\u001b[1;32m    335\u001b[0m     \u001b[38;5;28mprint\u001b[39m(\u001b[38;5;124m\"\u001b[39m\u001b[38;5;130;01m\\n\u001b[39;00m\u001b[38;5;124mThe item you requested is not found in the current room.\u001b[39m\u001b[38;5;124m\"\u001b[39m)\n\u001b[1;32m    337\u001b[0m \u001b[38;5;28;01mif\u001b[39;00m(next_room \u001b[38;5;129;01mand\u001b[39;00m \u001b[38;5;28minput\u001b[39m(\u001b[38;5;124m\"\u001b[39m\u001b[38;5;130;01m\\n\u001b[39;00m\u001b[38;5;124m    --> Do you want to go to the next room? Enter \u001b[39m\u001b[38;5;124m'\u001b[39m\u001b[38;5;124myes\u001b[39m\u001b[38;5;124m'\u001b[39m\u001b[38;5;124m or \u001b[39m\u001b[38;5;124m'\u001b[39m\u001b[38;5;124mno\u001b[39m\u001b[38;5;124m'\u001b[39m\u001b[38;5;124m \u001b[39m\u001b[38;5;124m\"\u001b[39m)\u001b[38;5;241m.\u001b[39mstrip() \u001b[38;5;241m==\u001b[39m \u001b[38;5;124m'\u001b[39m\u001b[38;5;124myes\u001b[39m\u001b[38;5;124m'\u001b[39m):\n\u001b[0;32m--> 338\u001b[0m     \u001b[43mplay_room\u001b[49m\u001b[43m(\u001b[49m\u001b[43mnext_room\u001b[49m\u001b[43m)\u001b[49m\n\u001b[1;32m    339\u001b[0m \u001b[38;5;28;01melse\u001b[39;00m:\n\u001b[1;32m    340\u001b[0m     play_room(current_room)\n",
      "File \u001b[0;32m~/Documents/GitHub/IronHackIvet/escape quest/game/functions.py:212\u001b[0m, in \u001b[0;36mplay_room\u001b[0;34m(room)\u001b[0m\n\u001b[1;32m    210\u001b[0m \u001b[38;5;28;01mif\u001b[39;00m intended_action \u001b[38;5;241m==\u001b[39m \u001b[38;5;124m\"\u001b[39m\u001b[38;5;124mexplore\u001b[39m\u001b[38;5;124m\"\u001b[39m:\n\u001b[1;32m    211\u001b[0m     explore_room(room)\n\u001b[0;32m--> 212\u001b[0m     \u001b[43mplay_room\u001b[49m\u001b[43m(\u001b[49m\u001b[43mroom\u001b[49m\u001b[43m)\u001b[49m\n\u001b[1;32m    213\u001b[0m \u001b[38;5;28;01melif\u001b[39;00m intended_action \u001b[38;5;241m==\u001b[39m \u001b[38;5;124m\"\u001b[39m\u001b[38;5;124mexamine\u001b[39m\u001b[38;5;124m\"\u001b[39m:\n\u001b[1;32m    214\u001b[0m     examine_item(\u001b[38;5;28minput\u001b[39m(\u001b[38;5;124m\"\u001b[39m\u001b[38;5;130;01m\\n\u001b[39;00m\u001b[38;5;124m    --> What would you like to examine? \u001b[39m\u001b[38;5;124m\"\u001b[39m)\u001b[38;5;241m.\u001b[39mstrip())\n",
      "    \u001b[0;31m[... skipping similar frames: play_room at line 214 (1 times)]\u001b[0m\n",
      "File \u001b[0;32m~/Documents/GitHub/IronHackIvet/escape quest/game/functions.py:340\u001b[0m, in \u001b[0;36mexamine_item\u001b[0;34m(item_name)\u001b[0m\n\u001b[1;32m    338\u001b[0m     play_room(next_room)\n\u001b[1;32m    339\u001b[0m \u001b[38;5;28;01melse\u001b[39;00m:\n\u001b[0;32m--> 340\u001b[0m     \u001b[43mplay_room\u001b[49m\u001b[43m(\u001b[49m\u001b[43mcurrent_room\u001b[49m\u001b[43m)\u001b[49m\n",
      "File \u001b[0;32m~/Documents/GitHub/IronHackIvet/escape quest/game/functions.py:214\u001b[0m, in \u001b[0;36mplay_room\u001b[0;34m(room)\u001b[0m\n\u001b[1;32m    212\u001b[0m     play_room(room)\n\u001b[1;32m    213\u001b[0m \u001b[38;5;28;01melif\u001b[39;00m intended_action \u001b[38;5;241m==\u001b[39m \u001b[38;5;124m\"\u001b[39m\u001b[38;5;124mexamine\u001b[39m\u001b[38;5;124m\"\u001b[39m:\n\u001b[0;32m--> 214\u001b[0m     \u001b[43mexamine_item\u001b[49m\u001b[43m(\u001b[49m\u001b[38;5;28;43minput\u001b[39;49m\u001b[43m(\u001b[49m\u001b[38;5;124;43m\"\u001b[39;49m\u001b[38;5;130;43;01m\\n\u001b[39;49;00m\u001b[38;5;124;43m    --> What would you like to examine? \u001b[39;49m\u001b[38;5;124;43m\"\u001b[39;49m\u001b[43m)\u001b[49m\u001b[38;5;241;43m.\u001b[39;49m\u001b[43mstrip\u001b[49m\u001b[43m(\u001b[49m\u001b[43m)\u001b[49m\u001b[43m)\u001b[49m\n\u001b[1;32m    215\u001b[0m \u001b[38;5;28;01melse\u001b[39;00m:\n\u001b[1;32m    216\u001b[0m     \u001b[38;5;28mprint\u001b[39m(\u001b[38;5;124m\"\u001b[39m\u001b[38;5;130;01m\\n\u001b[39;00m\u001b[38;5;124m    --> Not sure what you mean. Type \u001b[39m\u001b[38;5;124m'\u001b[39m\u001b[38;5;124mexplore\u001b[39m\u001b[38;5;124m'\u001b[39m\u001b[38;5;124m or \u001b[39m\u001b[38;5;124m'\u001b[39m\u001b[38;5;124mexamine\u001b[39m\u001b[38;5;124m'\u001b[39m\u001b[38;5;124m.\u001b[39m\u001b[38;5;124m\"\u001b[39m)\n",
      "File \u001b[0;32m~/Documents/GitHub/IronHackIvet/escape quest/game/functions.py:314\u001b[0m, in \u001b[0;36mexamine_item\u001b[0;34m(item_name)\u001b[0m\n\u001b[1;32m    312\u001b[0m have_key \u001b[38;5;241m=\u001b[39m \u001b[38;5;28;01mFalse\u001b[39;00m\n\u001b[1;32m    313\u001b[0m \u001b[38;5;28;01mfor\u001b[39;00m key \u001b[38;5;129;01min\u001b[39;00m game_state[\u001b[38;5;124m\"\u001b[39m\u001b[38;5;124mkeys_collected\u001b[39m\u001b[38;5;124m\"\u001b[39m]:\n\u001b[0;32m--> 314\u001b[0m     \u001b[38;5;28;01mif\u001b[39;00m(\u001b[43mkey\u001b[49m\u001b[43m[\u001b[49m\u001b[38;5;124;43m\"\u001b[39;49m\u001b[38;5;124;43mtarget\u001b[39;49m\u001b[38;5;124;43m\"\u001b[39;49m\u001b[43m]\u001b[49m \u001b[38;5;241m==\u001b[39m item):\n\u001b[1;32m    315\u001b[0m         have_key \u001b[38;5;241m=\u001b[39m \u001b[38;5;28;01mTrue\u001b[39;00m\n\u001b[1;32m    316\u001b[0m \u001b[38;5;28;01mif\u001b[39;00m(have_key):\n",
      "\u001b[0;31mKeyError\u001b[0m: 'target'"
     ]
    }
   ],
   "source": [
    "# Start the game\n",
    "functions.start_game()"
   ]
  },
  {
   "cell_type": "code",
   "execution_count": null,
   "id": "e62c07de",
   "metadata": {},
   "outputs": [],
   "source": []
  }
 ],
 "metadata": {
  "kernelspec": {
   "display_name": "Python 3 (ipykernel)",
   "language": "python",
   "name": "python3"
  },
  "language_info": {
   "codemirror_mode": {
    "name": "ipython",
    "version": 3
   },
   "file_extension": ".py",
   "mimetype": "text/x-python",
   "name": "python",
   "nbconvert_exporter": "python",
   "pygments_lexer": "ipython3",
   "version": "3.8.10"
  }
 },
 "nbformat": 4,
 "nbformat_minor": 5
}
