{
 "cells": [
  {
   "cell_type": "code",
   "execution_count": 8,
   "id": "1492b861-d7f5-47f6-abf6-c2b6ed5b0b0c",
   "metadata": {},
   "outputs": [],
   "source": [
    "def your_name(name):\n",
    "    #thename = input(\"Enter name: \")\n",
    "    print(f\"Hello {name} !\")\n",
    "    print(f\"Your name is {len(name)} charactes long!\")\n",
    "    print(f\"Your name starts with the letter {name[0]} and ends with the letter {name[-1]} .\")"
   ]
  },
  {
   "cell_type": "code",
   "execution_count": 9,
   "id": "fc0adba8-78f9-4235-935b-13c41b4c03d8",
   "metadata": {},
   "outputs": [
    {
     "name": "stdout",
     "output_type": "stream",
     "text": [
      "Hello Ivet !\n",
      "Your name is 4 charactes long!\n",
      "Your name starts with the letter I and ends with the letter t .\n"
     ]
    }
   ],
   "source": [
    "your_name(\"Ivet\")"
   ]
  },
  {
   "cell_type": "code",
   "execution_count": null,
   "id": "d9296e35-3ac2-4207-867a-c821b710aecc",
   "metadata": {},
   "outputs": [],
   "source": [
    "your_name(Ivet)"
   ]
  },
  {
   "cell_type": "markdown",
   "id": "20df72bc",
   "metadata": {
    "toc": true
   },
   "source": [
    "<h1>Table of Contents<span class=\"tocSkip\"></span></h1>\n",
    "<div class=\"toc\"><ul class=\"toc-item\"><li><span><a href=\"#Lambda-Functions\" data-toc-modified-id=\"Lambda-Functions-1\"><span class=\"toc-item-num\">1&nbsp;&nbsp;</span>Lambda Functions</a></span><ul class=\"toc-item\"><li><span><a href=\"#Summary\" data-toc-modified-id=\"Summary-1.1\"><span class=\"toc-item-num\">1.1&nbsp;&nbsp;</span>Summary</a></span></li></ul></li><li><span><a href=\"#Higher-Order-Functions:-Map,-Filter,-Reduce\" data-toc-modified-id=\"Higher-Order-Functions:-Map,-Filter,-Reduce-2\"><span class=\"toc-item-num\">2&nbsp;&nbsp;</span>Higher-Order Functions: Map, Filter, Reduce</a></span><ul class=\"toc-item\"><li><ul class=\"toc-item\"><li><span><a href=\"#Map\" data-toc-modified-id=\"Map-2.0.1\"><span class=\"toc-item-num\">2.0.1&nbsp;&nbsp;</span>Map</a></span><ul class=\"toc-item\"><li><span><a href=\"#Extra:-let's-do-it-with-lambda!\" data-toc-modified-id=\"Extra:-let's-do-it-with-lambda!-2.0.1.1\"><span class=\"toc-item-num\">2.0.1.1&nbsp;&nbsp;</span>Extra: let's do it with lambda!</a></span></li><li><span><a href=\"#💡-Check-for-understanding\" data-toc-modified-id=\"💡-Check-for-understanding-2.0.1.2\"><span class=\"toc-item-num\">2.0.1.2&nbsp;&nbsp;</span>💡 Check for understanding</a></span></li></ul></li><li><span><a href=\"#Filter\" data-toc-modified-id=\"Filter-2.0.2\"><span class=\"toc-item-num\">2.0.2&nbsp;&nbsp;</span>Filter</a></span><ul class=\"toc-item\"><li><span><a href=\"#💡-Check-for-understanding\" data-toc-modified-id=\"💡-Check-for-understanding-2.0.2.1\"><span class=\"toc-item-num\">2.0.2.1&nbsp;&nbsp;</span>💡 Check for understanding</a></span></li></ul></li><li><span><a href=\"#Reduce\" data-toc-modified-id=\"Reduce-2.0.3\"><span class=\"toc-item-num\">2.0.3&nbsp;&nbsp;</span>Reduce</a></span><ul class=\"toc-item\"><li><span><a href=\"#What-happened?\" data-toc-modified-id=\"What-happened?-2.0.3.1\"><span class=\"toc-item-num\">2.0.3.1&nbsp;&nbsp;</span>What happened?</a></span></li><li><span><a href=\"#💡-Check-for-understanding\" data-toc-modified-id=\"💡-Check-for-understanding-2.0.3.2\"><span class=\"toc-item-num\">2.0.3.2&nbsp;&nbsp;</span>💡 Check for understanding</a></span></li></ul></li></ul></li><li><span><a href=\"#Summary\" data-toc-modified-id=\"Summary-2.1\"><span class=\"toc-item-num\">2.1&nbsp;&nbsp;</span>Summary</a></span></li><li><span><a href=\"#Further-materials\" data-toc-modified-id=\"Further-materials-2.2\"><span class=\"toc-item-num\">2.2&nbsp;&nbsp;</span>Further materials</a></span></li></ul></li></ul></div>"
   ]
  },
  {
   "cell_type": "markdown",
   "id": "50011e88-750d-43f1-b6a4-91f427b5de03",
   "metadata": {
    "lang": "en"
   },
   "source": [
    "# Lambda Functions\n",
    "Lambda functions, also known as anonymous functions, are small, single-line functions in Python.\n",
    "\n",
    "They are created using the `lambda` keyword and are used when you need a quick and short function for a specific task without defining a formal function using the `def` keyword.\n",
    "\n",
    "**Syntax of a lambda**\n",
    "```python\n",
    "lambda arguments: expression(arguments)\n",
    "```\n",
    "\n",
    "It can also have default values:\n",
    "\n",
    "```python\n",
    "lambda param1, param2='default_value': expression(param1, param2)\n",
    "```\n",
    "\n",
    "Explanation:\n",
    "- `arguments`: The parameters (inputs) for the function, separated by commas (optional).\n",
    "- `expression`: The single expression that represents the function's logic.\n",
    "\n",
    "\n",
    "\n",
    "\n"
   ]
  },
  {
   "cell_type": "code",
   "execution_count": 10,
   "id": "c2a02341-23e7-414d-b0ed-06b7373b07bf",
   "metadata": {},
   "outputs": [],
   "source": [
    "def func(x,y):\n",
    "    cal = x+y\n",
    "    return cal \n"
   ]
  },
  {
   "cell_type": "code",
   "execution_count": 11,
   "id": "2796cc22-2896-47a6-bc08-79eaebe519e6",
   "metadata": {},
   "outputs": [
    {
     "data": {
      "text/plain": [
       "11"
      ]
     },
     "execution_count": 11,
     "metadata": {},
     "output_type": "execute_result"
    }
   ],
   "source": [
    "func(5,6)"
   ]
  },
  {
   "cell_type": "markdown",
   "id": "8e9bfbbc-6f30-4070-a774-9d6592320220",
   "metadata": {},
   "source": [
    "![](https://github.com/data-bootcamp-v4/lessons/blob/main/img/lambda.png?raw=true)"
   ]
  },
  {
   "cell_type": "markdown",
   "id": "c0684d5b-5b9d-41e8-84d2-9ccca82b86c3",
   "metadata": {},
   "source": [
    "**Lambda examples**"
   ]
  },
  {
   "cell_type": "markdown",
   "id": "761ce445-986d-44d6-a0d6-a04a2362d813",
   "metadata": {},
   "source": [
    "Example: Adding two numbers using a lambda function"
   ]
  },
  {
   "cell_type": "code",
   "execution_count": null,
   "id": "dc70ffce-9efb-4afe-88bc-b2f634d9b3f9",
   "metadata": {},
   "outputs": [],
   "source": [
    "add = lambda x, y: x + y\n",
    "result = add(5, 3)\n",
    "print(result) "
   ]
  },
  {
   "cell_type": "code",
   "execution_count": 12,
   "id": "101d63cd-c44d-4a13-9682-e588a18b3c0e",
   "metadata": {},
   "outputs": [
    {
     "name": "stdout",
     "output_type": "stream",
     "text": [
      "14\n"
     ]
    }
   ],
   "source": [
    "add = lambda x,y:x+y\n",
    "result = add(5,9)\n",
    "print(result)"
   ]
  },
  {
   "cell_type": "markdown",
   "id": "8134eb36-15d8-495c-9ce7-820906f5193e",
   "metadata": {},
   "source": [
    "Example: Sorting a list of tuples based on the second element using a lambda function"
   ]
  },
  {
   "cell_type": "code",
   "execution_count": 15,
   "id": "62915410-9b85-4257-be97-21df02e6e28f",
   "metadata": {},
   "outputs": [
    {
     "data": {
      "text/plain": [
       "['trunk', 'car', 'bike']"
      ]
     },
     "execution_count": 15,
     "metadata": {},
     "output_type": "execute_result"
    }
   ],
   "source": [
    "random_list = [\"car\", \"bike\",\"trunk\"]\n",
    "sorted(random_list, reverse = True) #alphabetical order, sorted doesnt change the order in place, if \n",
    "#if we want to change the order, need to assign it to a variable "
   ]
  },
  {
   "cell_type": "code",
   "execution_count": 17,
   "id": "532f7d2b-fe0a-45f4-8fda-31db4067c48a",
   "metadata": {},
   "outputs": [],
   "source": [
    "random_list = [\"car\", \"bike\",\"trunk\"]random_list.sort()\n"
   ]
  },
  {
   "cell_type": "code",
   "execution_count": 19,
   "id": "c1c35183-196a-496c-b036-fc6fdaa018ec",
   "metadata": {},
   "outputs": [
    {
     "data": {
      "text/plain": [
       "['bike', 'car', 'trunk']"
      ]
     },
     "execution_count": 19,
     "metadata": {},
     "output_type": "execute_result"
    }
   ],
   "source": [
    "random_list"
   ]
  },
  {
   "cell_type": "code",
   "execution_count": 18,
   "id": "9b092213-e5ac-4548-af01-c896b539952c",
   "metadata": {},
   "outputs": [
    {
     "name": "stdout",
     "output_type": "stream",
     "text": [
      "Help on method_descriptor:\n",
      "\n",
      "sort(self, /, *, key=None, reverse=False)\n",
      "    Sort the list in ascending order and return None.\n",
      "    \n",
      "    The sort is in-place (i.e. the list itself is modified) and stable (i.e. the\n",
      "    order of two equal elements is maintained).\n",
      "    \n",
      "    If a key function is given, apply it once to each list item and sort them,\n",
      "    ascending or descending, according to their function values.\n",
      "    \n",
      "    The reverse flag can be set to sort in descending order.\n",
      "\n"
     ]
    }
   ],
   "source": [
    "help(list.sort)"
   ]
  },
  {
   "cell_type": "code",
   "execution_count": 16,
   "id": "33ebd9b3-66cb-4475-8db5-8f607a1a1e9f",
   "metadata": {},
   "outputs": [
    {
     "name": "stdout",
     "output_type": "stream",
     "text": [
      "['car', 'bike', 'trunk']\n"
     ]
    }
   ],
   "source": [
    "print(random_list)"
   ]
  },
  {
   "cell_type": "code",
   "execution_count": 14,
   "id": "bfb6492f-0053-4000-8820-feb6a564b42c",
   "metadata": {},
   "outputs": [
    {
     "name": "stdout",
     "output_type": "stream",
     "text": [
      "Help on built-in function sorted in module builtins:\n",
      "\n",
      "sorted(iterable, /, *, key=None, reverse=False)\n",
      "    Return a new list containing all items from the iterable in ascending order.\n",
      "    \n",
      "    A custom key function can be supplied to customize the sort order, and the\n",
      "    reverse flag can be set to request the result in descending order.\n",
      "\n"
     ]
    }
   ],
   "source": [
    "help(sorted)"
   ]
  },
  {
   "cell_type": "code",
   "execution_count": null,
   "id": "ca97e9d2-fff7-4592-ab37-468c8ee2b158",
   "metadata": {},
   "outputs": [],
   "source": []
  },
  {
   "cell_type": "code",
   "execution_count": 25,
   "id": "30479827-f39e-4f7c-8dd5-9e3c7bd23bc0",
   "metadata": {},
   "outputs": [
    {
     "name": "stdout",
     "output_type": "stream",
     "text": [
      "[(3, 'orange'), (1, 'banana'), (2, 'apple')]\n"
     ]
    }
   ],
   "source": [
    "data = [(2, 'apple'), (1, 'banana'), (3, 'orange')]\n",
    "sorted_data = sorted(data, key=lambda item: item[1], reverse=True) #sort the data by the first element \n",
    "print(sorted_data)  # Output: [(2, 'apple'), (1, 'banana'), (3, 'orange')]"
   ]
  },
  {
   "cell_type": "code",
   "execution_count": null,
   "id": "3e621931-b505-46c4-8617-3805956d9098",
   "metadata": {},
   "outputs": [],
   "source": [
    "data = [(2, 'apple'), (1, 'banana'), (3, 'orange')]\n",
    "sorted_data = sorted(data, "
   ]
  },
  {
   "cell_type": "markdown",
   "id": "58ab0634-3e39-4f1e-beec-2af7a372e5c0",
   "metadata": {},
   "source": [
    "Example: If number greater than 5, then say \"Hi\" otherwise say \"Hello\""
   ]
  },
  {
   "cell_type": "code",
   "execution_count": 26,
   "id": "9a05b634-d567-434f-b6c5-6c83dac45429",
   "metadata": {},
   "outputs": [],
   "source": [
    "# Without lambda\n",
    "def says_hi(num):\n",
    "    if num > 5:\n",
    "        return \"Hi\"\n",
    "    else:\n",
    "        return \"Hello\""
   ]
  },
  {
   "cell_type": "code",
   "execution_count": 30,
   "id": "a7089494-2531-48c9-8ddb-2f744fc12b15",
   "metadata": {},
   "outputs": [],
   "source": [
    "say_hi = lambda num: \"Hi\" if num > 5 else \"Hello\"\n"
   ]
  },
  {
   "cell_type": "code",
   "execution_count": 29,
   "id": "17df7eb6-4fd9-4e52-bbb6-f95efa3ca0fb",
   "metadata": {},
   "outputs": [
    {
     "data": {
      "text/plain": [
       "'Hi'"
      ]
     },
     "execution_count": 29,
     "metadata": {},
     "output_type": "execute_result"
    }
   ],
   "source": [
    "say_hi(6)"
   ]
  },
  {
   "cell_type": "code",
   "execution_count": 31,
   "id": "a6fc0ed1-7b5d-4293-97bb-fe3630a79720",
   "metadata": {},
   "outputs": [
    {
     "data": {
      "text/plain": [
       "'Hello'"
      ]
     },
     "execution_count": 31,
     "metadata": {},
     "output_type": "execute_result"
    }
   ],
   "source": [
    "say_hi(3)"
   ]
  },
  {
   "cell_type": "markdown",
   "id": "c3da4f44-52ea-43a0-a2f0-46b2dda6ff0d",
   "metadata": {
    "jp-MarkdownHeadingCollapsed": true,
    "tags": []
   },
   "source": [
    "## Summary\n",
    "    - no name\n",
    "    - in-line\n",
    "    - on the spot\n",
    "    - not re-usable (unless you save them)\n",
    "    - they can take many parameters"
   ]
  },
  {
   "cell_type": "markdown",
   "id": "95974520-156c-4e83-853e-8997cdc93193",
   "metadata": {},
   "source": [
    "# Higher-Order Functions: Map, Filter, Reduce"
   ]
  },
  {
   "cell_type": "markdown",
   "id": "5e72efed-a030-4f6d-9d8f-74b5add4fbb5",
   "metadata": {},
   "source": [
    "Lambda functions are handy when you need a simple function for a short-lived task or as an argument to higher-order functions like map, filter, reduce and sorted."
   ]
  },
  {
   "cell_type": "markdown",
   "id": "a8a21137-95d8-4f46-8a37-4ac0c4b1406d",
   "metadata": {},
   "source": [
    "Higher-order functions are functions that take one or more functions as arguments or return a function as a result. "
   ]
  },
  {
   "cell_type": "markdown",
   "id": "e5f275cc-31bc-4f44-bb7f-5bce097407aa",
   "metadata": {},
   "source": [
    "### Map"
   ]
  },
  {
   "cell_type": "markdown",
   "id": "bd8c26fb-5ef3-448e-bbed-a075cb59eb8f",
   "metadata": {
    "lang": "en"
   },
   "source": [
    "The map() function takes a function and an iterable (such as a list) as arguments and applies the function to each element of the iterable, returning a new iterator with the results.\n",
    "\n",
    "```python\n",
    "map(function_to_apply, iterable)\n",
    "```"
   ]
  },
  {
   "cell_type": "markdown",
   "id": "14717a0d-c149-410c-9276-64d07f1b7a1a",
   "metadata": {},
   "source": [
    "```\n",
    "Note: An iterator is an object that produces values one at a time, allowing sequential access without knowing the underlying data structure. \n",
    "It can be used with loops or built-in functions like `next()` to retrieve the next value from the sequence until it is exhausted.\n",
    "```"
   ]
  },
  {
   "cell_type": "markdown",
   "id": "687c14e9-ce4a-45da-8b76-ddecc1f08057",
   "metadata": {},
   "source": [
    "![](https://github.com/data-bootcamp-v4/lessons/blob/main/img/map.png?raw=true)"
   ]
  },
  {
   "cell_type": "code",
   "execution_count": 38,
   "id": "1f4474c7-1cc6-4f53-a386-8ef9b2e6efac",
   "metadata": {},
   "outputs": [
    {
     "data": {
      "text/plain": [
       "{1: 'a', 2: 'b', 3: 'c'}"
      ]
     },
     "execution_count": 38,
     "metadata": {},
     "output_type": "execute_result"
    }
   ],
   "source": [
    "list1=[1,2,3]\n",
    "list2=['a','b','c']\n",
    "zipped = zip(list1,list2)\n",
    "dict(zipped)"
   ]
  },
  {
   "cell_type": "code",
   "execution_count": 33,
   "id": "79b16b14-e834-4704-9ddd-227ddf20eb7d",
   "metadata": {},
   "outputs": [],
   "source": [
    "def square(n):\n",
    "    return n ** 2"
   ]
  },
  {
   "cell_type": "code",
   "execution_count": 34,
   "id": "46b796f5-5d02-4ef7-b4fc-427df77fd85c",
   "metadata": {},
   "outputs": [],
   "source": [
    "numbers = [1, 2, 3, 4, 5]\n",
    "squared_numbers = map(square, numbers)"
   ]
  },
  {
   "cell_type": "code",
   "execution_count": 37,
   "id": "d1b304c2-4334-4766-ae36-72920663fa33",
   "metadata": {},
   "outputs": [
    {
     "name": "stdout",
     "output_type": "stream",
     "text": [
      "<map object at 0x7fcc183e3520>\n"
     ]
    }
   ],
   "source": [
    "print(squared_numbers)"
   ]
  },
  {
   "cell_type": "code",
   "execution_count": 36,
   "id": "6c7edeeb-52db-48bf-a32c-50857878a3d6",
   "metadata": {},
   "outputs": [
    {
     "data": {
      "text/plain": [
       "[1, 4, 9, 16, 25]"
      ]
     },
     "execution_count": 36,
     "metadata": {},
     "output_type": "execute_result"
    }
   ],
   "source": [
    "list(squared_numbers)"
   ]
  },
  {
   "cell_type": "code",
   "execution_count": null,
   "id": "e7755fc6-b0ee-4f06-854f-b915b98ee00e",
   "metadata": {},
   "outputs": [],
   "source": []
  },
  {
   "cell_type": "code",
   "execution_count": null,
   "id": "85ec4c2b-3952-427f-b495-e7304f33385e",
   "metadata": {},
   "outputs": [],
   "source": [
    "list(squared_numbers)"
   ]
  },
  {
   "cell_type": "code",
   "execution_count": null,
   "id": "c427f848-e771-4dab-a4ba-f806da80bb95",
   "metadata": {},
   "outputs": [],
   "source": [
    "# This is the same as doing\n",
    "\n",
    "new_list = []\n",
    "for i in numbers:\n",
    "    new_list.append(i ** 2)\n",
    "    \n",
    "new_list"
   ]
  },
  {
   "cell_type": "markdown",
   "id": "1786f90f-1123-4c63-b7ae-97eefcbe2574",
   "metadata": {},
   "source": [
    "```\n",
    "Map needs a defined function, it can be defined by me / built-in. Saves the trouble of creating a for loop!\n",
    "```"
   ]
  },
  {
   "cell_type": "markdown",
   "id": "dbc1907b-a9df-4bb6-be78-8940ec00291b",
   "metadata": {
    "lang": "en"
   },
   "source": [
    "The map function returns an iterator, so we have to use `list(map_iterator)`"
   ]
  },
  {
   "cell_type": "markdown",
   "id": "4f2d55b2-df16-44fa-919c-28883da77e4b",
   "metadata": {
    "lang": "en"
   },
   "source": [
    "#### Extra: let's do it with lambda!"
   ]
  },
  {
   "cell_type": "code",
   "execution_count": 40,
   "id": "d0417756-972d-4909-85ab-3ea0eeaf7290",
   "metadata": {},
   "outputs": [
    {
     "data": {
      "text/plain": [
       "[1, 4, 9, 16, 25]"
      ]
     },
     "execution_count": 40,
     "metadata": {},
     "output_type": "execute_result"
    }
   ],
   "source": [
    "numbers = [1, 2, 3, 4, 5]\n",
    "list(map(lambda x: x ** 2, numbers))"
   ]
  },
  {
   "cell_type": "markdown",
   "id": "2571b520-439f-416b-959f-c1a231afcd9b",
   "metadata": {},
   "source": [
    "Use map and lambda to make the following list uppercase."
   ]
  },
  {
   "cell_type": "code",
   "execution_count": 41,
   "id": "fce46c7f-4bea-41ea-ac46-6c362cba0c5e",
   "metadata": {},
   "outputs": [],
   "source": [
    "words = [\"hello\" ,\"my\", \"name\", \"is\"]\n",
    "\n",
    "upper_words = []\n",
    "for word in words:\n",
    "    upper_words.append(word.upper())\n",
    "\n"
   ]
  },
  {
   "cell_type": "code",
   "execution_count": 42,
   "id": "e1be5d21-a950-4a90-b7ee-81eacb84014f",
   "metadata": {},
   "outputs": [
    {
     "data": {
      "text/plain": [
       "['HELLO', 'MY', 'NAME', 'IS']"
      ]
     },
     "execution_count": 42,
     "metadata": {},
     "output_type": "execute_result"
    }
   ],
   "source": [
    "upper_words"
   ]
  },
  {
   "cell_type": "code",
   "execution_count": 44,
   "id": "98c4e286-773f-4346-a15b-5f31ba6d4175",
   "metadata": {},
   "outputs": [
    {
     "data": {
      "text/plain": [
       "['HELLO', 'MY', 'NAME', 'IS']"
      ]
     },
     "execution_count": 44,
     "metadata": {},
     "output_type": "execute_result"
    }
   ],
   "source": [
    "upper_words = [word.upper() for word in words]\n",
    "upper_words"
   ]
  },
  {
   "cell_type": "code",
   "execution_count": 45,
   "id": "3ed5cc3d-9001-412b-99a0-b891538d2a97",
   "metadata": {},
   "outputs": [
    {
     "data": {
      "text/plain": [
       "['HELLO', 'MY', 'NAME', 'IS']"
      ]
     },
     "execution_count": 45,
     "metadata": {},
     "output_type": "execute_result"
    }
   ],
   "source": [
    "words = [\"hello\" ,\"my\", \"name\", \"is\"]\n",
    "\n",
    "list(map(lambda x: x.upper(), words))"
   ]
  },
  {
   "cell_type": "code",
   "execution_count": 46,
   "id": "6e5dd11c-9860-48bf-87f6-a75f43ca2860",
   "metadata": {},
   "outputs": [
    {
     "data": {
      "text/plain": [
       "[25, 100, 400]"
      ]
     },
     "execution_count": 46,
     "metadata": {},
     "output_type": "execute_result"
    }
   ],
   "source": [
    "# Q: can we do the same with a dictionary?\n",
    "\n",
    "a_dictionary = {\n",
    "    \"a\": 5,\n",
    "    \"b\": 10,\n",
    "    \"c\": 20\n",
    "}\n",
    "    \n",
    "list(map(lambda x: x ** 2, a_dictionary.values()))"
   ]
  },
  {
   "cell_type": "markdown",
   "id": "47e5d5b1-ee30-4ccb-add0-633129a35d33",
   "metadata": {},
   "source": [
    "We can use more than one parameter in map, but number of arguments for the function should match the number of iterables"
   ]
  },
  {
   "cell_type": "code",
   "execution_count": 47,
   "id": "6357c1f3-5a31-4199-a899-1ca487fcea23",
   "metadata": {},
   "outputs": [],
   "source": [
    "def addition (a, b):\n",
    "    return a + b\n",
    "\n",
    "iterable = [4, 16, 36]\n",
    "iterable_2  = [40, 160, 360, 202202]"
   ]
  },
  {
   "cell_type": "code",
   "execution_count": 48,
   "id": "41e0e628-a253-4688-806f-3efb21e33394",
   "metadata": {},
   "outputs": [
    {
     "data": {
      "text/plain": [
       "[44, 176, 396]"
      ]
     },
     "execution_count": 48,
     "metadata": {},
     "output_type": "execute_result"
    }
   ],
   "source": [
    "new_list_two_arguments = list(map(addition, iterable, iterable_2))\n",
    "new_list_two_arguments"
   ]
  },
  {
   "cell_type": "markdown",
   "id": "a909a9aa-4cad-495c-975d-ea17f7394912",
   "metadata": {},
   "source": [
    "#### 💡 Check for understanding"
   ]
  },
  {
   "cell_type": "markdown",
   "id": "0d79f08d-f8e1-40ef-a1a2-beff12ca9f8e",
   "metadata": {},
   "source": [
    "Do the same with lambda."
   ]
  },
  {
   "cell_type": "code",
   "execution_count": null,
   "id": "5dc238ec-2801-47fc-ae8b-bc083b4dd56e",
   "metadata": {},
   "outputs": [],
   "source": [
    "new"
   ]
  },
  {
   "cell_type": "markdown",
   "id": "b5139f56-04e1-4ca8-a270-9fe03307845d",
   "metadata": {},
   "source": [
    "### Filter"
   ]
  },
  {
   "cell_type": "markdown",
   "id": "c908137b-67f7-4855-899f-de29c1d0b8b8",
   "metadata": {
    "lang": "en"
   },
   "source": [
    "The filter() function takes a function and an iterable as arguments and returns an iterator with the elements for which the function returns True.\n",
    "\n",
    "```python\n",
    "filter(a_function, iterable)\n",
    "```"
   ]
  },
  {
   "cell_type": "markdown",
   "id": "a17c5120-c0b6-4844-b193-e60b775169c8",
   "metadata": {
    "lang": "en"
   },
   "source": [
    "Imagine you want to filter a list of numbers to get only even values."
   ]
  },
  {
   "cell_type": "code",
   "execution_count": 49,
   "id": "58681af9-de17-4b7f-954e-6b82b21a0f06",
   "metadata": {},
   "outputs": [],
   "source": [
    "def is_even(x):\n",
    "    return x % 2 == 0"
   ]
  },
  {
   "cell_type": "code",
   "execution_count": 50,
   "id": "15bfda8d-c409-478e-be14-fe60d4b3ab9f",
   "metadata": {},
   "outputs": [
    {
     "data": {
      "text/plain": [
       "False"
      ]
     },
     "execution_count": 50,
     "metadata": {},
     "output_type": "execute_result"
    }
   ],
   "source": [
    "is_even(3)"
   ]
  },
  {
   "cell_type": "code",
   "execution_count": 51,
   "id": "b90c7663-06f3-454c-9c63-76b552279655",
   "metadata": {},
   "outputs": [
    {
     "data": {
      "text/plain": [
       "True"
      ]
     },
     "execution_count": 51,
     "metadata": {},
     "output_type": "execute_result"
    }
   ],
   "source": [
    "is_even(2)"
   ]
  },
  {
   "cell_type": "code",
   "execution_count": 52,
   "id": "d13367db-1555-4755-9a40-8f59a0d75453",
   "metadata": {},
   "outputs": [
    {
     "name": "stdout",
     "output_type": "stream",
     "text": [
      "[2, 4]\n"
     ]
    }
   ],
   "source": [
    "numbers = [1, 2, 3, 4, 5]\n",
    "even_numbers = filter(is_even, numbers)\n",
    "print(list(even_numbers))"
   ]
  },
  {
   "cell_type": "code",
   "execution_count": null,
   "id": "61d6ea87-6ca5-4ada-ae3e-e7073d7312b2",
   "metadata": {},
   "outputs": [],
   "source": [
    "# the function you pass: returns True/False\n",
    "# Filter will return the element depending on the result of your function"
   ]
  },
  {
   "cell_type": "markdown",
   "id": "6ef7b41e-bcb2-4adf-8f31-eb09f406d520",
   "metadata": {},
   "source": [
    "Now, let's filter the following list of strings to only have those that start with \"B\"."
   ]
  },
  {
   "cell_type": "code",
   "execution_count": 62,
   "id": "0458413b-4073-4b6f-a413-237f3efaea14",
   "metadata": {},
   "outputs": [],
   "source": [
    "composers = [\n",
    "    \"Mozart\",\n",
    "    \"Beethoven\",\n",
    "    \"Bach\",\n",
    "    \"Tchaikovsky\",\n",
    "    \"Brahms\",\n",
    "    \"Schubert\",\n",
    "    \"Vivaldi\",\n",
    "    \"Verdi\",\n",
    "    \"Debussy\"\n",
    "]"
   ]
  },
  {
   "cell_type": "code",
   "execution_count": 63,
   "id": "3ad631bc-2b05-4a75-b5ea-23a052563382",
   "metadata": {},
   "outputs": [
    {
     "data": {
      "text/plain": [
       "['Beethoven', 'Bach', 'Brahms']"
      ]
     },
     "execution_count": 63,
     "metadata": {},
     "output_type": "execute_result"
    }
   ],
   "source": [
    "# 1. For loop\n",
    "\n",
    "new_list = []\n",
    "\n",
    "for i in composers:\n",
    "    if i.startswith(\"B\"):\n",
    "        new_list.append(i)\n",
    "\n",
    "new_list"
   ]
  },
  {
   "cell_type": "code",
   "execution_count": 64,
   "id": "ea9b29e0-be46-4951-a236-752e83843224",
   "metadata": {},
   "outputs": [
    {
     "data": {
      "text/plain": [
       "True"
      ]
     },
     "execution_count": 64,
     "metadata": {},
     "output_type": "execute_result"
    }
   ],
   "source": [
    "# 2. Filter\n",
    "\n",
    "def starts_with_b(n):\n",
    "    return n.startswith(\"B\") #bool\n",
    "\n",
    "starts_with_b(\"Beethoven\")"
   ]
  },
  {
   "cell_type": "code",
   "execution_count": 65,
   "id": "bc234b09-5f22-479e-bb5e-dbcef0a3886b",
   "metadata": {},
   "outputs": [
    {
     "data": {
      "text/plain": [
       "['Beethoven', 'Bach', 'Brahms']"
      ]
     },
     "execution_count": 65,
     "metadata": {},
     "output_type": "execute_result"
    }
   ],
   "source": [
    "new_list = [composer for composer in composers if composer.startswith(\"B\")]\n",
    "new_list"
   ]
  },
  {
   "cell_type": "code",
   "execution_count": 66,
   "id": "25ffd0b6-44db-4821-ae6c-625654be0c7a",
   "metadata": {},
   "outputs": [
    {
     "data": {
      "text/plain": [
       "['Beethoven', 'Bach', 'Brahms']"
      ]
     },
     "execution_count": 66,
     "metadata": {},
     "output_type": "execute_result"
    }
   ],
   "source": [
    "list(filter(starts_with_b, composers))"
   ]
  },
  {
   "cell_type": "code",
   "execution_count": 73,
   "id": "7041e625-7e43-4ece-b9a7-4caa167acad0",
   "metadata": {},
   "outputs": [
    {
     "data": {
      "text/plain": [
       "['Bach', 'Brahms']"
      ]
     },
     "execution_count": 73,
     "metadata": {},
     "output_type": "execute_result"
    }
   ],
   "source": [
    "list(filter(lambda composer: composer.startswith(\"B\") and len(composer) < 7, composers)) #we still need this to be true or false"
   ]
  },
  {
   "cell_type": "markdown",
   "id": "1ecdd328-a659-42d0-a189-e9341a19c2bd",
   "metadata": {},
   "source": [
    "#### 💡 Check for understanding"
   ]
  },
  {
   "cell_type": "markdown",
   "id": "e33feba6-5b10-4440-a706-bc4cd40791cf",
   "metadata": {},
   "source": [
    "Now do it with lambda! To make it a bit harder, also add the condition that the name is shorter than 7 characters."
   ]
  },
  {
   "cell_type": "code",
   "execution_count": null,
   "id": "8040209d-a393-47cd-8235-6df73a6e7713",
   "metadata": {},
   "outputs": [],
   "source": [
    "# Your code goes here"
   ]
  },
  {
   "cell_type": "markdown",
   "id": "94ec44d9-314b-4040-bd30-11bed2110061",
   "metadata": {
    "lang": "en"
   },
   "source": [
    "### Reduce"
   ]
  },
  {
   "cell_type": "markdown",
   "id": "be5ea359-69cf-4e80-b88d-af504cddb949",
   "metadata": {},
   "source": [
    "The reduce() function is not a built-in function in Python. It is available in the functools module, which means you must first import the functools library to use it.\n",
    "\n",
    "It applies a function cumulatively to the elements of an iterable, reducing it to a single value."
   ]
  },
  {
   "cell_type": "markdown",
   "id": "220db4b6-5e77-4078-9884-68fe085626fd",
   "metadata": {
    "lang": "en"
   },
   "source": [
    "```python\n",
    "reduce(function, iterable[, initial])\n",
    "```"
   ]
  },
  {
   "cell_type": "markdown",
   "id": "e838a99b-95b1-4581-bf8d-4b3436e9a9f3",
   "metadata": {},
   "source": [
    "![](https://github.com/data-bootcamp-v4/lessons/blob/main/img/reduce.png?raw=true)"
   ]
  },
  {
   "cell_type": "code",
   "execution_count": 78,
   "id": "7ae02b0c-d1e3-4b95-92eb-34efd18b077f",
   "metadata": {},
   "outputs": [
    {
     "data": {
      "text/plain": [
       "10"
      ]
     },
     "execution_count": 78,
     "metadata": {},
     "output_type": "execute_result"
    }
   ],
   "source": [
    "from functools import reduce\n",
    "def foo(a,b):\n",
    "    return a+b\n",
    "\n",
    "s_list = list(range(5))\n",
    "reduce(foo,s_list)"
   ]
  },
  {
   "cell_type": "code",
   "execution_count": null,
   "id": "9a0c8981-56e2-499e-abb3-9146ee067dc3",
   "metadata": {},
   "outputs": [],
   "source": [
    "# start: list /iterable\n",
    "# finishing with a value: just one thing\n",
    "\n",
    "# map & filter -> iterable to iterable\n",
    "# reduce -> iterable to number"
   ]
  },
  {
   "cell_type": "code",
   "execution_count": 74,
   "id": "1fb0a749-4e3f-44b8-bf67-a8274549e7e4",
   "metadata": {},
   "outputs": [],
   "source": [
    "from functools import reduce"
   ]
  },
  {
   "cell_type": "code",
   "execution_count": 1,
   "id": "f9c10b66-1c98-4112-9448-c5bb668f3a7f",
   "metadata": {},
   "outputs": [
    {
     "data": {
      "text/plain": [
       "[1, 2, 3, 4, 5, 6, 7, 8, 9, 10, 11, 12, 13, 14, 15]"
      ]
     },
     "execution_count": 1,
     "metadata": {},
     "output_type": "execute_result"
    }
   ],
   "source": [
    "numbers_15 = [i for i in range(1, 16)]\n",
    "numbers_15"
   ]
  },
  {
   "cell_type": "code",
   "execution_count": null,
   "id": "72d43e79-7291-440c-a198-f47914c361ca",
   "metadata": {},
   "outputs": [],
   "source": [
    "def addition(a, b):\n",
    "    return a + b"
   ]
  },
  {
   "cell_type": "code",
   "execution_count": null,
   "id": "2fa6cdae-bdba-49a0-9203-ac39a40fc96f",
   "metadata": {},
   "outputs": [],
   "source": [
    "addition(10, 2)"
   ]
  },
  {
   "cell_type": "code",
   "execution_count": null,
   "id": "be97ba75-61f0-4c36-84a3-652bf116b21f",
   "metadata": {},
   "outputs": [],
   "source": [
    "reduce(addition, numbers_15)"
   ]
  },
  {
   "cell_type": "code",
   "execution_count": null,
   "id": "be6a823f-9431-44d8-97a4-6bd56a45c32f",
   "metadata": {},
   "outputs": [],
   "source": [
    "# Its the same that the function sum does!\n",
    "sum(numbers_15)"
   ]
  },
  {
   "cell_type": "markdown",
   "id": "b4d4edf5-4ac7-4dfc-87ba-2f093b37944b",
   "metadata": {
    "lang": "en"
   },
   "source": [
    "⚠️ Reduce is a bit more complicated to understand than map() and filter() so let's walk through the following example ⚠️"
   ]
  },
  {
   "cell_type": "code",
   "execution_count": 79,
   "id": "13222456-3f75-46f2-afe2-c829c28a6cd3",
   "metadata": {},
   "outputs": [
    {
     "data": {
      "text/plain": [
       "16"
      ]
     },
     "execution_count": 79,
     "metadata": {},
     "output_type": "execute_result"
    }
   ],
   "source": [
    "list_ = [2, 4, 7, 3]\n",
    "\n",
    "reduce(addition, list_)"
   ]
  },
  {
   "cell_type": "markdown",
   "id": "6f4f5db0-72ee-4144-8dfb-9bba7e612a7a",
   "metadata": {
    "lang": "en"
   },
   "source": [
    "#### What happened?\n",
    "- We start with a list [2, 4, 7, 3] and pass the function add (x, y) to reduce ( ) along with this list, without an initial value\n",
    "\n",
    "- reduce() calls add(2, 4), and add() returns 6\n",
    "\n",
    "- reduce() calls sum(6, 7) (result of the previous call to sum() and the next element in the list as parameters), and sum() returns 13\n",
    "\n",
    "- reduce() calls sum(13, 3), and sum() returns 16\n",
    "\n",
    "Since there are no more elements left in the sequence, reduce() returns 16"
   ]
  },
  {
   "cell_type": "markdown",
   "id": "d49bbb43-a3d1-4ba1-b3a8-8fdf755085c9",
   "metadata": {},
   "source": [
    "Another example:"
   ]
  },
  {
   "cell_type": "code",
   "execution_count": null,
   "id": "145179c6-ace3-4649-9e21-8fd9d9b5e3e3",
   "metadata": {},
   "outputs": [],
   "source": [
    "def addition_strings (a, b):\n",
    "    return a + \" \" + b"
   ]
  },
  {
   "cell_type": "code",
   "execution_count": null,
   "id": "3ed24109-0b5d-4244-a40b-9ea30679fca3",
   "metadata": {},
   "outputs": [],
   "source": [
    "addition_strings(\"hello\", \"hi there\")"
   ]
  },
  {
   "cell_type": "code",
   "execution_count": null,
   "id": "04269aba-ce94-479a-9bc4-802e9ec71938",
   "metadata": {},
   "outputs": [],
   "source": [
    "list_of_strings = [\"hey\", \"how\", \"are\", \"you\", \"doing\"]"
   ]
  },
  {
   "cell_type": "code",
   "execution_count": null,
   "id": "3e7813bd-9f4f-4106-86c6-246fc1e6afeb",
   "metadata": {},
   "outputs": [],
   "source": [
    "reduce(addition_strings, list_of_strings)"
   ]
  },
  {
   "cell_type": "markdown",
   "id": "5a3cc8a1-88fd-4d65-b691-dde779e26cd6",
   "metadata": {},
   "source": [
    "This is the same as using the join method:"
   ]
  },
  {
   "cell_type": "code",
   "execution_count": null,
   "id": "2a08d68a-e711-45c0-b767-b8d9781dc489",
   "metadata": {},
   "outputs": [],
   "source": [
    "\" \".join(list_of_strings)"
   ]
  },
  {
   "cell_type": "markdown",
   "id": "650ba209-890f-4dfa-9ee9-a40d59d4a196",
   "metadata": {},
   "source": [
    "#### 💡 Check for understanding"
   ]
  },
  {
   "cell_type": "markdown",
   "id": "6d44af7c-7be1-412e-b53a-5e9b7b63c60b",
   "metadata": {},
   "source": [
    "Do it with lambda!"
   ]
  },
  {
   "cell_type": "code",
   "execution_count": null,
   "id": "e151e209-aa6b-438c-bf66-60d376303360",
   "metadata": {},
   "outputs": [],
   "source": [
    "# Your code goes here"
   ]
  },
  {
   "cell_type": "markdown",
   "id": "ccfb0ed7-5856-4f97-bf7a-4c0347ba241d",
   "metadata": {
    "lang": "en"
   },
   "source": [
    "## Summary"
   ]
  },
  {
   "cell_type": "markdown",
   "id": "4ce36198-c0d3-485f-adfe-d535b3e46914",
   "metadata": {},
   "source": [
    "`map, filter, reduce` are functions that take another function as an input argument and an iterable.\n",
    "\n",
    "- Map: returns an iterator that applies the function to each element of the iterable. The iterable has the same number of elements as the input iterable.\n",
    "- Filter: returns an iterator that contains elements for which the function returns `True`. Not necessarily of the same length as the original.\n",
    "- Reduce: returns a single element (though it can be a list). Applies the function cumulatively to the elements of the iterable, reducing it to a single value\n",
    "\n",
    "Notes:\n",
    "- More efficient ways than just loops\n",
    "- Define our own functions OR we can use lambdas\n",
    "- Reduce is something you need to import\n",
    "- Makes code easier to read\n",
    "- Processing is faster because objects are returned instead of lists, which can be more memory-efficient."
   ]
  },
  {
   "cell_type": "markdown",
   "id": "415f80b0-a36c-4bb5-947a-da4d99cfa770",
   "metadata": {},
   "source": [
    "![](https://github.com/data-bootcamp-v4/lessons/blob/main/img/map-reduce-filter.jpeg?raw=true)"
   ]
  },
  {
   "cell_type": "markdown",
   "id": "a63fa49d-d754-47aa-a30e-61fba379b85e",
   "metadata": {
    "tags": []
   },
   "source": [
    "## Further materials\n",
    " "
   ]
  },
  {
   "cell_type": "markdown",
   "id": "03284a79-c543-41eb-8148-49b1fb2be9d1",
   "metadata": {
    "lang": "en"
   },
   "source": [
    "Useful links:\n",
    "\n",
    "- [Higher-Order Functions in Python — map(), filter(), and reduce() (Medium log in required)](https://medium.com/swlh/higher-order-functions-in-python-map-filter-and-reduce-34299fee1b21)\n",
    "- [Map, Filter, Reduce (learnpython.org)](https://www.learnpython.org/en/Map,_Filter,_Reduce)\n",
    "- [map(), filter(), and reduce() in Python with Examples (StackAbuse)](https://stackabuse.com/map-filter-and-reduce-in-python-with-examples)\n",
    "- [Map, Filter, Reduce (MIT Edu)](http://web.mit.edu/6.005/www/sp16/classes/25-map-filter-reduce/)"
   ]
  }
 ],
 "metadata": {
  "kernelspec": {
   "display_name": "Python 3 (ipykernel)",
   "language": "python",
   "name": "python3"
  },
  "language_info": {
   "codemirror_mode": {
    "name": "ipython",
    "version": 3
   },
   "file_extension": ".py",
   "mimetype": "text/x-python",
   "name": "python",
   "nbconvert_exporter": "python",
   "pygments_lexer": "ipython3",
   "version": "3.8.10"
  },
  "toc": {
   "base_numbering": 1,
   "nav_menu": {},
   "number_sections": true,
   "sideBar": true,
   "skip_h1_title": false,
   "title_cell": "Table of Contents",
   "title_sidebar": "Contents",
   "toc_cell": true,
   "toc_position": {},
   "toc_section_display": true,
   "toc_window_display": true
  }
 },
 "nbformat": 4,
 "nbformat_minor": 5
}
