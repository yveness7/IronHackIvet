{
 "cells": [
  {
   "cell_type": "markdown",
   "id": "25d7736c-ba17-4aff-b6bb-66eba20fbf4e",
   "metadata": {},
   "source": [
    "# Lab | Functions"
   ]
  },
  {
   "cell_type": "markdown",
   "id": "0c581062-8967-4d93-b06e-62833222f930",
   "metadata": {
    "tags": []
   },
   "source": [
    "## Exercise: Managing Customer Orders with Functions\n",
    "\n",
    "In the previous exercise, you improved the code for managing customer orders by using loops and flow control. Now, let's take it a step further and refactor the code by introducing functions.\n",
    "\n",
    "Follow the steps below to complete the exercise:\n",
    "\n",
    "1. Define a function named `initialize_inventory` that takes `products` as a parameter. Inside the function, implement the code for initializing the inventory dictionary using a loop and user input.\n",
    "\n",
    "2. Define a function named `get_customer_orders` that takes no parameters. Inside the function, implement the code for prompting the user to enter the product names using a loop. The function should return the `customer_orders` set.\n",
    "\n",
    "3. Define a function named `update_inventory` that takes `customer_orders` and `inventory` as parameters. Inside the function, implement the code for updating the inventory dictionary based on the customer orders.\n",
    "\n",
    "4. Define a function named `calculate_order_statistics` that takes `customer_orders` and `products` as parameters. Inside the function, implement the code for calculating the order statistics (total products ordered, and percentage of unique products ordered). The function should return these values.\n",
    "\n",
    "5. Define a function named `print_order_statistics` that takes `order_statistics` as a parameter. Inside the function, implement the code for printing the order statistics.\n",
    "\n",
    "6. Define a function named `print_updated_inventory` that takes `inventory` as a parameter. Inside the function, implement the code for printing the updated inventory.\n",
    "\n",
    "7. Call the functions in the appropriate sequence to execute the program and manage customer orders.\n",
    "\n",
    "Hints for functions:\n",
    "\n",
    "- Consider the input parameters required for each function and their return values.\n",
    "- Utilize function parameters and return values to transfer data between functions.\n",
    "- Test your functions individually to ensure they work correctly.\n",
    "\n",
    "\n"
   ]
  },
  {
   "cell_type": "code",
   "execution_count": 34,
   "id": "f09f0b30-7342-4961-8f48-c741324d1c12",
   "metadata": {},
   "outputs": [],
   "source": [
    "\n",
    "#my code\n",
    "\n",
    "products = [\"tshirts\", \"mugs\", \"hats\", \"books\", \"keychains\"] #define list of products\n",
    "inventory = {} #create empty dictionary\n",
    "def initialize_inventory(products): \n",
    "\n",
    "#code for initializing the inventory dictionary using a loop and user input\n",
    "\n",
    "    for product in products:\n",
    "        \n",
    "        while True:\n",
    "            quantity = int(input(f\"Please enter the quantity of {product} available in the inventory: \"))\n",
    "            \n",
    "            if quantity >= 0:\n",
    "                 inventory [ product ] = quantity\n",
    "            break\n",
    "            \n",
    "        else:\n",
    "            print(\"Please enter a valid quantity\")\n",
    "\n",
    "\n",
    "\n",
    "customer_orders = set()  #empty set for customer orders\n",
    "\n",
    "\n",
    "def get_customer_orders():\n",
    "\n",
    "#implement the code for prompting the user to enter the product names using a loop\n",
    "    \n",
    "    count = 0    \n",
    "    while True:\n",
    "        \n",
    "        product_name = input(f\"\\nPlease enter the name of the product that your customer wants to order from the list: {', '.join(products)}: \").lower()\n",
    "        \n",
    "        if product_name in products:\n",
    "            customer_orders.add(product_name) #instruction: Add the product name to the \"customer_orders\" set\n",
    "\n",
    "        #instruction: Ask the user if they want to add another product (yes/no)\n",
    "        user_input = input(\"\\nDo you want to add another product? yes/no: \").lower()\n",
    "        if user_input == \"yes\":\n",
    "             count =+1\n",
    "        \n",
    "        else:\n",
    "            user_input == \"no\" \n",
    "            print(\"\\nThank you for the order!\")\n",
    "            break\n",
    "\n",
    "    return customer_orders\n",
    "\n",
    "\n",
    "def update_inventory(customer_orders,inventory):\n",
    "\n",
    "#implement the code for updating the inventory dictionary based on the customer orders\n",
    "    \n",
    "    inventory = {product: inventory.get(product, 0) - 1 for product in customer_orders}\n",
    "\n",
    "\n",
    "#print the products in the customer_orders set\n",
    "\n",
    "\"\"\"print(\"\\nProducts in customer's order:\")\n",
    "for product in customer_orders:\n",
    "    print(product)\"\"\"\n",
    "\n",
    "\n",
    "\n",
    "def calculate_order_statistics(customer_orders,products):\n",
    "\n",
    "#implement the code for calculating the order statistics (total products ordered, and percentage of unique products ordered)\n",
    "#The function should return these values.\n",
    "\n",
    "    total_products_ordered = len(customer_orders)\n",
    "    \n",
    "    percentage_ordered = (total_products_ordered / len(products)) * 100\n",
    "    \n",
    "    order_status = (total_products_ordered, percentage_ordered)\n",
    "    \n",
    "    return total_products_ordered, percentage_ordered \n",
    "    \"\"\"Can we return the values this way????\"\"\"\n",
    "\n",
    "\n",
    "def print_order_statistics(order_statistics):\n",
    "\n",
    "#implement the code for printing the order statistics\n",
    "    \n",
    "    print(\"\\nOrder statistics:\")\n",
    "    print(f\"\\nTotal Products Ordered: {total_products_ordered}\")\n",
    "    print(f\"\\nPercentage of Products Ordered: {percentage_ordered:.2f}%\")\n",
    "\n",
    "\n",
    "def print_updated_inventory(inventory):\n",
    "\n",
    "#mplement the code for printing the updated inventory\n",
    "\n",
    "    print(\"\\nUpdated Inventory:\")\n",
    "    for product, quantity in inventory.items():\n",
    "        print(f\"{product.capitalize()}: {quantity}\")\n",
    "\n"
   ]
  },
  {
   "cell_type": "code",
   "execution_count": 35,
   "id": "a87b323a-3080-4936-a57d-a83c708efd6b",
   "metadata": {},
   "outputs": [
    {
     "name": "stdin",
     "output_type": "stream",
     "text": [
      "Please enter the quantity of tshirts available in the inventory:  4\n",
      "Please enter the quantity of mugs available in the inventory:  4\n",
      "Please enter the quantity of hats available in the inventory:  4\n",
      "Please enter the quantity of books available in the inventory:  4\n",
      "Please enter the quantity of keychains available in the inventory:  4\n"
     ]
    }
   ],
   "source": [
    "initialize_inventory(products)"
   ]
  },
  {
   "cell_type": "code",
   "execution_count": 36,
   "id": "2d11a85a-5b1c-44d6-a0d7-dab49e22857b",
   "metadata": {},
   "outputs": [
    {
     "name": "stdin",
     "output_type": "stream",
     "text": [
      "\n",
      "Please enter the name of the product that your customer wants to order from the list: tshirts, mugs, hats, books, keychains:  books\n",
      "\n",
      "Do you want to add another product? yes/no:  yes\n",
      "\n",
      "Please enter the name of the product that your customer wants to order from the list: tshirts, mugs, hats, books, keychains:  hats\n",
      "\n",
      "Do you want to add another product? yes/no:  yes\n",
      "\n",
      "Please enter the name of the product that your customer wants to order from the list: tshirts, mugs, hats, books, keychains:  books\n",
      "\n",
      "Do you want to add another product? yes/no:  no\n"
     ]
    },
    {
     "name": "stdout",
     "output_type": "stream",
     "text": [
      "\n",
      "Thank you for the order!\n"
     ]
    },
    {
     "data": {
      "text/plain": [
       "{'books', 'hats'}"
      ]
     },
     "execution_count": 36,
     "metadata": {},
     "output_type": "execute_result"
    }
   ],
   "source": [
    "get_customer_orders()"
   ]
  },
  {
   "cell_type": "code",
   "execution_count": 37,
   "id": "ea997f7d-74d2-4e03-b4ce-16b285c3a097",
   "metadata": {},
   "outputs": [],
   "source": [
    "update_inventory(customer_orders,inventory)"
   ]
  },
  {
   "cell_type": "code",
   "execution_count": 38,
   "id": "c9a8f6a8-723a-4118-9149-4aa76c570d96",
   "metadata": {},
   "outputs": [
    {
     "data": {
      "text/plain": [
       "(2, 40.0)"
      ]
     },
     "execution_count": 38,
     "metadata": {},
     "output_type": "execute_result"
    }
   ],
   "source": [
    "calculate_order_statistics(customer_orders,products)"
   ]
  },
  {
   "cell_type": "code",
   "execution_count": 33,
   "id": "c71af66e-abaa-46df-af54-43565ebf9df2",
   "metadata": {},
   "outputs": [
    {
     "name": "stdout",
     "output_type": "stream",
     "text": [
      "\n",
      "Order statistics:\n",
      "\n",
      "Total Products Ordered: 0\n"
     ]
    },
    {
     "ename": "NameError",
     "evalue": "name 'percentage_ordered' is not defined",
     "output_type": "error",
     "traceback": [
      "\u001b[0;31m---------------------------------------------------------------------------\u001b[0m",
      "\u001b[0;31mNameError\u001b[0m                                 Traceback (most recent call last)",
      "Cell \u001b[0;32mIn[33], line 1\u001b[0m\n\u001b[0;32m----> 1\u001b[0m \u001b[43mprint_order_statistics\u001b[49m\u001b[43m(\u001b[49m\u001b[43mcalculate_order_statistics\u001b[49m\u001b[43m)\u001b[49m\n",
      "Cell \u001b[0;32mIn[26], line 87\u001b[0m, in \u001b[0;36mprint_order_statistics\u001b[0;34m(order_statistics)\u001b[0m\n\u001b[1;32m     85\u001b[0m \u001b[38;5;28mprint\u001b[39m(\u001b[38;5;124m\"\u001b[39m\u001b[38;5;130;01m\\n\u001b[39;00m\u001b[38;5;124mOrder statistics:\u001b[39m\u001b[38;5;124m\"\u001b[39m)\n\u001b[1;32m     86\u001b[0m \u001b[38;5;28mprint\u001b[39m(\u001b[38;5;124mf\u001b[39m\u001b[38;5;124m\"\u001b[39m\u001b[38;5;130;01m\\n\u001b[39;00m\u001b[38;5;124mTotal Products Ordered: \u001b[39m\u001b[38;5;132;01m{\u001b[39;00mtotal_products_ordered\u001b[38;5;132;01m}\u001b[39;00m\u001b[38;5;124m\"\u001b[39m)\n\u001b[0;32m---> 87\u001b[0m \u001b[38;5;28mprint\u001b[39m(\u001b[38;5;124mf\u001b[39m\u001b[38;5;124m\"\u001b[39m\u001b[38;5;130;01m\\n\u001b[39;00m\u001b[38;5;124mPercentage of Products Ordered: \u001b[39m\u001b[38;5;132;01m{\u001b[39;00mpercentage_ordered\u001b[38;5;132;01m:\u001b[39;00m\u001b[38;5;124m.2f\u001b[39m\u001b[38;5;132;01m}\u001b[39;00m\u001b[38;5;124m%\u001b[39m\u001b[38;5;124m\"\u001b[39m)\n",
      "\u001b[0;31mNameError\u001b[0m: name 'percentage_ordered' is not defined"
     ]
    }
   ],
   "source": [
    "print_order_statistics(calculate_order_statistics)"
   ]
  },
  {
   "cell_type": "code",
   "execution_count": 39,
   "id": "a0457c28-3b22-4738-896a-5ddf66b4a70e",
   "metadata": {},
   "outputs": [
    {
     "name": "stdout",
     "output_type": "stream",
     "text": [
      "\n",
      "Updated Inventory:\n",
      "Tshirts: 4\n",
      "Mugs: 4\n",
      "Hats: 4\n",
      "Books: 4\n",
      "Keychains: 4\n"
     ]
    }
   ],
   "source": [
    "print_updated_inventory(inventory)"
   ]
  },
  {
   "cell_type": "code",
   "execution_count": null,
   "id": "afb1389d-1ce1-4ce1-9fef-4d3268cc3e40",
   "metadata": {},
   "outputs": [],
   "source": []
  }
 ],
 "metadata": {
  "kernelspec": {
   "display_name": "Python 3 (ipykernel)",
   "language": "python",
   "name": "python3"
  },
  "language_info": {
   "codemirror_mode": {
    "name": "ipython",
    "version": 3
   },
   "file_extension": ".py",
   "mimetype": "text/x-python",
   "name": "python",
   "nbconvert_exporter": "python",
   "pygments_lexer": "ipython3",
   "version": "3.8.10"
  }
 },
 "nbformat": 4,
 "nbformat_minor": 5
}
