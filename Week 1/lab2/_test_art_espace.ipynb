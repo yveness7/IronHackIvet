{
 "cells": [
  {
   "cell_type": "code",
   "execution_count": 1,
   "id": "64060318-d53a-4299-975c-922befb5b798",
   "metadata": {},
   "outputs": [
    {
     "ename": "NameError",
     "evalue": "name 'pyfiglet' is not defined",
     "output_type": "error",
     "traceback": [
      "\u001b[0;31m---------------------------------------------------------------------------\u001b[0m",
      "\u001b[0;31mNameError\u001b[0m                                 Traceback (most recent call last)",
      "Cell \u001b[0;32mIn[1], line 1\u001b[0m\n\u001b[0;32m----> 1\u001b[0m \u001b[43mpyfiglet\u001b[49m                \u001b[38;5;66;03m# Print all options\u001b[39;00m\n\u001b[1;32m      2\u001b[0m  \u001b[38;5;66;03m# Generate text\u001b[39;00m\n",
      "\u001b[0;31mNameError\u001b[0m: name 'pyfiglet' is not defined"
     ]
    }
   ],
   "source": [
    "pyfiglet                # Print all options\n",
    " # Generate text"
   ]
  },
  {
   "cell_type": "code",
   "execution_count": 2,
   "id": "b1f6a086-a8cb-40fa-ad27-3f7179eea855",
   "metadata": {},
   "outputs": [
    {
     "ename": "NameError",
     "evalue": "name 'pyfiglet' is not defined",
     "output_type": "error",
     "traceback": [
      "\u001b[0;31m---------------------------------------------------------------------------\u001b[0m",
      "\u001b[0;31mNameError\u001b[0m                                 Traceback (most recent call last)",
      "Cell \u001b[0;32mIn[2], line 1\u001b[0m\n\u001b[0;32m----> 1\u001b[0m \u001b[43mpyfiglet\u001b[49m \u001b[38;5;241m-\u001b[39m\u001b[38;5;241m-\u001b[39mlist_fonts   \u001b[38;5;66;03m# List fonts\u001b[39;00m\n",
      "\u001b[0;31mNameError\u001b[0m: name 'pyfiglet' is not defined"
     ]
    }
   ],
   "source": [
    "pyfiglet --list_fonts   # List fonts\n"
   ]
  },
  {
   "cell_type": "code",
   "execution_count": 3,
   "id": "53f5c24b-3b20-42e5-8a8a-c8c1340ceb18",
   "metadata": {},
   "outputs": [
    {
     "ename": "SyntaxError",
     "evalue": "invalid syntax (463651338.py, line 1)",
     "output_type": "error",
     "traceback": [
      "\u001b[0;36m  Cell \u001b[0;32mIn[3], line 1\u001b[0;36m\u001b[0m\n\u001b[0;31m    pyfiglet \"Hello world!\"\u001b[0m\n\u001b[0m             ^\u001b[0m\n\u001b[0;31mSyntaxError\u001b[0m\u001b[0;31m:\u001b[0m invalid syntax\n"
     ]
    }
   ],
   "source": [
    "pyfiglet \"Hello world!\""
   ]
  },
  {
   "cell_type": "code",
   "execution_count": null,
   "id": "12f3c8bd-6cac-47d1-9a42-e563ec1c9cf7",
   "metadata": {},
   "outputs": [],
   "source": []
  }
 ],
 "metadata": {
  "kernelspec": {
   "display_name": "Python 3 (ipykernel)",
   "language": "python",
   "name": "python3"
  },
  "language_info": {
   "codemirror_mode": {
    "name": "ipython",
    "version": 3
   },
   "file_extension": ".py",
   "mimetype": "text/x-python",
   "name": "python",
   "nbconvert_exporter": "python",
   "pygments_lexer": "ipython3",
   "version": "3.8.10"
  }
 },
 "nbformat": 4,
 "nbformat_minor": 5
}
