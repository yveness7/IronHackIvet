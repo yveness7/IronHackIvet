{
 "cells": [
  {
   "cell_type": "markdown",
   "id": "d3bfc191-8885-42ee-b0a0-bbab867c6f9f",
   "metadata": {
    "tags": []
   },
   "source": [
    "# Lab | Flow Control"
   ]
  },
  {
   "cell_type": "markdown",
   "id": "3851fcd1-cf98-4653-9c89-e003b7ec9400",
   "metadata": {},
   "source": [
    "## Exercise: Managing Customer Orders Optimized\n",
    "\n",
    "In the last lab, you were starting an online store that sells various products. To ensure smooth operations, you developed a program that manages customer orders and inventory.\n",
    "\n",
    "You did so without using flow control. Let's go a step further and improve this code.\n",
    "\n",
    "Follow the steps below to complete the exercise:\n",
    "\n",
    "1. Look at your code from the lab data structures, and improve repeated code with loops.\n",
    "\n",
    "2. Instead of asking the user to input the name of three products that a customer wants to order, do the following:\n",
    "    \n",
    "    a. Prompt the user to enter the name of a product that a customer wants to order.\n",
    "    \n",
    "    b. Add the product name to the \"customer_orders\" set.\n",
    "    \n",
    "    c. Ask the user if they want to add another product (yes/no).\n",
    "    \n",
    "    d. Continue the loop until the user does not want to add another product.\n",
    "\n",
    "3. Instead of updating the inventory by subtracting 1 from the quantity of each product, only do it for  the products that were ordered (those in \"customer_orders\")."
   ]
  },
  {
   "cell_type": "code",
   "execution_count": null,
   "id": "d6dfe6d1-db71-4871-9e80-4e5a6bbef5ea",
   "metadata": {},
   "outputs": [
    {
     "name": "stdin",
     "output_type": "stream",
     "text": [
      "Please enter the quantity of tshirts available in the inventory:  5\n",
      "Please enter the quantity of mugs available in the inventory:  5\n",
      "Please enter the quantity of hats available in the inventory:  4\n",
      "Please enter the quantity of books available in the inventory:  5\n",
      "Please enter the quantity of keychains available in the inventory:  4\n",
      "\n",
      "Please enter the name of a product that your customer wants to order from the list: tshirts, mugs, hats, books, keychains:  books\n",
      "\n",
      "Do you want to add another product? yes/no:  yes\n",
      "\n",
      "Please enter the name of a product that your customer wants to order from the list: tshirts, mugs, hats, books, keychains:  ball\n"
     ]
    }
   ],
   "source": [
    "#my code\n",
    "\n",
    "products = [\"tshirts\", \"mugs\", \"hats\", \"books\", \"keychains\"]  #define list of products\n",
    "\n",
    "inventory = {} #create empty dictionary\n",
    "\n",
    "#instructions: Look at your code from the lab data structures, and improve repeated code with loops.\n",
    "\n",
    "for product in products:\n",
    "    while True:\n",
    "        quantity = int(input(f\"Please enter the quantity of {product} available in the inventory: \"))\n",
    "        if quantity >= 0:\n",
    "             inventory [ product ] = quantity\n",
    "        break\n",
    "    else:\n",
    "        print(\"Please enter a valid quantity\")\n",
    "\n",
    "\n",
    "customer_orders = set()  #empty set for customer orders\n",
    " \n",
    "\n",
    "\n",
    "#intructions: Prompt the user to enter the name of a product that a customer wants to order\n",
    "count = 0    \n",
    "while True:\n",
    "    product_name = input(f\"\\nPlease enter the name of a product that your customer wants to order from the list: {', '.join(products)}: \").lower()\n",
    "        \n",
    "    if product_name in products:\n",
    "        customer_orders.add(product_name) #instruction: Add the product name to the \"customer_orders\" set\n",
    "\n",
    "                         #instruction: Ask the user if they want to add another product (yes/no)\n",
    "    user_input = input(\"\\nDo you want to add another product? yes/no: \").lower()\n",
    "    if user_input == \"yes\":\n",
    "         count =+1\n",
    "        \n",
    "    else:\n",
    "        user_input == \"no\" \n",
    "        print(\"\\nThank you for the order!\")\n",
    "        break\n",
    "            \n",
    "            \n",
    "\n",
    "#6. print the products in the customer_orders set\n",
    "print(\"\\nProducts in customer's order:\")\n",
    "for product in customer_orders:\n",
    "    print(product)\n",
    "\n",
    "\n",
    "#7. order statistics calculation\n",
    "\n",
    "total_products_ordered = len(customer_orders)\n",
    "percentage_ordered = (total_products_ordered / len(products)) * 100\n",
    "order_status = (total_products_ordered, percentage_ordered)\n",
    "\n",
    "#8. print order statistics \n",
    "print(\"\\nOrder statistics:\")\n",
    "print(f\"\\nTotal Products Ordered: {total_products_ordered}\")\n",
    "print(f\"\\nPercentage of Products Ordered: {percentage_ordered:.2f}%\")\n",
    "\n",
    "#9. update the inventory by subtracting 1 from the quantity of each product\n",
    "\n",
    "inventory = {product: inventory.get(product, 0) - 1 for product in customer_orders}\n",
    "\n",
    "#10 print updates inventory \n",
    "print(\"\\nUpdated Inventory:\")\n",
    "for product, quantity in inventory.items():\n",
    "    print(f\"{product.capitalize()}: {quantity}\")\n",
    "                "
   ]
  },
  {
   "cell_type": "code",
   "execution_count": null,
   "id": "0721282b-3782-4ca8-95bb-0a68b6d26b7f",
   "metadata": {},
   "outputs": [],
   "source": []
  }
 ],
 "metadata": {
  "kernelspec": {
   "display_name": "Python 3 (ipykernel)",
   "language": "python",
   "name": "python3"
  },
  "language_info": {
   "codemirror_mode": {
    "name": "ipython",
    "version": 3
   },
   "file_extension": ".py",
   "mimetype": "text/x-python",
   "name": "python",
   "nbconvert_exporter": "python",
   "pygments_lexer": "ipython3",
   "version": "3.8.10"
  }
 },
 "nbformat": 4,
 "nbformat_minor": 5
}
