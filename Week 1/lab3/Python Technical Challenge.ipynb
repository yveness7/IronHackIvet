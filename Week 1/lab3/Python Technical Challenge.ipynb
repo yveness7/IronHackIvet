{
 "cells": [
  {
   "cell_type": "markdown",
   "id": "248b0753-e70d-405d-87be-b01c16a4b01e",
   "metadata": {},
   "source": [
    "Create a function that returns the sum of the two lowest positive numbers given an array of minimum 2 integers. No floats or empty arrays will be passed."
   ]
  },
  {
   "cell_type": "markdown",
   "id": "296cd0d5-81ec-4eaa-ae50-ba80e727ef90",
   "metadata": {},
   "source": [
    "Documentation\n",
    "sum_two_smallest_numbers(numbers)\n",
    "Parameters:\n",
    "numbers: Array<int>\n",
    "\n",
    "An array of positive integers.\n",
    "Guaranteed Constraints:\n",
    "\n",
    "    The input will never be null or undefined.\n",
    "    All numbers are valid Int32, no need to validate them.\n",
    "    All numbers will be positive (non-zero) values.\n",
    "    There will always be at least two numbers in the input string.\n",
    "\n",
    "Returns: int\n",
    "\n",
    "The sum of the two lowest numbers in the string.\n",
    "\n",
    "Examples\n",
    "Input \tOutput\n",
    "[19, 5, 42, 2, 77] \t7\n",
    "[5, 8, 8, 8, 8] \t13"
   ]
  },
  {
   "cell_type": "code",
   "execution_count": 38,
   "id": "e4f61640-b16b-4b24-bb8c-d131e37ef850",
   "metadata": {},
   "outputs": [
    {
     "data": {
      "text/plain": [
       "13"
      ]
     },
     "execution_count": 38,
     "metadata": {},
     "output_type": "execute_result"
    }
   ],
   "source": [
    "list = [5, 8, 8, 8, 8] \t\n",
    "\n",
    "def sum_two_smallest_numbers():\n",
    "\n",
    "    sorted_numbers = sorted(list)\n",
    "    return sorted_numbers[0] + sorted_numbers[1]\n",
    "\n",
    "    \n",
    "sum_two_smallest_numbers()\n",
    "\n",
    "    \n",
    "   "
   ]
  },
  {
   "cell_type": "markdown",
   "id": "4ea24e9a-2752-470b-9a26-9a92e014c41a",
   "metadata": {},
   "source": [
    "Locate the outlier in an array containing a single element with a different parity than the rest.\n",
    "\n",
    "For this challenge you will be asked to write code. Please make sure to craft a quality solution. "
   ]
  },
  {
   "cell_type": "markdown",
   "id": "ad143eb6-8988-4e58-bc55-616453542c83",
   "metadata": {},
   "source": [
    "Task\n",
    "\n",
    "You are given an array (which will have a length of at least 3, but could be very large) containing integers. The array is either entirely comprised of odd integers or entirely comprised of even integers except for a single integer N. Write a method that takes the array as an argument and returns this \"outlier\" N.\n",
    "Specification\n",
    "find_outlier(integers)\n",
    "\n",
    "Parameters\n",
    "\n",
    "    integers: Array (of Integers)\n",
    "Return Value\n",
    "\n",
    "    Integer - The only odd or even number\n",
    "\n",
    "Examples\n",
    "\tintegers \tReturn Value\n",
    "Only odd number \t \t[11,552,64,28,76]\n",
    "Only even number \t[160,3719,19,13,-21]"
   ]
  },
  {
   "cell_type": "markdown",
   "id": "0f6fc4e2-11e9-4c74-911c-412d6b551cd0",
   "metadata": {},
   "source": [
    "Filter is a function that takes a function and a list, and returns a new list containing only the elements of the original list for which the function returns True. It's a useful way to selectively extract elements from a list based on a certain condition."
   ]
  },
  {
   "cell_type": "code",
   "execution_count": 53,
   "id": "e3eba04d-035c-4497-a2a4-0c410662f554",
   "metadata": {},
   "outputs": [
    {
     "data": {
      "text/plain": [
       "11"
      ]
     },
     "execution_count": 53,
     "metadata": {},
     "output_type": "execute_result"
    }
   ],
   "source": [
    "list = [11,552,64,28,76]\n",
    "\n",
    "def find_outlier(list):\n",
    "   \n",
    "    even_numbers = [i for i in list if i % 2 == 0]\n",
    "    odd_numbers = [i for i in list if i % 2 != 0]\n",
    "    if len(even_numbers) == 1:\n",
    "        return even_numbers[0]\n",
    "    else:\n",
    "        return odd_numbers[0]\n",
    "\n",
    "find_outlier(list)"
   ]
  },
  {
   "cell_type": "code",
   "execution_count": null,
   "id": "10e71f1c-09f4-4790-8df4-d1b349dd81fa",
   "metadata": {},
   "outputs": [],
   "source": []
  },
  {
   "cell_type": "markdown",
   "id": "86c51773-9d02-44b4-be2c-bd5b5931b038",
   "metadata": {},
   "source": [
    "Task\n",
    "\n",
    "Complete the function in your editor.\n",
    "\n",
    "Your function must merge strings a and b, and then return a single merged string. A merge operation on two strings is described as follows:\n",
    "\n",
    "    Append alternating characters from a and b, respectively, to some new string, mergedString.\n",
    "    Once all of the characters in one of the strings have been merged, append the remaining characters in the other string to mergedString.\n",
    "\n",
    "Specification\n",
    "merge_strings(a, b)\n",
    "\n",
    "Parameters\n",
    "\n",
    "    a: String\n",
    "\n",
    "    b: String\n",
    "Return Value\n",
    "\n",
    "    String - The mergedString\n",
    "Constraints\n",
    "\n",
    "    1 ≤ |a length|, |b length| ≤ 25000\n",
    "\n",
    "Examples\n",
    "a \tb \tReturn Value\n",
    "\"abc\" \t\"def\" \t\"adbecf\"\n",
    "\"ab\" \t\"def\" \t\"adbef\"\n",
    "\"abc\" \t\"de\" \t\"adbec\""
   ]
  },
  {
   "cell_type": "code",
   "execution_count": null,
   "id": "c05f897b-65c6-4c7e-9dad-a333e8312729",
   "metadata": {},
   "outputs": [],
   "source": [
    "a = \"abc\", \"dfgfd\", \"dfdfdf\"\"\n",
    "b = \"def\", \"kdfjd\", 'skdjjd\"\n",
    "\n",
    "for i in c and u in b"
   ]
  },
  {
   "cell_type": "code",
   "execution_count": 64,
   "id": "0638529b-5a0b-4449-89f8-8edda45d55a2",
   "metadata": {},
   "outputs": [
    {
     "name": "stdout",
     "output_type": "stream",
     "text": [
      "abc dgfsdds sdfsddf\n",
      "def kjhkj jhjkhj\n",
      "['abc', 'dgfsdds', 'sdfsddf']\n",
      "['def', 'kjhkj', 'jhjkhj']\n"
     ]
    }
   ],
   "source": [
    "a = \"abc dgfsdds sdfsddf\"\n",
    "b = \"def kjhkj jhjkhj\"\n",
    "new_a = a.strip()\n",
    "list_a = new_a.split()\n",
    "new_b = b.strip()\n",
    "list_b = new_b.split()\n",
    "mergedString = ''\n",
    "mergedString += .join(list_a[i] + list_b[i]) for i in range(len(list_a),(len(list_b))))\n",
    "\n",
    "# Once all of the characters in one of the strings have been merged, append the remaining characters in the other string to mergedString.\n",
    "mergedString += a[len(b):] + b[len(a):]\n",
    "\n",
    "print(new_a)\n",
    "print(new_b)\n",
    "print(list_a)\n",
    "print(list_b)\n",
    "def merge_strings(a,b):\n",
    "    new_a = a.split()\n",
    "    \n",
    "    return \"\""
   ]
  },
  {
   "cell_type": "code",
   "execution_count": 65,
   "id": "1dc8edd4-8710-4485-bd3b-676a390bf3fc",
   "metadata": {},
   "outputs": [
    {
     "name": "stdout",
     "output_type": "stream",
     "text": [
      "hweolrllod\n"
     ]
    }
   ],
   "source": [
    "def merge_strings(a, b):\n",
    "    mergedString = ''  # Initialize mergedString as an empty string\n",
    "    mergedString += ''.join([a[i] + b[i] for i in range(min(len(a), len(b)))])\n",
    "    mergedString += a[len(b):] + b[len(a):]\n",
    "    return mergedString\n",
    "\n",
    "# Example usage\n",
    "a = \"hello\"\n",
    "b = \"world\"\n",
    "result = merge_strings(a, b)\n",
    "print(result) "
   ]
  },
  {
   "cell_type": "code",
   "execution_count": 71,
   "id": "220e3a37-db87-479c-ae01-77eb38c16a53",
   "metadata": {},
   "outputs": [
    {
     "name": "stdout",
     "output_type": "stream",
     "text": [
      "adbecf  dkgjfhskdjd sj hsjdkfhsjddf\n"
     ]
    }
   ],
   "source": [
    "a = \"abc dgfsdds sdfsddf\"\n",
    "b = \"def kjhkj jhjkhj\"\n",
    "#new_a = a.strip()\n",
    "#list_a = new_a.split()\n",
    "#new_b = b.strip()\n",
    "#list_b = new_b.split()\n",
    "mergedString = ''\n",
    "mergedString += ''.join([a[i] + b[i] for i in range(min(len(a),(len(b))))])\n",
    "mergedString += a[len(b):] + b[len(a):]\n",
    "    #return mergedString\n",
    "# Once all of the characters in one of the strings have been merged, append the remaining characters in the other string to mergedString.\n",
    "print(mergedString)"
   ]
  },
  {
   "cell_type": "code",
   "execution_count": 72,
   "id": "87e187b2-09c6-43ab-bb24-659ee0db1f1f",
   "metadata": {},
   "outputs": [
    {
     "name": "stdout",
     "output_type": "stream",
     "text": [
      "hweolrllod\n"
     ]
    }
   ],
   "source": [
    "def merge_strings(a: str, b: str) -> str:\n",
    "    mergedString = ''.join([a[i] + b[i] for i in range(min(len(a), len(b)))])\n",
    "    mergedString += a[len(b):] + b[len(a):]\n",
    "    return mergedString\n",
    "\n",
    "# Example usage\n",
    "a = \"hello\"\n",
    "b = \"world\"\n",
    "result = merge_strings(a, b)\n",
    "print(result)  # Output: \"hweolrllod\"\n"
   ]
  },
  {
   "cell_type": "markdown",
   "id": "d2d77ecf-7ae3-462a-beb9-f3e77c6eb026",
   "metadata": {},
   "source": [
    "Task\n",
    "\n",
    "In this little assignment you are given a string of space separated numbers, and have to return the highest and lowest number.\n",
    "Examples\n",
    "Input \tOutput\n",
    "\"1 2 3 4 5\" \t\"5 1\"\n",
    "\"1 2 -3 4 5\" \t\"5 -3\"\n",
    "\"1 9 3 4 -5\" \t\"9 -5\"\n",
    "Documentation\n",
    "highAndLow(numbers)\n",
    "Parameters:\n",
    "numbers: String\n",
    "\n",
    "A string of numbers separated by spaces.\n",
    "Guaranteed Constraints:\n",
    "\n",
    "    All numbers are valid Int32, no need to validate them.\n",
    "    It will never be null or undefined.\n",
    "    There will always be at least one number in the input string.\n",
    "\n",
    "Returns: String\n",
    "\n",
    "Two numbers separated by a single space, and highest number must be first.\n"
   ]
  },
  {
   "cell_type": "code",
   "execution_count": 89,
   "id": "656e4cc9-f45b-4f3f-973b-c825e463f673",
   "metadata": {},
   "outputs": [
    {
     "name": "stdout",
     "output_type": "stream",
     "text": [
      "['1', '2', '3', '4', '5', '6', '-9', '7', '8', '5', '3', '6', '6', '4', '4', '10', '9', '6', '5', '4']\n",
      "9\n",
      "-9\n"
     ]
    },
    {
     "data": {
      "text/plain": [
       "'9 -9'"
      ]
     },
     "execution_count": 89,
     "metadata": {},
     "output_type": "execute_result"
    }
   ],
   "source": [
    "  \n",
    "\n",
    "\n",
    "a = \"1 2 3 4 5 6 -9 7 8 5 3 6 6 4 4 10 9 6 5 4\"\n",
    "def high_and_low(a):\n",
    "    a_split = a.split()\n",
    "    max_a_split = max(a_split)\n",
    "    min_a_split = min(a_split)\n",
    "    return max_a_split + \" \" + min_a_split\n",
    "\n",
    "\n",
    "print(a_split)\n",
    "print(max_a_split)\n",
    "print(min_a_split)\n",
    "high_and_low(a)\n"
   ]
  },
  {
   "cell_type": "code",
   "execution_count": 90,
   "id": "f9666b58-ac9a-4ff9-bf71-ebaa7b5d2db9",
   "metadata": {},
   "outputs": [
    {
     "ename": "TypeError",
     "evalue": "'list' object is not callable",
     "output_type": "error",
     "traceback": [
      "\u001b[0;31m---------------------------------------------------------------------------\u001b[0m",
      "\u001b[0;31mTypeError\u001b[0m                                 Traceback (most recent call last)",
      "Cell \u001b[0;32mIn[90], line 10\u001b[0m\n\u001b[1;32m      8\u001b[0m \u001b[38;5;66;03m# Example usage\u001b[39;00m\n\u001b[1;32m      9\u001b[0m numbers \u001b[38;5;241m=\u001b[39m \u001b[38;5;124m\"\u001b[39m\u001b[38;5;124m4 5 29 54 4 0 -214 542 -64 1 -3 6 -6\u001b[39m\u001b[38;5;124m\"\u001b[39m\n\u001b[0;32m---> 10\u001b[0m result \u001b[38;5;241m=\u001b[39m \u001b[43mhigh_and_low\u001b[49m\u001b[43m(\u001b[49m\u001b[43mnumbers\u001b[49m\u001b[43m)\u001b[49m\n\u001b[1;32m     11\u001b[0m \u001b[38;5;28mprint\u001b[39m(result)  \u001b[38;5;66;03m# Output: \"542 -214\"\u001b[39;00m\n",
      "Cell \u001b[0;32mIn[90], line 2\u001b[0m, in \u001b[0;36mhigh_and_low\u001b[0;34m(numbers)\u001b[0m\n\u001b[1;32m      1\u001b[0m \u001b[38;5;28;01mdef\u001b[39;00m \u001b[38;5;21mhigh_and_low\u001b[39m(numbers):\n\u001b[0;32m----> 2\u001b[0m     num_list \u001b[38;5;241m=\u001b[39m \u001b[38;5;28;43mlist\u001b[39;49m\u001b[43m(\u001b[49m\u001b[38;5;28;43mmap\u001b[39;49m\u001b[43m(\u001b[49m\u001b[38;5;28;43mint\u001b[39;49m\u001b[43m,\u001b[49m\u001b[43m \u001b[49m\u001b[43mnumbers\u001b[49m\u001b[38;5;241;43m.\u001b[39;49m\u001b[43msplit\u001b[49m\u001b[43m(\u001b[49m\u001b[43m)\u001b[49m\u001b[43m)\u001b[49m\u001b[43m)\u001b[49m  \u001b[38;5;66;03m# Split and convert to integers\u001b[39;00m\n\u001b[1;32m      3\u001b[0m     max_num \u001b[38;5;241m=\u001b[39m \u001b[38;5;28mstr\u001b[39m(\u001b[38;5;28mmax\u001b[39m(num_list))  \u001b[38;5;66;03m# Find maximum and convert back to string\u001b[39;00m\n\u001b[1;32m      4\u001b[0m     min_num \u001b[38;5;241m=\u001b[39m \u001b[38;5;28mstr\u001b[39m(\u001b[38;5;28mmin\u001b[39m(num_list))  \u001b[38;5;66;03m# Find minimum and convert back to string\u001b[39;00m\n",
      "\u001b[0;31mTypeError\u001b[0m: 'list' object is not callable"
     ]
    }
   ],
   "source": [
    "def high_and_low(numbers):\n",
    "    num_list = list(map(int, numbers.split()))  # Split and convert to integers\n",
    "    max_num = str(max(num_list))  # Find maximum and convert back to string\n",
    "    min_num = str(min(num_list))  # Find minimum and convert back to string\n",
    "\n",
    "    return max_num + \" \" + min_num  # Return as a space-separated string\n",
    "\n",
    "# Example usage\n",
    "numbers = \"4 5 29 54 4 0 -214 542 -64 1 -3 6 -6\"\n",
    "result = high_and_low(numbers)\n",
    "print(result)  # Output: \"542 -214\"\n",
    "\n"
   ]
  },
  {
   "cell_type": "code",
   "execution_count": 2,
   "id": "e87508c7-9876-4393-a9ea-6a2bcf9ac337",
   "metadata": {},
   "outputs": [
    {
     "data": {
      "text/plain": [
       "'542 -214'"
      ]
     },
     "execution_count": 2,
     "metadata": {},
     "output_type": "execute_result"
    }
   ],
   "source": [
    "numbers = \"4 5 29 54 4 0 -214 542 -64 1 -3 6 -6\"\n",
    "\n",
    "def high_and_low(numbers):\n",
    "    numbers_list = [int(n) for n in numbers.split()]    \n",
    "    lowest_number = str(min(numbers_list))\n",
    "    highest_number = str(max(numbers_list))    \n",
    "    return highest_number + \" \" + lowest_number\n",
    "\n",
    "high_and_low(numbers)"
   ]
  },
  {
   "cell_type": "code",
   "execution_count": 1,
   "id": "44170469-1580-4be6-ba61-dfc6b5b1812f",
   "metadata": {},
   "outputs": [
    {
     "name": "stdout",
     "output_type": "stream",
     "text": [
      "542 -214\n"
     ]
    }
   ],
   "source": [
    "numbers = \"4 5 29 54 4 0 -214 542 -64 1 -3 6 -6\"\n",
    "\n",
    "def high_and_low(numbers):\n",
    "    numbers_list = [int(n) for n in numbers.split()]    \n",
    "    lowest_number = str(min(numbers_list))\n",
    "    highest_number = str(max(numbers_list))    \n",
    "    return highest_number + \" \" + lowest_number\n",
    "\n",
    "result = high_and_low(numbers)\n",
    "print(result)  # Output: \"542 -214\""
   ]
  },
  {
   "cell_type": "code",
   "execution_count": null,
   "id": "ca101221-3c30-4504-a477-90126e237c82",
   "metadata": {},
   "outputs": [],
   "source": [
    "num_list = [int(str) for str in numbers.split()]    \n",
    "\n",
    "max_number = str(max(numbers_list))  \n",
    "\n",
    "min_num = str(min(numbers_list))\n",
    "  \n",
    "    return max_num + \"\" + min_num"
   ]
  },
  {
   "cell_type": "markdown",
   "id": "61b04d42-bc01-47dc-a4b0-b54a6cc402d9",
   "metadata": {},
   "source": [
    "Task\n",
    "\n",
    "Write a function that takes a string input,and returns the first character that is not repeated anywhere in the string. Characters in strings consist of printable characters.\n",
    "\n",
    "As an added challenge, upper- and lowercase letters are considered the same character, but the function should return the correct case for the initial letter. For example, the input 'sTreSS' should return 'T'.\n",
    "\n",
    "If a string contains all repeating characters, it should return the empty string (\"\").\n",
    "Documentation\n",
    "first_non_repeating_letter(s)\n",
    "\n",
    "Parameters\n",
    "\n",
    "    s: String - a string to be parsed\n",
    "Return Value\n",
    "\n",
    "    String - the first character that is not repeated anywhere in the string\n",
    "\n",
    "Examples\n",
    "\ts \tReturn Value\n",
    "Example #1 \t\"stress\" \t\"t\"\n",
    "Example #2 \t\"STreSS\" \t\"T\"\n",
    "Example #1 Explanation\n",
    "\n",
    "In the input \"stress\", the function should return \"t\", since the letter t only occurs once in the string, and occurs first in the string.\n",
    "Tip\n",
    "\n",
    "You could search for a method that counts the number of ocurrences of a character in a string.\n"
   ]
  },
  {
   "cell_type": "code",
   "execution_count": 8,
   "id": "78b341f8-e7b0-4d00-aff6-fdfc679c9797",
   "metadata": {},
   "outputs": [],
   "source": [
    "s = \"ireugoerjivjfdklj dfkgjfdlkj dfgdfgfd uu u dfg df df fd gdf  gd fg df g fd g fgfd re df s f dsrgf  d df g dd \"\n",
    "\n",
    "\n",
    "\n",
    "def first_non_repeating_letter(s):\n",
    "    s_lower = s.lower()\n",
    "    for item in s:\n",
    "        if s_lower.count(item.lower()) == 1:\n",
    "            return item\n",
    "\n"
   ]
  },
  {
   "cell_type": "code",
   "execution_count": 5,
   "id": "9dcc0436-e272-4290-8448-571749481a8b",
   "metadata": {},
   "outputs": [
    {
     "data": {
      "text/plain": [
       "'u'"
      ]
     },
     "execution_count": 5,
     "metadata": {},
     "output_type": "execute_result"
    }
   ],
   "source": [
    "first_non_repeating_letter(s)"
   ]
  },
  {
   "cell_type": "code",
   "execution_count": null,
   "id": "4f4e4789-45d4-4b42-9423-b68dbcbc270f",
   "metadata": {},
   "outputs": [],
   "source": []
  }
 ],
 "metadata": {
  "kernelspec": {
   "display_name": "Python 3 (ipykernel)",
   "language": "python",
   "name": "python3"
  },
  "language_info": {
   "codemirror_mode": {
    "name": "ipython",
    "version": 3
   },
   "file_extension": ".py",
   "mimetype": "text/x-python",
   "name": "python",
   "nbconvert_exporter": "python",
   "pygments_lexer": "ipython3",
   "version": "3.8.10"
  }
 },
 "nbformat": 4,
 "nbformat_minor": 5
}
