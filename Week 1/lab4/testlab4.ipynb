{
 "cells": [
  {
   "cell_type": "code",
   "execution_count": null,
   "id": "75ea374b-77c7-4ec2-a9f6-d142059c37f5",
   "metadata": {},
   "outputs": [],
   "source": [
    "# Initialize inventory using comprehension\n",
    "def initialize_inventory(products):\n",
    "    inventory = {product: int(input(f\"Enter the quantity of {product}s available: \")) for product in products}\n",
    "    return inventory\n",
    "\n",
    "# Get customer orders using comprehension\n",
    "def get_customer_orders(products):\n",
    "    num_orders = int(input(\"Enter the number of customer orders: \"))\n",
    "    customer_orders = [input(\"Enter the name of a product that a customer wants to order: \").lower() for _ in range(num_orders) if product in products]\n",
    "    return customer_orders\n",
    "\n",
    "# Calculate total price using comprehension\n",
    "def calculate_total_price(customer_orders, prices):\n",
    "    total_price = sum(float(input(f\"Enter the price of {product}: \")) for product in customer_orders if product in prices)\n",
    "    return total_price\n",
    "\n",
    "# Update inventory using comprehension\n",
    "def update_inventory(inventory, customer_orders):\n",
    "    [inventory.update({product: inventory[product] - 1}) for product in customer_orders if product in inventory]\n",
    "    inventory = {product: quantity for product, quantity in inventory.items() if quantity > 0}\n",
    "    return inventory\n",
    "\n",
    "# Main function\n",
    "def main():\n",
    "    products = [\"t-shirt\", \"mug\", \"hat\", \"book\", \"keychain\"]\n",
    "\n",
    "    # Initialize inventory\n",
    "    inventory = initialize_inventory(products)\n",
    "\n",
    "    # Get customer orders\n",
    "    customer_orders = get_customer_orders(products)\n",
    "\n",
    "    # Calculate total price\n",
    "    total_price = calculate_total_price(customer_orders, inventory)\n",
    "\n",
    "    # Update inventory\n",
    "    inventory = update_inventory(inventory, customer_orders)\n",
    "\n",
    "    # Print updated inventory\n",
    "    print(\"\\nUpdated Inventory:\")\n",
    "    for product, quantity in inventory.items():\n",
    "        print(f\"{product}: {quantity}\")\n",
    "\n",
    "    # Print total price\n",
    "    print(f\"Total Price: {total_price:.2f}\")\n",
    "\n",
    "if __name__ == \"__main__\":\n",
    "    main()\n"
   ]
  },
  {
   "cell_type": "code",
   "execution_count": null,
   "id": "a5482a86-43fc-43ae-8f7c-cb3743e73da1",
   "metadata": {},
   "outputs": [],
   "source": [
    "\n",
    "\n"
   ]
  },
  {
   "cell_type": "code",
   "execution_count": null,
   "id": "d7240731-cc62-4049-82af-146a03694db2",
   "metadata": {},
   "outputs": [],
   "source": [
    "# old \n",
    "def get_customer_orders(products):\n",
    "    num_orders = int(input(\"Enter the number of customer orders: \"))\n",
    "    customer_orders = [input(\"Enter the name of a product that a customer wants to order: \").lower() for _ in range(num_orders) if product in products]\n",
    "    return customer_orders"
   ]
  }
 ],
 "metadata": {
  "kernelspec": {
   "display_name": "Python 3 (ipykernel)",
   "language": "python",
   "name": "python3"
  },
  "language_info": {
   "codemirror_mode": {
    "name": "ipython",
    "version": 3
   },
   "file_extension": ".py",
   "mimetype": "text/x-python",
   "name": "python",
   "nbconvert_exporter": "python",
   "pygments_lexer": "ipython3",
   "version": "3.8.10"
  }
 },
 "nbformat": 4,
 "nbformat_minor": 5
}
