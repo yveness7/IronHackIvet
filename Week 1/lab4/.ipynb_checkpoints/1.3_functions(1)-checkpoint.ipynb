{
 "cells": [
  {
   "cell_type": "markdown",
   "metadata": {
    "toc": true
   },
   "source": [
    "<h1>Table of Contents<span class=\"tocSkip\"></span></h1>\n",
    "<div class=\"toc\"><ul class=\"toc-item\"><li><span><a href=\"#Functions\" data-toc-modified-id=\"Functions-1\"><span class=\"toc-item-num\">1&nbsp;&nbsp;</span>Functions</a></span></li><li><span><a href=\"#Built-in-Functions\" data-toc-modified-id=\"Built-in-Functions-2\"><span class=\"toc-item-num\">2&nbsp;&nbsp;</span>Built-in Functions</a></span></li><li><span><a href=\"#User-Defined-Functions\" data-toc-modified-id=\"User-Defined-Functions-3\"><span class=\"toc-item-num\">3&nbsp;&nbsp;</span>User-Defined Functions</a></span><ul class=\"toc-item\"><li><span><a href=\"#Function-definition\" data-toc-modified-id=\"Function-definition-3.1\"><span class=\"toc-item-num\">3.1&nbsp;&nbsp;</span>Function definition</a></span></li><li><span><a href=\"#Function-call\" data-toc-modified-id=\"Function-call-3.2\"><span class=\"toc-item-num\">3.2&nbsp;&nbsp;</span>Function call</a></span></li><li><span><a href=\"#Examples\" data-toc-modified-id=\"Examples-3.3\"><span class=\"toc-item-num\">3.3&nbsp;&nbsp;</span>Examples</a></span></li><li><span><a href=\"#Parameters\" data-toc-modified-id=\"Parameters-3.4\"><span class=\"toc-item-num\">3.4&nbsp;&nbsp;</span>Parameters</a></span><ul class=\"toc-item\"><li><span><a href=\"#Calling-a-function-with-the-key=-value-syntax\" data-toc-modified-id=\"Calling-a-function-with-the-key=-value-syntax-3.4.1\"><span class=\"toc-item-num\">3.4.1&nbsp;&nbsp;</span>Calling a function with the key= value syntax</a></span></li><li><span><a href=\"#Returning-many-values\" data-toc-modified-id=\"Returning-many-values-3.4.2\"><span class=\"toc-item-num\">3.4.2&nbsp;&nbsp;</span>Returning many values</a></span></li><li><span><a href=\"#Setting-a-Default-Parameter-Value\" data-toc-modified-id=\"Setting-a-Default-Parameter-Value-3.4.3\"><span class=\"toc-item-num\">3.4.3&nbsp;&nbsp;</span>Setting a Default Parameter Value</a></span></li></ul></li><li><span><a href=\"#Scope\" data-toc-modified-id=\"Scope-3.5\"><span class=\"toc-item-num\">3.5&nbsp;&nbsp;</span>Scope</a></span><ul class=\"toc-item\"><li><span><a href=\"#Local-Scope\" data-toc-modified-id=\"Local-Scope-3.5.1\"><span class=\"toc-item-num\">3.5.1&nbsp;&nbsp;</span>Local Scope</a></span></li><li><span><a href=\"#Global-Scope\" data-toc-modified-id=\"Global-Scope-3.5.2\"><span class=\"toc-item-num\">3.5.2&nbsp;&nbsp;</span>Global Scope</a></span></li></ul></li><li><span><a href=\"#Concatenating-Methods\" data-toc-modified-id=\"Concatenating-Methods-3.6\"><span class=\"toc-item-num\">3.6&nbsp;&nbsp;</span>Concatenating Methods</a></span></li><li><span><a href=\"#Functions-with-no-params-and-no-return\" data-toc-modified-id=\"Functions-with-no-params-and-no-return-3.7\"><span class=\"toc-item-num\">3.7&nbsp;&nbsp;</span>Functions with no params and no return</a></span></li><li><span><a href=\"#Print-vs-Return\" data-toc-modified-id=\"Print-vs-Return-3.8\"><span class=\"toc-item-num\">3.8&nbsp;&nbsp;</span>Print vs Return</a></span></li><li><span><a href=\"#💡-Check-for-understanding\" data-toc-modified-id=\"💡-Check-for-understanding-3.9\"><span class=\"toc-item-num\">3.9&nbsp;&nbsp;</span>💡 Check for understanding</a></span></li></ul></li><li><span><a href=\"#Summary\" data-toc-modified-id=\"Summary-4\"><span class=\"toc-item-num\">4&nbsp;&nbsp;</span>Summary</a></span></li><li><span><a href=\"#Extra:-Args-and-Kwargs\" data-toc-modified-id=\"Extra:-Args-and-Kwargs-5\"><span class=\"toc-item-num\">5&nbsp;&nbsp;</span>Extra: Args and Kwargs</a></span></li></ul></div>"
   ]
  },
  {
   "cell_type": "markdown",
   "metadata": {},
   "source": [
    "# Functions"
   ]
  },
  {
   "cell_type": "markdown",
   "metadata": {},
   "source": [
    "![elgif](https://media.giphy.com/media/CuMiNoTRz2bYc/giphy.gif)"
   ]
  },
  {
   "cell_type": "markdown",
   "metadata": {},
   "source": [
    "- Functions are reusable blocks of code that perform specific tasks.\n",
    "- They allow you to break down complex problems into smaller, manageable parts.\n",
    "- Functions take inputs (arguments) and produce outputs (return values)."
   ]
  },
  {
   "cell_type": "markdown",
   "metadata": {},
   "source": [
    "In Python, there are several types of functions, each serving different purposes and use cases. The main types of functions in Python are:\n",
    "\n",
    "1. Built-in Functions:\n",
    "   - These are functions that are pre-defined in Python and are available for use without the need for any import or additional setup.\n",
    "   - Examples include `print()`, `len()`, `max()`, `min()`, `sum()`, `range()`, etc.\n",
    "\n",
    "2. User-Defined Functions:\n",
    "   - These are functions that you define yourself using the `def` keyword, allowing you to create custom functions to perform specific tasks.\n",
    "   - User-defined functions are essential for breaking down complex problems into smaller, more manageable pieces of code.\n",
    "\n",
    "3. Anonymous Functions (Lambda Functions):\n",
    "   - These are small, single-line functions created using the `lambda` keyword.\n",
    "   - Lambda functions are used when a quick and short function is needed for a specific task without the formal `def` function definition.\n",
    "   - They are often used as arguments in higher-order functions like `map()`, `filter()`, and `sorted()`.\n",
    "\n",
    "4. Higher-Order Functions:\n",
    "   - These are functions that can take other functions as arguments or return functions as results.\n",
    "   - Examples include `map()`, `filter()`, `sorted()`, `reduce()`, etc.\n",
    "   - Higher-order functions provide a powerful way to work with functions and collections in Python.\n",
    "\n",
    "5. Recursive Functions:\n",
    "   - These are functions that call themselves to solve a problem by breaking it down into smaller instances of the same problem.\n",
    "   - Recursive functions are useful for solving problems that exhibit a recursive structure.\n",
    "\n",
    "6. Generator Functions:\n",
    "   - These are functions that use the `yield` keyword instead of `return` to return a sequence of values (an iterable).\n",
    "   - Generator functions can be used to create iterators and produce values one at a time, conserving memory and enabling lazy evaluation.\n",
    "\n",
    "In this lesson, we'll look into:\n",
    "- 1. Built-in Functions\n",
    "- 2. User-Defined Functions\n",
    "\n",
    "In another lesson (`Lambda, Map, Reduce and Filter`), we'll look into:\n",
    "- 3. Anonymous Functions (Lambda Functions)\n",
    "- 4. Higher-Order Functions\n",
    "\n",
    "In an extra lesson, we'll look into:\n",
    "- 6. Generator Functions"
   ]
  },
  {
   "cell_type": "markdown",
   "metadata": {},
   "source": [
    "# Built-in Functions\n",
    "\n",
    "Python provides a set of built-in functions (pre-written code) that can be used directly. \n",
    "Some commonly used built-in functions are print(), len(), input(), type(), range(), max(), min(), and sum().\n",
    "These functions are already available in Python and can be used in any program.\n",
    "\n",
    "Using Built-in Functions:\n",
    "\n",
    "To use a built-in function, you simply write the function name followed by parentheses, optionally passing any required arguments.\n",
    "- Example 1: print(\"Hello, world!\") - This prints the specified text to the console.\n",
    "- Example 2: length = len(\"Hello\") - This returns the length of the given string and assigns it to the variable length."
   ]
  },
  {
   "cell_type": "code",
   "execution_count": null,
   "metadata": {},
   "outputs": [],
   "source": [
    "len([1,2,3]) "
   ]
  },
  {
   "cell_type": "markdown",
   "metadata": {},
   "source": [
    "# User-Defined Functions"
   ]
  },
  {
   "cell_type": "markdown",
   "metadata": {},
   "source": [
    "## Function definition"
   ]
  },
  {
   "cell_type": "markdown",
   "metadata": {},
   "source": [
    "A function in Python has the following basic structure:\n",
    "\n",
    "```python\n",
    "def function_name(parameters):\n",
    "    # Function body\n",
    "    # Code statements\n",
    "    # Return statement (optional)\n",
    "\n",
    "```"
   ]
  },
  {
   "cell_type": "markdown",
   "metadata": {},
   "source": [
    "- `def` is used to define a function.\n",
    "- `function_name` is the name given to the function.\n",
    "- `parameters` (optional) are inputs that the function can accept.\n",
    "- The code block within a function starts with a colon (:) and is mandatory.\n",
    "- The function body contains the code statements that define its functionality.\n",
    "- A `return` statement (optional) specifies the value the function should output."
   ]
  },
  {
   "cell_type": "markdown",
   "metadata": {},
   "source": [
    "![](https://github.com/data-bootcamp-v4/lessons/blob/main/img/functions.png?raw=true)"
   ]
  },
  {
   "cell_type": "markdown",
   "metadata": {},
   "source": [
    "## Function call"
   ]
  },
  {
   "cell_type": "markdown",
   "metadata": {},
   "source": [
    "To use a function, we need to call it by its name and pass the required arguments (if any)."
   ]
  },
  {
   "cell_type": "markdown",
   "metadata": {},
   "source": [
    "```python\n",
    "result = function_name(arguments)\n",
    "```"
   ]
  },
  {
   "cell_type": "markdown",
   "metadata": {},
   "source": [
    "- `result` is a variable that stores the output value of the function (if it has a return statement).\n",
    "- `arguments` (optional) are values passed to the function's parameters (if any)."
   ]
  },
  {
   "cell_type": "markdown",
   "metadata": {},
   "source": [
    "## Examples"
   ]
  },
  {
   "cell_type": "markdown",
   "metadata": {},
   "source": [
    "Let's create a simple function that says hello. It doesn't take any parameters (between the parenthesis ()) and it doesn't return anything. It just prints a string."
   ]
  },
  {
   "cell_type": "code",
   "execution_count": null,
   "metadata": {},
   "outputs": [],
   "source": [
    "def say_hello():\n",
    "    print(\"Hello world\")"
   ]
  },
  {
   "cell_type": "code",
   "execution_count": null,
   "metadata": {},
   "outputs": [],
   "source": [
    "say_hello()"
   ]
  },
  {
   "cell_type": "markdown",
   "metadata": {},
   "source": [
    "Let's create a simple function that calculates the square of a number:"
   ]
  },
  {
   "cell_type": "markdown",
   "metadata": {},
   "source": [
    "- We define a function called square that takes a single parameter, number.\n",
    "- The function calculates the square of the input number and stores the result in the result variable.\n",
    "- Finally, the function returns the result using the return statement."
   ]
  },
  {
   "cell_type": "code",
   "execution_count": null,
   "metadata": {},
   "outputs": [],
   "source": [
    "def square(number):\n",
    "    \"\"\"Calculate the square of a number.\"\"\"\n",
    "    result = number ** 2\n",
    "    return result"
   ]
  },
  {
   "cell_type": "markdown",
   "metadata": {},
   "source": [
    "To use the square function, we can call it and pass an argument:"
   ]
  },
  {
   "cell_type": "code",
   "execution_count": null,
   "metadata": {},
   "outputs": [],
   "source": [
    "x = 5\n",
    "squared_x = square(x)\n",
    "print(squared_x)  # Output: 25"
   ]
  },
  {
   "cell_type": "markdown",
   "metadata": {},
   "source": [
    "- We assign the value 5 to the variable x.\n",
    "- We call the square function, passing x as an argument.\n",
    "- The function calculates the square of x (which is 25) and returns the result."
   ]
  },
  {
   "cell_type": "markdown",
   "metadata": {},
   "source": [
    "Let's look at another example. Let's define a function that adds two numbers."
   ]
  },
  {
   "cell_type": "code",
   "execution_count": null,
   "metadata": {},
   "outputs": [],
   "source": [
    "def add_numbers(num1, num2):\n",
    "    sum = num1 + num2\n",
    "    return sum"
   ]
  },
  {
   "cell_type": "markdown",
   "metadata": {},
   "source": [
    "This function takes two numbers as input (num1 and num2), adds them together, and returns the sum. You can call this function with any two numbers and it will return their sum."
   ]
  },
  {
   "cell_type": "code",
   "execution_count": null,
   "metadata": {},
   "outputs": [],
   "source": [
    "num1 = 10\n",
    "num2 = 20\n",
    "add_numbers(num1, num2)"
   ]
  },
  {
   "cell_type": "markdown",
   "metadata": {},
   "source": [
    "## Parameters\n",
    "\n",
    "**Creating a function**\n",
    "- Default Parameter Value: we can define a default value for an argument.\n",
    "\n",
    "**Calling a function**\n",
    "- By default, a function must be called with the correct number of arguments. Meaning that if your function expects 2 arguments, you have to call the function with 2 arguments, not more, and not less.\n",
    "- You can pass arguments by just passing values. In this case, the order of the parameters matter.\n",
    "Instead of just passing values, you can also send arguments with the key = value syntax. This way the order of the arguments does not matter.\n",
    "- Default Parameter Value: If we call the function without a defined argument, it uses the default value. We can only do this if there is a default value declared when creating the function.\n",
    "\n",
    "```python\n",
    "def function_name(arg1, arg2=3):\n",
    "    \"\"\"\n",
    "    docstring\n",
    "    \"\"\"\n",
    "    ...\n",
    "    ...\n",
    "    return value1, value2\n",
    "```\n"
   ]
  },
  {
   "cell_type": "markdown",
   "metadata": {},
   "source": [
    "### Calling a function with the key= value syntax"
   ]
  },
  {
   "cell_type": "code",
   "execution_count": null,
   "metadata": {},
   "outputs": [],
   "source": [
    "def is_over_18(age, year_of_birth):\n",
    "    if age>=18 and 1900<=year_of_birth<=2004:\n",
    "        return True\n",
    "    else:\n",
    "        return False"
   ]
  },
  {
   "cell_type": "code",
   "execution_count": null,
   "metadata": {},
   "outputs": [],
   "source": [
    "my_age=19\n",
    "year = 2000\n",
    "is_over_18(my_age,year) #expects 2 arguments, I need to give 2 exactly"
   ]
  },
  {
   "cell_type": "code",
   "execution_count": null,
   "metadata": {},
   "outputs": [],
   "source": [
    "is_over_18(year,my_age) #order matters! this is not the same as before!"
   ]
  },
  {
   "cell_type": "code",
   "execution_count": null,
   "metadata": {},
   "outputs": [],
   "source": [
    "# if i want to change the order, i need to specify the names of the parameters\n",
    "is_over_18(year_of_birth=year, age = my_age)"
   ]
  },
  {
   "cell_type": "code",
   "execution_count": null,
   "metadata": {},
   "outputs": [],
   "source": [
    "#equivalent - we dont need to pass variables, we can also pass values\n",
    "is_over_18(year_of_birth=2002, age = 20)"
   ]
  },
  {
   "cell_type": "code",
   "execution_count": null,
   "metadata": {},
   "outputs": [],
   "source": [
    "#if I specify a name of a parameter, I need to specify all the following ones\n",
    "is_over_18(my_age, year_of_birth = year) #this works"
   ]
  },
  {
   "cell_type": "code",
   "execution_count": null,
   "metadata": {},
   "outputs": [],
   "source": [
    "is_over_18(year_of_birth = year, age) #this doesnt work"
   ]
  },
  {
   "cell_type": "markdown",
   "metadata": {},
   "source": [
    "### Returning many values"
   ]
  },
  {
   "cell_type": "code",
   "execution_count": null,
   "metadata": {},
   "outputs": [],
   "source": [
    "def returning(a): #expect an int as a parameter\n",
    "    my_list = list(range(a))\n",
    "    #I return the list of range and a\n",
    "    return my_list,a"
   ]
  },
  {
   "cell_type": "code",
   "execution_count": null,
   "metadata": {},
   "outputs": [],
   "source": [
    "type(returning(20))"
   ]
  },
  {
   "cell_type": "code",
   "execution_count": null,
   "metadata": {},
   "outputs": [],
   "source": [
    "p = returning(20)\n",
    "p #if i return +2 things in my function, and assign it to\n",
    "#one variable, that variable will be a tuple\n",
    "# containing all the things I return"
   ]
  },
  {
   "cell_type": "code",
   "execution_count": null,
   "metadata": {},
   "outputs": [],
   "source": [
    "x, y = returning(20)\n",
    "print(x, \" this is x\")\n",
    "print(y, \" this is y\")"
   ]
  },
  {
   "cell_type": "markdown",
   "metadata": {},
   "source": [
    "### Setting a Default Parameter Value"
   ]
  },
  {
   "cell_type": "markdown",
   "metadata": {},
   "source": [
    "Setting a default parameter value in a function allows you to define a default value that will be used if an argument is not provided when calling the function. This provides flexibility and allows the function to work with different inputs without explicitly specifying all the arguments every time.\n",
    "\n",
    "Here's an example to illustrate setting a default parameter value:"
   ]
  },
  {
   "cell_type": "code",
   "execution_count": null,
   "metadata": {},
   "outputs": [],
   "source": [
    "def is_over_18(age, year_of_birth=2020):\n",
    "    if year_of_birth<2004:\n",
    "        return True\n",
    "    else:\n",
    "        return False"
   ]
  },
  {
   "cell_type": "code",
   "execution_count": null,
   "metadata": {},
   "outputs": [],
   "source": [
    "is_over_18(19, 2015) #second one is optional, has a default value\n",
    "# that can be changed"
   ]
  },
  {
   "cell_type": "code",
   "execution_count": null,
   "metadata": {},
   "outputs": [],
   "source": [
    "is_over_18(19) #since function has only one mandatory parameter\n",
    "# this works and takes default value for year_of_birth"
   ]
  },
  {
   "cell_type": "markdown",
   "metadata": {},
   "source": [
    "If you have parameters with default values and parameters without default values, the ones with **default values should come after the ones without default values**.\n"
   ]
  },
  {
   "cell_type": "code",
   "execution_count": null,
   "metadata": {},
   "outputs": [],
   "source": [
    "def greet(name, greeting=\"Hello\", age):\n",
    "    print(greeting, name, \"Age:\", age)\n",
    "\n",
    "# This will result in a SyntaxError because a parameter without a default value follows a parameter with a default value\n"
   ]
  },
  {
   "cell_type": "markdown",
   "metadata": {},
   "source": [
    "## Scope"
   ]
  },
  {
   "cell_type": "markdown",
   "metadata": {},
   "source": [
    "In Python, the concept of scope refers to the visibility and accessibility of variables within different parts of your code. Understanding function scope is crucial for writing modular and organized programs. Let's explore the different aspects of function scope through examples."
   ]
  },
  {
   "cell_type": "markdown",
   "metadata": {},
   "source": [
    "### Local Scope\n",
    "\n",
    "Variables defined inside a function have local scope.\n",
    "\n",
    "They are accessible only within the function they are defined in.\n",
    "\n",
    "Example:"
   ]
  },
  {
   "cell_type": "code",
   "execution_count": null,
   "metadata": {},
   "outputs": [],
   "source": [
    "def my_function():\n",
    "    local_var = 20  # Local variable\n",
    "    print(local_var)  # Accessing local variable inside function\n",
    "\n",
    "my_function()  # Output: 20\n",
    "print(local_var)  # Error: NameError: name 'local_var' is not defined\n"
   ]
  },
  {
   "cell_type": "markdown",
   "metadata": {},
   "source": [
    "### Global Scope\n",
    "\n",
    "Variables defined outside of any function have global scope.\n",
    "\n",
    "They can be accessed and modified from anywhere in the code.\n",
    "\n",
    "Example:"
   ]
  },
  {
   "cell_type": "code",
   "execution_count": null,
   "metadata": {},
   "outputs": [],
   "source": [
    "global_var = 10  # Global variable\n",
    "\n",
    "def my_function():\n",
    "    print(global_var)  # Accessing global variable inside function\n",
    "\n",
    "my_function()  # Output: 10"
   ]
  },
  {
   "cell_type": "markdown",
   "metadata": {},
   "source": [
    "⚠ **Important**: Even though the code above works, it shouldn't be done like that. Using **global variables inside functions is considered bad programming practice**."
   ]
  },
  {
   "cell_type": "markdown",
   "metadata": {},
   "source": [
    "**To avoid using global variables inside the function, you can pass the variable as a parameter to the function**. Here's how you can modify the code above to achieve this:"
   ]
  },
  {
   "cell_type": "code",
   "execution_count": null,
   "metadata": {},
   "outputs": [],
   "source": [
    "def my_function(var):\n",
    "    print(var)  # Accessing parameter inside function\n",
    "\n",
    "global_var = 10  # Global variable\n",
    "my_function(global_var)  # Pass the global variable as an argument to the function"
   ]
  },
  {
   "cell_type": "markdown",
   "metadata": {},
   "source": [
    "In this modified code, the my_function() function accepts a parameter var. When calling the function my_function(global_var), we pass the value of the global variable global_var as an argument. Inside the function, the value is accessed through the var parameter. This way, we avoid using a global variable directly inside the function."
   ]
  },
  {
   "cell_type": "markdown",
   "metadata": {},
   "source": [
    "## Concatenating Methods"
   ]
  },
  {
   "cell_type": "markdown",
   "metadata": {},
   "source": [
    "Concatenating methods in Python refers to chaining multiple method calls together, where the output or result of one method is passed as input to another method. This allows for a more concise and expressive way of performing multiple operations on an object or data.\n",
    "\n",
    "Here's an example to illustrate concatenating methods:"
   ]
  },
  {
   "cell_type": "code",
   "execution_count": null,
   "metadata": {},
   "outputs": [],
   "source": [
    "text = \"Hello, World!\"\n",
    "\n",
    "result = text.upper().replace(\"WORLD\", \"Python\").strip(\"!\")\n",
    "print(result)"
   ]
  },
  {
   "cell_type": "code",
   "execution_count": 5,
   "metadata": {},
   "outputs": [
    {
     "name": "stdout",
     "output_type": "stream",
     "text": [
      "['SHACHAM', 'SAUL', 'SEB']\n"
     ]
    }
   ],
   "source": [
    "name_list = [\"Shacham\",\"Saul\",\"Juli\",\"Seb\",\"Dominik\"]\n",
    "s_names = []\n",
    "\n",
    "for name in name_list:\n",
    "    if name[0] == \"S\":\n",
    "        upper_name = name.upper()\n",
    "        s_names.append(upper_name)\n",
    "\n",
    "print(s_names)"
   ]
  },
  {
   "cell_type": "code",
   "execution_count": 12,
   "metadata": {},
   "outputs": [
    {
     "ename": "AttributeError",
     "evalue": "'NoneType' object has no attribute 'upper'",
     "output_type": "error",
     "traceback": [
      "\u001b[0;31m---------------------------------------------------------------------------\u001b[0m",
      "\u001b[0;31mAttributeError\u001b[0m                            Traceback (most recent call last)",
      "Cell \u001b[0;32mIn[12], line 1\u001b[0m\n\u001b[0;32m----> 1\u001b[0m \u001b[43mfind_s\u001b[49m\u001b[43m(\u001b[49m\u001b[43mname_list\u001b[49m\u001b[43m)\u001b[49m\n",
      "Cell \u001b[0;32mIn[10], line 8\u001b[0m, in \u001b[0;36mfind_s\u001b[0;34m(name)\u001b[0m\n\u001b[1;32m      6\u001b[0m \u001b[38;5;28;01mfor\u001b[39;00m name \u001b[38;5;129;01min\u001b[39;00m name_list:\n\u001b[1;32m      7\u001b[0m     \u001b[38;5;28;01mif\u001b[39;00m name[\u001b[38;5;241m0\u001b[39m] \u001b[38;5;241m==\u001b[39m check:\n\u001b[0;32m----> 8\u001b[0m         \u001b[43ms_names\u001b[49m\u001b[38;5;241;43m.\u001b[39;49m\u001b[43mappend\u001b[49m\u001b[43m(\u001b[49m\u001b[43mname\u001b[49m\u001b[43m)\u001b[49m\u001b[38;5;241;43m.\u001b[39;49m\u001b[43mupper\u001b[49m()\n\u001b[1;32m     10\u001b[0m \u001b[38;5;28mprint\u001b[39m(s_names)\n",
      "\u001b[0;31mAttributeError\u001b[0m: 'NoneType' object has no attribute 'upper'"
     ]
    }
   ],
   "source": [
    "def upper_s(name_list):\n",
    "    s_names: \n",
    "\n",
    ".startwith(\"S\") !!!!!"
   ]
  },
  {
   "cell_type": "markdown",
   "metadata": {},
   "source": [
    "In this example, we start with the string `text` which contains the phrase \"Hello, World!\". We then chain multiple methods together to perform operations on this string:\n",
    "\n",
    "1. The `upper()` method is called on `text` to convert all characters to uppercase.\n",
    "2. The `replace()` method is called on the result of `upper()` to replace the substring \"WORLD\" with \"Python\".\n",
    "3. The `strip()` method is called on the result of `replace()` to remove the exclamation mark at the end of the string.\n",
    "\n",
    "By chaining these methods together, we can perform multiple operations on the `text` string in a single line of code.\n",
    "\n",
    "It's important to note that the order of method calls matters. Each method is applied to the result of the previous method call. Therefore, understanding the behavior and return values of each method is crucial to ensure the desired operations are performed correctly.\n"
   ]
  },
  {
   "cell_type": "markdown",
   "metadata": {},
   "source": [
    "## Functions with no params and no return"
   ]
  },
  {
   "cell_type": "markdown",
   "metadata": {},
   "source": [
    "Functions in Python can be defined without parameters and without a return statement. Let's break down their characteristics:\n",
    "\n",
    "Functions with no parameters:\n",
    "- These functions are defined without any input parameters or arguments.\n",
    "- They perform a specific set of tasks or operations using the code statements within their body.\n",
    "- They do not require any external information to execute their functionality.\n",
    "- They can still access and use global variables or variables defined outside the function.\n",
    "\n",
    "Here's an example of a function with no parameters:"
   ]
  },
  {
   "cell_type": "code",
   "execution_count": null,
   "metadata": {},
   "outputs": [],
   "source": [
    "def greet():\n",
    "    print(\"Hello, welcome!\")\n",
    "\n",
    "# Calling the function\n",
    "greet()"
   ]
  },
  {
   "cell_type": "markdown",
   "metadata": {},
   "source": [
    "If a function doesn't have a return, then it returns:\n",
    "```python\n",
    "None\n",
    "```"
   ]
  },
  {
   "cell_type": "code",
   "execution_count": null,
   "metadata": {},
   "outputs": [],
   "source": [
    "x = greet()\n",
    "print(x)"
   ]
  },
  {
   "cell_type": "markdown",
   "metadata": {},
   "source": [
    "Functions with no return statement:\n",
    "- These functions perform certain operations or tasks, but they do not explicitly return any value using the `return` statement.\n",
    "- They might modify global variables or perform other actions, but they don't provide a specific value as an output.\n",
    "- When called, they can execute their code and affect the program state but don't produce a value that can be assigned to a variable or used in an expression.\n",
    "\n",
    "Here's an example of a function without a return statement:"
   ]
  },
  {
   "cell_type": "code",
   "execution_count": null,
   "metadata": {},
   "outputs": [],
   "source": [
    "def display_message():\n",
    "    print(\"This is a message.\")\n",
    "\n",
    "# Calling the function\n",
    "display_message()"
   ]
  },
  {
   "cell_type": "markdown",
   "metadata": {},
   "source": [
    "In this example, the `display_message()` function doesn't have a return statement. It simply prints the message \"This is a message.\" when called."
   ]
  },
  {
   "cell_type": "markdown",
   "metadata": {},
   "source": [
    "## Print vs Return"
   ]
  },
  {
   "cell_type": "markdown",
   "metadata": {},
   "source": [
    "- Printing is used to display information on the console, but it doesn't store the value for further use.\n",
    "- Returning is used to provide a value from a function that can be stored, modified, or used in other parts of the program.\n",
    "\n",
    "When deciding whether to print or return a value from a function:\n",
    "- If you need to store or modify the value later on, use the `return` statement.\n",
    "- If you only need to display the value without further manipulation, printing it is sufficient."
   ]
  },
  {
   "cell_type": "markdown",
   "metadata": {
    "lang": "en"
   },
   "source": [
    "## 💡 Check for understanding\n"
   ]
  },
  {
   "cell_type": "markdown",
   "metadata": {},
   "source": [
    "Implement a function count_words(sentence) that counts the number of words in a given sentence. The function should return the count of words.\n",
    "\n",
    "Prompt the user to enter a sentence, call the count_words() function, and display the word count."
   ]
  },
  {
   "cell_type": "code",
   "execution_count": null,
   "metadata": {},
   "outputs": [],
   "source": [
    "# Your code goes here"
   ]
  },
  {
   "cell_type": "markdown",
   "metadata": {},
   "source": [
    "# Summary"
   ]
  },
  {
   "cell_type": "markdown",
   "metadata": {},
   "source": [
    "```\n",
    "- Functions are named blocks of code that perform specific tasks or operations.\n",
    "\n",
    "DEFINING A FUNCTION:\n",
    "def function_name(parameters):\n",
    "    # Function body\n",
    "    # Code statements\n",
    "\n",
    "CALLING A FUNCTION:\n",
    "function_name(arguments)\n",
    "\n",
    "PARAMETERS:\n",
    "- Parameters are placeholders for values that can be passed into a function.\n",
    "- Functions can have zero or more parameters.\n",
    "- Parameters can have default values.\n",
    "\n",
    "RETURNING VALUES:\n",
    "- Functions can return a value using the 'return' statement.\n",
    "- 'return' exits the function and provides the specified value as the result.\n",
    "- If no 'return' statement is provided, the function returns 'None' by default.\n",
    "\n",
    "LOCAL VARIABLES:\n",
    "- Local variables are defined within the function and only accessible within its scope.\n",
    "\n",
    "ARGUMENTS:\n",
    "- Arguments are the actual values passed to a function when it is called.\n",
    "\n",
    "REUSABILITY:\n",
    "- Functions can be reused multiple times throughout a program.\n",
    "- They enhance code organization, readability, and maintainability.\n",
    "\n",
    "SIDE EFFECTS:\n",
    "- Functions can have side effects, such as modifying global variables.\n",
    "\n",
    "SAMPLE FUNCTION DEFINITION:\n",
    "```\n",
    "```python\n",
    "def greet(name):\n",
    "    print(\"Hello, \" + name + \"!\")\n",
    "```\n",
    "```python\n",
    "SAMPLE FUNCTION CALL:\n",
    "\n",
    "greet(\"Alice\")  # Output: Hello, Alice!\n",
    "\n",
    "SAMPLE FUNCTION WITH RETURN:\n",
    "\n",
    "def add(a, b):\n",
    "    return a + b\n",
    "\n",
    "result = add(3, 4)  # Output: 7\n",
    "```\n"
   ]
  },
  {
   "cell_type": "markdown",
   "metadata": {},
   "source": [
    "# Extra: Args and Kwargs"
   ]
  },
  {
   "cell_type": "markdown",
   "metadata": {},
   "source": [
    "In Python, `*args` and `**kwargs` are special syntaxes that allow functions to accept a variable number of arguments.\n",
    "\n",
    "1. `*args` (Arbitrary Arguments):\n",
    "   - The `*args` syntax allows a function to accept any number of positional arguments.\n",
    "   - It is represented by an asterisk (`*`) followed by a parameter name (`args` is a commonly used convention, but the name can be anything).\n",
    "   - Within the function, `*args` becomes a tuple that holds all the positional arguments passed to the function."
   ]
  },
  {
   "cell_type": "code",
   "execution_count": null,
   "metadata": {},
   "outputs": [],
   "source": [
    "\n",
    "def add(*args):\n",
    "    result = 0\n",
    "    for num in args:\n",
    "        result += num\n",
    "    return result\n",
    "\n",
    "print(add(1, 2, 3))  # Output: 6\n",
    "print(add(4, 5, 6, 7))  # Output: 22"
   ]
  },
  {
   "cell_type": "markdown",
   "metadata": {},
   "source": [
    "2. `**kwargs` (Keyword Arguments):\n",
    "   - The `**kwargs` syntax allows a function to accept any number of keyword arguments.\n",
    "   - It is represented by a double asterisk (`**`) followed by a parameter name (`kwargs` is a commonly used convention, but the name can be anything).\n",
    "   - Within the function, `**kwargs` becomes a dictionary that holds all the keyword arguments passed to the function."
   ]
  },
  {
   "cell_type": "code",
   "execution_count": null,
   "metadata": {},
   "outputs": [],
   "source": [
    "def greet(**kwargs):\n",
    "    for key, value in kwargs.items():\n",
    "        print(f\"{key}: {value}\")\n",
    "\n",
    "greet(name=\"Alice\", age=25)  # Output: name: Alice, age: 25\n",
    "greet(city=\"New York\", country=\"USA\", language=\"English\")  # Output: city: New York, country: USA, language: English"
   ]
  },
  {
   "cell_type": "markdown",
   "metadata": {},
   "source": [
    "3. Combining `*args` and `**kwargs`:\n",
    "   - You can use both `*args` and `**kwargs` in the same function definition to accept a combination of positional and keyword arguments.\n",
    "   - The `*args` will collect positional arguments into a tuple, and `**kwargs` will collect keyword arguments into a dictionary."
   ]
  },
  {
   "cell_type": "code",
   "execution_count": null,
   "metadata": {},
   "outputs": [],
   "source": [
    "def example(*args, **kwargs):\n",
    "    print(\"Positional arguments:\")\n",
    "    for arg in args:\n",
    "        print(arg)\n",
    "    print(\"Keyword arguments:\")\n",
    "    for key, value in kwargs.items():\n",
    "        print(f\"{key}: {value}\")\n",
    "\n",
    "example(1, 2, 3, name=\"Alice\", age=25)"
   ]
  }
 ],
 "metadata": {
  "kernelspec": {
   "display_name": "Python 3 (ipykernel)",
   "language": "python",
   "name": "python3"
  },
  "language_info": {
   "codemirror_mode": {
    "name": "ipython",
    "version": 3
   },
   "file_extension": ".py",
   "mimetype": "text/x-python",
   "name": "python",
   "nbconvert_exporter": "python",
   "pygments_lexer": "ipython3",
   "version": "3.8.10"
  },
  "toc": {
   "base_numbering": 1,
   "nav_menu": {},
   "number_sections": true,
   "sideBar": true,
   "skip_h1_title": false,
   "title_cell": "Table of Contents",
   "title_sidebar": "Contents",
   "toc_cell": true,
   "toc_position": {},
   "toc_section_display": true,
   "toc_window_display": false
  }
 },
 "nbformat": 4,
 "nbformat_minor": 4
}
