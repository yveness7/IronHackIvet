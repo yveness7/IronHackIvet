{
 "cells": [
  {
   "cell_type": "markdown",
   "id": "b08d37eb",
   "metadata": {
    "toc": true
   },
   "source": [
    "<h1>Table of Contents<span class=\"tocSkip\"></span></h1>\n",
    "<div class=\"toc\"><ul class=\"toc-item\"><li><span><a href=\"#List-Comprehensions\" data-toc-modified-id=\"List-Comprehensions-1\"><span class=\"toc-item-num\">1&nbsp;&nbsp;</span>List Comprehensions</a></span><ul class=\"toc-item\"><li><span><a href=\"#Note\" data-toc-modified-id=\"Note-1.1\"><span class=\"toc-item-num\">1.1&nbsp;&nbsp;</span>Note</a></span></li><li><span><a href=\"#💡--Check-for-understanding\" data-toc-modified-id=\"💡--Check-for-understanding-1.2\"><span class=\"toc-item-num\">1.2&nbsp;&nbsp;</span>💡  Check for understanding</a></span></li><li><span><a href=\"#Conditions-(we-put-IF-in-the-comprehension)\" data-toc-modified-id=\"Conditions-(we-put-IF-in-the-comprehension)-1.3\"><span class=\"toc-item-num\">1.3&nbsp;&nbsp;</span>Conditions (we put IF in the comprehension)</a></span><ul class=\"toc-item\"><li><span><a href=\"#💡-Check-for-understanding\" data-toc-modified-id=\"💡-Check-for-understanding-1.3.1\"><span class=\"toc-item-num\">1.3.1&nbsp;&nbsp;</span>💡 Check for understanding</a></span></li></ul></li><li><span><a href=\"#If-/-Else-in-comprehension\" data-toc-modified-id=\"If-/-Else-in-comprehension-1.4\"><span class=\"toc-item-num\">1.4&nbsp;&nbsp;</span>If / Else in comprehension</a></span></li></ul></li><li><span><a href=\"#Dictionary-Comprehension\" data-toc-modified-id=\"Dictionary-Comprehension-2\"><span class=\"toc-item-num\">2&nbsp;&nbsp;</span>Dictionary Comprehension</a></span><ul class=\"toc-item\"><li><span><a href=\"#💡-Check-for-understanding\" data-toc-modified-id=\"💡-Check-for-understanding-2.1\"><span class=\"toc-item-num\">2.1&nbsp;&nbsp;</span>💡 Check for understanding</a></span></li></ul></li><li><span><a href=\"#Set-Comprehension\" data-toc-modified-id=\"Set-Comprehension-3\"><span class=\"toc-item-num\">3&nbsp;&nbsp;</span>Set Comprehension</a></span><ul class=\"toc-item\"><li><span><a href=\"#💡-Check-for-understanding\" data-toc-modified-id=\"💡-Check-for-understanding-3.1\"><span class=\"toc-item-num\">3.1&nbsp;&nbsp;</span>💡 Check for understanding</a></span></li></ul></li><li><span><a href=\"#Summary\" data-toc-modified-id=\"Summary-4\"><span class=\"toc-item-num\">4&nbsp;&nbsp;</span>Summary</a></span></li><li><span><a href=\"#Extra\" data-toc-modified-id=\"Extra-5\"><span class=\"toc-item-num\">5&nbsp;&nbsp;</span>Extra</a></span><ul class=\"toc-item\"><li><span><a href=\"#Nested-list-comprehensions\" data-toc-modified-id=\"Nested-list-comprehensions-5.1\"><span class=\"toc-item-num\">5.1&nbsp;&nbsp;</span>Nested list comprehensions</a></span></li><li><span><a href=\"#Dict-comprehension-from-two-lists\" data-toc-modified-id=\"Dict-comprehension-from-two-lists-5.2\"><span class=\"toc-item-num\">5.2&nbsp;&nbsp;</span>Dict comprehension from two lists</a></span></li></ul></li></ul></div>"
   ]
  },
  {
   "cell_type": "markdown",
   "id": "e1f3c60c-6a4c-4420-ab87-c2f6e0bd93ed",
   "metadata": {
    "lang": "en"
   },
   "source": [
    "# List Comprehensions"
   ]
  },
  {
   "cell_type": "markdown",
   "id": "41722faf-5aed-40a7-a665-e7b08ac83f23",
   "metadata": {},
   "source": [
    "![elgif](https://media.giphy.com/media/8vZY0QZZjJZqmfResk/giphy.gif)"
   ]
  },
  {
   "cell_type": "markdown",
   "id": "1f2388fe-f609-4afb-98f7-5a7084d0d9b6",
   "metadata": {},
   "source": [
    "List comprehension is an easy to read, compact, and elegant way of **creating a list from any existing iterable object**.\n",
    "\n",
    "List comprehension is a single line of code that you write inside the square brackets. It has three components:\n",
    "\n",
    "- For loop\n",
    "- Condition and expression (optional)\n",
    "- Output\n"
   ]
  },
  {
   "cell_type": "markdown",
   "id": "456a017a-22bb-44ba-9c74-b25935d0d80e",
   "metadata": {},
   "source": [
    "![imagen_compr](https://stsewd.dev/charla-comprension-de-listas/img/listComprehensions.gif)"
   ]
  },
  {
   "cell_type": "markdown",
   "id": "f4e68458-5892-4ef8-8b7b-6d0e9d1ea311",
   "metadata": {
    "lang": "en"
   },
   "source": [
    "Let's look at an example, we'll leave the optional predicate (if or if/else for later). \n",
    "\n",
    "If we wanted to have a list like the following one, but with all the words in uppercase using a loop, we would do, without list comprehension:"
   ]
  },
  {
   "cell_type": "code",
   "execution_count": 4,
   "id": "velvet-madonna",
   "metadata": {},
   "outputs": [
    {
     "data": {
      "text/plain": [
       "['BARCELONA', 'MADRID', 'GIRONA', 'MURCIA']"
      ]
     },
     "execution_count": 4,
     "metadata": {},
     "output_type": "execute_result"
    }
   ],
   "source": [
    "list_of_words = [\"barcelona\", \"madrid\", \"girona\", \"murcia\"]\n",
    "new_list_words_uppercase = []\n",
    "\n",
    "for city in list_of_words:\n",
    "    new_list_words_uppercase.append(city.upper())\n",
    "new_list_words_uppercase\n",
    "\n",
    "# transform the word into upper\n",
    "# append that transformed word into the new list"
   ]
  },
  {
   "cell_type": "markdown",
   "id": "71cbc6a3-d126-4c9e-9f8f-09f59388cf41",
   "metadata": {
    "lang": "en"
   },
   "source": [
    "How can we do it with list comprehension?"
   ]
  },
  {
   "cell_type": "code",
   "execution_count": null,
   "id": "7178147e-246a-4a28-953e-e8a2e1685f50",
   "metadata": {},
   "outputs": [],
   "source": [
    "list_of_words = [\"barcelona\", \"madrid\", \"girona\", \"murcia\", [],\"\", False]"
   ]
  },
  {
   "cell_type": "code",
   "execution_count": 10,
   "id": "c1754a5a",
   "metadata": {},
   "outputs": [
    {
     "data": {
      "text/plain": [
       "['BARCELONA', 'MADRID', 'GIRONA', 'MURCIA']"
      ]
     },
     "execution_count": 10,
     "metadata": {},
     "output_type": "execute_result"
    }
   ],
   "source": [
    "# comprehension\n",
    "\n",
    "comp_list = [city.upper() for city in list_of_words if type(city) == str and city!= \" \" ]\n",
    "comp_list "
   ]
  },
  {
   "cell_type": "code",
   "execution_count": 10,
   "id": "83fc152a-245e-4bea-a8fe-fe153af5dee5",
   "metadata": {},
   "outputs": [
    {
     "data": {
      "text/plain": [
       "['BARCELONA', 'MADRID', 'GIRONA', 'MURCIA']"
      ]
     },
     "execution_count": 10,
     "metadata": {},
     "output_type": "execute_result"
    }
   ],
   "source": [
    "# comprehension\n",
    "list_of_words = [\"barcelona\", \"madrid\", \"girona\", \"murcia\", [],\"\", False] #filtering out falsy values \n",
    "comp_list = [city.upper() for city in list_of_words if city]\n",
    "comp_list "
   ]
  },
  {
   "cell_type": "code",
   "execution_count": null,
   "id": "6c0dc084-d1db-4507-8bb1-9cf37313d3fb",
   "metadata": {},
   "outputs": [],
   "source": [
    "name_list = [\"Shacham\",\"Saul\",\"Juli\",\"Seb\",\"Dominik\"]\n",
    "s_names = []\n",
    "def upper_s(name_list):\n",
    "    s_names = [name.upper() for name in name_list]\n",
    "        for name in name_list:\n",
    "        if name.startswith(\"S\"):   \n",
    "        upper_name = name.upper()\n",
    "        s_names.append(upper_name)\n",
    "\n",
    "print(s_names)"
   ]
  },
  {
   "cell_type": "code",
   "execution_count": null,
   "id": "69270f89-1903-4922-81a2-fd554a1e8511",
   "metadata": {},
   "outputs": [],
   "source": [
    "s_names.append(name.upper()) for name in name_list for name[0] == \"S\"]\n",
    "\n",
    "\n",
    "s_names=[name.upper() for name in name_list]"
   ]
  },
  {
   "cell_type": "markdown",
   "id": "d95d40b9-3d51-404d-ab5a-f85045cb49c1",
   "metadata": {
    "lang": "en"
   },
   "source": [
    "One more example:\n",
    "\n",
    "We want a list containing the squares of the numbers 1 to 10."
   ]
  },
  {
   "cell_type": "code",
   "execution_count": null,
   "id": "e3bc67b9",
   "metadata": {},
   "outputs": [],
   "source": [
    "# what we have: nothing :/ \n",
    "# goal: squares 1 - 10"
   ]
  },
  {
   "cell_type": "code",
   "execution_count": 3,
   "id": "8f1496bc",
   "metadata": {},
   "outputs": [
    {
     "data": {
      "text/plain": [
       "[1, 4, 9, 16, 25, 36, 49, 64, 81, 100]"
      ]
     },
     "execution_count": 3,
     "metadata": {},
     "output_type": "execute_result"
    }
   ],
   "source": [
    "# Regular loop\n",
    "\n",
    "new_list = []\n",
    "for number in range(1, 11):\n",
    "    new_list.append(number ** 2)\n",
    "new_list"
   ]
  },
  {
   "cell_type": "code",
   "execution_count": null,
   "id": "ec79c705-b7a9-4b50-a207-398bab264905",
   "metadata": {},
   "outputs": [],
   "source": [
    "new_list = [number.append(number."
   ]
  },
  {
   "cell_type": "code",
   "execution_count": 11,
   "id": "238f8099",
   "metadata": {},
   "outputs": [
    {
     "data": {
      "text/plain": [
       "[1, 4, 9, 16, 25, 36, 49, 64, 81, 100]"
      ]
     },
     "execution_count": 11,
     "metadata": {},
     "output_type": "execute_result"
    }
   ],
   "source": [
    "# list comprehension\n",
    "\n",
    "squares = [number**2 for number in range(1,11)]\n",
    "squares"
   ]
  },
  {
   "cell_type": "code",
   "execution_count": 15,
   "id": "2e702d5d-af13-4db3-a196-374799318651",
   "metadata": {},
   "outputs": [
    {
     "data": {
      "text/plain": [
       "[1, 9, 25, 49, 81]"
      ]
     },
     "execution_count": 15,
     "metadata": {},
     "output_type": "execute_result"
    }
   ],
   "source": [
    "# list comprehension\n",
    "\n",
    "squares = [number**2 for number in range(1,11) if number %2!= 0]\n",
    "squares"
   ]
  },
  {
   "cell_type": "code",
   "execution_count": null,
   "id": "6c15a349-7b00-4810-878c-19b5a6173c4e",
   "metadata": {},
   "outputs": [],
   "source": [
    "new_list = ['Sid','Adatha','Iv'] "
   ]
  },
  {
   "cell_type": "markdown",
   "id": "23be3165-a1c5-4dd9-a304-3e6138318860",
   "metadata": {
    "lang": "en"
   },
   "source": [
    "## Note\n",
    "\n",
    "List comprehension in Python offers a more concise way to generate lists **without** the need for **explicitly creating an empty list** to begin with and using the **`.append`** method."
   ]
  },
  {
   "cell_type": "markdown",
   "id": "339c9c37-e281-4dcb-94dd-8f44db633bc8",
   "metadata": {
    "lang": "en"
   },
   "source": [
    "## 💡  Check for understanding \n",
    "\n",
    "Create a new list, substituting \"e's\" for \"a's\" in each word in the original `words` list."
   ]
  },
  {
   "cell_type": "code",
   "execution_count": null,
   "id": "c8c45c56",
   "metadata": {},
   "outputs": [],
   "source": [
    "words = ['barcelona', 'madrid', 'gerona', 'murcia']\n",
    "\n",
    "# e -> a"
   ]
  },
  {
   "cell_type": "code",
   "execution_count": 16,
   "id": "e9043062",
   "metadata": {},
   "outputs": [
    {
     "data": {
      "text/plain": [
       "['barcalona', 'madrid', 'girona', 'murcia']"
      ]
     },
     "execution_count": 16,
     "metadata": {},
     "output_type": "execute_result"
    }
   ],
   "source": [
    "# for loop\n",
    "new_list = []\n",
    "for city in list_of_words:\n",
    "    new_list.append(city.replace(\"e\", \"a\"))\n",
    "new_list "
   ]
  },
  {
   "cell_type": "code",
   "execution_count": 20,
   "id": "4cf5c6cb",
   "metadata": {},
   "outputs": [
    {
     "data": {
      "text/plain": [
       "['barcalona', 'madrid', 'garona', 'murcia']"
      ]
     },
     "execution_count": 20,
     "metadata": {},
     "output_type": "execute_result"
    }
   ],
   "source": [
    "# your code goes here\n",
    "words = ['barcelona', 'madrid', 'gerona', 'murcia']\n",
    "new_list = [city.replace(\"e\", \"a\") for city in words]\n",
    "new_list"
   ]
  },
  {
   "cell_type": "markdown",
   "id": "138d7541-41bf-436c-bffb-e4e5a510daa6",
   "metadata": {
    "lang": "en"
   },
   "source": [
    "## Conditions (we put IF in the comprehension)"
   ]
  },
  {
   "cell_type": "markdown",
   "id": "a031ef24-f4e4-4f26-8f72-f194b9753142",
   "metadata": {},
   "source": [
    "In list comprehension, you can use the `if` and `else` syntax to include conditional statements for filtering and modifying elements while creating a new list. This allows you to conditionally include elements based on certain criteria.\n",
    "\n",
    "Let's look at just including `if` statement."
   ]
  },
  {
   "cell_type": "markdown",
   "id": "714b7bb9-4cad-47a4-97ca-0fcdb0c662ab",
   "metadata": {},
   "source": [
    "<img width=600 src=\"https://www.mrdbourke.com/content/images/2019/09/python-list-comprehension-article.png\">"
   ]
  },
  {
   "cell_type": "markdown",
   "id": "c420cf54-8049-402f-b4e7-8522f00d8d14",
   "metadata": {},
   "source": [
    "Let's create a list like the following one, but with all the **words** in uppercase using a loop (i.e. ignore the elements that are not strings)"
   ]
  },
  {
   "cell_type": "code",
   "execution_count": null,
   "id": "36e710a5",
   "metadata": {},
   "outputs": [],
   "source": [
    "list_of_words = [\"barcelona\", 2,  3, \"madrid\", \"girona\", 30, \"murcia\"]"
   ]
  },
  {
   "cell_type": "code",
   "execution_count": null,
   "id": "221cc9df",
   "metadata": {},
   "outputs": [],
   "source": [
    "# Goal: ['BARCELONA', 'MADRID', 'GIRONA', 'MURCIA'], nums out\n",
    "\n",
    "# For loop\n",
    "\n",
    "new_list = []\n",
    "for cities in list_of_words:\n",
    "    if type(cities) == str:\n",
    "        new_list.append(cities.upper())\n",
    "print(\"New list: \", new_list)\n",
    "\n",
    "# List Comprehension\n",
    "comp_list_2 = [cities.upper() for cities in list_of_words if type(cities) == str]\n",
    "print(\"Comp list: \", comp_list_2)"
   ]
  },
  {
   "cell_type": "markdown",
   "id": "1d655940-9346-4125-8c9e-53fa815cb89a",
   "metadata": {},
   "source": [
    "Let's look at one more example. \n",
    "Let's create a list with the numbers from 0 to 9 that are even. "
   ]
  },
  {
   "cell_type": "code",
   "execution_count": null,
   "id": "8046f93d-e55c-45e7-9f94-f0870774b395",
   "metadata": {},
   "outputs": [],
   "source": [
    "# normal way (no comprehension)\n",
    "my_list = list()\n",
    "for x in range(10):\n",
    "    if x%2==0:\n",
    "        my_list.append(x)\n",
    "print(my_list)"
   ]
  },
  {
   "cell_type": "code",
   "execution_count": null,
   "id": "373615cb-4037-4aec-99c0-f8411ae7d189",
   "metadata": {},
   "outputs": [],
   "source": [
    "#equiv but in list comprehension\n",
    "my_list = [x for x in range(10) if x%2==0]\n",
    "my_list"
   ]
  },
  {
   "cell_type": "markdown",
   "id": "df4b13d9-0df6-4c0c-b481-9689936f4585",
   "metadata": {
    "lang": "en"
   },
   "source": [
    "### 💡 Check for understanding\n",
    "\n",
    "We want a new list with words longer than 5 characters."
   ]
  },
  {
   "cell_type": "code",
   "execution_count": null,
   "id": "invalid-variation",
   "metadata": {},
   "outputs": [],
   "source": [
    "list_of_words = ['barcelona', 'madrid', 'gerona', 'murcia']"
   ]
  },
  {
   "cell_type": "code",
   "execution_count": null,
   "id": "83f3feda",
   "metadata": {},
   "outputs": [],
   "source": [
    "# Your code goes here"
   ]
  },
  {
   "cell_type": "markdown",
   "id": "de3bd144-3e49-497b-9840-e05d5e3fd80e",
   "metadata": {
    "lang": "en"
   },
   "source": [
    "## If / Else in comprehension\n",
    "\n",
    "Let's look at the syntax when including an `else statement`, that is implemented if the condition is false."
   ]
  },
  {
   "cell_type": "markdown",
   "id": "fddaf8b8-f193-44ee-848f-bad9fb7dfcfe",
   "metadata": {},
   "source": [
    "```python\n",
    "new_list = [expression_if_true if condition else expression_if_false for item in original_list]\n",
    "```\n",
    "\n",
    "Explanation:\n",
    "- `new_list`: The resulting list created using list comprehension.\n",
    "- `expression_if_true`: The value to be included in the new list if the condition is true for the current item.\n",
    "- `condition`: The condition to be checked for each item in the original list.\n",
    "- `expression_if_false`: The value to be included in the new list if the condition is false for the current item.\n",
    "- `item`: The variable representing each element in the original list during iteration.\n"
   ]
  },
  {
   "cell_type": "markdown",
   "id": "360215d9-5849-4e39-b578-3a0bf1ceafe2",
   "metadata": {},
   "source": [
    "In the next example, if the word is longer than 7 characters, we include it as it is in the new list. Otherwise, we just make it uppercase."
   ]
  },
  {
   "cell_type": "code",
   "execution_count": null,
   "id": "1cd66f87",
   "metadata": {},
   "outputs": [],
   "source": [
    "# if longer than 7\n",
    "# else: upper\n",
    "\n",
    "list_of_words = ['barcelona', 'madrid', 'gerona', 'murcia']"
   ]
  },
  {
   "cell_type": "code",
   "execution_count": null,
   "id": "528c62a3",
   "metadata": {},
   "outputs": [],
   "source": [
    "# For loop\n",
    "\n",
    "new_list = []\n",
    "for city in list_of_words:\n",
    "    if len(city) > 7:\n",
    "        new_list.append(city)\n",
    "    else:\n",
    "        new_list.append(city.upper())\n",
    "new_list"
   ]
  },
  {
   "cell_type": "code",
   "execution_count": null,
   "id": "9e203c2d",
   "metadata": {},
   "outputs": [],
   "source": [
    "# Comprehension list\n",
    "\n",
    "new_list = [city if len(city) > 7 else city.upper() for city in list_of_words]\n",
    "new_list "
   ]
  },
  {
   "cell_type": "code",
   "execution_count": null,
   "id": "1ec8975d",
   "metadata": {},
   "outputs": [],
   "source": [
    "# Can you have if in the middle without an else?\n",
    "# A: no\n",
    "\n",
    "new_list = [city if len(city) > 7 for city in list_of_words]\n",
    "new_list"
   ]
  },
  {
   "cell_type": "code",
   "execution_count": null,
   "id": "c367889d",
   "metadata": {},
   "outputs": [],
   "source": [
    "# Q: Can you have multiple ifs?\n",
    "#A: yes, if it is used as a filter as it follows\n",
    "\n",
    "new_list = [city for city in list_of_words if len(city) > 7 if city.upper()]\n",
    "new_list"
   ]
  },
  {
   "cell_type": "markdown",
   "id": "1ea1ad5c-e239-463b-a1a1-05946536157a",
   "metadata": {},
   "source": [
    "Another example: Converting Odd Numbers to Negative"
   ]
  },
  {
   "cell_type": "code",
   "execution_count": null,
   "id": "51d6105c-82b9-4fce-854e-9813e9fa0c6b",
   "metadata": {},
   "outputs": [],
   "source": [
    "numbers = [1, 2, 3, 4, 5, 6, 7, 8, 9, 10]\n",
    "result = [num if num % 2 == 0 else -num for num in numbers]\n",
    "print(result)"
   ]
  },
  {
   "cell_type": "markdown",
   "id": "71209dc0-4ad9-46e8-b17d-1012e91018cd",
   "metadata": {},
   "source": [
    "\n",
    "In the examples above, list comprehension filters and modifies elements based on specific conditions, creating a new list as a result. Using `if` and `else` in list comprehension adds flexibility to the process and allows for more complex transformations of the original list elements."
   ]
  },
  {
   "cell_type": "markdown",
   "id": "43e5bba4-6315-43d0-a904-6369c29ed147",
   "metadata": {
    "lang": "en"
   },
   "source": [
    "# Dictionary Comprehension"
   ]
  },
  {
   "cell_type": "markdown",
   "id": "b29128c6-0134-4b09-b823-580ad4078320",
   "metadata": {},
   "source": [
    "Just like list comprehension, dictionary comprehension offers a clean and efficient way to construct dictionaries in a single line of code.\n",
    "\n",
    "The general syntax for dictionary comprehension is:\n",
    "\n",
    "```python\n",
    "new_dict = {key_expression: value_expression for item in iterable}\n",
    "```"
   ]
  },
  {
   "cell_type": "code",
   "execution_count": null,
   "id": "2ca6a9c3-9e8f-4aa5-bf04-199b728000fc",
   "metadata": {},
   "outputs": [],
   "source": [
    "dict_numbers = {\"a\": 1, \"b\":2, \"c\": 3, \"d\":4, \"e\":5}"
   ]
  },
  {
   "cell_type": "code",
   "execution_count": null,
   "id": "afef9c47-a925-4d6b-bbaa-65f91d620890",
   "metadata": {},
   "outputs": [],
   "source": [
    "# create a dict without comprehension that has the values of dict\n",
    "# but doubled\n",
    "dict_double = {}\n",
    "for (key,value) in dict_numbers.items():\n",
    "    dict_double[key] = value*2\n",
    "dict_double"
   ]
  },
  {
   "cell_type": "code",
   "execution_count": null,
   "id": "7bc0517f-7406-413f-b12c-bd4869e3d0c6",
   "metadata": {},
   "outputs": [],
   "source": [
    "# same with comprehension\n",
    "{key:value*2 for (key,value) in dict_numbers.items()}"
   ]
  },
  {
   "cell_type": "code",
   "execution_count": null,
   "id": "a89cb528-43b0-46c6-bee7-6333064b1112",
   "metadata": {},
   "outputs": [],
   "source": [
    "# Create a new dictionary, where the key is the same as dict_2\n",
    "# but the value is \"positive\" if the key >= 0 , and \"negative\" key<0"
   ]
  },
  {
   "cell_type": "code",
   "execution_count": null,
   "id": "1709c91d-0d82-48f2-8bb2-449845aed050",
   "metadata": {},
   "outputs": [],
   "source": [
    "dict_2 = {-10: \"a\", -5:\"b\", 10:\"c\"}"
   ]
  },
  {
   "cell_type": "code",
   "execution_count": null,
   "id": "de793752-63e6-41b8-ae53-7fe3d5830e7d",
   "metadata": {},
   "outputs": [],
   "source": [
    "new_dict = {key:(\"positive\" if key>=0 else \"negative\") \n",
    "            for key,value in dict_2.items()}\n",
    "new_dict"
   ]
  },
  {
   "cell_type": "markdown",
   "id": "b266dda1-d306-42f7-8a0c-cd81aa1b448a",
   "metadata": {},
   "source": [
    "We can also use dictionary comprehension to create a dictionary from a list. \n",
    "\n",
    "Let's keep the values of the `numbers` list as the dictionary `keys`, and as the dictionary `values`, we want those numbers squared. "
   ]
  },
  {
   "cell_type": "code",
   "execution_count": null,
   "id": "7049c779-c317-49f4-b152-06566ea3561a",
   "metadata": {
    "lang": "en"
   },
   "outputs": [],
   "source": [
    "numbers = [1, 2, 3, 4, 5]\n",
    "squared_dict = {num: num**2 for num in numbers}\n",
    "print(squared_dict)"
   ]
  },
  {
   "cell_type": "markdown",
   "id": "6e49f7d0-3d9b-4661-9bd7-edf7525cd292",
   "metadata": {
    "lang": "en"
   },
   "source": [
    "## 💡 Check for understanding\n",
    "\n",
    "You have a list of words. Write a dictionary containing the length of each word."
   ]
  },
  {
   "cell_type": "code",
   "execution_count": null,
   "id": "12333f41",
   "metadata": {},
   "outputs": [],
   "source": [
    "list_of_words = [\"football\", \"climbing\", \"swimming\", \"golf\"]"
   ]
  },
  {
   "cell_type": "code",
   "execution_count": null,
   "id": "ba02d16c",
   "metadata": {},
   "outputs": [],
   "source": [
    "# Your code goes here"
   ]
  },
  {
   "cell_type": "markdown",
   "id": "fd9c62ab-eda5-4aab-911b-b560db1af80f",
   "metadata": {},
   "source": [
    "# Set Comprehension"
   ]
  },
  {
   "cell_type": "markdown",
   "id": "f05288d7-5645-4ad1-a55f-bb767582f9b0",
   "metadata": {},
   "source": [
    "The syntax for set comprehension is quite similar to list comprehension:\n",
    "\n",
    "```python\n",
    "new_set = {expression for item in iterable}\n",
    "```"
   ]
  },
  {
   "cell_type": "markdown",
   "id": "b388ae3d-a76d-4077-8486-6e06d6765838",
   "metadata": {
    "lang": "en"
   },
   "source": [
    "## 💡 Check for understanding\n",
    "\n",
    "Use set comprehension to create a set with only unique country codes"
   ]
  },
  {
   "cell_type": "code",
   "execution_count": null,
   "id": "inner-refund",
   "metadata": {},
   "outputs": [],
   "source": [
    "codes_countries = [\"es-91\", \"en-88\", \"fra-12\", \"it-33\", \"ar-55\", \"it-34\", \"es-98\"]"
   ]
  },
  {
   "cell_type": "code",
   "execution_count": null,
   "id": "30bb8484",
   "metadata": {},
   "outputs": [],
   "source": [
    "# goal = {'AR', 'EN', 'ES', 'FRA', 'IT'}\n",
    "\n",
    "# getting just the letters\n",
    "# uppercase\n",
    "\n",
    "# Your code goes here"
   ]
  },
  {
   "cell_type": "markdown",
   "id": "32925503-a999-4711-8842-b5c83789857d",
   "metadata": {},
   "source": [
    "# Summary"
   ]
  },
  {
   "cell_type": "markdown",
   "id": "8b7cec96-24f0-4c9c-9b34-8f5993e7d421",
   "metadata": {},
   "source": [
    "- Comprehensions provide a quicker, more comfortable, and readable way to create lists, sets, and dictionaries.\n",
    "- Saves us some steps compared to traditional for loops (create empty list, use append method)\n",
    "- It supports conditions, enabling us to filter or modify elements during the creation process.\n",
    "- If an `else` statement is included, the order changes, offering flexibility in handling different conditions."
   ]
  },
  {
   "cell_type": "markdown",
   "id": "f64cdf34-69ab-4c28-a92a-6080ecc63d00",
   "metadata": {
    "lang": "es"
   },
   "source": [
    "# Extra"
   ]
  },
  {
   "cell_type": "markdown",
   "id": "79557943-bf12-4f38-bdc2-b7cf4747e92d",
   "metadata": {},
   "source": [
    "## Nested list comprehensions"
   ]
  },
  {
   "cell_type": "markdown",
   "id": "1c45b37a-5935-4b19-a8cf-409e1b593ca7",
   "metadata": {},
   "source": [
    "Nested list comprehensions in Python allow you to create lists of lists or perform more complex transformations with multiple levels of iteration. The syntax involves placing one or more list comprehensions inside another."
   ]
  },
  {
   "cell_type": "markdown",
   "id": "d29730b4-01f4-4adc-8a71-9c27f78bc070",
   "metadata": {},
   "source": [
    "```python\n",
    "new_list = [[expression for item in inner_list] for inner_list in outer_list]\n",
    "```"
   ]
  },
  {
   "cell_type": "markdown",
   "id": "65409460-79a2-4604-a701-d660cf88170f",
   "metadata": {},
   "source": [
    "Example: Flattening a List of Lists"
   ]
  },
  {
   "cell_type": "code",
   "execution_count": null,
   "id": "dd5dd8c7-aabf-475d-84c1-ca01cd2020c2",
   "metadata": {},
   "outputs": [],
   "source": [
    "list_of_lists = [[1, 2, 3], [4, 5], [6, 7, 8, 9]]\n",
    "flattened_list = []\n",
    "for sublist in list_of_lists:\n",
    "    for num in sublist:\n",
    "        flattened_list.append(num)"
   ]
  },
  {
   "cell_type": "code",
   "execution_count": null,
   "id": "b3fb6970-d377-4365-aab7-99a65f9146a3",
   "metadata": {},
   "outputs": [],
   "source": [
    "# Using nested list comprehension to flatten a list of lists\n",
    "flattened_list = [num for sublist in list_of_lists for num in sublist]\n",
    "print(flattened_list)"
   ]
  },
  {
   "cell_type": "markdown",
   "id": "6b103055-b3a7-4a00-aff4-649cabdb443a",
   "metadata": {},
   "source": [
    "Another example"
   ]
  },
  {
   "cell_type": "code",
   "execution_count": null,
   "id": "91ab7124",
   "metadata": {},
   "outputs": [],
   "source": [
    "nested_comprehension = [[[\"Peter\", \"18\"], [\"Clara\", \"20\"]], [['Megan', '35']], [['Marc', '32']]]\n",
    "\n",
    "flattened = []\n",
    "\n",
    "for i in nested_comprehension:\n",
    "    for element in i:\n",
    "        for x in element:\n",
    "            flattened.append(x) \n",
    "            \n",
    "flattened"
   ]
  },
  {
   "cell_type": "code",
   "execution_count": null,
   "id": "a89c12a0",
   "metadata": {},
   "outputs": [],
   "source": [
    "flattened_comp = [x for i in nested_comprehension for element in i for x in element]\n",
    "flattened_comp"
   ]
  },
  {
   "cell_type": "markdown",
   "id": "9f823b4b-8b6a-4c74-af3c-c46a60c87437",
   "metadata": {},
   "source": [
    "## Dict comprehension from two lists"
   ]
  },
  {
   "cell_type": "markdown",
   "id": "e0ac7032-bc56-40f6-8634-f05916f23840",
   "metadata": {
    "lang": "en"
   },
   "source": [
    "We can also use dictionary comprehension to create a dictionary from two lists, one will be the `keys`and the other one the `values`."
   ]
  },
  {
   "cell_type": "code",
   "execution_count": null,
   "id": "5e44b9c5",
   "metadata": {},
   "outputs": [],
   "source": [
    "names = [\"venice\", \"sam\", \"clara\"]\n",
    "ages = [\"32\", \"21\", \"15\"]\n",
    "\n",
    "the_goal = {\"venice\": \"32\",\n",
    " \"sam\": \"21\",\n",
    " \"clara\":\"15\" \n",
    "}"
   ]
  },
  {
   "cell_type": "code",
   "execution_count": null,
   "id": "tough-peeing",
   "metadata": {
    "scrolled": true
   },
   "outputs": [],
   "source": [
    "# using a for loop\n",
    "new_dictionary = {}\n",
    "\n",
    "for person, age in zip(names, ages):\n",
    "    new_dictionary[person] = age\n",
    "    #print(f\"Person: {person}, emoji: {picture}\")\n",
    "print(new_dictionary)"
   ]
  },
  {
   "cell_type": "code",
   "execution_count": null,
   "id": "constitutional-daughter",
   "metadata": {},
   "outputs": [],
   "source": [
    "new_dict = {person:age for person, age in zip(names, ages)}\n",
    "new_dict"
   ]
  }
 ],
 "metadata": {
  "kernelspec": {
   "display_name": "Python 3 (ipykernel)",
   "language": "python",
   "name": "python3"
  },
  "language_info": {
   "codemirror_mode": {
    "name": "ipython",
    "version": 3
   },
   "file_extension": ".py",
   "mimetype": "text/x-python",
   "name": "python",
   "nbconvert_exporter": "python",
   "pygments_lexer": "ipython3",
   "version": "3.8.10"
  },
  "toc": {
   "base_numbering": 1,
   "nav_menu": {},
   "number_sections": true,
   "sideBar": true,
   "skip_h1_title": false,
   "title_cell": "Table of Contents",
   "title_sidebar": "Contents",
   "toc_cell": true,
   "toc_position": {},
   "toc_section_display": true,
   "toc_window_display": true
  }
 },
 "nbformat": 4,
 "nbformat_minor": 5
}
