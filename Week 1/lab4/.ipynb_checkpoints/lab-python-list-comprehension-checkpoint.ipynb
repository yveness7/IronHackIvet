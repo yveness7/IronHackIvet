{
 "cells": [
  {
   "cell_type": "markdown",
   "id": "25d7736c-ba17-4aff-b6bb-66eba20fbf4e",
   "metadata": {},
   "source": [
    "# Lab | List, Dict and Set Comprehension"
   ]
  },
  {
   "cell_type": "markdown",
   "id": "7dd3cbde-675a-4b81-92c3-f728846dbe06",
   "metadata": {},
   "source": [
    "## Exercise: Managing Customer Orders Optimized with Comprehension"
   ]
  },
  {
   "cell_type": "markdown",
   "id": "5d500160-2fb7-4777-b5e4-09d45ebaf328",
   "metadata": {},
   "source": [
    "In the previous exercise, you developed a program to manage customer orders and inventory. Now, let's take it a step further and incorporate comprehension into your code.\n",
    "\n",
    "Follow the steps below to complete the exercise:\n",
    "\n",
    "1. Review your code from the previous exercise and identify areas where you can apply comprehension to simplify and streamline your code. \n",
    "\n",
    "    - *Hint: Apply it to initialize inventory, updating the inventory and printing the updated inventory.*\n",
    "    \n",
    "    - For example, in initializing the inventory, we could have:\n",
    "    \n",
    "        ```python\n",
    "        def initialize_inventory(products):\n",
    "            inventory = {product: int(input(f\"Enter the quantity of {product}s available: \")) for product in products}\n",
    "            return inventory\n",
    "\n",
    "        ```\n",
    "<br>\n",
    "    \n",
    "    \n",
    "2. Modify the function get_customer_orders so it prompts the user to enter the number of customer orders and gathers the product names using a loop and user input. Use comprehension.\n",
    "\n",
    "3. Add a new function to calculate the total price of the customer order. For each product in customer_orders, prompt the user to enter the price of that product. Use comprehension to calculate the total price. Note: assume that the user can only have 1 unit of each product.\n",
    "\n",
    "4. Modify the update_inventory function to remove the product from the inventory if its quantity becomes zero after fulfilling the customer orders. Use comprehension to filter out the products with a quantity of zero from the inventory.\n",
    "\n",
    "5. Print the total price of the customer order.\n",
    "\n",
    "Your code should produce output similar to the following:\n",
    "\n",
    "```python\n",
    "Enter the quantity of t-shirts available:  5\n",
    "Enter the quantity of mugs available:  4\n",
    "Enter the quantity of hats available:  3\n",
    "Enter the quantity of books available:  2\n",
    "Enter the quantity of keychains available:  1\n",
    "Enter the number of customer orders:  2\n",
    "Enter the name of a product that a customer wants to order:  hat\n",
    "Enter the name of a product that a customer wants to order:  keychain\n",
    "\n",
    "Order Statistics:\n",
    "Total Products Ordered: 2\n",
    "Percentage of Unique Products Ordered: 40.0\n",
    "\n",
    "Updated Inventory:\n",
    "t-shirt: 5\n",
    "mug: 4\n",
    "hat: 2\n",
    "book: 2\n",
    "Enter the price of keychain:  5\n",
    "Enter the price of hat:  10\n",
    "Total Price: 15.0\n",
    "\n",
    "```\n"
   ]
  },
  {
   "cell_type": "code",
   "execution_count": 15,
   "id": "e0b641f0-099c-4e2d-991e-8626702a1c81",
   "metadata": {},
   "outputs": [
    {
     "ename": "IndentationError",
     "evalue": "expected an indented block (4006595571.py, line 18)",
     "output_type": "error",
     "traceback": [
      "\u001b[0;36m  Cell \u001b[0;32mIn[15], line 18\u001b[0;36m\u001b[0m\n\u001b[0;31m    and gathers the product names using a loop and user input. Use comprehension.\"\"\"\u001b[0m\n\u001b[0m    ^\u001b[0m\n\u001b[0;31mIndentationError\u001b[0m\u001b[0;31m:\u001b[0m expected an indented block\n"
     ]
    }
   ],
   "source": [
    "\n",
    "#my code\n",
    "\n",
    "products = [\"tshirts\", \"mugs\", \"hats\", \"books\", \"keychains\"] #define list of products\n",
    "inventory = {} #create empty dictionary\n",
    "\n",
    "\n",
    "def initialize_inventory(products):\n",
    "    inventory = {product: int(input(f\"Enter the quantity of {product}s available: \")) for product in products}\n",
    "    return inventory\n",
    "\n",
    "\n",
    "______________________________________________________________________________________________________________________________________________\n",
    "\n",
    "\n",
    "def get_customer_orders():\n",
    "\n",
    "\"\"\"Modify the function get_customer_orders so it prompts the user to enter the number of customer orders \n",
    "and gathers the product names using a loop and user input. Use comprehension.\"\"\"\n",
    "    \n",
    "\n",
    "number_orders = int(input(f\"Please enter the number of customer orders: \"))\n",
    "\n",
    "for number in range(number_orders):\n",
    "    \n",
    "    product_names = [input(f\"Enter product name for order {number + 1} from the list: {', '.join(products)}: \")] \n",
    "\n",
    "______________________________________________________________________________________________________________________________________________\n",
    "\n",
    "\n",
    "def update_inventory(customer_orders,inventory): \n",
    "    \n",
    "    \n",
    "    inventory = {product: inventory.get(product, 0) - 1 for product in customer_orders if product in inventory}\n",
    "    return inventory\n",
    "\n",
    "\"\"\"Hint: Apply comprehention to initialize inventory, updating the inventory and printing the updated inventory.\"\"\"\n",
    "_____________________________________________________________________________________________________________________________________________\n",
    "\n",
    "\n",
    "\n",
    "def calculate_order_statistics(customer_orders,products):\n",
    "\n",
    "#implement the code for calculating the order statistics (total products ordered, and percentage of unique products ordered)\n",
    "#The function should return these values.\n",
    "\n",
    "    total_products_ordered = len(customer_orders)\n",
    "    percentage_ordered = (total_products_ordered / len(products)) * 100\n",
    "    \n",
    "    order_status = (total_products_ordered, percentage_ordered)\n",
    "    \n",
    "    return total_products_ordered, percentage_ordered \n",
    "    \n",
    "\n",
    "__________________________________________________________________________________________________________________________________________-\n",
    "\n",
    "def print_order_statistics(order_statistics):\n",
    "\n",
    "#implement the code for printing the order statistics\n",
    "    \n",
    "    print(\"\\nOrder statistics:\")\n",
    "    print(f\"\\nTotal Products Ordered: {total_products_ordered}\")\n",
    "    print(f\"\\nPercentage of Products Ordered: {percentage_ordered:.2f}%\")\n",
    "    \"\"\"For some reason it's not working the way I thought it would and brings back 0...\"\"\"\n",
    "\n",
    "\n",
    "\n",
    "\"\"\"Add a new function to calculate the total price of the customer order. \n",
    "For each product in customer_orders, prompt the user to enter the price of that product. \n",
    "Use comprehension to calculate the total price. \n",
    "Note: assume that the user can only have 1 unit of each product.\"\"\"\n",
    "\n",
    "def total_price_customer_order(): \n",
    "    price_input = int(input(\"fEnter the price of {customer_order}\"))\n",
    "\n",
    "_____________________________________________________________________________________________________________________________________________\n",
    "\n",
    "\n",
    "\"\"\"Modify the update_inventory function to remove the product from the inventory if its quantity \n",
    "becomes zero after fulfilling the customer orders. \n",
    "Use comprehension to filter out the products with a quantity of zero from the inventory.\"\"\"\n",
    "\n",
    "_______________________________________________________________________________________________________________________________________________\n",
    "\n",
    "\"\"\"Print the total price of the customer order.\"\"\"\n",
    "\n",
    "\n",
    "                      "
   ]
  },
  {
   "cell_type": "code",
   "execution_count": 17,
   "id": "d5a812f9-c679-4325-9104-41ec411f9953",
   "metadata": {},
   "outputs": [
    {
     "ename": "NameError",
     "evalue": "name 'initialize_inventory' is not defined",
     "output_type": "error",
     "traceback": [
      "\u001b[0;31m---------------------------------------------------------------------------\u001b[0m",
      "\u001b[0;31mNameError\u001b[0m                                 Traceback (most recent call last)",
      "Cell \u001b[0;32mIn[17], line 1\u001b[0m\n\u001b[0;32m----> 1\u001b[0m \u001b[43minitialize_inventory\u001b[49m()\n",
      "\u001b[0;31mNameError\u001b[0m: name 'initialize_inventory' is not defined"
     ]
    }
   ],
   "source": [
    "initialize_inventory()"
   ]
  },
  {
   "cell_type": "code",
   "execution_count": 11,
   "id": "0238d272-8796-41c5-99ef-ccbe28dd743f",
   "metadata": {},
   "outputs": [
    {
     "name": "stdin",
     "output_type": "stream",
     "text": [
      "Please enter the number of customer orders:  5\n",
      "Enter product name for order 1 from the list: tshirts, mugs, hats, books, keychains:  hats\n",
      "Enter product name for order 2 from the list: tshirts, mugs, hats, books, keychains:  books\n",
      "Enter product name for order 3 from the list: tshirts, mugs, hats, books, keychains:  mugs\n",
      "Enter product name for order 4 from the list: tshirts, mugs, hats, books, keychains:  tshirt\n",
      "Enter product name for order 5 from the list: tshirts, mugs, hats, books, keychains:  keychains\n"
     ]
    },
    {
     "name": "stdout",
     "output_type": "stream",
     "text": [
      "['keychains']\n"
     ]
    }
   ],
   "source": [
    "products = [\"tshirts\", \"mugs\", \"hats\", \"books\", \"keychains\"]\n",
    "number_orders = int(input(f\"Please enter the number of customer orders: \"))\n",
    "\n",
    "\"\"\"      product_name = [] #empty list to store products\n",
    "           for number in range(number_orders):\"\"\"\n",
    "for number in range(number_orders):\n",
    "    product_names = [input(f\"Enter product name for order {number + 1} from the list: {', '.join(products)}: \")] \n",
    "\n"
   ]
  },
  {
   "cell_type": "code",
   "execution_count": null,
   "id": "821af33b-9d11-4174-a8ed-5eb91e952f39",
   "metadata": {},
   "outputs": [],
   "source": []
  },
  {
   "cell_type": "code",
   "execution_count": null,
   "id": "eb6244e5-6078-4d70-885a-4f93147082fd",
   "metadata": {},
   "outputs": [],
   "source": [
    "\n",
    "\n"
   ]
  }
 ],
 "metadata": {
  "kernelspec": {
   "display_name": "Python 3 (ipykernel)",
   "language": "python",
   "name": "python3"
  },
  "language_info": {
   "codemirror_mode": {
    "name": "ipython",
    "version": 3
   },
   "file_extension": ".py",
   "mimetype": "text/x-python",
   "name": "python",
   "nbconvert_exporter": "python",
   "pygments_lexer": "ipython3",
   "version": "3.8.10"
  }
 },
 "nbformat": 4,
 "nbformat_minor": 5
}
