{
 "cells": [
  {
   "cell_type": "code",
   "execution_count": 25,
   "id": "36434232",
   "metadata": {},
   "outputs": [
    {
     "data": {
      "text/html": [
       "<div>\n",
       "<style scoped>\n",
       "    .dataframe tbody tr th:only-of-type {\n",
       "        vertical-align: middle;\n",
       "    }\n",
       "\n",
       "    .dataframe tbody tr th {\n",
       "        vertical-align: top;\n",
       "    }\n",
       "\n",
       "    .dataframe thead th {\n",
       "        text-align: right;\n",
       "    }\n",
       "</style>\n",
       "<table border=\"1\" class=\"dataframe\">\n",
       "  <thead>\n",
       "    <tr style=\"text-align: right;\">\n",
       "      <th></th>\n",
       "      <th>Date</th>\n",
       "      <th>Latitude</th>\n",
       "      <th>Longitude</th>\n",
       "      <th>Location</th>\n",
       "      <th>Species</th>\n",
       "      <th>Adult M</th>\n",
       "      <th>Adult F</th>\n",
       "      <th>Adult</th>\n",
       "      <th>Subadult</th>\n",
       "      <th>Polar bear condition</th>\n",
       "      <th>Polar bear den</th>\n",
       "      <th>Cub/calf/pup</th>\n",
       "      <th>Bear cubs</th>\n",
       "      <th>Dead/alive</th>\n",
       "      <th>Unidentified</th>\n",
       "      <th>Total</th>\n",
       "      <th>Habitat</th>\n",
       "      <th>Occurrence remark</th>\n",
       "    </tr>\n",
       "  </thead>\n",
       "  <tbody>\n",
       "    <tr>\n",
       "      <th>0</th>\n",
       "      <td>2000-07-29</td>\n",
       "      <td>78.55</td>\n",
       "      <td>25.416667</td>\n",
       "      <td></td>\n",
       "      <td>balaena mysticetus</td>\n",
       "      <td></td>\n",
       "      <td></td>\n",
       "      <td></td>\n",
       "      <td></td>\n",
       "      <td></td>\n",
       "      <td></td>\n",
       "      <td></td>\n",
       "      <td></td>\n",
       "      <td></td>\n",
       "      <td></td>\n",
       "      <td>1</td>\n",
       "      <td>water</td>\n",
       "      <td>V. Large individual possibly a F</td>\n",
       "    </tr>\n",
       "    <tr>\n",
       "      <th>1</th>\n",
       "      <td>2000-08-08</td>\n",
       "      <td>79.1166666666667</td>\n",
       "      <td>21.441667</td>\n",
       "      <td></td>\n",
       "      <td>balaena mysticetus</td>\n",
       "      <td></td>\n",
       "      <td></td>\n",
       "      <td></td>\n",
       "      <td></td>\n",
       "      <td></td>\n",
       "      <td></td>\n",
       "      <td></td>\n",
       "      <td></td>\n",
       "      <td></td>\n",
       "      <td></td>\n",
       "      <td>1</td>\n",
       "      <td>water</td>\n",
       "      <td></td>\n",
       "    </tr>\n",
       "    <tr>\n",
       "      <th>2</th>\n",
       "      <td>2000-08-16</td>\n",
       "      <td>78.917</td>\n",
       "      <td>24.050000</td>\n",
       "      <td></td>\n",
       "      <td>balaena mysticetus</td>\n",
       "      <td></td>\n",
       "      <td></td>\n",
       "      <td></td>\n",
       "      <td></td>\n",
       "      <td></td>\n",
       "      <td></td>\n",
       "      <td></td>\n",
       "      <td></td>\n",
       "      <td></td>\n",
       "      <td></td>\n",
       "      <td>1</td>\n",
       "      <td>water</td>\n",
       "      <td></td>\n",
       "    </tr>\n",
       "    <tr>\n",
       "      <th>3</th>\n",
       "      <td>2001-08-08</td>\n",
       "      <td>79.268</td>\n",
       "      <td>20.858000</td>\n",
       "      <td></td>\n",
       "      <td>balaena mysticetus</td>\n",
       "      <td></td>\n",
       "      <td></td>\n",
       "      <td></td>\n",
       "      <td></td>\n",
       "      <td></td>\n",
       "      <td></td>\n",
       "      <td></td>\n",
       "      <td></td>\n",
       "      <td></td>\n",
       "      <td></td>\n",
       "      <td>1</td>\n",
       "      <td>water</td>\n",
       "      <td></td>\n",
       "    </tr>\n",
       "    <tr>\n",
       "      <th>4</th>\n",
       "      <td>2005-08-06</td>\n",
       "      <td>78.932</td>\n",
       "      <td>11.922000</td>\n",
       "      <td>Nye Ålesund</td>\n",
       "      <td>balaena mysticetus</td>\n",
       "      <td></td>\n",
       "      <td></td>\n",
       "      <td></td>\n",
       "      <td></td>\n",
       "      <td></td>\n",
       "      <td></td>\n",
       "      <td></td>\n",
       "      <td></td>\n",
       "      <td></td>\n",
       "      <td></td>\n",
       "      <td>1</td>\n",
       "      <td>water</td>\n",
       "      <td></td>\n",
       "    </tr>\n",
       "    <tr>\n",
       "      <th>...</th>\n",
       "      <td>...</td>\n",
       "      <td>...</td>\n",
       "      <td>...</td>\n",
       "      <td>...</td>\n",
       "      <td>...</td>\n",
       "      <td>...</td>\n",
       "      <td>...</td>\n",
       "      <td>...</td>\n",
       "      <td>...</td>\n",
       "      <td>...</td>\n",
       "      <td>...</td>\n",
       "      <td>...</td>\n",
       "      <td>...</td>\n",
       "      <td>...</td>\n",
       "      <td>...</td>\n",
       "      <td>...</td>\n",
       "      <td>...</td>\n",
       "      <td>...</td>\n",
       "    </tr>\n",
       "    <tr>\n",
       "      <th>17370</th>\n",
       "      <td>2006-07-25</td>\n",
       "      <td>80.703</td>\n",
       "      <td>20.883000</td>\n",
       "      <td>Phippsøya</td>\n",
       "      <td>ursus maritimus</td>\n",
       "      <td></td>\n",
       "      <td></td>\n",
       "      <td></td>\n",
       "      <td></td>\n",
       "      <td></td>\n",
       "      <td></td>\n",
       "      <td></td>\n",
       "      <td></td>\n",
       "      <td></td>\n",
       "      <td></td>\n",
       "      <td>19</td>\n",
       "      <td>land</td>\n",
       "      <td>Feeding on whale carcass</td>\n",
       "    </tr>\n",
       "    <tr>\n",
       "      <th>17371</th>\n",
       "      <td>2010-09-21</td>\n",
       "      <td>80.1107</td>\n",
       "      <td>28.079700</td>\n",
       "      <td>Storøya</td>\n",
       "      <td>ursus maritimus</td>\n",
       "      <td></td>\n",
       "      <td>5</td>\n",
       "      <td></td>\n",
       "      <td></td>\n",
       "      <td></td>\n",
       "      <td></td>\n",
       "      <td>7</td>\n",
       "      <td></td>\n",
       "      <td></td>\n",
       "      <td></td>\n",
       "      <td>20</td>\n",
       "      <td>unknown</td>\n",
       "      <td>Two females with yearlings, two females with ...</td>\n",
       "    </tr>\n",
       "    <tr>\n",
       "      <th>17372</th>\n",
       "      <td>2012-07-11</td>\n",
       "      <td>79.01</td>\n",
       "      <td>20.500000</td>\n",
       "      <td>Hochstetterbreen</td>\n",
       "      <td>ursus maritimus</td>\n",
       "      <td></td>\n",
       "      <td>2</td>\n",
       "      <td></td>\n",
       "      <td></td>\n",
       "      <td></td>\n",
       "      <td></td>\n",
       "      <td>3</td>\n",
       "      <td></td>\n",
       "      <td></td>\n",
       "      <td></td>\n",
       "      <td>22</td>\n",
       "      <td>ice</td>\n",
       "      <td></td>\n",
       "    </tr>\n",
       "    <tr>\n",
       "      <th>17373</th>\n",
       "      <td>2015-08-28</td>\n",
       "      <td>78.9354</td>\n",
       "      <td>28.635900</td>\n",
       "      <td>Kongsøya</td>\n",
       "      <td>ursus maritimus</td>\n",
       "      <td>0</td>\n",
       "      <td>5</td>\n",
       "      <td>18</td>\n",
       "      <td>7</td>\n",
       "      <td>0</td>\n",
       "      <td></td>\n",
       "      <td>0</td>\n",
       "      <td>0</td>\n",
       "      <td></td>\n",
       "      <td>0</td>\n",
       "      <td>30</td>\n",
       "      <td>land</td>\n",
       "      <td>Hele øya</td>\n",
       "    </tr>\n",
       "    <tr>\n",
       "      <th>17374</th>\n",
       "      <td>2004-09-01</td>\n",
       "      <td>79.869</td>\n",
       "      <td>27.179000</td>\n",
       "      <td>Italianeset</td>\n",
       "      <td>ursus maritimus</td>\n",
       "      <td></td>\n",
       "      <td></td>\n",
       "      <td>31</td>\n",
       "      <td></td>\n",
       "      <td></td>\n",
       "      <td></td>\n",
       "      <td>1</td>\n",
       "      <td></td>\n",
       "      <td></td>\n",
       "      <td></td>\n",
       "      <td>32</td>\n",
       "      <td>land</td>\n",
       "      <td>spread around island</td>\n",
       "    </tr>\n",
       "  </tbody>\n",
       "</table>\n",
       "<p>17375 rows × 18 columns</p>\n",
       "</div>"
      ],
      "text/plain": [
       "              Date          Latitude    Longitude            Location   \\\n",
       "0       2000-07-29              78.55    25.416667                       \n",
       "1       2000-08-08   79.1166666666667    21.441667                       \n",
       "2       2000-08-16             78.917    24.050000                       \n",
       "3       2001-08-08             79.268    20.858000                       \n",
       "4       2005-08-06             78.932    11.922000        Nye Ålesund    \n",
       "...             ...               ...          ...                 ...   \n",
       "17370   2006-07-25             80.703    20.883000          Phippsøya    \n",
       "17371   2010-09-21            80.1107    28.079700            Storøya    \n",
       "17372   2012-07-11              79.01    20.500000   Hochstetterbreen    \n",
       "17373   2015-08-28            78.9354    28.635900           Kongsøya    \n",
       "17374   2004-09-01             79.869    27.179000        Italianeset    \n",
       "\n",
       "                   Species   Adult M   Adult F   Adult   Subadult   \\\n",
       "0       balaena mysticetus                                           \n",
       "1       balaena mysticetus                                           \n",
       "2       balaena mysticetus                                           \n",
       "3       balaena mysticetus                                           \n",
       "4       balaena mysticetus                                           \n",
       "...                     ...       ...       ...     ...        ...   \n",
       "17370      ursus maritimus                                           \n",
       "17371      ursus maritimus                    5                      \n",
       "17372      ursus maritimus                    2                      \n",
       "17373      ursus maritimus          0         5      18          7   \n",
       "17374      ursus maritimus                           31              \n",
       "\n",
       "       Polar bear condition   Polar bear den   Cub/calf/pup   Bear cubs   \\\n",
       "0                                                                          \n",
       "1                                                                          \n",
       "2                                                                          \n",
       "3                                                                          \n",
       "4                                                                          \n",
       "...                      ...              ...            ...         ...   \n",
       "17370                                                                      \n",
       "17371                                                      7               \n",
       "17372                                                      3               \n",
       "17373                      0                               0           0   \n",
       "17374                                                      1               \n",
       "\n",
       "       Dead/alive   Unidentified   Total    Habitat   \\\n",
       "0                                       1     water    \n",
       "1                                       1     water    \n",
       "2                                       1     water    \n",
       "3                                       1     water    \n",
       "4                                       1     water    \n",
       "...            ...            ...     ...        ...   \n",
       "17370                                  19      land    \n",
       "17371                                  20   unknown    \n",
       "17372                                  22       ice    \n",
       "17373                           0      30      land    \n",
       "17374                                  32      land    \n",
       "\n",
       "                                      Occurrence remark   \n",
       "0                      V. Large individual possibly a F   \n",
       "1                                                         \n",
       "2                                                         \n",
       "3                                                         \n",
       "4                                                         \n",
       "...                                                  ...  \n",
       "17370                          Feeding on whale carcass   \n",
       "17371   Two females with yearlings, two females with ...  \n",
       "17372                                                     \n",
       "17373                                          Hele øya   \n",
       "17374                              spread around island   \n",
       "\n",
       "[17375 rows x 18 columns]"
      ]
     },
     "execution_count": 25,
     "metadata": {},
     "output_type": "execute_result"
    }
   ],
   "source": [
    "import pandas as pd\n",
    "import seaborn as sns\n",
    "import numpy as np \n",
    "url = 'https://raw.githubusercontent.com/yveness7/IronHackIvet/main/mm/actic_mammals.csv'\n",
    "df = pd.read_csv(url)\n",
    "df\n"
   ]
  },
  {
   "cell_type": "code",
   "execution_count": 26,
   "id": "2a993097",
   "metadata": {},
   "outputs": [
    {
     "data": {
      "text/plain": [
       "Index([' Date ', ' Latitude ', ' Longitude ', ' Location ', ' Species ',\n",
       "       ' Adult M ', ' Adult F ', ' Adult ', ' Subadult ',\n",
       "       ' Polar bear condition ', ' Polar bear den ', ' Cub/calf/pup ',\n",
       "       ' Bear cubs ', ' Dead/alive ', ' Unidentified ', ' Total ', ' Habitat ',\n",
       "       ' Occurrence remark '],\n",
       "      dtype='object')"
      ]
     },
     "execution_count": 26,
     "metadata": {},
     "output_type": "execute_result"
    }
   ],
   "source": [
    "df.columns"
   ]
  },
  {
   "cell_type": "code",
   "execution_count": 27,
   "id": "d83c0d07",
   "metadata": {},
   "outputs": [
    {
     "data": {
      "text/plain": [
       "Index(['Date', 'Latitude', 'Longitude', 'Location', 'Species', 'Adult M',\n",
       "       'Adult F', 'Adult', 'Subadult', 'Polar bear condition',\n",
       "       'Polar bear den', 'Cub/calf/pup', 'Bear cubs', 'Dead/alive',\n",
       "       'Unidentified', 'Total', 'Habitat', 'Occurrence remark'],\n",
       "      dtype='object')"
      ]
     },
     "execution_count": 27,
     "metadata": {},
     "output_type": "execute_result"
    }
   ],
   "source": [
    "#get spaces out of the column names \n",
    "df.rename(columns=lambda x: x.strip(), inplace=True)\n",
    "df.columns"
   ]
  },
  {
   "cell_type": "code",
   "execution_count": 35,
   "id": "bc3bd79a",
   "metadata": {},
   "outputs": [
    {
     "data": {
      "text/plain": [
       "Index(['date', 'latitude', 'longitude', 'location', 'species', 'adult m',\n",
       "       'adult f', 'adult', 'subadult', 'polar bear condition',\n",
       "       'polar bear den', 'cub/calf/pup', 'bear cubs', 'dead/alive',\n",
       "       'unidentified', 'total', 'habitat', 'occurrence remark'],\n",
       "      dtype='object')"
      ]
     },
     "execution_count": 35,
     "metadata": {},
     "output_type": "execute_result"
    }
   ],
   "source": [
    "#names to lower case \n",
    "df.rename(columns=lambda x: x.lower(), inplace=True)\n",
    "df.columns"
   ]
  },
  {
   "cell_type": "code",
   "execution_count": 28,
   "id": "0ee249ed",
   "metadata": {},
   "outputs": [
    {
     "data": {
      "text/plain": [
       "array([' balaena mysticetus ', ' balaenoptera acutorostrata ',\n",
       "       ' balaenoptera borealis ', ' balaenoptera musculus ',\n",
       "       ' balaenoptera physalus ', ' cystophora cristata ',\n",
       "       ' delphinapterus leucas ', ' erignathus barbatus ',\n",
       "       ' globicephala melas ', ' hyperoodon ampullatus ',\n",
       "       ' lagenorhynchus albirostris ', ' megaptera novaeangliae ',\n",
       "       ' monodon monoceros ', ' odobenus rosmarus ', ' orcinus orca ',\n",
       "       ' phoca groenlandica ', ' phoca vitulina ',\n",
       "       ' physeter macrocephalus ', ' pusa hispida ', ' ursus maritimus '],\n",
       "      dtype=object)"
      ]
     },
     "execution_count": 28,
     "metadata": {},
     "output_type": "execute_result"
    }
   ],
   "source": [
    "df.Species.unique()"
   ]
  },
  {
   "cell_type": "code",
   "execution_count": 41,
   "id": "2fb7a828",
   "metadata": {},
   "outputs": [
    {
     "data": {
      "text/plain": [
       "array(['balaena mysticetus', 'balaenoptera acutorostrata',\n",
       "       'balaenoptera borealis', 'balaenoptera musculus',\n",
       "       'balaenoptera physalus', 'cystophora cristata',\n",
       "       'delphinapterus leucas', 'erignathus barbatus',\n",
       "       'globicephala melas', 'hyperoodon ampullatus',\n",
       "       'lagenorhynchus albirostris', 'megaptera novaeangliae',\n",
       "       'monodon monoceros', 'odobenus rosmarus', 'orcinus orca',\n",
       "       'phoca groenlandica', 'phoca vitulina', 'physeter macrocephalus',\n",
       "       'pusa hispida', 'ursus maritimus'], dtype=object)"
      ]
     },
     "execution_count": 41,
     "metadata": {},
     "output_type": "execute_result"
    }
   ],
   "source": [
    "#need to remove the spaces \n",
    "df['species'] = df['species'].str.strip()\n",
    "df.species.unique()"
   ]
  },
  {
   "cell_type": "code",
   "execution_count": 29,
   "id": "a107d907",
   "metadata": {},
   "outputs": [
    {
     "data": {
      "text/plain": [
       "20"
      ]
     },
     "execution_count": 29,
     "metadata": {},
     "output_type": "execute_result"
    }
   ],
   "source": [
    "df.Species.nunique()"
   ]
  },
  {
   "cell_type": "code",
   "execution_count": 30,
   "id": "03c48184",
   "metadata": {},
   "outputs": [
    {
     "data": {
      "text/plain": [
       "array([' ', ' Nye Ålesund ', ' Fram Strait ', ..., ' Freemandsundut ',\n",
       "       ' Kapp Hammerfest ', ' Italianeset '], dtype=object)"
      ]
     },
     "execution_count": 30,
     "metadata": {},
     "output_type": "execute_result"
    }
   ],
   "source": [
    "df.Location.unique() #need to replace empty values "
   ]
  },
  {
   "cell_type": "code",
   "execution_count": 31,
   "id": "3168356c",
   "metadata": {},
   "outputs": [
    {
     "data": {
      "text/plain": [
       "2670"
      ]
     },
     "execution_count": 31,
     "metadata": {},
     "output_type": "execute_result"
    }
   ],
   "source": [
    "df.Location.nunique()"
   ]
  },
  {
   "cell_type": "code",
   "execution_count": 32,
   "id": "68a37e2c",
   "metadata": {},
   "outputs": [
    {
     "data": {
      "text/plain": [
       "2120"
      ]
     },
     "execution_count": 32,
     "metadata": {},
     "output_type": "execute_result"
    }
   ],
   "source": [
    "df.Date.nunique()"
   ]
  },
  {
   "cell_type": "code",
   "execution_count": 33,
   "id": "1ca51990",
   "metadata": {},
   "outputs": [
    {
     "data": {
      "text/plain": [
       "21"
      ]
     },
     "execution_count": 33,
     "metadata": {},
     "output_type": "execute_result"
    }
   ],
   "source": [
    "df.Habitat.nunique()"
   ]
  },
  {
   "cell_type": "code",
   "execution_count": 34,
   "id": "8db859fd",
   "metadata": {},
   "outputs": [
    {
     "data": {
      "text/plain": [
       "array([' water ', ' unknown ', ' ', ' ice ', ' land ', ' Ocean ',\n",
       "       ' at sea ', ' at sea, ice edge ', 'ice', ' Glacier ice ',\n",
       "       ' In Hornsund ', ' swimming ', ' on land ', ' Land, Water ',\n",
       "       ' Swimming & on ice ', ' Beach ', ' Shore and water ',\n",
       "       ' 19.00 Martin ', ' Fast ice ', ' Pack ice ', ' Land '],\n",
       "      dtype=object)"
      ]
     },
     "execution_count": 34,
     "metadata": {},
     "output_type": "execute_result"
    }
   ],
   "source": [
    "df.Habitat.unique()"
   ]
  },
  {
   "cell_type": "code",
   "execution_count": null,
   "id": "4b8b650f",
   "metadata": {},
   "outputs": [],
   "source": []
  }
 ],
 "metadata": {
  "kernelspec": {
   "display_name": "Python 3 (ipykernel)",
   "language": "python",
   "name": "python3"
  },
  "language_info": {
   "codemirror_mode": {
    "name": "ipython",
    "version": 3
   },
   "file_extension": ".py",
   "mimetype": "text/x-python",
   "name": "python",
   "nbconvert_exporter": "python",
   "pygments_lexer": "ipython3",
   "version": "3.11.4"
  }
 },
 "nbformat": 4,
 "nbformat_minor": 5
}
