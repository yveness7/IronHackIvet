{
 "cells": [
  {
   "cell_type": "markdown",
   "id": "d3ad42a9",
   "metadata": {},
   "source": [
    "## Model Validation\n",
    "\n",
    "    Model Evaluation:\n",
    "        MSE.\n",
    "        RMSE.\n",
    "        MAE.\n",
    "        R2.\n",
    "        Adjusted R2.\n",
    "    Feature Importance.\n"
   ]
  },
  {
   "cell_type": "code",
   "execution_count": 2,
   "id": "98df193e",
   "metadata": {},
   "outputs": [],
   "source": [
    "import seaborn as sns\n",
    "import pandas as pd \n",
    "import numpy as np \n",
    "url = 'https://raw.githubusercontent.com/repicao/IH_AB_DA_FT_OCT_2023/main/Class_Materials/Case_Studies/Customer_Analysis_Case_Study/Data/Data_Marketing_Customer_Analysis_Round3.csv'\n",
    "df = pd.read_csv(url)\n",
    "df = df.dropna()"
   ]
  },
  {
   "cell_type": "code",
   "execution_count": null,
   "id": "435bb66e",
   "metadata": {},
   "outputs": [],
   "source": [
    "df = df.select_dtypes(include = numbers) #numerical \n",
    "y = df['total_claim_amount']\n"
   ]
  }
 ],
 "metadata": {
  "kernelspec": {
   "display_name": "Python 3 (ipykernel)",
   "language": "python",
   "name": "python3"
  },
  "language_info": {
   "codemirror_mode": {
    "name": "ipython",
    "version": 3
   },
   "file_extension": ".py",
   "mimetype": "text/x-python",
   "name": "python",
   "nbconvert_exporter": "python",
   "pygments_lexer": "ipython3",
   "version": "3.11.4"
  }
 },
 "nbformat": 4,
 "nbformat_minor": 5
}
