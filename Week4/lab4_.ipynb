{
 "cells": [
  {
   "cell_type": "markdown",
   "id": "ae6170f4",
   "metadata": {},
   "source": [
    "## Instructions\n",
    "\n",
    "    It is assumed that the mean systolic blood pressure is μ = 120 mm Hg. In the Honolulu Heart Study, a sample of n = 100 people had an average systolic blood pressure of 130.1 mm Hg with a standard deviation of 21.21 mm Hg. Is the group significantly different (with respect to systolic blood pressure!) from the regular population?\n",
    "        Set up the hypothesis test.\n",
    "        Write down all the steps followed for setting up the test.\n",
    "        Calculate the test statistic by hand and also code it in Python. It should be 4.76190. What decision can you make based on this calculated value?\n"
   ]
  },
  {
   "cell_type": "code",
   "execution_count": 7,
   "id": "c498980a",
   "metadata": {},
   "outputs": [],
   "source": [
    "import numpy as np\n",
    "import pandas as pd\n",
    "import scipy.stats as stats\n",
    "import matplotlib.pyplot as plt\n",
    "import seaborn as sns"
   ]
  },
  {
   "cell_type": "markdown",
   "id": "aef8d914",
   "metadata": {},
   "source": [
    "## Setting up the data"
   ]
  },
  {
   "cell_type": "code",
   "execution_count": 36,
   "id": "a994b20d",
   "metadata": {},
   "outputs": [],
   "source": [
    "pop_mean = 120 \n",
    "n = 100 # >30 but we dont have the pop_std_dev, so we need to do a t-test \n",
    "sample_std_dev = 21.21\n",
    "sample_mean = 130.1\n",
    "\n",
    "\n",
    "#result is 4.76190"
   ]
  },
  {
   "cell_type": "markdown",
   "id": "ccf48a6d",
   "metadata": {},
   "source": [
    "## Hypothesis \n",
    "Ho: m = 130.1\n",
    "\n",
    "Ha: m =! 130.1"
   ]
  },
  {
   "cell_type": "markdown",
   "id": "6773b2ef",
   "metadata": {},
   "source": [
    "## Calculate the standart error"
   ]
  },
  {
   "cell_type": "code",
   "execution_count": 43,
   "id": "8365fca3",
   "metadata": {},
   "outputs": [
    {
     "name": "stdout",
     "output_type": "stream",
     "text": [
      "The SE  is: 2.12\n"
     ]
    }
   ],
   "source": [
    "#se = sample_std_dev / (n ** 0.5)\n",
    "\n",
    "se = sample_std_dev/np.sqrt(n)\n",
    "#se\n",
    "print(\"The SE  is: {:.2f}\".format(se))"
   ]
  },
  {
   "cell_type": "markdown",
   "id": "3713ef00",
   "metadata": {},
   "source": [
    "## Calculate the t score"
   ]
  },
  {
   "cell_type": "code",
   "execution_count": 46,
   "id": "07a70b71",
   "metadata": {},
   "outputs": [
    {
     "name": "stdout",
     "output_type": "stream",
     "text": [
      "The t score of our sample is: 4.76190\n"
     ]
    }
   ],
   "source": [
    "t = (sample_mean-pop_mean)/se\n",
    "print(\"The t score of our sample is: {:.5f}\".format(t))"
   ]
  },
  {
   "cell_type": "code",
   "execution_count": 47,
   "id": "558df910",
   "metadata": {},
   "outputs": [],
   "source": [
    "#result is 4.76190"
   ]
  },
  {
   "cell_type": "markdown",
   "id": "07b62523",
   "metadata": {},
   "source": [
    "## Fix the confidence level to 95% which is the same as saying 𝛼=1−0.95=0.05 \n",
    "\n",
    "Now we need to find out for which value on the x axis of a t distribution we get 0.95 of the total area."
   ]
  },
  {
   "cell_type": "markdown",
   "id": "2fcc6362",
   "metadata": {},
   "source": [
    "confidence level to 95% = 0.95"
   ]
  },
  {
   "cell_type": "markdown",
   "id": "63c67731",
   "metadata": {},
   "source": [
    "Two sided: Ha: 𝜇≠100"
   ]
  },
  {
   "cell_type": "code",
   "execution_count": 48,
   "id": "86c8ce62",
   "metadata": {},
   "outputs": [
    {
     "name": "stdout",
     "output_type": "stream",
     "text": [
      "Our zc score is: 1.95996\n"
     ]
    }
   ],
   "source": [
    "zc = stats.norm.ppf(1-(0.05/2))\n",
    "print(\"Our zc score is: {:.5f}\".format(zc))"
   ]
  },
  {
   "cell_type": "markdown",
   "id": "19095a12",
   "metadata": {},
   "source": [
    "## Conclusion:\n",
    "\n",
    "We reject the null hypothesis and we accept the Ha: m =! 130.1, hence the group appears to be significantly different (with respect to systolic blood pressure!) from the regular population. "
   ]
  },
  {
   "cell_type": "code",
   "execution_count": null,
   "id": "e2f1072f",
   "metadata": {},
   "outputs": [],
   "source": []
  }
 ],
 "metadata": {
  "kernelspec": {
   "display_name": "Python 3 (ipykernel)",
   "language": "python",
   "name": "python3"
  },
  "language_info": {
   "codemirror_mode": {
    "name": "ipython",
    "version": 3
   },
   "file_extension": ".py",
   "mimetype": "text/x-python",
   "name": "python",
   "nbconvert_exporter": "python",
   "pygments_lexer": "ipython3",
   "version": "3.11.4"
  }
 },
 "nbformat": 4,
 "nbformat_minor": 5
}
