{
 "cells": [
  {
   "cell_type": "code",
   "execution_count": 1,
   "id": "7909e9a6-1f55-40cb-8413-3d33795eaf75",
   "metadata": {},
   "outputs": [],
   "source": [
    "# define rooms and items\n",
    "\n",
    "couch = {\n",
    "    \"name\": \"couch\",\n",
    "    \"type\": \"furniture\",\n",
    "\n",
    "}\n",
    "\n",
    "door_a = {\n",
    "    \"name\": \"door a\",\n",
    "    \"type\": \"door\",\n",
    "}\n",
    "\n",
    "key_a = {\n",
    "    \"name\": \"key for door a\",\n",
    "    \"type\": \"key\",\n",
    "    \"target\": door_a,\n",
    "}\n",
    "\n",
    "piano = {\n",
    "    \"name\": \"piano\",\n",
    "    \"type\": \"furniture\",\n",
    "}\n",
    "\n",
    "game_room = {\n",
    "    \"name\": \"game room\",\n",
    "    \"type\": \"room\",\n",
    "}\n",
    "\n",
    "bedroom1 = {\n",
    "    \"name\": \"bedroom 1\",\n",
    "    \"type\": \"room\",\n",
    "}\n",
    "\n",
    "bedroom2 = {\n",
    "    \"name\": \"bedroom 2\",\n",
    "    \"type\": \"room\",\n",
    "}\n",
    "\n",
    "living_room = {\n",
    "    \"name\": \"living room\",\n",
    "    \"type\": \"room\",\n",
    "}\n",
    "\n",
    "door_b = {\n",
    "    \"name\": \"door b\",\n",
    "    \"type\": \"door\",\n",
    "}\n",
    "\n",
    "queen_bed = {\n",
    "    \"name\": \"queen bed\",\n",
    "    \"type\": \"furniture\",\n",
    "}\n",
    "\n",
    "double_bed = {\n",
    "    \"name\": \"double bed\",\n",
    "    \"type\": \"furniture\",\n",
    "\n",
    "}\n",
    "\n",
    "dinning_table = {\n",
    "    \"name\" : \"double bed\",\n",
    "    \"type\" : \"furniture\",\n",
    "\n",
    "}\n",
    "\n",
    "dresser = {\n",
    "    \"name\": \"dresser\",\n",
    "    \"type\": \"furniture\",\n",
    "\n",
    "}\n",
    "\n",
    "dinning_table = {\n",
    "    \"name\": \"dinning table\",\n",
    "    \"type\": \"furniture\",\n",
    "\n",
    "}\n",
    "\n",
    "\n",
    "key_b = {\n",
    "    \"name\": \"key for door b\",\n",
    "    \"type\": \"key\",\n",
    "    \"target\": door_b,\n",
    "}\n",
    "\n",
    "door_c = {\n",
    "    \"name\": \"door c\",\n",
    "    \"type\": \"door\",\n",
    "}\n",
    "\n",
    "key_c = {\n",
    "    \"name\": \"key for door c\",\n",
    "    \"type\": \"key\",\n",
    "    \"target\": door_c,\n",
    "}\n",
    "\n",
    "door_d = {\n",
    "    \"name\": \"door d\",\n",
    "    \"type\": \"door\",\n",
    "}\n",
    "\n",
    "key_d = {\n",
    "    \"name\": \"key for door d\",\n",
    "    \"type\": \"key\",\n",
    "    \"target\": door_d,\n",
    "}\n",
    "\n",
    "outside = {\n",
    "  \"name\": \"outside\"\n",
    "}\n",
    "\n",
    "all_rooms = [game_room, bedroom1, bedroom2, living_room, outside]\n",
    "\n",
    "all_doors = [door_a, door_b, door_c, door_d]\n",
    "\n",
    "# define which items/rooms are related\n",
    "\n",
    "object_relations = {\n",
    "    \"game room\": [couch, piano, door_a],\n",
    "    \"piano\": [key_a],\n",
    "    \"bedroom 1\": [queen_bed, door_b,door_c],\n",
    "    \"queen bed\": [key_b],\n",
    "    \"bedroom 2\": [door_b, double_bed, dresser],\n",
    "    \"double bed\": [key_c],\n",
    "    \"dresser\": [key_d],\n",
    "    \"living room\": [dinning_table, door_d],\n",
    "    \"door a\": [game_room, bedroom1],\n",
    "    \"door b\": [bedroom1, bedroom2],\n",
    "    \"door c\": [bedroom1, living_room],\n",
    "    \"door d\": [outside],\n",
    "    \"dinning table\": [living_room]\n",
    "}\n",
    "\n",
    "# define game state. Do not directly change this dict. \n",
    "# Instead, when a new game starts, make a copy of this\n",
    "# dict and use the copy to store gameplay state. This \n",
    "# way you can replay the game multiple times.\n",
    "\n",
    "game_state = {\n",
    "    \"current_room\": game_room,\n",
    "    \"keys_collected\": [],\n",
    "    \"target_room\": outside\n",
    "}\n"
   ]
  },
  {
   "cell_type": "code",
   "execution_count": 2,
   "id": "5c81b7c1-2289-4355-b114-88b602d09847",
   "metadata": {},
   "outputs": [],
   "source": [
    "# Escape game Functions\n",
    "\n",
    "# functions.py\n",
    "\n",
    "def greet(name):\n",
    "    return f\"Hello, {name}!\"\n",
    "\n",
    "def linebreak():\n",
    "    \"\"\"\n",
    "    Print a line break\n",
    "    \"\"\"\n",
    "    print(\"\\n\\n\")\n",
    "\n",
    "def start_game():\n",
    "    \"\"\"\n",
    "    Start the game\n",
    "    \"\"\"\n",
    "    esc_art = \"\"\"\n",
    "\n",
    "███████╗███████╗ ██████╗ █████╗ ██████╗ ███████╗    ██████╗  ██████╗  ██████╗ ███╗   ███╗     ██████╗  █████╗ ███╗   ███╗███████╗    \n",
    "██╔════╝██╔════╝██╔════╝██╔══██╗██╔══██╗██╔════╝    ██╔══██╗██╔═══██╗██╔═══██╗████╗ ████║    ██╔════╝ ██╔══██╗████╗ ████║██╔════╝    \n",
    "█████╗  ███████╗██║     ███████║██████╔╝█████╗      ██████╔╝██║   ██║██║   ██║██╔████╔██║    ██║  ███╗███████║██╔████╔██║█████╗      \n",
    "██╔══╝  ╚════██║██║     ██╔══██║██╔═══╝ ██╔══╝      ██╔══██╗██║   ██║██║   ██║██║╚██╔╝██║    ██║   ██║██╔══██║██║╚██╔╝██║██╔══╝      \n",
    "███████╗███████║╚██████╗██║  ██║██║     ███████╗    ██║  ██║╚██████╔╝╚██████╔╝██║ ╚═╝ ██║    ╚██████╔╝██║  ██║██║ ╚═╝ ██║███████╗    \n",
    "╚══════╝╚══════╝ ╚═════╝╚═╝  ╚═╝╚═╝     ╚══════╝    ╚═╝  ╚═╝ ╚═════╝  ╚═════╝ ╚═╝     ╚═╝     ╚═════╝ ╚═╝  ╚═╝╚═╝     ╚═╝╚══════╝    \n",
    "                                                                                                                                     \n",
    "\n",
    "\"\"\"\n",
    "    \n",
    "    print(esc_art)\n",
    "    print(\"\\n\\033[1mWelcome to the Escape Game!!!\\033[0m\")\n",
    "    print(\"\\nYou wake up on a couch and find yourself in a strange house with no windows which you have never been to.\")\n",
    "    print(\"\\nYou don't remember why you are here and what had happened before.\")\n",
    "    print(\"\\nYou feel some unknown danger is approaching and you must get out of the house, \\033[1mRIGHT NOW!\\033[0m\")\n",
    "    print(\"\\n\\033[1m- - - - - - - - - - - - - - - - - - - - - - - - - - - - - - - - - - - - - - - - - - - - - - - - - - - - - - - \\033[0m\")\n",
    "    print(\"\\n\\033[1mARE YOU READY? LOS GEHTS!!!\\033[0m\")\n",
    "    play_room(game_state[\"current_room\"])\n",
    "    \n",
    "def play_room(room):\n",
    "    \"\"\"\n",
    "    Play a room. First check if the room being played is the target room.\n",
    "    If it is, the game will end with success. Otherwise, let player either \n",
    "    explore (list all items in this room) or examine an item found here.\n",
    "    \"\"\"\n",
    "    \n",
    "    you_win_art = \"\"\"\n",
    "\n",
    "██╗   ██╗ ██████╗ ██╗   ██╗    ██╗    ██╗██╗███╗   ██╗    ██╗\n",
    "╚██╗ ██╔╝██╔═══██╗██║   ██║    ██║    ██║██║████╗  ██║    ██║\n",
    " ╚████╔╝ ██║   ██║██║   ██║    ██║ █╗ ██║██║██╔██╗ ██║    ██║\n",
    "  ╚██╔╝  ██║   ██║██║   ██║    ██║███╗██║██║██║╚██╗██║    ╚═╝\n",
    "   ██║   ╚██████╔╝╚██████╔╝    ╚███╔███╔╝██║██║ ╚████║    ██╗\n",
    "   ╚═╝    ╚═════╝  ╚═════╝      ╚══╝╚══╝ ╚═╝╚═╝  ╚═══╝    ╚═╝\n",
    "\n",
    "                                                             \n",
    "    \n",
    "\"\"\"\n",
    "    \n",
    "    \n",
    "    \n",
    "    \n",
    "    game_state[\"current_room\"] = room\n",
    "    if(game_state[\"current_room\"] == game_state[\"target_room\"]):\n",
    "        print(\"\\nCONGRATS!!! YOU ESCAPED \")\n",
    "        print(you_win_art)\n",
    "    else:\n",
    "        print(\"\\n\\nYou are now in the \" + room[\"name\"] + \".\")\n",
    "        intended_action = input(\"\\n    --> What would you like to do? Type 'explore' or 'examine'? \").strip()\n",
    "        if intended_action == \"explore\":\n",
    "            explore_room(room)\n",
    "            play_room(room)\n",
    "        elif intended_action == \"examine\":\n",
    "            examine_item(input(\"\\n    --> What would you like to examine? \").strip())\n",
    "        else:\n",
    "            print(\"\\n    --> Not sure what you mean. Type 'explore' or 'examine'.\")\n",
    "            play_room(room)\n",
    "        linebreak()  \n",
    "        \n",
    "def explore_room(room):\n",
    "    \"\"\"\n",
    "    Explore a room. List all items belonging to this room.\n",
    "    \"\"\"\n",
    "    items = [i[\"name\"] for i in object_relations[room[\"name\"]]]\n",
    "    print(\"\\nYou are exploring the \" + room[\"name\"] + \". Here you find: \" + \", \".join(items))        \n",
    "        \n",
    "def get_next_room_of_door(door, current_room):\n",
    "    \"\"\"\n",
    "    From object_relations, find the two rooms connected to the given door.\n",
    "    Return the room that is not the current_room.\n",
    "    \"\"\"\n",
    "    connected_rooms = object_relations[door[\"name\"]]\n",
    "    for room in connected_rooms:\n",
    "        if(not current_room == room):\n",
    "            return room\n",
    "\n",
    "def examine_item(item_name):\n",
    "    \"\"\"\n",
    "    Examine an item which can be a door or furniture.\n",
    "    First make sure the intended item belongs to the current room.\n",
    "    Then check if the item is a door. Tell player if key hasn't been \n",
    "    collected yet. Otherwise ask player if they want to go to the next\n",
    "    room. If the item is not a door, then check if it contains keys.\n",
    "    Collect the key if found and update the game state. At the end,\n",
    "    play either the current or the next room depending on the game state\n",
    "    to keep playing.\n",
    "    \"\"\"\n",
    "    current_room = game_state[\"current_room\"]\n",
    "    next_room = \"\"\n",
    "    output = None\n",
    "    \n",
    "    locked_art = \"\"\"\n",
    "\n",
    "\n",
    "██╗      ██████╗  ██████╗██╗  ██╗███████╗██████╗         ██╗\n",
    "██║     ██╔═══██╗██╔════╝██║ ██╔╝██╔════╝██╔══██╗    ██╗██╔╝\n",
    "██║     ██║   ██║██║     █████╔╝ █████╗  ██║  ██║    ╚═╝██║ \n",
    "██║     ██║   ██║██║     ██╔═██╗ ██╔══╝  ██║  ██║    ██╗██║ \n",
    "███████╗╚██████╔╝╚██████╗██║  ██╗███████╗██████╔╝    ╚═╝╚██╗\n",
    "╚══════╝ ╚═════╝  ╚═════╝╚═╝  ╚═╝╚══════╝╚═════╝         ╚═╝\n",
    "                                                            \n",
    "\n",
    "\"\"\"\n",
    "   \n",
    "    \n",
    "    unlocked_art = \"\"\"\n",
    "\n",
    "██╗   ██╗███╗   ██╗██╗      ██████╗  ██████╗██╗  ██╗███████╗██████╗        ███╗\n",
    "██║   ██║████╗  ██║██║     ██╔═══██╗██╔════╝██║ ██╔╝██╔════╝██╔══██╗    ██╗╚██║\n",
    "██║   ██║██╔██╗ ██║██║     ██║   ██║██║     █████╔╝ █████╗  ██║  ██║    ╚═╝ ██║\n",
    "██║   ██║██║╚██╗██║██║     ██║   ██║██║     ██╔═██╗ ██╔══╝  ██║  ██║    ██╗ ██║\n",
    "╚██████╔╝██║ ╚████║███████╗╚██████╔╝╚██████╗██║  ██╗███████╗██████╔╝    ╚═╝███║\n",
    " ╚═════╝ ╚═╝  ╚═══╝╚══════╝ ╚═════╝  ╚═════╝╚═╝  ╚═╝╚══════╝╚═════╝        ╚══╝\n",
    "                                                                               \n",
    "\n",
    "\n",
    "\"\"\"\n",
    "\n",
    "    key_art = \"\"\"                                                                                   \n",
    "                                                                                            \n",
    "                                                                                            \n",
    "                                                                                            \n",
    "                                                                                            \n",
    "                      ██████████                                                            \n",
    "                  ████░░░░░░░░░░██████                                                   \n",
    "                ██░░░░░░░░░░░░░░░░░░░░██                                                    \n",
    "              ██░░░░░░░░░░░░░░░░░░░░░░░░██    ████                                          \n",
    "            ▓▓░░░░░░░░░░░░░░░░░░░░░░░░░░██  ██░░██                                          \n",
    "            ██░░░░░░░░░░░░░░░░░░░░░░░░░░░░██░░░░████████████████████████████████            \n",
    "          ██░░░░░░██████░░░░░░░░░░░░░░░░░░░░░░░░░░░░░░░░░░░░░░░░░░░░░░░░░░░░░░░░██          \n",
    "          ██░░░░██      ██░░░░░░░░░░░░░░░░░░░░░░░░░░░░░░░░░░░░░░░░░░░░░░░░░░░░░░░░██        \n",
    "          ██░░░░██      ▓▓░░░░░░░░░░░░░░░░░░░░░░░░░░░░░░░░░░░░░░░░░░░░░░░░░░░░░░██          \n",
    "          ██░░░░██      ██░░░░░░░░░░░░░░░░░░░░░░░░░░░░░░░░▓▓░░░░░░░░▓▓░░░░░░░░██            \n",
    "          ██░░░░░░██████░░░░░░░░░░░░░░░░░░░░░░░░██████░░██  ██░░░░██  ████████              \n",
    "            ██░░░░░░░░░░░░░░░░░░░░░░░░░░░░██░░░░██    ██      ████                          \n",
    "            ██░░░░░░░░░░░░░░░░░░░░░░░░░░██  ██░░██                                          \n",
    "              ██░░░░░░░░░░░░░░░░░░░░░░░░██    ████                                          \n",
    "                ██░░░░░░░░░░░░░░░░░░░░██                                                    \n",
    "                  ████░░░░░░░░░░██████                                                      \n",
    "                  ░░░░▓▓▓▓▓▓▓▓▓▓░░░░░░                                                      \n",
    "                                                                                            \n",
    "                                                                                            \n",
    "                                                                                         \n",
    "                 \"\"\"\n",
    "    \n",
    "    \n",
    "    \n",
    "    for item in object_relations[current_room[\"name\"]]:\n",
    "        if(item[\"name\"] == item_name):\n",
    "            output = \"\\nYou examine the \" + item_name + \". \"\n",
    "            if(item[\"type\"] == \"door\"):\n",
    "                have_key = False\n",
    "                for key in game_state[\"keys_collected\"]:\n",
    "                    if(key[\"target\"] == item):\n",
    "                        have_key = True\n",
    "                if(have_key):\n",
    "                    output += \"\\n\\n>>> You unlock it with a key you have. Well done!!! <<<\"\n",
    "                    print(unlocked_art)\n",
    "                    next_room = get_next_room_of_door(item, current_room)\n",
    "                else:\n",
    "                    output += \"\\nIt is locked but you don't have the key. Keep trying.\"\n",
    "                    print(locked_art)\n",
    "            else:\n",
    "                if(item[\"name\"] in object_relations and len(object_relations[item[\"name\"]])>0):\n",
    "                    item_found = object_relations[item[\"name\"]].pop()\n",
    "                    game_state[\"keys_collected\"].append(item_found)\n",
    "                    output += \"\\n\\n>>> You found \" + item_found[\"name\"] + \". <<<\"\n",
    "                    print(key_art)\n",
    "                else:\n",
    "                    output += \"\\nThere isn't anything interesting about it. Look somewhere else!\"\n",
    "            print(output)\n",
    "            break\n",
    "\n",
    "    if(output is None):\n",
    "        print(\"\\nThe item you requested is not found in the current room.\")\n",
    "    \n",
    "    if(next_room and input(\"\\n    --> Do you want to go to the next room? Enter 'yes' or 'no' \").strip() == 'yes'):\n",
    "        play_room(next_room)\n",
    "    else:\n",
    "        play_room(current_room)\n",
    "        "
   ]
  },
  {
   "cell_type": "code",
   "execution_count": 3,
   "id": "e13c09da-76a6-4363-a060-a36c777f2c4a",
   "metadata": {},
   "outputs": [
    {
     "name": "stdout",
     "output_type": "stream",
     "text": [
      "\n",
      "\n",
      "███████╗███████╗ ██████╗ █████╗ ██████╗ ███████╗    ██████╗  ██████╗  ██████╗ ███╗   ███╗     ██████╗  █████╗ ███╗   ███╗███████╗    \n",
      "██╔════╝██╔════╝██╔════╝██╔══██╗██╔══██╗██╔════╝    ██╔══██╗██╔═══██╗██╔═══██╗████╗ ████║    ██╔════╝ ██╔══██╗████╗ ████║██╔════╝    \n",
      "█████╗  ███████╗██║     ███████║██████╔╝█████╗      ██████╔╝██║   ██║██║   ██║██╔████╔██║    ██║  ███╗███████║██╔████╔██║█████╗      \n",
      "██╔══╝  ╚════██║██║     ██╔══██║██╔═══╝ ██╔══╝      ██╔══██╗██║   ██║██║   ██║██║╚██╔╝██║    ██║   ██║██╔══██║██║╚██╔╝██║██╔══╝      \n",
      "███████╗███████║╚██████╗██║  ██║██║     ███████╗    ██║  ██║╚██████╔╝╚██████╔╝██║ ╚═╝ ██║    ╚██████╔╝██║  ██║██║ ╚═╝ ██║███████╗    \n",
      "╚══════╝╚══════╝ ╚═════╝╚═╝  ╚═╝╚═╝     ╚══════╝    ╚═╝  ╚═╝ ╚═════╝  ╚═════╝ ╚═╝     ╚═╝     ╚═════╝ ╚═╝  ╚═╝╚═╝     ╚═╝╚══════╝    \n",
      "                                                                                                                                     \n",
      "\n",
      "\n",
      "\n",
      "\u001b[1mWelcome to the Escape Game!!!\u001b[0m\n",
      "\n",
      "You wake up on a couch and find yourself in a strange house with no windows which you have never been to.\n",
      "\n",
      "You don't remember why you are here and what had happened before.\n",
      "\n",
      "You feel some unknown danger is approaching and you must get out of the house, \u001b[1mRIGHT NOW!\u001b[0m\n",
      "\n",
      "\u001b[1m- - - - - - - - - - - - - - - - - - - - - - - - - - - - - - - - - - - - - - - - - - - - - - - - - - - - - - - \u001b[0m\n",
      "\n",
      "\u001b[1mARE YOU READY? LOS GEHTS!!!\u001b[0m\n",
      "\n",
      "\n",
      "You are now in the game room.\n"
     ]
    },
    {
     "name": "stdin",
     "output_type": "stream",
     "text": [
      "\n",
      "    --> What would you like to do? Type 'explore' or 'examine'?  explore\n"
     ]
    },
    {
     "name": "stdout",
     "output_type": "stream",
     "text": [
      "\n",
      "You are exploring the game room. Here you find: couch, piano, door a\n",
      "\n",
      "\n",
      "You are now in the game room.\n"
     ]
    },
    {
     "name": "stdin",
     "output_type": "stream",
     "text": [
      "\n",
      "    --> What would you like to do? Type 'explore' or 'examine'?  examine\n",
      "\n",
      "    --> What would you like to examine?  piano\n"
     ]
    },
    {
     "name": "stdout",
     "output_type": "stream",
     "text": [
      "                                                                                   \n",
      "                                                                                            \n",
      "                                                                                            \n",
      "                                                                                            \n",
      "                                                                                            \n",
      "                      ██████████                                                            \n",
      "                  ████░░░░░░░░░░██████                                                   \n",
      "                ██░░░░░░░░░░░░░░░░░░░░██                                                    \n",
      "              ██░░░░░░░░░░░░░░░░░░░░░░░░██    ████                                          \n",
      "            ▓▓░░░░░░░░░░░░░░░░░░░░░░░░░░██  ██░░██                                          \n",
      "            ██░░░░░░░░░░░░░░░░░░░░░░░░░░░░██░░░░████████████████████████████████            \n",
      "          ██░░░░░░██████░░░░░░░░░░░░░░░░░░░░░░░░░░░░░░░░░░░░░░░░░░░░░░░░░░░░░░░░██          \n",
      "          ██░░░░██      ██░░░░░░░░░░░░░░░░░░░░░░░░░░░░░░░░░░░░░░░░░░░░░░░░░░░░░░░░██        \n",
      "          ██░░░░██      ▓▓░░░░░░░░░░░░░░░░░░░░░░░░░░░░░░░░░░░░░░░░░░░░░░░░░░░░░░██          \n",
      "          ██░░░░██      ██░░░░░░░░░░░░░░░░░░░░░░░░░░░░░░░░▓▓░░░░░░░░▓▓░░░░░░░░██            \n",
      "          ██░░░░░░██████░░░░░░░░░░░░░░░░░░░░░░░░██████░░██  ██░░░░██  ████████              \n",
      "            ██░░░░░░░░░░░░░░░░░░░░░░░░░░░░██░░░░██    ██      ████                          \n",
      "            ██░░░░░░░░░░░░░░░░░░░░░░░░░░██  ██░░██                                          \n",
      "              ██░░░░░░░░░░░░░░░░░░░░░░░░██    ████                                          \n",
      "                ██░░░░░░░░░░░░░░░░░░░░██                                                    \n",
      "                  ████░░░░░░░░░░██████                                                      \n",
      "                  ░░░░▓▓▓▓▓▓▓▓▓▓░░░░░░                                                      \n",
      "                                                                                            \n",
      "                                                                                            \n",
      "                                                                                         \n",
      "                 \n",
      "\n",
      "You examine the piano. \n",
      "\n",
      ">>> You found key for door a. <<<\n",
      "\n",
      "\n",
      "You are now in the game room.\n"
     ]
    },
    {
     "name": "stdin",
     "output_type": "stream",
     "text": [
      "\n",
      "    --> What would you like to do? Type 'explore' or 'examine'?  explore\n"
     ]
    },
    {
     "name": "stdout",
     "output_type": "stream",
     "text": [
      "\n",
      "You are exploring the game room. Here you find: couch, piano, door a\n",
      "\n",
      "\n",
      "You are now in the game room.\n"
     ]
    },
    {
     "name": "stdin",
     "output_type": "stream",
     "text": [
      "\n",
      "    --> What would you like to do? Type 'explore' or 'examine'?  examine\n",
      "\n",
      "    --> What would you like to examine?  door a\n"
     ]
    },
    {
     "name": "stdout",
     "output_type": "stream",
     "text": [
      "\n",
      "\n",
      "██╗   ██╗███╗   ██╗██╗      ██████╗  ██████╗██╗  ██╗███████╗██████╗        ███╗\n",
      "██║   ██║████╗  ██║██║     ██╔═══██╗██╔════╝██║ ██╔╝██╔════╝██╔══██╗    ██╗╚██║\n",
      "██║   ██║██╔██╗ ██║██║     ██║   ██║██║     █████╔╝ █████╗  ██║  ██║    ╚═╝ ██║\n",
      "██║   ██║██║╚██╗██║██║     ██║   ██║██║     ██╔═██╗ ██╔══╝  ██║  ██║    ██╗ ██║\n",
      "╚██████╔╝██║ ╚████║███████╗╚██████╔╝╚██████╗██║  ██╗███████╗██████╔╝    ╚═╝███║\n",
      " ╚═════╝ ╚═╝  ╚═══╝╚══════╝ ╚═════╝  ╚═════╝╚═╝  ╚═╝╚══════╝╚═════╝        ╚══╝\n",
      "                                                                               \n",
      "\n",
      "\n",
      "\n",
      "\n",
      "You examine the door a. \n",
      "\n",
      ">>> You unlock it with a key you have. Well done!!! <<<\n"
     ]
    },
    {
     "name": "stdin",
     "output_type": "stream",
     "text": [
      "\n",
      "    --> Do you want to go to the next room? Enter 'yes' or 'no'  yes\n"
     ]
    },
    {
     "name": "stdout",
     "output_type": "stream",
     "text": [
      "\n",
      "\n",
      "You are now in the bedroom 1.\n"
     ]
    },
    {
     "name": "stdin",
     "output_type": "stream",
     "text": [
      "\n",
      "    --> What would you like to do? Type 'explore' or 'examine'?  explore\n"
     ]
    },
    {
     "name": "stdout",
     "output_type": "stream",
     "text": [
      "\n",
      "You are exploring the bedroom 1. Here you find: queen bed, door b, door c\n",
      "\n",
      "\n",
      "You are now in the bedroom 1.\n"
     ]
    },
    {
     "name": "stdin",
     "output_type": "stream",
     "text": [
      "\n",
      "    --> What would you like to do? Type 'explore' or 'examine'?  examine\n",
      "\n",
      "    --> What would you like to examine?  queen bed\n"
     ]
    },
    {
     "name": "stdout",
     "output_type": "stream",
     "text": [
      "                                                                                   \n",
      "                                                                                            \n",
      "                                                                                            \n",
      "                                                                                            \n",
      "                                                                                            \n",
      "                      ██████████                                                            \n",
      "                  ████░░░░░░░░░░██████                                                   \n",
      "                ██░░░░░░░░░░░░░░░░░░░░██                                                    \n",
      "              ██░░░░░░░░░░░░░░░░░░░░░░░░██    ████                                          \n",
      "            ▓▓░░░░░░░░░░░░░░░░░░░░░░░░░░██  ██░░██                                          \n",
      "            ██░░░░░░░░░░░░░░░░░░░░░░░░░░░░██░░░░████████████████████████████████            \n",
      "          ██░░░░░░██████░░░░░░░░░░░░░░░░░░░░░░░░░░░░░░░░░░░░░░░░░░░░░░░░░░░░░░░░██          \n",
      "          ██░░░░██      ██░░░░░░░░░░░░░░░░░░░░░░░░░░░░░░░░░░░░░░░░░░░░░░░░░░░░░░░░██        \n",
      "          ██░░░░██      ▓▓░░░░░░░░░░░░░░░░░░░░░░░░░░░░░░░░░░░░░░░░░░░░░░░░░░░░░░██          \n",
      "          ██░░░░██      ██░░░░░░░░░░░░░░░░░░░░░░░░░░░░░░░░▓▓░░░░░░░░▓▓░░░░░░░░██            \n",
      "          ██░░░░░░██████░░░░░░░░░░░░░░░░░░░░░░░░██████░░██  ██░░░░██  ████████              \n",
      "            ██░░░░░░░░░░░░░░░░░░░░░░░░░░░░██░░░░██    ██      ████                          \n",
      "            ██░░░░░░░░░░░░░░░░░░░░░░░░░░██  ██░░██                                          \n",
      "              ██░░░░░░░░░░░░░░░░░░░░░░░░██    ████                                          \n",
      "                ██░░░░░░░░░░░░░░░░░░░░██                                                    \n",
      "                  ████░░░░░░░░░░██████                                                      \n",
      "                  ░░░░▓▓▓▓▓▓▓▓▓▓░░░░░░                                                      \n",
      "                                                                                            \n",
      "                                                                                            \n",
      "                                                                                         \n",
      "                 \n",
      "\n",
      "You examine the queen bed. \n",
      "\n",
      ">>> You found key for door b. <<<\n",
      "\n",
      "\n",
      "You are now in the bedroom 1.\n"
     ]
    },
    {
     "name": "stdin",
     "output_type": "stream",
     "text": [
      "\n",
      "    --> What would you like to do? Type 'explore' or 'examine'?  examine\n",
      "\n",
      "    --> What would you like to examine?  door c\n"
     ]
    },
    {
     "name": "stdout",
     "output_type": "stream",
     "text": [
      "\n",
      "\n",
      "\n",
      "██╗      ██████╗  ██████╗██╗  ██╗███████╗██████╗         ██╗\n",
      "██║     ██╔═══██╗██╔════╝██║ ██╔╝██╔════╝██╔══██╗    ██╗██╔╝\n",
      "██║     ██║   ██║██║     █████╔╝ █████╗  ██║  ██║    ╚═╝██║ \n",
      "██║     ██║   ██║██║     ██╔═██╗ ██╔══╝  ██║  ██║    ██╗██║ \n",
      "███████╗╚██████╔╝╚██████╗██║  ██╗███████╗██████╔╝    ╚═╝╚██╗\n",
      "╚══════╝ ╚═════╝  ╚═════╝╚═╝  ╚═╝╚══════╝╚═════╝         ╚═╝\n",
      "                                                            \n",
      "\n",
      "\n",
      "\n",
      "You examine the door c. \n",
      "It is locked but you don't have the key. Keep trying.\n",
      "\n",
      "\n",
      "You are now in the bedroom 1.\n"
     ]
    },
    {
     "name": "stdin",
     "output_type": "stream",
     "text": [
      "\n",
      "    --> What would you like to do? Type 'explore' or 'examine'?  explore\n"
     ]
    },
    {
     "name": "stdout",
     "output_type": "stream",
     "text": [
      "\n",
      "You are exploring the bedroom 1. Here you find: queen bed, door b, door c\n",
      "\n",
      "\n",
      "You are now in the bedroom 1.\n"
     ]
    },
    {
     "name": "stdin",
     "output_type": "stream",
     "text": [
      "\n",
      "    --> What would you like to do? Type 'explore' or 'examine'?  door c\n"
     ]
    },
    {
     "name": "stdout",
     "output_type": "stream",
     "text": [
      "\n",
      "    --> Not sure what you mean. Type 'explore' or 'examine'.\n",
      "\n",
      "\n",
      "You are now in the bedroom 1.\n"
     ]
    },
    {
     "name": "stdin",
     "output_type": "stream",
     "text": [
      "\n",
      "    --> What would you like to do? Type 'explore' or 'examine'?  explore\n"
     ]
    },
    {
     "name": "stdout",
     "output_type": "stream",
     "text": [
      "\n",
      "You are exploring the bedroom 1. Here you find: queen bed, door b, door c\n",
      "\n",
      "\n",
      "You are now in the bedroom 1.\n"
     ]
    },
    {
     "name": "stdin",
     "output_type": "stream",
     "text": [
      "\n",
      "    --> What would you like to do? Type 'explore' or 'examine'?  examine\n",
      "\n",
      "    --> What would you like to examine?  door b\n"
     ]
    },
    {
     "name": "stdout",
     "output_type": "stream",
     "text": [
      "\n",
      "\n",
      "██╗   ██╗███╗   ██╗██╗      ██████╗  ██████╗██╗  ██╗███████╗██████╗        ███╗\n",
      "██║   ██║████╗  ██║██║     ██╔═══██╗██╔════╝██║ ██╔╝██╔════╝██╔══██╗    ██╗╚██║\n",
      "██║   ██║██╔██╗ ██║██║     ██║   ██║██║     █████╔╝ █████╗  ██║  ██║    ╚═╝ ██║\n",
      "██║   ██║██║╚██╗██║██║     ██║   ██║██║     ██╔═██╗ ██╔══╝  ██║  ██║    ██╗ ██║\n",
      "╚██████╔╝██║ ╚████║███████╗╚██████╔╝╚██████╗██║  ██╗███████╗██████╔╝    ╚═╝███║\n",
      " ╚═════╝ ╚═╝  ╚═══╝╚══════╝ ╚═════╝  ╚═════╝╚═╝  ╚═╝╚══════╝╚═════╝        ╚══╝\n",
      "                                                                               \n",
      "\n",
      "\n",
      "\n",
      "\n",
      "You examine the door b. \n",
      "\n",
      ">>> You unlock it with a key you have. Well done!!! <<<\n"
     ]
    },
    {
     "name": "stdin",
     "output_type": "stream",
     "text": [
      "\n",
      "    --> Do you want to go to the next room? Enter 'yes' or 'no'  explore\n"
     ]
    },
    {
     "name": "stdout",
     "output_type": "stream",
     "text": [
      "\n",
      "\n",
      "You are now in the bedroom 1.\n"
     ]
    },
    {
     "name": "stdin",
     "output_type": "stream",
     "text": [
      "\n",
      "    --> What would you like to do? Type 'explore' or 'examine'?  explore\n"
     ]
    },
    {
     "name": "stdout",
     "output_type": "stream",
     "text": [
      "\n",
      "You are exploring the bedroom 1. Here you find: queen bed, door b, door c\n",
      "\n",
      "\n",
      "You are now in the bedroom 1.\n"
     ]
    },
    {
     "name": "stdin",
     "output_type": "stream",
     "text": [
      "\n",
      "    --> What would you like to do? Type 'explore' or 'examine'?  door c\n"
     ]
    },
    {
     "name": "stdout",
     "output_type": "stream",
     "text": [
      "\n",
      "    --> Not sure what you mean. Type 'explore' or 'examine'.\n",
      "\n",
      "\n",
      "You are now in the bedroom 1.\n"
     ]
    },
    {
     "name": "stdin",
     "output_type": "stream",
     "text": [
      "\n",
      "    --> What would you like to do? Type 'explore' or 'examine'?  explore\n"
     ]
    },
    {
     "name": "stdout",
     "output_type": "stream",
     "text": [
      "\n",
      "You are exploring the bedroom 1. Here you find: queen bed, door b, door c\n",
      "\n",
      "\n",
      "You are now in the bedroom 1.\n"
     ]
    },
    {
     "name": "stdin",
     "output_type": "stream",
     "text": [
      "\n",
      "    --> What would you like to do? Type 'explore' or 'examine'?  explore \n"
     ]
    },
    {
     "name": "stdout",
     "output_type": "stream",
     "text": [
      "\n",
      "You are exploring the bedroom 1. Here you find: queen bed, door b, door c\n",
      "\n",
      "\n",
      "You are now in the bedroom 1.\n"
     ]
    },
    {
     "name": "stdin",
     "output_type": "stream",
     "text": [
      "\n",
      "    --> What would you like to do? Type 'explore' or 'examine'?  examine\n",
      "\n",
      "    --> What would you like to examine?  door b\n"
     ]
    },
    {
     "name": "stdout",
     "output_type": "stream",
     "text": [
      "\n",
      "\n",
      "██╗   ██╗███╗   ██╗██╗      ██████╗  ██████╗██╗  ██╗███████╗██████╗        ███╗\n",
      "██║   ██║████╗  ██║██║     ██╔═══██╗██╔════╝██║ ██╔╝██╔════╝██╔══██╗    ██╗╚██║\n",
      "██║   ██║██╔██╗ ██║██║     ██║   ██║██║     █████╔╝ █████╗  ██║  ██║    ╚═╝ ██║\n",
      "██║   ██║██║╚██╗██║██║     ██║   ██║██║     ██╔═██╗ ██╔══╝  ██║  ██║    ██╗ ██║\n",
      "╚██████╔╝██║ ╚████║███████╗╚██████╔╝╚██████╗██║  ██╗███████╗██████╔╝    ╚═╝███║\n",
      " ╚═════╝ ╚═╝  ╚═══╝╚══════╝ ╚═════╝  ╚═════╝╚═╝  ╚═╝╚══════╝╚═════╝        ╚══╝\n",
      "                                                                               \n",
      "\n",
      "\n",
      "\n",
      "\n",
      "You examine the door b. \n",
      "\n",
      ">>> You unlock it with a key you have. Well done!!! <<<\n"
     ]
    },
    {
     "name": "stdin",
     "output_type": "stream",
     "text": [
      "\n",
      "    --> Do you want to go to the next room? Enter 'yes' or 'no'  yes\n"
     ]
    },
    {
     "name": "stdout",
     "output_type": "stream",
     "text": [
      "\n",
      "\n",
      "You are now in the bedroom 2.\n"
     ]
    },
    {
     "name": "stdin",
     "output_type": "stream",
     "text": [
      "\n",
      "    --> What would you like to do? Type 'explore' or 'examine'?  explore\n"
     ]
    },
    {
     "name": "stdout",
     "output_type": "stream",
     "text": [
      "\n",
      "You are exploring the bedroom 2. Here you find: door b, double bed, dresser\n",
      "\n",
      "\n",
      "You are now in the bedroom 2.\n"
     ]
    },
    {
     "name": "stdin",
     "output_type": "stream",
     "text": [
      "\n",
      "    --> What would you like to do? Type 'explore' or 'examine'?  double bed\n"
     ]
    },
    {
     "name": "stdout",
     "output_type": "stream",
     "text": [
      "\n",
      "    --> Not sure what you mean. Type 'explore' or 'examine'.\n",
      "\n",
      "\n",
      "You are now in the bedroom 2.\n"
     ]
    },
    {
     "name": "stdin",
     "output_type": "stream",
     "text": [
      "\n",
      "    --> What would you like to do? Type 'explore' or 'examine'?  examine\n",
      "\n",
      "    --> What would you like to examine?  double bed\n"
     ]
    },
    {
     "name": "stdout",
     "output_type": "stream",
     "text": [
      "                                                                                   \n",
      "                                                                                            \n",
      "                                                                                            \n",
      "                                                                                            \n",
      "                                                                                            \n",
      "                      ██████████                                                            \n",
      "                  ████░░░░░░░░░░██████                                                   \n",
      "                ██░░░░░░░░░░░░░░░░░░░░██                                                    \n",
      "              ██░░░░░░░░░░░░░░░░░░░░░░░░██    ████                                          \n",
      "            ▓▓░░░░░░░░░░░░░░░░░░░░░░░░░░██  ██░░██                                          \n",
      "            ██░░░░░░░░░░░░░░░░░░░░░░░░░░░░██░░░░████████████████████████████████            \n",
      "          ██░░░░░░██████░░░░░░░░░░░░░░░░░░░░░░░░░░░░░░░░░░░░░░░░░░░░░░░░░░░░░░░░██          \n",
      "          ██░░░░██      ██░░░░░░░░░░░░░░░░░░░░░░░░░░░░░░░░░░░░░░░░░░░░░░░░░░░░░░░░██        \n",
      "          ██░░░░██      ▓▓░░░░░░░░░░░░░░░░░░░░░░░░░░░░░░░░░░░░░░░░░░░░░░░░░░░░░░██          \n",
      "          ██░░░░██      ██░░░░░░░░░░░░░░░░░░░░░░░░░░░░░░░░▓▓░░░░░░░░▓▓░░░░░░░░██            \n",
      "          ██░░░░░░██████░░░░░░░░░░░░░░░░░░░░░░░░██████░░██  ██░░░░██  ████████              \n",
      "            ██░░░░░░░░░░░░░░░░░░░░░░░░░░░░██░░░░██    ██      ████                          \n",
      "            ██░░░░░░░░░░░░░░░░░░░░░░░░░░██  ██░░██                                          \n",
      "              ██░░░░░░░░░░░░░░░░░░░░░░░░██    ████                                          \n",
      "                ██░░░░░░░░░░░░░░░░░░░░██                                                    \n",
      "                  ████░░░░░░░░░░██████                                                      \n",
      "                  ░░░░▓▓▓▓▓▓▓▓▓▓░░░░░░                                                      \n",
      "                                                                                            \n",
      "                                                                                            \n",
      "                                                                                         \n",
      "                 \n",
      "\n",
      "You examine the double bed. \n",
      "\n",
      ">>> You found key for door c. <<<\n",
      "\n",
      "\n",
      "You are now in the bedroom 2.\n"
     ]
    },
    {
     "name": "stdin",
     "output_type": "stream",
     "text": [
      "\n",
      "    --> What would you like to do? Type 'explore' or 'examine'?  examine\n",
      "\n",
      "    --> What would you like to examine?  dresser\n"
     ]
    },
    {
     "name": "stdout",
     "output_type": "stream",
     "text": [
      "                                                                                   \n",
      "                                                                                            \n",
      "                                                                                            \n",
      "                                                                                            \n",
      "                                                                                            \n",
      "                      ██████████                                                            \n",
      "                  ████░░░░░░░░░░██████                                                   \n",
      "                ██░░░░░░░░░░░░░░░░░░░░██                                                    \n",
      "              ██░░░░░░░░░░░░░░░░░░░░░░░░██    ████                                          \n",
      "            ▓▓░░░░░░░░░░░░░░░░░░░░░░░░░░██  ██░░██                                          \n",
      "            ██░░░░░░░░░░░░░░░░░░░░░░░░░░░░██░░░░████████████████████████████████            \n",
      "          ██░░░░░░██████░░░░░░░░░░░░░░░░░░░░░░░░░░░░░░░░░░░░░░░░░░░░░░░░░░░░░░░░██          \n",
      "          ██░░░░██      ██░░░░░░░░░░░░░░░░░░░░░░░░░░░░░░░░░░░░░░░░░░░░░░░░░░░░░░░░██        \n",
      "          ██░░░░██      ▓▓░░░░░░░░░░░░░░░░░░░░░░░░░░░░░░░░░░░░░░░░░░░░░░░░░░░░░░██          \n",
      "          ██░░░░██      ██░░░░░░░░░░░░░░░░░░░░░░░░░░░░░░░░▓▓░░░░░░░░▓▓░░░░░░░░██            \n",
      "          ██░░░░░░██████░░░░░░░░░░░░░░░░░░░░░░░░██████░░██  ██░░░░██  ████████              \n",
      "            ██░░░░░░░░░░░░░░░░░░░░░░░░░░░░██░░░░██    ██      ████                          \n",
      "            ██░░░░░░░░░░░░░░░░░░░░░░░░░░██  ██░░██                                          \n",
      "              ██░░░░░░░░░░░░░░░░░░░░░░░░██    ████                                          \n",
      "                ██░░░░░░░░░░░░░░░░░░░░██                                                    \n",
      "                  ████░░░░░░░░░░██████                                                      \n",
      "                  ░░░░▓▓▓▓▓▓▓▓▓▓░░░░░░                                                      \n",
      "                                                                                            \n",
      "                                                                                            \n",
      "                                                                                         \n",
      "                 \n",
      "\n",
      "You examine the dresser. \n",
      "\n",
      ">>> You found key for door d. <<<\n",
      "\n",
      "\n",
      "You are now in the bedroom 2.\n"
     ]
    },
    {
     "name": "stdin",
     "output_type": "stream",
     "text": [
      "\n",
      "    --> What would you like to do? Type 'explore' or 'examine'?  examine\n",
      "\n",
      "    --> What would you like to examine?  door b\n"
     ]
    },
    {
     "name": "stdout",
     "output_type": "stream",
     "text": [
      "\n",
      "\n",
      "██╗   ██╗███╗   ██╗██╗      ██████╗  ██████╗██╗  ██╗███████╗██████╗        ███╗\n",
      "██║   ██║████╗  ██║██║     ██╔═══██╗██╔════╝██║ ██╔╝██╔════╝██╔══██╗    ██╗╚██║\n",
      "██║   ██║██╔██╗ ██║██║     ██║   ██║██║     █████╔╝ █████╗  ██║  ██║    ╚═╝ ██║\n",
      "██║   ██║██║╚██╗██║██║     ██║   ██║██║     ██╔═██╗ ██╔══╝  ██║  ██║    ██╗ ██║\n",
      "╚██████╔╝██║ ╚████║███████╗╚██████╔╝╚██████╗██║  ██╗███████╗██████╔╝    ╚═╝███║\n",
      " ╚═════╝ ╚═╝  ╚═══╝╚══════╝ ╚═════╝  ╚═════╝╚═╝  ╚═╝╚══════╝╚═════╝        ╚══╝\n",
      "                                                                               \n",
      "\n",
      "\n",
      "\n",
      "\n",
      "You examine the door b. \n",
      "\n",
      ">>> You unlock it with a key you have. Well done!!! <<<\n"
     ]
    },
    {
     "name": "stdin",
     "output_type": "stream",
     "text": [
      "\n",
      "    --> Do you want to go to the next room? Enter 'yes' or 'no'  yes\n"
     ]
    },
    {
     "name": "stdout",
     "output_type": "stream",
     "text": [
      "\n",
      "\n",
      "You are now in the bedroom 1.\n"
     ]
    },
    {
     "name": "stdin",
     "output_type": "stream",
     "text": [
      "\n",
      "    --> What would you like to do? Type 'explore' or 'examine'?  exmaine\n"
     ]
    },
    {
     "name": "stdout",
     "output_type": "stream",
     "text": [
      "\n",
      "    --> Not sure what you mean. Type 'explore' or 'examine'.\n",
      "\n",
      "\n",
      "You are now in the bedroom 1.\n"
     ]
    },
    {
     "name": "stdin",
     "output_type": "stream",
     "text": [
      "\n",
      "    --> What would you like to do? Type 'explore' or 'examine'?  examiner\n"
     ]
    },
    {
     "name": "stdout",
     "output_type": "stream",
     "text": [
      "\n",
      "    --> Not sure what you mean. Type 'explore' or 'examine'.\n",
      "\n",
      "\n",
      "You are now in the bedroom 1.\n"
     ]
    },
    {
     "name": "stdin",
     "output_type": "stream",
     "text": [
      "\n",
      "    --> What would you like to do? Type 'explore' or 'examine'?  examine\n",
      "\n",
      "    --> What would you like to examine?  door c\n"
     ]
    },
    {
     "name": "stdout",
     "output_type": "stream",
     "text": [
      "\n",
      "\n",
      "██╗   ██╗███╗   ██╗██╗      ██████╗  ██████╗██╗  ██╗███████╗██████╗        ███╗\n",
      "██║   ██║████╗  ██║██║     ██╔═══██╗██╔════╝██║ ██╔╝██╔════╝██╔══██╗    ██╗╚██║\n",
      "██║   ██║██╔██╗ ██║██║     ██║   ██║██║     █████╔╝ █████╗  ██║  ██║    ╚═╝ ██║\n",
      "██║   ██║██║╚██╗██║██║     ██║   ██║██║     ██╔═██╗ ██╔══╝  ██║  ██║    ██╗ ██║\n",
      "╚██████╔╝██║ ╚████║███████╗╚██████╔╝╚██████╗██║  ██╗███████╗██████╔╝    ╚═╝███║\n",
      " ╚═════╝ ╚═╝  ╚═══╝╚══════╝ ╚═════╝  ╚═════╝╚═╝  ╚═╝╚══════╝╚═════╝        ╚══╝\n",
      "                                                                               \n",
      "\n",
      "\n",
      "\n",
      "\n",
      "You examine the door c. \n",
      "\n",
      ">>> You unlock it with a key you have. Well done!!! <<<\n"
     ]
    },
    {
     "name": "stdin",
     "output_type": "stream",
     "text": [
      "\n",
      "    --> Do you want to go to the next room? Enter 'yes' or 'no'  yes\n"
     ]
    },
    {
     "name": "stdout",
     "output_type": "stream",
     "text": [
      "\n",
      "\n",
      "You are now in the living room.\n"
     ]
    },
    {
     "name": "stdin",
     "output_type": "stream",
     "text": [
      "\n",
      "    --> What would you like to do? Type 'explore' or 'examine'?  examine\n",
      "\n",
      "    --> What would you like to examine?  door c\n"
     ]
    },
    {
     "name": "stdout",
     "output_type": "stream",
     "text": [
      "\n",
      "The item you requested is not found in the current room.\n",
      "\n",
      "\n",
      "You are now in the living room.\n"
     ]
    },
    {
     "name": "stdin",
     "output_type": "stream",
     "text": [
      "\n",
      "    --> What would you like to do? Type 'explore' or 'examine'?  examine\n",
      "\n",
      "    --> What would you like to examine?  door d\n"
     ]
    },
    {
     "name": "stdout",
     "output_type": "stream",
     "text": [
      "\n",
      "\n",
      "██╗   ██╗███╗   ██╗██╗      ██████╗  ██████╗██╗  ██╗███████╗██████╗        ███╗\n",
      "██║   ██║████╗  ██║██║     ██╔═══██╗██╔════╝██║ ██╔╝██╔════╝██╔══██╗    ██╗╚██║\n",
      "██║   ██║██╔██╗ ██║██║     ██║   ██║██║     █████╔╝ █████╗  ██║  ██║    ╚═╝ ██║\n",
      "██║   ██║██║╚██╗██║██║     ██║   ██║██║     ██╔═██╗ ██╔══╝  ██║  ██║    ██╗ ██║\n",
      "╚██████╔╝██║ ╚████║███████╗╚██████╔╝╚██████╗██║  ██╗███████╗██████╔╝    ╚═╝███║\n",
      " ╚═════╝ ╚═╝  ╚═══╝╚══════╝ ╚═════╝  ╚═════╝╚═╝  ╚═╝╚══════╝╚═════╝        ╚══╝\n",
      "                                                                               \n",
      "\n",
      "\n",
      "\n",
      "\n",
      "You examine the door d. \n",
      "\n",
      ">>> You unlock it with a key you have. Well done!!! <<<\n"
     ]
    },
    {
     "name": "stdin",
     "output_type": "stream",
     "text": [
      "\n",
      "    --> Do you want to go to the next room? Enter 'yes' or 'no'  yes\n"
     ]
    },
    {
     "name": "stdout",
     "output_type": "stream",
     "text": [
      "\n",
      "CONGRATS!!! YOU ESCAPED \n",
      "\n",
      "\n",
      "██╗   ██╗ ██████╗ ██╗   ██╗    ██╗    ██╗██╗███╗   ██╗    ██╗\n",
      "╚██╗ ██╔╝██╔═══██╗██║   ██║    ██║    ██║██║████╗  ██║    ██║\n",
      " ╚████╔╝ ██║   ██║██║   ██║    ██║ █╗ ██║██║██╔██╗ ██║    ██║\n",
      "  ╚██╔╝  ██║   ██║██║   ██║    ██║███╗██║██║██║╚██╗██║    ╚═╝\n",
      "   ██║   ╚██████╔╝╚██████╔╝    ╚███╔███╔╝██║██║ ╚████║    ██╗\n",
      "   ╚═╝    ╚═════╝  ╚═════╝      ╚══╝╚══╝ ╚═╝╚═╝  ╚═══╝    ╚═╝\n",
      "\n",
      "                                                             \n",
      "    \n",
      "\n",
      "\n",
      "\n",
      "\n",
      "\n",
      "\n",
      "\n",
      "\n",
      "\n",
      "\n",
      "\n",
      "\n",
      "\n",
      "\n",
      "\n",
      "\n",
      "\n",
      "\n",
      "\n",
      "\n",
      "\n",
      "\n",
      "\n",
      "\n",
      "\n",
      "\n",
      "\n",
      "\n",
      "\n",
      "\n",
      "\n",
      "\n",
      "\n",
      "\n",
      "\n",
      "\n",
      "\n",
      "\n",
      "\n",
      "\n",
      "\n",
      "\n",
      "\n",
      "\n",
      "\n",
      "\n",
      "\n",
      "\n",
      "\n",
      "\n",
      "\n",
      "\n",
      "\n",
      "\n",
      "\n",
      "\n",
      "\n",
      "\n",
      "\n",
      "\n",
      "\n",
      "\n",
      "\n",
      "\n",
      "\n",
      "\n",
      "\n",
      "\n",
      "\n",
      "\n",
      "\n",
      "\n",
      "\n",
      "\n",
      "\n",
      "\n",
      "\n",
      "\n",
      "\n"
     ]
    }
   ],
   "source": [
    "start_game()"
   ]
  },
  {
   "cell_type": "code",
   "execution_count": null,
   "id": "7ca5dd99-a622-449f-a452-ac6ef7824ff1",
   "metadata": {},
   "outputs": [],
   "source": []
  }
 ],
 "metadata": {
  "kernelspec": {
   "display_name": "Python 3 (ipykernel)",
   "language": "python",
   "name": "python3"
  },
  "language_info": {
   "codemirror_mode": {
    "name": "ipython",
    "version": 3
   },
   "file_extension": ".py",
   "mimetype": "text/x-python",
   "name": "python",
   "nbconvert_exporter": "python",
   "pygments_lexer": "ipython3",
   "version": "3.8.10"
  }
 },
 "nbformat": 4,
 "nbformat_minor": 5
}
