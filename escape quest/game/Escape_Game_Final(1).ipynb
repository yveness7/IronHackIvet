{
 "cells": [
  {
   "cell_type": "code",
   "execution_count": 1,
   "id": "f93482e9",
   "metadata": {},
   "outputs": [],
   "source": [
    "%load_ext autoreload\n",
    "%autoreload 2 "
   ]
  },
  {
   "cell_type": "code",
   "execution_count": 2,
   "id": "98efef69",
   "metadata": {},
   "outputs": [],
   "source": [
    "# importing the functions\n",
    "import functions"
   ]
  },
  {
   "cell_type": "code",
   "execution_count": 3,
   "id": "f67bb710",
   "metadata": {
    "scrolled": true
   },
   "outputs": [
    {
     "name": "stdout",
     "output_type": "stream",
     "text": [
      "\n",
      "\n",
      "███████╗███████╗ ██████╗ █████╗ ██████╗ ███████╗    ██████╗  ██████╗  ██████╗ ███╗   ███╗     ██████╗  █████╗ ███╗   ███╗███████╗    \n",
      "██╔════╝██╔════╝██╔════╝██╔══██╗██╔══██╗██╔════╝    ██╔══██╗██╔═══██╗██╔═══██╗████╗ ████║    ██╔════╝ ██╔══██╗████╗ ████║██╔════╝    \n",
      "█████╗  ███████╗██║     ███████║██████╔╝█████╗      ██████╔╝██║   ██║██║   ██║██╔████╔██║    ██║  ███╗███████║██╔████╔██║█████╗      \n",
      "██╔══╝  ╚════██║██║     ██╔══██║██╔═══╝ ██╔══╝      ██╔══██╗██║   ██║██║   ██║██║╚██╔╝██║    ██║   ██║██╔══██║██║╚██╔╝██║██╔══╝      \n",
      "███████╗███████║╚██████╗██║  ██║██║     ███████╗    ██║  ██║╚██████╔╝╚██████╔╝██║ ╚═╝ ██║    ╚██████╔╝██║  ██║██║ ╚═╝ ██║███████╗    \n",
      "╚══════╝╚══════╝ ╚═════╝╚═╝  ╚═╝╚═╝     ╚══════╝    ╚═╝  ╚═╝ ╚═════╝  ╚═════╝ ╚═╝     ╚═╝     ╚═════╝ ╚═╝  ╚═╝╚═╝     ╚═╝╚══════╝    \n",
      "                                                                                                                                     \n",
      "\n",
      "\n",
      "\n",
      "\u001b[1mWelcome to the Escape Game!!!\u001b[0m\n",
      "\n",
      "You wake up on a couch and find yourself in a strange house with no windows which you have never been to.\n",
      "\n",
      "You don't remember why you are here and what had happened before.\n",
      "\n",
      "You feel some unknown danger is approaching and you must get out of the house, \u001b[1mRIGHT NOW!\u001b[0m\n",
      "\n",
      "\u001b[1m- - - - - - - - - - - - - - - - - - - - - - - - - - - - - - - - - - - - - - - - - - - - - - - - - - - - - - - \u001b[0m\n",
      "\n",
      "\u001b[1mARE YOU READY? LOS GEHTS!!!\u001b[0m\n",
      "\n",
      "\n",
      "You are now in the game room.\n"
     ]
    },
    {
     "name": "stdin",
     "output_type": "stream",
     "text": [
      "\n",
      "    --> What would you like to do? Type 'explore' or 'examine'?  explore\n"
     ]
    },
    {
     "name": "stdout",
     "output_type": "stream",
     "text": [
      "\n",
      "You are exploring the game room. Here you find: couch, piano, door a\n",
      "\n",
      "\n",
      "You are now in the game room.\n"
     ]
    },
    {
     "name": "stdin",
     "output_type": "stream",
     "text": [
      "\n",
      "    --> What would you like to do? Type 'explore' or 'examine'?  examine\n",
      "\n",
      "    --> What would you like to examine?  piano\n"
     ]
    },
    {
     "name": "stdout",
     "output_type": "stream",
     "text": [
      "                                                                                   \n",
      "                                                                                            \n",
      "                                                                                            \n",
      "                                                                                            \n",
      "                                                                                            \n",
      "                      ██████████                                                            \n",
      "                  ████░░░░░░░░░░██████                                                   \n",
      "                ██░░░░░░░░░░░░░░░░░░░░██                                                    \n",
      "              ██░░░░░░░░░░░░░░░░░░░░░░░░██    ████                                          \n",
      "            ▓▓░░░░░░░░░░░░░░░░░░░░░░░░░░██  ██░░██                                          \n",
      "            ██░░░░░░░░░░░░░░░░░░░░░░░░░░░░██░░░░████████████████████████████████            \n",
      "          ██░░░░░░██████░░░░░░░░░░░░░░░░░░░░░░░░░░░░░░░░░░░░░░░░░░░░░░░░░░░░░░░░██          \n",
      "          ██░░░░██      ██░░░░░░░░░░░░░░░░░░░░░░░░░░░░░░░░░░░░░░░░░░░░░░░░░░░░░░░░██        \n",
      "          ██░░░░██      ▓▓░░░░░░░░░░░░░░░░░░░░░░░░░░░░░░░░░░░░░░░░░░░░░░░░░░░░░░██          \n",
      "          ██░░░░██      ██░░░░░░░░░░░░░░░░░░░░░░░░░░░░░░░░▓▓░░░░░░░░▓▓░░░░░░░░██            \n",
      "          ██░░░░░░██████░░░░░░░░░░░░░░░░░░░░░░░░██████░░██  ██░░░░██  ████████              \n",
      "            ██░░░░░░░░░░░░░░░░░░░░░░░░░░░░██░░░░██    ██      ████                          \n",
      "            ██░░░░░░░░░░░░░░░░░░░░░░░░░░██  ██░░██                                          \n",
      "              ██░░░░░░░░░░░░░░░░░░░░░░░░██    ████                                          \n",
      "                ██░░░░░░░░░░░░░░░░░░░░██                                                    \n",
      "                  ████░░░░░░░░░░██████                                                      \n",
      "                  ░░░░▓▓▓▓▓▓▓▓▓▓░░░░░░                                                      \n",
      "                                                                                            \n",
      "                                                                                            \n",
      "                                                                                         \n",
      "                 \n",
      "\n",
      "You examine the piano. \n",
      "\n",
      ">>> You found key for door a. <<<\n",
      "\n",
      "\n",
      "You are now in the game room.\n"
     ]
    },
    {
     "name": "stdin",
     "output_type": "stream",
     "text": [
      "\n",
      "    --> What would you like to do? Type 'explore' or 'examine'?  examine\n",
      "\n",
      "    --> What would you like to examine?  door a\n"
     ]
    },
    {
     "name": "stdout",
     "output_type": "stream",
     "text": [
      "\n",
      "\n",
      "██╗   ██╗███╗   ██╗██╗      ██████╗  ██████╗██╗  ██╗███████╗██████╗        ███╗\n",
      "██║   ██║████╗  ██║██║     ██╔═══██╗██╔════╝██║ ██╔╝██╔════╝██╔══██╗    ██╗╚██║\n",
      "██║   ██║██╔██╗ ██║██║     ██║   ██║██║     █████╔╝ █████╗  ██║  ██║    ╚═╝ ██║\n",
      "██║   ██║██║╚██╗██║██║     ██║   ██║██║     ██╔═██╗ ██╔══╝  ██║  ██║    ██╗ ██║\n",
      "╚██████╔╝██║ ╚████║███████╗╚██████╔╝╚██████╗██║  ██╗███████╗██████╔╝    ╚═╝███║\n",
      " ╚═════╝ ╚═╝  ╚═══╝╚══════╝ ╚═════╝  ╚═════╝╚═╝  ╚═╝╚══════╝╚═════╝        ╚══╝\n",
      "                                                                               \n",
      "\n",
      "\n",
      "\n",
      "\n",
      "You examine the door a. \n",
      "\n",
      ">>> You unlock it with a key you have. Well done!!! <<<\n"
     ]
    },
    {
     "name": "stdin",
     "output_type": "stream",
     "text": [
      "\n",
      "    --> Do you want to go to the next room? Enter 'yes' or 'no'  yes\n"
     ]
    },
    {
     "name": "stdout",
     "output_type": "stream",
     "text": [
      "\n",
      "\n",
      "You are now in the bedroom 1.\n"
     ]
    },
    {
     "name": "stdin",
     "output_type": "stream",
     "text": [
      "\n",
      "    --> What would you like to do? Type 'explore' or 'examine'?  examine\n",
      "\n",
      "    --> What would you like to examine?  queen bed\n"
     ]
    },
    {
     "name": "stdout",
     "output_type": "stream",
     "text": [
      "                                                                                   \n",
      "                                                                                            \n",
      "                                                                                            \n",
      "                                                                                            \n",
      "                                                                                            \n",
      "                      ██████████                                                            \n",
      "                  ████░░░░░░░░░░██████                                                   \n",
      "                ██░░░░░░░░░░░░░░░░░░░░██                                                    \n",
      "              ██░░░░░░░░░░░░░░░░░░░░░░░░██    ████                                          \n",
      "            ▓▓░░░░░░░░░░░░░░░░░░░░░░░░░░██  ██░░██                                          \n",
      "            ██░░░░░░░░░░░░░░░░░░░░░░░░░░░░██░░░░████████████████████████████████            \n",
      "          ██░░░░░░██████░░░░░░░░░░░░░░░░░░░░░░░░░░░░░░░░░░░░░░░░░░░░░░░░░░░░░░░░██          \n",
      "          ██░░░░██      ██░░░░░░░░░░░░░░░░░░░░░░░░░░░░░░░░░░░░░░░░░░░░░░░░░░░░░░░░██        \n",
      "          ██░░░░██      ▓▓░░░░░░░░░░░░░░░░░░░░░░░░░░░░░░░░░░░░░░░░░░░░░░░░░░░░░░██          \n",
      "          ██░░░░██      ██░░░░░░░░░░░░░░░░░░░░░░░░░░░░░░░░▓▓░░░░░░░░▓▓░░░░░░░░██            \n",
      "          ██░░░░░░██████░░░░░░░░░░░░░░░░░░░░░░░░██████░░██  ██░░░░██  ████████              \n",
      "            ██░░░░░░░░░░░░░░░░░░░░░░░░░░░░██░░░░██    ██      ████                          \n",
      "            ██░░░░░░░░░░░░░░░░░░░░░░░░░░██  ██░░██                                          \n",
      "              ██░░░░░░░░░░░░░░░░░░░░░░░░██    ████                                          \n",
      "                ██░░░░░░░░░░░░░░░░░░░░██                                                    \n",
      "                  ████░░░░░░░░░░██████                                                      \n",
      "                  ░░░░▓▓▓▓▓▓▓▓▓▓░░░░░░                                                      \n",
      "                                                                                            \n",
      "                                                                                            \n",
      "                                                                                         \n",
      "                 \n",
      "\n",
      "You examine the queen bed. \n",
      "\n",
      ">>> You found key for door b. <<<\n",
      "\n",
      "\n",
      "You are now in the bedroom 1.\n"
     ]
    },
    {
     "name": "stdin",
     "output_type": "stream",
     "text": [
      "\n",
      "    --> What would you like to do? Type 'explore' or 'examine'?  door b\n"
     ]
    },
    {
     "name": "stdout",
     "output_type": "stream",
     "text": [
      "\n",
      "    --> Not sure what you mean. Type 'explore' or 'examine'.\n",
      "\n",
      "\n",
      "You are now in the bedroom 1.\n"
     ]
    },
    {
     "name": "stdin",
     "output_type": "stream",
     "text": [
      "\n",
      "    --> What would you like to do? Type 'explore' or 'examine'?  examine\n",
      "\n",
      "    --> What would you like to examine?  double bed\n"
     ]
    },
    {
     "name": "stdout",
     "output_type": "stream",
     "text": [
      "\n",
      "The item you requested is not found in the current room.\n",
      "\n",
      "\n",
      "You are now in the bedroom 1.\n"
     ]
    },
    {
     "name": "stdin",
     "output_type": "stream",
     "text": [
      "\n",
      "    --> What would you like to do? Type 'explore' or 'examine'?  explore\n"
     ]
    },
    {
     "name": "stdout",
     "output_type": "stream",
     "text": [
      "\n",
      "You are exploring the bedroom 1. Here you find: queen bed, door b, door c\n",
      "\n",
      "\n",
      "You are now in the bedroom 1.\n"
     ]
    },
    {
     "name": "stdin",
     "output_type": "stream",
     "text": [
      "\n",
      "    --> What would you like to do? Type 'explore' or 'examine'?  queen bed\n"
     ]
    },
    {
     "name": "stdout",
     "output_type": "stream",
     "text": [
      "\n",
      "    --> Not sure what you mean. Type 'explore' or 'examine'.\n",
      "\n",
      "\n",
      "You are now in the bedroom 1.\n"
     ]
    },
    {
     "name": "stdin",
     "output_type": "stream",
     "text": [
      "\n",
      "    --> What would you like to do? Type 'explore' or 'examine'?  explore\n"
     ]
    },
    {
     "name": "stdout",
     "output_type": "stream",
     "text": [
      "\n",
      "You are exploring the bedroom 1. Here you find: queen bed, door b, door c\n",
      "\n",
      "\n",
      "You are now in the bedroom 1.\n"
     ]
    },
    {
     "name": "stdin",
     "output_type": "stream",
     "text": [
      "\n",
      "    --> What would you like to do? Type 'explore' or 'examine'?  door c\n"
     ]
    },
    {
     "name": "stdout",
     "output_type": "stream",
     "text": [
      "\n",
      "    --> Not sure what you mean. Type 'explore' or 'examine'.\n",
      "\n",
      "\n",
      "You are now in the bedroom 1.\n"
     ]
    },
    {
     "name": "stdin",
     "output_type": "stream",
     "text": [
      "\n",
      "    --> What would you like to do? Type 'explore' or 'examine'?  examine\n",
      "\n",
      "    --> What would you like to examine?  queen bed\n"
     ]
    },
    {
     "name": "stdout",
     "output_type": "stream",
     "text": [
      "\n",
      "You examine the queen bed. \n",
      "There isn't anything interesting about it. Look somewhere else!\n",
      "\n",
      "\n",
      "You are now in the bedroom 1.\n"
     ]
    },
    {
     "name": "stdin",
     "output_type": "stream",
     "text": [
      "\n",
      "    --> What would you like to do? Type 'explore' or 'examine'?  examine\n",
      "\n",
      "    --> What would you like to examine?  door b\n"
     ]
    },
    {
     "name": "stdout",
     "output_type": "stream",
     "text": [
      "\n",
      "\n",
      "██╗   ██╗███╗   ██╗██╗      ██████╗  ██████╗██╗  ██╗███████╗██████╗        ███╗\n",
      "██║   ██║████╗  ██║██║     ██╔═══██╗██╔════╝██║ ██╔╝██╔════╝██╔══██╗    ██╗╚██║\n",
      "██║   ██║██╔██╗ ██║██║     ██║   ██║██║     █████╔╝ █████╗  ██║  ██║    ╚═╝ ██║\n",
      "██║   ██║██║╚██╗██║██║     ██║   ██║██║     ██╔═██╗ ██╔══╝  ██║  ██║    ██╗ ██║\n",
      "╚██████╔╝██║ ╚████║███████╗╚██████╔╝╚██████╗██║  ██╗███████╗██████╔╝    ╚═╝███║\n",
      " ╚═════╝ ╚═╝  ╚═══╝╚══════╝ ╚═════╝  ╚═════╝╚═╝  ╚═╝╚══════╝╚═════╝        ╚══╝\n",
      "                                                                               \n",
      "\n",
      "\n",
      "\n",
      "\n",
      "You examine the door b. \n",
      "\n",
      ">>> You unlock it with a key you have. Well done!!! <<<\n"
     ]
    },
    {
     "name": "stdin",
     "output_type": "stream",
     "text": [
      "\n",
      "    --> Do you want to go to the next room? Enter 'yes' or 'no'  yes\n"
     ]
    },
    {
     "name": "stdout",
     "output_type": "stream",
     "text": [
      "\n",
      "\n",
      "You are now in the bedroom 2.\n"
     ]
    },
    {
     "name": "stdin",
     "output_type": "stream",
     "text": [
      "\n",
      "    --> What would you like to do? Type 'explore' or 'examine'?  explore\n"
     ]
    },
    {
     "name": "stdout",
     "output_type": "stream",
     "text": [
      "\n",
      "You are exploring the bedroom 2. Here you find: door b, double bed, dresser\n",
      "\n",
      "\n",
      "You are now in the bedroom 2.\n"
     ]
    },
    {
     "name": "stdin",
     "output_type": "stream",
     "text": [
      "\n",
      "    --> What would you like to do? Type 'explore' or 'examine'?  double bed\n"
     ]
    },
    {
     "name": "stdout",
     "output_type": "stream",
     "text": [
      "\n",
      "    --> Not sure what you mean. Type 'explore' or 'examine'.\n",
      "\n",
      "\n",
      "You are now in the bedroom 2.\n"
     ]
    },
    {
     "name": "stdin",
     "output_type": "stream",
     "text": [
      "\n",
      "    --> What would you like to do? Type 'explore' or 'examine'?  examine\n",
      "\n",
      "    --> What would you like to examine?  double bed\n"
     ]
    },
    {
     "name": "stdout",
     "output_type": "stream",
     "text": [
      "                                                                                   \n",
      "                                                                                            \n",
      "                                                                                            \n",
      "                                                                                            \n",
      "                                                                                            \n",
      "                      ██████████                                                            \n",
      "                  ████░░░░░░░░░░██████                                                   \n",
      "                ██░░░░░░░░░░░░░░░░░░░░██                                                    \n",
      "              ██░░░░░░░░░░░░░░░░░░░░░░░░██    ████                                          \n",
      "            ▓▓░░░░░░░░░░░░░░░░░░░░░░░░░░██  ██░░██                                          \n",
      "            ██░░░░░░░░░░░░░░░░░░░░░░░░░░░░██░░░░████████████████████████████████            \n",
      "          ██░░░░░░██████░░░░░░░░░░░░░░░░░░░░░░░░░░░░░░░░░░░░░░░░░░░░░░░░░░░░░░░░██          \n",
      "          ██░░░░██      ██░░░░░░░░░░░░░░░░░░░░░░░░░░░░░░░░░░░░░░░░░░░░░░░░░░░░░░░░██        \n",
      "          ██░░░░██      ▓▓░░░░░░░░░░░░░░░░░░░░░░░░░░░░░░░░░░░░░░░░░░░░░░░░░░░░░░██          \n",
      "          ██░░░░██      ██░░░░░░░░░░░░░░░░░░░░░░░░░░░░░░░░▓▓░░░░░░░░▓▓░░░░░░░░██            \n",
      "          ██░░░░░░██████░░░░░░░░░░░░░░░░░░░░░░░░██████░░██  ██░░░░██  ████████              \n",
      "            ██░░░░░░░░░░░░░░░░░░░░░░░░░░░░██░░░░██    ██      ████                          \n",
      "            ██░░░░░░░░░░░░░░░░░░░░░░░░░░██  ██░░██                                          \n",
      "              ██░░░░░░░░░░░░░░░░░░░░░░░░██    ████                                          \n",
      "                ██░░░░░░░░░░░░░░░░░░░░██                                                    \n",
      "                  ████░░░░░░░░░░██████                                                      \n",
      "                  ░░░░▓▓▓▓▓▓▓▓▓▓░░░░░░                                                      \n",
      "                                                                                            \n",
      "                                                                                            \n",
      "                                                                                         \n",
      "                 \n",
      "\n",
      "You examine the double bed. \n",
      "\n",
      ">>> You found key for door c. <<<\n",
      "\n",
      "\n",
      "You are now in the bedroom 2.\n"
     ]
    },
    {
     "name": "stdin",
     "output_type": "stream",
     "text": [
      "\n",
      "    --> What would you like to do? Type 'explore' or 'examine'?  examine\n",
      "\n",
      "    --> What would you like to examine?  dresser\n"
     ]
    },
    {
     "name": "stdout",
     "output_type": "stream",
     "text": [
      "                                                                                   \n",
      "                                                                                            \n",
      "                                                                                            \n",
      "                                                                                            \n",
      "                                                                                            \n",
      "                      ██████████                                                            \n",
      "                  ████░░░░░░░░░░██████                                                   \n",
      "                ██░░░░░░░░░░░░░░░░░░░░██                                                    \n",
      "              ██░░░░░░░░░░░░░░░░░░░░░░░░██    ████                                          \n",
      "            ▓▓░░░░░░░░░░░░░░░░░░░░░░░░░░██  ██░░██                                          \n",
      "            ██░░░░░░░░░░░░░░░░░░░░░░░░░░░░██░░░░████████████████████████████████            \n",
      "          ██░░░░░░██████░░░░░░░░░░░░░░░░░░░░░░░░░░░░░░░░░░░░░░░░░░░░░░░░░░░░░░░░██          \n",
      "          ██░░░░██      ██░░░░░░░░░░░░░░░░░░░░░░░░░░░░░░░░░░░░░░░░░░░░░░░░░░░░░░░░██        \n",
      "          ██░░░░██      ▓▓░░░░░░░░░░░░░░░░░░░░░░░░░░░░░░░░░░░░░░░░░░░░░░░░░░░░░░██          \n",
      "          ██░░░░██      ██░░░░░░░░░░░░░░░░░░░░░░░░░░░░░░░░▓▓░░░░░░░░▓▓░░░░░░░░██            \n",
      "          ██░░░░░░██████░░░░░░░░░░░░░░░░░░░░░░░░██████░░██  ██░░░░██  ████████              \n",
      "            ██░░░░░░░░░░░░░░░░░░░░░░░░░░░░██░░░░██    ██      ████                          \n",
      "            ██░░░░░░░░░░░░░░░░░░░░░░░░░░██  ██░░██                                          \n",
      "              ██░░░░░░░░░░░░░░░░░░░░░░░░██    ████                                          \n",
      "                ██░░░░░░░░░░░░░░░░░░░░██                                                    \n",
      "                  ████░░░░░░░░░░██████                                                      \n",
      "                  ░░░░▓▓▓▓▓▓▓▓▓▓░░░░░░                                                      \n",
      "                                                                                            \n",
      "                                                                                            \n",
      "                                                                                         \n",
      "                 \n",
      "\n",
      "You examine the dresser. \n",
      "\n",
      ">>> You found key for door d. <<<\n",
      "\n",
      "\n",
      "You are now in the bedroom 2.\n"
     ]
    },
    {
     "name": "stdin",
     "output_type": "stream",
     "text": [
      "\n",
      "    --> What would you like to do? Type 'explore' or 'examine'?  door b\n"
     ]
    },
    {
     "name": "stdout",
     "output_type": "stream",
     "text": [
      "\n",
      "    --> Not sure what you mean. Type 'explore' or 'examine'.\n",
      "\n",
      "\n",
      "You are now in the bedroom 2.\n"
     ]
    },
    {
     "name": "stdin",
     "output_type": "stream",
     "text": [
      "\n",
      "    --> What would you like to do? Type 'explore' or 'examine'?  examine\n",
      "\n",
      "    --> What would you like to examine?  door b\n"
     ]
    },
    {
     "name": "stdout",
     "output_type": "stream",
     "text": [
      "\n",
      "\n",
      "██╗   ██╗███╗   ██╗██╗      ██████╗  ██████╗██╗  ██╗███████╗██████╗        ███╗\n",
      "██║   ██║████╗  ██║██║     ██╔═══██╗██╔════╝██║ ██╔╝██╔════╝██╔══██╗    ██╗╚██║\n",
      "██║   ██║██╔██╗ ██║██║     ██║   ██║██║     █████╔╝ █████╗  ██║  ██║    ╚═╝ ██║\n",
      "██║   ██║██║╚██╗██║██║     ██║   ██║██║     ██╔═██╗ ██╔══╝  ██║  ██║    ██╗ ██║\n",
      "╚██████╔╝██║ ╚████║███████╗╚██████╔╝╚██████╗██║  ██╗███████╗██████╔╝    ╚═╝███║\n",
      " ╚═════╝ ╚═╝  ╚═══╝╚══════╝ ╚═════╝  ╚═════╝╚═╝  ╚═╝╚══════╝╚═════╝        ╚══╝\n",
      "                                                                               \n",
      "\n",
      "\n",
      "\n",
      "\n",
      "You examine the door b. \n",
      "\n",
      ">>> You unlock it with a key you have. Well done!!! <<<\n"
     ]
    },
    {
     "name": "stdin",
     "output_type": "stream",
     "text": [
      "\n",
      "    --> Do you want to go to the next room? Enter 'yes' or 'no'  yes\n"
     ]
    },
    {
     "name": "stdout",
     "output_type": "stream",
     "text": [
      "\n",
      "\n",
      "You are now in the bedroom 1.\n"
     ]
    },
    {
     "name": "stdin",
     "output_type": "stream",
     "text": [
      "\n",
      "    --> What would you like to do? Type 'explore' or 'examine'?  examine\n",
      "\n",
      "    --> What would you like to examine?  door c\n"
     ]
    },
    {
     "name": "stdout",
     "output_type": "stream",
     "text": [
      "\n",
      "\n",
      "██╗   ██╗███╗   ██╗██╗      ██████╗  ██████╗██╗  ██╗███████╗██████╗        ███╗\n",
      "██║   ██║████╗  ██║██║     ██╔═══██╗██╔════╝██║ ██╔╝██╔════╝██╔══██╗    ██╗╚██║\n",
      "██║   ██║██╔██╗ ██║██║     ██║   ██║██║     █████╔╝ █████╗  ██║  ██║    ╚═╝ ██║\n",
      "██║   ██║██║╚██╗██║██║     ██║   ██║██║     ██╔═██╗ ██╔══╝  ██║  ██║    ██╗ ██║\n",
      "╚██████╔╝██║ ╚████║███████╗╚██████╔╝╚██████╗██║  ██╗███████╗██████╔╝    ╚═╝███║\n",
      " ╚═════╝ ╚═╝  ╚═══╝╚══════╝ ╚═════╝  ╚═════╝╚═╝  ╚═╝╚══════╝╚═════╝        ╚══╝\n",
      "                                                                               \n",
      "\n",
      "\n",
      "\n",
      "\n",
      "You examine the door c. \n",
      "\n",
      ">>> You unlock it with a key you have. Well done!!! <<<\n"
     ]
    },
    {
     "name": "stdin",
     "output_type": "stream",
     "text": [
      "\n",
      "    --> Do you want to go to the next room? Enter 'yes' or 'no'  yes\n"
     ]
    },
    {
     "name": "stdout",
     "output_type": "stream",
     "text": [
      "\n",
      "\n",
      "You are now in the living room.\n"
     ]
    },
    {
     "name": "stdin",
     "output_type": "stream",
     "text": [
      "\n",
      "    --> What would you like to do? Type 'explore' or 'examine'?  examine\n",
      "\n",
      "    --> What would you like to examine?  door d\n"
     ]
    },
    {
     "name": "stdout",
     "output_type": "stream",
     "text": [
      "\n",
      "\n",
      "██╗   ██╗███╗   ██╗██╗      ██████╗  ██████╗██╗  ██╗███████╗██████╗        ███╗\n",
      "██║   ██║████╗  ██║██║     ██╔═══██╗██╔════╝██║ ██╔╝██╔════╝██╔══██╗    ██╗╚██║\n",
      "██║   ██║██╔██╗ ██║██║     ██║   ██║██║     █████╔╝ █████╗  ██║  ██║    ╚═╝ ██║\n",
      "██║   ██║██║╚██╗██║██║     ██║   ██║██║     ██╔═██╗ ██╔══╝  ██║  ██║    ██╗ ██║\n",
      "╚██████╔╝██║ ╚████║███████╗╚██████╔╝╚██████╗██║  ██╗███████╗██████╔╝    ╚═╝███║\n",
      " ╚═════╝ ╚═╝  ╚═══╝╚══════╝ ╚═════╝  ╚═════╝╚═╝  ╚═╝╚══════╝╚═════╝        ╚══╝\n",
      "                                                                               \n",
      "\n",
      "\n",
      "\n",
      "\n",
      "You examine the door d. \n",
      "\n",
      ">>> You unlock it with a key you have. Well done!!! <<<\n"
     ]
    },
    {
     "name": "stdin",
     "output_type": "stream",
     "text": [
      "\n",
      "    --> Do you want to go to the next room? Enter 'yes' or 'no'  yes\n"
     ]
    },
    {
     "name": "stdout",
     "output_type": "stream",
     "text": [
      "\n",
      "CONGRATS!!! YOU ESCAPED \n",
      "\n",
      "\n",
      "██╗   ██╗ ██████╗ ██╗   ██╗    ██╗    ██╗██╗███╗   ██╗    ██╗\n",
      "╚██╗ ██╔╝██╔═══██╗██║   ██║    ██║    ██║██║████╗  ██║    ██║\n",
      " ╚████╔╝ ██║   ██║██║   ██║    ██║ █╗ ██║██║██╔██╗ ██║    ██║\n",
      "  ╚██╔╝  ██║   ██║██║   ██║    ██║███╗██║██║██║╚██╗██║    ╚═╝\n",
      "   ██║   ╚██████╔╝╚██████╔╝    ╚███╔███╔╝██║██║ ╚████║    ██╗\n",
      "   ╚═╝    ╚═════╝  ╚═════╝      ╚══╝╚══╝ ╚═╝╚═╝  ╚═══╝    ╚═╝\n",
      "\n",
      "                                                             \n",
      "    \n",
      "\n",
      "\n",
      "\n",
      "\n",
      "\n",
      "\n",
      "\n",
      "\n",
      "\n",
      "\n",
      "\n",
      "\n",
      "\n",
      "\n",
      "\n",
      "\n",
      "\n",
      "\n",
      "\n",
      "\n",
      "\n",
      "\n",
      "\n",
      "\n",
      "\n",
      "\n",
      "\n",
      "\n",
      "\n",
      "\n",
      "\n",
      "\n",
      "\n",
      "\n",
      "\n",
      "\n",
      "\n",
      "\n",
      "\n",
      "\n",
      "\n",
      "\n",
      "\n",
      "\n",
      "\n",
      "\n",
      "\n",
      "\n",
      "\n",
      "\n",
      "\n",
      "\n",
      "\n",
      "\n",
      "\n",
      "\n",
      "\n",
      "\n",
      "\n",
      "\n",
      "\n"
     ]
    }
   ],
   "source": [
    "# Start the game\n",
    "functions.start_game()"
   ]
  },
  {
   "cell_type": "code",
   "execution_count": null,
   "id": "e62c07de",
   "metadata": {},
   "outputs": [],
   "source": []
  }
 ],
 "metadata": {
  "kernelspec": {
   "display_name": "Python 3 (ipykernel)",
   "language": "python",
   "name": "python3"
  },
  "language_info": {
   "codemirror_mode": {
    "name": "ipython",
    "version": 3
   },
   "file_extension": ".py",
   "mimetype": "text/x-python",
   "name": "python",
   "nbconvert_exporter": "python",
   "pygments_lexer": "ipython3",
   "version": "3.8.10"
  }
 },
 "nbformat": 4,
 "nbformat_minor": 5
}
