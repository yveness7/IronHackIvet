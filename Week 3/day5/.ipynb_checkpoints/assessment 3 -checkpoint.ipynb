{
 "cells": [
  {
   "cell_type": "markdown",
   "id": "17b78a35",
   "metadata": {},
   "source": [
    "Task\n",
    "\n",
    "For this challenge you need to create a simple GROUP BY statement, you want to group all the people by their age and count the people who have the same age.\n",
    "Table Schemas\n",
    "people\n",
    "\n",
    "A list of people with their name and age\n",
    "Name\tType\n",
    "id\tINT\n",
    "name\tSTRING\n",
    "age\tINT\n",
    "Query Schema\n",
    "Resulting query\n",
    "\n",
    "Results of people grouped by their age and a count of those who represent the age\n",
    "Name\tType\n",
    "age\tINT\n",
    "people_count\tINT\n",
    "Testing Info\n",
    "Dynamic Table Data\n",
    "\n",
    "The data within each table is re-generated each time you submit. Do not expect to get the same data back twice.\n",
    "\n",
    "In order to check accuracy of results, make sure to compare the actual results to the expected.\n",
    "Test Errors\n",
    "\n",
    "Tests are done using Ruby, which is why you may see some non-SQL looking errors if something isn't correct\n"
   ]
  },
  {
   "cell_type": "code",
   "execution_count": null,
   "id": "4d6d74a7",
   "metadata": {},
   "outputs": [],
   "source": [
    "select age, count(*) as people_count\n",
    "from people \n",
    "group by age;"
   ]
  },
  {
   "cell_type": "markdown",
   "id": "b3bb5834",
   "metadata": {},
   "source": [
    "Task\n",
    "\n",
    "For this challenge you need to create a simple HAVING statement, you want to count how many people have the same age and return the groups with 10 or more people who have that age.\n",
    "Table Schema\n",
    "people\n",
    "\n",
    "A table of people and their age\n",
    "Name\tType\n",
    "id\tINT\n",
    "name\tVARCHAR(100)\n",
    "age\tINT\n",
    "Query Schema\n",
    "Resulting Query\n",
    "\n",
    "Age groups and the amount of persons that represent them\n",
    "Name\tType\n",
    "age\tINT\n",
    "total_people\tINT"
   ]
  },
  {
   "cell_type": "code",
   "execution_count": null,
   "id": "879159da",
   "metadata": {},
   "outputs": [],
   "source": [
    "select age, count(*) as total_people\n",
    "from people \n",
    "group by age\n",
    "having count(*) >= 10;"
   ]
  },
  {
   "cell_type": "markdown",
   "id": "3843c291",
   "metadata": {},
   "source": [
    "Task\n",
    "\n",
    "For this challenge you need to create a simple SELECT statement that will return all columns from the people table, and join to the toys table so that you can return the COUNT of the toys as toy_count."
   ]
  },
  {
   "cell_type": "code",
   "execution_count": null,
   "id": "02ca5887",
   "metadata": {},
   "outputs": [],
   "source": [
    "select people.*, count(toys.id) as toy_count\n",
    "from people\n",
    "left join toys on people.id = toys.people_id\n",
    "group by people.id; \n"
   ]
  },
  {
   "cell_type": "markdown",
   "id": "3c005f74",
   "metadata": {},
   "source": [
    "SQL: Top 10 customers by total payments amount\n",
    "Overview\n",
    "\n",
    "For this challenge you will be using a DVD rental database. See below for details on this database.\n",
    "\n",
    "Your are working for a company that wants to reward its best customers with a free gift. You have been asked to generate a simple report that returns the top 10 customers by selected by total amount spent (from the payments table). The total count of payments and the contact email for each of these customers should also be included in the query.\n",
    "\n",
    "The query should retrieve the following columns:\n",
    "\n",
    "    customer_id (int4)\n",
    "    email (varchar)\n",
    "    payments_count (int)\n",
    "    total_amount (float)\n",
    "\n",
    "and should return rows showing the 10 top-spending customers ordered descending by total amount spent."
   ]
  },
  {
   "cell_type": "markdown",
   "id": "66e75cc1",
   "metadata": {},
   "source": [
    "There are 15 tables in the DVD Rental database:\n",
    "\n",
    "    actor – stores actors data including first name and last name.\n",
    "    film – stores films data such as title, release year, length, rating, etc.\n",
    "    film_actor – stores the relationships between films and actors.\n",
    "    category – stores film’s categories data.\n",
    "    film_category- stores the relationships between films and categories.\n",
    "    store – contains the store data including manager staff and address.\n",
    "    inventory – stores inventory data.\n",
    "    rental – stores rental data.\n",
    "    payment – stores customer’s payments.\n",
    "    staff – stores staff data.\n",
    "    customer – stores customers data.\n",
    "    address – stores address data for staff and customers\n",
    "    city – stores the city names.\n",
    "    country – stores the country names.\n"
   ]
  },
  {
   "cell_type": "markdown",
   "id": "bc38076f",
   "metadata": {},
   "source": [
    "select customer.customer_id, customer.email, count(payment.payment_id) as payments_count, cast(sum(payment.amount) as float) as total_amount \n",
    "from customer\n",
    "join payment on customer.customer_id = payment.customer_id\n",
    "group by customer.customer_id, customer.email\n",
    "order by total_amount desc\n",
    "limit 10;"
   ]
  },
  {
   "cell_type": "markdown",
   "id": "e3463e62",
   "metadata": {},
   "source": [
    "Task\n",
    "\n",
    "For this challenge you need to create a SELECT statement, this SELECT statement will use an IN to check whether a department has had a sale with a price over 98.00 dollars.\n",
    "Table Schemas\n",
    "departments\n",
    "\n",
    "A list of department names and their IDs\n",
    "Name\tType\n",
    "id\tINT\n",
    "name\tVARCHAR(100)\n",
    "sales\n",
    "\n",
    "A table of sales and its details\n",
    "Name\tType\n",
    "id\tINT\n",
    "department_id\tINT\n",
    "name\tVARCHAR(100)\n",
    "price\tDECIMAL\n",
    "card_name\tVARCHAR(100)\n",
    "card_number\tVARCHAR(19)\n",
    "transaction_date\tDATE\n",
    "Query Schema\n",
    "\n",
    "Names of departments who has had sales greater than $98\n",
    "Name\tType\n",
    "id\tINT\n",
    "name\tVARCHAR(100)"
   ]
  },
  {
   "cell_type": "code",
   "execution_count": null,
   "id": "0aa04808",
   "metadata": {},
   "outputs": [],
   "source": [
    "select departments.id, departments.name\n",
    "from departments \n",
    "where departments.id in (select sales.department_id \n",
    "                        from sales \n",
    "                        where sales.price > 98.00);"
   ]
  }
 ],
 "metadata": {
  "kernelspec": {
   "display_name": "Python 3 (ipykernel)",
   "language": "python",
   "name": "python3"
  },
  "language_info": {
   "codemirror_mode": {
    "name": "ipython",
    "version": 3
   },
   "file_extension": ".py",
   "mimetype": "text/x-python",
   "name": "python",
   "nbconvert_exporter": "python",
   "pygments_lexer": "ipython3",
   "version": "3.11.4"
  }
 },
 "nbformat": 4,
 "nbformat_minor": 5
}
