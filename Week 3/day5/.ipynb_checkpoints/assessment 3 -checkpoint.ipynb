{
 "cells": [
  {
   "cell_type": "markdown",
   "id": "dd5dbbcd",
   "metadata": {},
   "source": [
    "Task\n",
    "\n",
    "For this challenge you need to create a simple GROUP BY statement, you want to group all the people by their age and count the people who have the same age.\n",
    "Table Schemas\n",
    "people\n",
    "\n",
    "A list of people with their name and age\n",
    "Name\tType\n",
    "id\tINT\n",
    "name\tSTRING\n",
    "age\tINT\n",
    "Query Schema\n",
    "Resulting query\n",
    "\n",
    "Results of people grouped by their age and a count of those who represent the age\n",
    "Name\tType\n",
    "age\tINT\n",
    "people_count\tINT\n",
    "Testing Info\n",
    "Dynamic Table Data\n",
    "\n",
    "The data within each table is re-generated each time you submit. Do not expect to get the same data back twice.\n",
    "\n",
    "In order to check accuracy of results, make sure to compare the actual results to the expected.\n",
    "Test Errors\n",
    "\n",
    "Tests are done using Ruby, which is why you may see some non-SQL looking errors if something isn't correct\n"
   ]
  },
  {
   "cell_type": "code",
   "execution_count": null,
   "id": "eb5aa360",
   "metadata": {},
   "outputs": [],
   "source": [
    "select age, count(*) as people_count\n",
    "from people \n",
    "group by age;"
   ]
  },
  {
   "cell_type": "markdown",
   "id": "aaf47da3",
   "metadata": {},
   "source": [
    "Task\n",
    "\n",
    "For this challenge you need to create a simple HAVING statement, you want to count how many people have the same age and return the groups with 10 or more people who have that age.\n",
    "Table Schema\n",
    "people\n",
    "\n",
    "A table of people and their age\n",
    "Name\tType\n",
    "id\tINT\n",
    "name\tVARCHAR(100)\n",
    "age\tINT\n",
    "Query Schema\n",
    "Resulting Query\n",
    "\n",
    "Age groups and the amount of persons that represent them\n",
    "Name\tType\n",
    "age\tINT\n",
    "total_people\tINT"
   ]
  },
  {
   "cell_type": "code",
   "execution_count": null,
   "id": "7041ceb7",
   "metadata": {},
   "outputs": [],
   "source": [
    "select age, count(*) as total_people\n",
    "from people \n",
    "group by age\n",
    "having count(*) >= 10;"
   ]
  },
  {
   "cell_type": "markdown",
   "id": "54a8bb86",
   "metadata": {},
   "source": [
    "Task\n",
    "\n",
    "For this challenge you need to create a simple SELECT statement that will return all columns from the people table, and join to the toys table so that you can return the COUNT of the toys as toy_count."
   ]
  },
  {
   "cell_type": "code",
   "execution_count": null,
   "id": "b395a22f",
   "metadata": {},
   "outputs": [],
   "source": [
    "select people.*, count(toys.id) as toy_count\n",
    "from people\n",
    "left join toys on people.id = toys.people_id\n",
    "group by people.id; \n"
   ]
  },
  {
   "cell_type": "markdown",
   "id": "23fd6e49",
   "metadata": {},
   "source": [
    "SQL: Top 10 customers by total payments amount\n",
    "Overview\n",
    "\n",
    "For this challenge you will be using a DVD rental database. See below for details on this database.\n",
    "\n",
    "Your are working for a company that wants to reward its best customers with a free gift. You have been asked to generate a simple report that returns the top 10 customers by selected by total amount spent (from the payments table). The total count of payments and the contact email for each of these customers should also be included in the query.\n",
    "\n",
    "The query should retrieve the following columns:\n",
    "\n",
    "    customer_id (int4)\n",
    "    email (varchar)\n",
    "    payments_count (int)\n",
    "    total_amount (float)\n",
    "\n",
    "and should return rows showing the 10 top-spending customers ordered descending by total amount spent."
   ]
  },
  {
   "cell_type": "markdown",
   "id": "23f12ba4",
   "metadata": {},
   "source": [
    "There are 15 tables in the DVD Rental database:\n",
    "\n",
    "    actor – stores actors data including first name and last name.\n",
    "    film – stores films data such as title, release year, length, rating, etc.\n",
    "    film_actor – stores the relationships between films and actors.\n",
    "    category – stores film’s categories data.\n",
    "    film_category- stores the relationships between films and categories.\n",
    "    store – contains the store data including manager staff and address.\n",
    "    inventory – stores inventory data.\n",
    "    rental – stores rental data.\n",
    "    payment – stores customer’s payments.\n",
    "    staff – stores staff data.\n",
    "    customer – stores customers data.\n",
    "    address – stores address data for staff and customers\n",
    "    city – stores the city names.\n",
    "    country – stores the country names.\n"
   ]
  },
  {
   "cell_type": "markdown",
   "id": "fe52f830",
   "metadata": {},
   "source": [
    "select customer.customer_id, customer.email, count(payment.payment_id) as payments_count, cast(sum(payment.amount) as float) as total_amount \n",
    "from customer\n",
    "join payment on customer.customer_id = payment.customer_id\n",
    "group by customer.customer_id, customer.email\n",
    "order by total_amount desc\n",
    "limit 10;"
   ]
  },
  {
   "cell_type": "markdown",
   "id": "a8ba79f1",
   "metadata": {},
   "source": [
    "Task\n",
    "\n",
    "For this challenge you need to create a SELECT statement, this SELECT statement will use an IN to check whether a department has had a sale with a price over 98.00 dollars.\n",
    "Table Schemas\n",
    "departments\n",
    "\n",
    "A list of department names and their IDs\n",
    "Name\tType\n",
    "id\tINT\n",
    "name\tVARCHAR(100)\n",
    "sales\n",
    "\n",
    "A table of sales and its details\n",
    "Name\tType\n",
    "id\tINT\n",
    "department_id\tINT\n",
    "name\tVARCHAR(100)\n",
    "price\tDECIMAL\n",
    "card_name\tVARCHAR(100)\n",
    "card_number\tVARCHAR(19)\n",
    "transaction_date\tDATE\n",
    "Query Schema\n",
    "\n",
    "Names of departments who has had sales greater than $98\n",
    "Name\tType\n",
    "id\tINT\n",
    "name\tVARCHAR(100)"
   ]
  },
  {
   "cell_type": "code",
   "execution_count": null,
   "id": "67f6cabc",
   "metadata": {},
   "outputs": [],
   "source": [
    "select departments.id, departments.name\n",
    "from departments \n",
    "where departments.id in (select sales.department_id \n",
    "                        from sales \n",
    "                        where sales.price > 98.00);"
   ]
  },
  {
   "cell_type": "code",
   "execution_count": 4,
   "id": "0473888b",
   "metadata": {},
   "outputs": [
    {
     "ename": "SyntaxError",
     "evalue": "invalid syntax (3896430341.py, line 3)",
     "output_type": "error",
     "traceback": [
      "\u001b[0;36m  Cell \u001b[0;32mIn[4], line 3\u001b[0;36m\u001b[0m\n\u001b[0;31m    For this challenge your task is to create a VIEW. This VIEW is used by a sales store to give out vouchers to members who have spent over $ 1000 in departments that have brought in more than $10000 total ordered by the members id. The VIEW must be called members_approved_for_voucher. Create a SELECT query using this view that extracts the expected results.\u001b[0m\n\u001b[0m        ^\u001b[0m\n\u001b[0;31mSyntaxError\u001b[0m\u001b[0;31m:\u001b[0m invalid syntax\n"
     ]
    }
   ],
   "source": [
    "\n",
    "\n",
    "Task\n",
    "\n",
    "For this challenge your task is to create a VIEW. This VIEW is used by a sales store to give out vouchers to members who have spent over $ 1000 in departments that have brought in more than $10000 total ordered by the members id. The VIEW must be called members_approved_for_voucher. Create a SELECT query using this view that extracts the expected results."
   ]
  },
  {
   "cell_type": "code",
   "execution_count": null,
   "id": "07c304c7",
   "metadata": {},
   "outputs": [],
   "source": [
    "create view members_approved_for_voucher as \n",
    "select members.member_id, members.name, members.email\n",
    "from members\n",
    "inner join (select department_id, sum(product.price) as department_total \n",
    "            from sales\n",
    "            group by department_id \n",
    "            having sum(price)>10000) \n",
    "as department_sales on sales.department_id = department_sales.department_id\n",
    "where (select sum(price) from sales where member_id = member.member_id) > 1000 order by member.member_id\n"
   ]
  },
  {
   "cell_type": "code",
   "execution_count": null,
   "id": "cf247c17",
   "metadata": {},
   "outputs": [],
   "source": [
    "as department_sales on sales.department_id = department_sales.department_id\n",
    "group by (select sum(price) from sales where member_id = member.member_id) > 1000 order by member.member_id\n",
    "\n",
    "\n",
    "\n",
    "    \n",
    "    \n",
    "\n",
    "    \n",
    ") AS dept_sales ON s.department_id = dept_sales.department_id\n",
    "GROUP BY \n",
    "    m.id, m.name, m.email\n",
    "HAVING \n",
    "    SUM(p.price) > 1000\n",
    "ORDER BY \n",
    "    m.id;"
   ]
  }
 ],
 "metadata": {
  "kernelspec": {
   "display_name": "Python 3 (ipykernel)",
   "language": "python",
   "name": "python3"
  },
  "language_info": {
   "codemirror_mode": {
    "name": "ipython",
    "version": 3
   },
   "file_extension": ".py",
   "mimetype": "text/x-python",
   "name": "python",
   "nbconvert_exporter": "python",
   "pygments_lexer": "ipython3",
   "version": "3.11.4"
  }
 },
 "nbformat": 4,
 "nbformat_minor": 5
}
