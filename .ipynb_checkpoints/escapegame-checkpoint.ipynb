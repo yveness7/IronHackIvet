{
 "cells": [
  {
   "cell_type": "code",
   "execution_count": null,
   "id": "90365de6-33f2-47ee-b30a-0e4dc5437087",
   "metadata": {},
   "outputs": [
    {
     "name": "stdout",
     "output_type": "stream",
     "text": [
      "You are in the game room.\n",
      "Options: Explore, Examine, Door A\n"
     ]
    },
    {
     "name": "stdin",
     "output_type": "stream",
     "text": [
      "What would you like to do?  explore\n"
     ]
    },
    {
     "name": "stdout",
     "output_type": "stream",
     "text": [
      "You search the room and find nothing of interest.\n",
      "You are in the game room.\n",
      "Options: Explore, Examine, Door A\n"
     ]
    },
    {
     "name": "stdin",
     "output_type": "stream",
     "text": [
      "What would you like to do?  examine\n",
      "What would you like to examine?  EXAMINE\n"
     ]
    },
    {
     "name": "stdout",
     "output_type": "stream",
     "text": [
      "You didn't find anything.\n",
      "You are in the game room.\n",
      "Options: Explore, Examine, Door A\n"
     ]
    },
    {
     "name": "stdin",
     "output_type": "stream",
     "text": [
      "What would you like to do?  door a\n"
     ]
    },
    {
     "name": "stdout",
     "output_type": "stream",
     "text": [
      "Invalid choice. Please try again.\n",
      "You are in the game room.\n",
      "Options: Explore, Examine, Door A\n"
     ]
    },
    {
     "name": "stdin",
     "output_type": "stream",
     "text": [
      "What would you like to do?  Door A\n"
     ]
    },
    {
     "name": "stdout",
     "output_type": "stream",
     "text": [
      "Invalid choice. Please try again.\n",
      "You are in the game room.\n",
      "Options: Explore, Examine, Door A\n"
     ]
    },
    {
     "name": "stdin",
     "output_type": "stream",
     "text": [
      "What would you like to do?  explore\n"
     ]
    },
    {
     "name": "stdout",
     "output_type": "stream",
     "text": [
      "You search the room and find nothing of interest.\n",
      "You are in the game room.\n",
      "Options: Explore, Examine, Door A\n"
     ]
    },
    {
     "name": "stdin",
     "output_type": "stream",
     "text": [
      "What would you like to do?  door a\n"
     ]
    },
    {
     "name": "stdout",
     "output_type": "stream",
     "text": [
      "Invalid choice. Please try again.\n",
      "You are in the game room.\n",
      "Options: Explore, Examine, Door A\n"
     ]
    },
    {
     "name": "stdin",
     "output_type": "stream",
     "text": [
      "What would you like to do?  Door a\n"
     ]
    },
    {
     "name": "stdout",
     "output_type": "stream",
     "text": [
      "Invalid choice. Please try again.\n",
      "You are in the game room.\n",
      "Options: Explore, Examine, Door A\n"
     ]
    }
   ],
   "source": [
    "# Game rooms and keys\n",
    "rooms = {\n",
    "    \"Game Room\": {\"description\": \"You are in the game room.\", \"options\": [\"Explore\", \"Examine\", \"Door A\"]},\n",
    "    \"Bedroom 1\": {\"description\": \"You are in Bedroom 1.\", \"options\": [\"Explore\", \"Door A\", \"Door B\", \"Door C\"]},\n",
    "    \"Bedroom 2\": {\"description\": \"You are in Bedroom 2.\", \"options\": [\"Explore\", \"Door B\", \"Door C\", \"Door D\"]},\n",
    "    \"Living Room\": {\"description\": \"You are in the living room.\", \"options\": [\"Explore\", \"Door C\", \"Door D\", \"Outside\"]}\n",
    "}\n",
    "\n",
    "keys = {\n",
    "    \"Door A\": \"Piano Key\",\n",
    "    \"Door B\": \"Bedroom 1 Key\",\n",
    "    \"Door C\": \"Bedroom 2 Key\",\n",
    "    \"Door D\": \"Living Room Key\"\n",
    "}\n",
    "\n",
    "current_room = \"Game Room\"\n",
    "inventory = []\n",
    "\n",
    "# Game loop\n",
    "while True:\n",
    "    print(rooms[current_room][\"description\"])\n",
    "    print(\"Options: \" + \", \".join(rooms[current_room][\"options\"]))\n",
    "    choice = input(\"What would you like to do? \").strip().lower()\n",
    "\n",
    "    if choice == \"explore\":\n",
    "        print(\"You search the room and find nothing of interest.\")\n",
    "    elif choice == \"examine\":\n",
    "        item = input(\"What would you like to examine? \").strip().lower()\n",
    "        if item in keys.values() and item not in inventory:\n",
    "            inventory.append(item)\n",
    "            print(f\"You found a {item}!\")\n",
    "        else:\n",
    "            print(\"You didn't find anything.\")\n",
    "    elif choice in rooms[current_room][\"options\"]:\n",
    "        if choice in keys.keys():\n",
    "            if keys[choice] in inventory:\n",
    "                print(f\"You unlock {choice}.\")\n",
    "                next_room = choice.split()[1]\n",
    "                current_room = next_room\n",
    "            else:\n",
    "                print(\"You don't have the key for this door.\")\n",
    "        elif choice == \"outside\" and current_room == \"Living Room\":\n",
    "            if all(key in inventory for key in keys.values()):\n",
    "                print(\"Freedom! You’ve managed to escape the room! Congrats on your successful adventure!\")\n",
    "                break\n",
    "            else:\n",
    "                print(\"The door is locked. You need to find all the keys to escape.\")\n",
    "        else:\n",
    "            next_room = choice.split()[1]\n",
    "            current_room = next_room\n",
    "    else:\n",
    "        print(\"Invalid choice. Please try again.\")\n"
   ]
  },
  {
   "cell_type": "code",
   "execution_count": null,
   "id": "ee8940c2-130f-479e-93a9-c1f04d3be813",
   "metadata": {},
   "outputs": [],
   "source": []
  }
 ],
 "metadata": {
  "kernelspec": {
   "display_name": "Python 3 (ipykernel)",
   "language": "python",
   "name": "python3"
  },
  "language_info": {
   "codemirror_mode": {
    "name": "ipython",
    "version": 3
   },
   "file_extension": ".py",
   "mimetype": "text/x-python",
   "name": "python",
   "nbconvert_exporter": "python",
   "pygments_lexer": "ipython3",
   "version": "3.8.10"
  }
 },
 "nbformat": 4,
 "nbformat_minor": 5
}
