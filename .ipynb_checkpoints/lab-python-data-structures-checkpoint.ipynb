{
 "cells": [
  {
   "cell_type": "markdown",
   "metadata": {
    "tags": []
   },
   "source": [
    "# Lab | Data Structures "
   ]
  },
  {
   "cell_type": "markdown",
   "metadata": {},
   "source": [
    "## Exercise: Managing Customer Orders\n",
    "\n",
    "As part of a business venture, you are starting an online store that sells various products. To ensure smooth operations, you need to develop a program that manages customer orders and inventory.\n",
    "\n",
    "Follow the steps below to complete the exercise:\n",
    "\n",
    "1. Define a list called `products` that contains the following items: \"t-shirt\", \"mug\", \"hat\", \"book\", \"keychain\".\n",
    "\n",
    "2. Create an empty dictionary called `inventory`.\n",
    "\n",
    "3. Ask the user to input the quantity of each product available in the inventory. Use the product names from the `products` list as keys in the `inventory` dictionary and assign the respective quantities as values.\n",
    "\n",
    "4. Create an empty set called `customer_orders`.\n",
    "\n",
    "5. Ask the user to input the name of three products that a customer wants to order (from those in the products list, meaning three products out of \"t-shirt\", \"mug\", \"hat\", \"book\" or \"keychain\". Add each product name to the `customer_orders` set.\n",
    "\n",
    "6. Print the products in the `customer_orders` set.\n",
    "\n",
    "7. Calculate the following order statistics:\n",
    "   - Total Products Ordered: The total number of products in the `customer_orders` set.\n",
    "   - Percentage of Products Ordered: The percentage of products ordered compared to the total available products.\n",
    "   \n",
    "   Store these statistics in a tuple called `order_status`.\n",
    "\n",
    "8. Print the order statistics using the following format:\n",
    "   ```\n",
    "   Order Statistics:\n",
    "   Total Products Ordered: <total_products_ordered>\n",
    "   Percentage of Products Ordered: <percentage_ordered>% \n",
    "   ```\n",
    "\n",
    "9. Update the inventory by subtracting 1 from the quantity of each product. Modify the `inventory` dictionary accordingly.\n",
    "\n",
    "10. Print the updated inventory, displaying the quantity of each product on separate lines.\n",
    "\n",
    "Solve the exercise by implementing the steps using the Python concepts of lists, dictionaries, sets, and basic input/output operations. "
   ]
  },
  {
   "cell_type": "code",
   "execution_count": 10,
   "metadata": {},
   "outputs": [
    {
     "name": "stdin",
     "output_type": "stream",
     "text": [
      "Please enter the quantity of tshirts you would like to order:  6\n",
      "Please enter the quantity of mugs you would like to order:  6\n",
      "Please enter the quantity of hats you would like to order:  6\n",
      "Please enter the quantity of books you would like to order:  6\n",
      "Please enter the quantity of keychains you would like to order:  66\n",
      "\n",
      "Please enter the name of the product that you want to order from the list: tshirts, mugs, hats, books, keychains:  hats\n",
      "\n",
      "Please enter the name of the product that you want to order from the list: tshirts, mugs, hats, books, keychains:  books\n",
      "\n",
      "Please enter the name of the product that you want to order from the list: tshirts, mugs, hats, books, keychains:  mugs\n"
     ]
    },
    {
     "name": "stdout",
     "output_type": "stream",
     "text": [
      "\n",
      "Products in customer orders:\n",
      "books\n",
      "mugs\n",
      "hats\n",
      "\n",
      "Order statistics:\n",
      "\n",
      "Total Products Ordered: 3\n",
      "\n",
      "Percentage of Products Ordered: 60.00%\n",
      "\n",
      "Updated Inventory:\n",
      "Tshirts: 5\n",
      "Mugs: 5\n",
      "Hats: 5\n",
      "Books: 5\n",
      "Keychains: 65\n"
     ]
    }
   ],
   "source": [
    "#my code\n",
    "products = [\"tshirts\", \"mugs\", \"hats\", \"books\", \"keychains\"]\n",
    "inventory = {} #create empty dictionary\n",
    "\n",
    "#customer input                 \n",
    "for product in products:\n",
    "    while True:\n",
    "        quantity = int(input(f\"Please enter the quantity of {product} you would like to order: \"))\n",
    "        if quantity >= 0:\n",
    "             inventory [ product ] = quantity\n",
    "        break\n",
    "    else:\n",
    "        print(\"Please enter a valid number\")\n",
    "                        \n",
    "customer_orders = set()  #empty set for customer orders\n",
    " \n",
    "#input names of 3 producs \n",
    "for i in range(3):\n",
    "    while True:\n",
    "        product_name = input(f\"\\nPlease enter the name of the product that you want to order from the list: {', '.join(products)}: \").lower()\n",
    "        if product_name in products:\n",
    "            customer_orders.add(product_name)\n",
    "            break\n",
    "        else:\n",
    "            print(\"\\nPlease provide a product from the provided list!\")\n",
    "            \n",
    "#print the prodicts in the customer_orders set\n",
    "print(\"\\nProducts in customer orders:\")\n",
    "for product in customer_orders:\n",
    "    print(product)\n",
    "\n",
    "\n",
    "# order statistics calculation\n",
    "\n",
    "total_products_ordered = len(customer_orders)\n",
    "percentage_ordered = (total_products_ordered / len(products)) * 100\n",
    "order_status = (total_products_ordered, percentage_ordered)\n",
    "\n",
    "#print order statistics \n",
    "print(\"\\nOrder statistics:\")\n",
    "print(f\"\\nTotal Products Ordered: {total_products_ordered}\")\n",
    "print(f\"\\nPercentage of Products Ordered: {percentage_ordered:.2f}%\")\n",
    "\n",
    "# Update the inventory by subtracting 1 from the quantity of each product\n",
    "inventory = {product: inventory.get(product, 0) - 1 for product in products}\n",
    "\n",
    "print(\"\\nUpdated Inventory:\")\n",
    "for product, quantity in inventory.items():\n",
    "    print(f\"{product.capitalize()}: {quantity}\")\n",
    "                \n",
    "              \n"
   ]
  },
  {
   "cell_type": "code",
   "execution_count": null,
   "metadata": {},
   "outputs": [],
   "source": [
    "\n"
   ]
  },
  {
   "cell_type": "code",
   "execution_count": null,
   "metadata": {},
   "outputs": [],
   "source": []
  }
 ],
 "metadata": {
  "kernelspec": {
   "display_name": "Python 3 (ipykernel)",
   "language": "python",
   "name": "python3"
  },
  "language_info": {
   "codemirror_mode": {
    "name": "ipython",
    "version": 3
   },
   "file_extension": ".py",
   "mimetype": "text/x-python",
   "name": "python",
   "nbconvert_exporter": "python",
   "pygments_lexer": "ipython3",
   "version": "3.8.10"
  }
 },
 "nbformat": 4,
 "nbformat_minor": 4
}
