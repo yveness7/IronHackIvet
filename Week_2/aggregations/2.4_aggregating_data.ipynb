{
 "cells": [
  {
   "cell_type": "markdown",
   "metadata": {
    "toc": true
   },
   "source": [
    "<h1>Table of Contents<span class=\"tocSkip\"></span></h1>\n",
    "<div class=\"toc\"><ul class=\"toc-item\"><li><span><a href=\"#Data-Aggregation-and-Grouping\" data-toc-modified-id=\"Data-Aggregation-and-Grouping-1\"><span class=\"toc-item-num\">1&nbsp;&nbsp;</span>Data Aggregation and Grouping</a></span><ul class=\"toc-item\"><li><span><a href=\"#Aggregation\" data-toc-modified-id=\"Aggregation-1.1\"><span class=\"toc-item-num\">1.1&nbsp;&nbsp;</span>Aggregation</a></span></li><li><span><a href=\"#Grouping\" data-toc-modified-id=\"Grouping-1.2\"><span class=\"toc-item-num\">1.2&nbsp;&nbsp;</span>Grouping</a></span><ul class=\"toc-item\"><li><span><a href=\"#Iterating-GroupBy-object\" data-toc-modified-id=\"Iterating-GroupBy-object-1.2.1\"><span class=\"toc-item-num\">1.2.1&nbsp;&nbsp;</span>Iterating GroupBy object</a></span></li><li><span><a href=\"#groups\" data-toc-modified-id=\"groups-1.2.2\"><span class=\"toc-item-num\">1.2.2&nbsp;&nbsp;</span><code>groups</code></a></span></li><li><span><a href=\"#size\" data-toc-modified-id=\"size-1.2.3\"><span class=\"toc-item-num\">1.2.3&nbsp;&nbsp;</span><code>size</code></a></span></li><li><span><a href=\"#get_group()\" data-toc-modified-id=\"get_group()-1.2.4\"><span class=\"toc-item-num\">1.2.4&nbsp;&nbsp;</span><code>get_group()</code></a></span></li><li><span><a href=\"#Applying-aggregations\" data-toc-modified-id=\"Applying-aggregations-1.2.5\"><span class=\"toc-item-num\">1.2.5&nbsp;&nbsp;</span>Applying aggregations</a></span></li><li><span><a href=\"#Multiple-Aggregations\" data-toc-modified-id=\"Multiple-Aggregations-1.2.6\"><span class=\"toc-item-num\">1.2.6&nbsp;&nbsp;</span>Multiple Aggregations</a></span></li><li><span><a href=\"#Grouping-by-Multiple-Variables\" data-toc-modified-id=\"Grouping-by-Multiple-Variables-1.2.7\"><span class=\"toc-item-num\">1.2.7&nbsp;&nbsp;</span>Grouping by Multiple Variables</a></span></li></ul></li></ul></li><li><span><a href=\"#Summary\" data-toc-modified-id=\"Summary-2\"><span class=\"toc-item-num\">2&nbsp;&nbsp;</span>Summary</a></span><ul class=\"toc-item\"><li><ul class=\"toc-item\"><li><span><a href=\"#💡-Check-for-understanding\" data-toc-modified-id=\"💡-Check-for-understanding-2.0.1\"><span class=\"toc-item-num\">2.0.1&nbsp;&nbsp;</span>💡 Check for understanding</a></span></li></ul></li></ul></li></ul></div>"
   ]
  },
  {
   "cell_type": "markdown",
   "metadata": {},
   "source": [
    "# Data Aggregation and Grouping \n",
    "\n",
    "Data aggregation and grouping are fundamental operations in data analysis. They involve combining multiple pieces of data into a single result. For instance, you may want to group data by certain variables and then calculate summary statistics like count, mean, sum, or standard deviation."
   ]
  },
  {
   "cell_type": "code",
   "execution_count": null,
   "metadata": {},
   "outputs": [],
   "source": [
    "import pandas as pd\n",
    "\n",
    "# Load the dataset\n",
    "url = 'https://raw.githubusercontent.com/data-bootcamp-v4/data/main/titanic_train.csv'\n",
    "df = pd.read_csv(url)\n",
    "\n",
    "# Display the first few rows of the DataFrame\n",
    "df.head()"
   ]
  },
  {
   "cell_type": "markdown",
   "metadata": {},
   "source": [
    "## Aggregation\n",
    "\n",
    "Aggregation in pandas involves applying a function to a dataset, transforming multiple values into a single value. pandas provides various aggregation functions, including:\n",
    "\n",
    "- `mean()`: Compute the arithmetic mean.\n",
    "- `sum()`: Compute the sum of values.\n",
    "- `min()`: Compute the minimum value.\n",
    "- `max()`: Compute the maximum value.\n",
    "- `count()`: Count the number of non-null values.\n",
    "- `std()`: Compute the standard deviation.\n",
    "\n",
    "For instance, to find the mean value of a numerical column, use the `mean()` function:"
   ]
  },
  {
   "cell_type": "code",
   "execution_count": null,
   "metadata": {},
   "outputs": [],
   "source": [
    "df['Fare'].mean()"
   ]
  },
  {
   "cell_type": "markdown",
   "metadata": {},
   "source": [
    "## Grouping\n",
    "\n",
    "Grouping is the process of splitting the data into groups based on certain criteria. The `groupby()` function is used for this purpose."
   ]
  },
  {
   "cell_type": "code",
   "execution_count": null,
   "metadata": {},
   "outputs": [],
   "source": [
    "grouped = df.groupby('Sex')\n",
    "grouped"
   ]
  },
  {
   "cell_type": "markdown",
   "metadata": {},
   "source": [
    "### Iterating GroupBy object"
   ]
  },
  {
   "cell_type": "markdown",
   "metadata": {},
   "source": [
    "The `groupby()` function in pandas returns a `GroupBy` object that can be iterated over. Each iteration provides a tuple where the first item is the group identifier and the second item is the data in that group as a DataFrame."
   ]
  },
  {
   "cell_type": "code",
   "execution_count": null,
   "metadata": {},
   "outputs": [],
   "source": [
    "# Iterate over each group\n",
    "for name, group in grouped:\n",
    "    print(f\"Group name: {name}\")\n",
    "    print(group)"
   ]
  },
  {
   "cell_type": "code",
   "execution_count": null,
   "metadata": {},
   "outputs": [],
   "source": [
    "# The number of groups by gender (`len(grouped)`) is equal to the number of unique elements in that category.\n",
    "\n",
    "df['Sex'].nunique() == len(grouped)"
   ]
  },
  {
   "cell_type": "markdown",
   "metadata": {},
   "source": [
    "### `groups`\n",
    "The `groups` attribute of a pandas `GroupBy` object is a dictionary. The keys of this dictionary are the computed unique groups and the corresponding values are the axis labels belonging to each group."
   ]
  },
  {
   "cell_type": "code",
   "execution_count": null,
   "metadata": {},
   "outputs": [],
   "source": [
    "grouped.groups"
   ]
  },
  {
   "cell_type": "markdown",
   "metadata": {},
   "source": [
    "### `size`\n",
    "\n",
    "The `size` attribute of a pandas `GroupBy` object returns a Series giving the size (i.e., the number of items) of each group. This is like applying the `count()` function to each group, but `size` includes `NaN` values and `count` does not. \n",
    "\n"
   ]
  },
  {
   "cell_type": "code",
   "execution_count": null,
   "metadata": {},
   "outputs": [],
   "source": [
    "grouped.size()"
   ]
  },
  {
   "cell_type": "markdown",
   "metadata": {},
   "source": [
    "### `get_group()`\n",
    "\n",
    "The `get_group` method is used to select a single group from a `GroupBy` object as a DataFrame. You provide the name of the group you want to select as an argument."
   ]
  },
  {
   "cell_type": "code",
   "execution_count": null,
   "metadata": {},
   "outputs": [],
   "source": [
    "grouped.get_group('female').head()"
   ]
  },
  {
   "cell_type": "markdown",
   "metadata": {},
   "source": [
    "### Applying aggregations"
   ]
  },
  {
   "cell_type": "markdown",
   "metadata": {},
   "source": [
    "Once the data is split into groups, you need a way to represent each group in the resulting output. That's where aggregation functions come in.\n",
    "\n",
    "For example, if you group a DataFrame by a categorical variable (like 'City'), you'll end up with a separate group for each unique city in your data. But how do you want to represent each city in your result? Do you want the mean of another variable (like 'Sales') for each city? The sum? The maximum? This is what the aggregation function determines.\n",
    "\n",
    "When you apply an aggregation function after a `groupby()`, pandas applies that function to each group separately and then combines the results into a new DataFrame."
   ]
  },
  {
   "cell_type": "code",
   "execution_count": null,
   "metadata": {},
   "outputs": [],
   "source": [
    "df.groupby('Sex').mean() # Get the mean of each variable grouped by Sex"
   ]
  },
  {
   "cell_type": "code",
   "execution_count": null,
   "metadata": {},
   "outputs": [],
   "source": [
    "# Let's find the average age of the passengers grouped by their gender\n",
    "\n",
    "df.groupby('Sex')['Age'].mean()"
   ]
  },
  {
   "cell_type": "markdown",
   "metadata": {},
   "source": [
    "### Multiple Aggregations\n",
    "\n",
    "You can perform multiple aggregations at once using the `agg()` function. \n",
    "\n",
    "For example, let's find the count, mean, and standard deviation of the age of passengers, grouped by their gender:"
   ]
  },
  {
   "cell_type": "code",
   "execution_count": null,
   "metadata": {},
   "outputs": [],
   "source": [
    "df.groupby('Sex')['Age'].agg(['count', 'mean', 'std'])"
   ]
  },
  {
   "cell_type": "markdown",
   "metadata": {},
   "source": [
    "### Grouping by Multiple Variables\n",
    "\n",
    "You can group by multiple variables by passing a list to the `groupby()` function.\n",
    "\n",
    "For example, let's find the average age of passengers grouped by their gender and whether they survived:"
   ]
  },
  {
   "cell_type": "code",
   "execution_count": null,
   "metadata": {},
   "outputs": [],
   "source": [
    "df.groupby(['Sex', 'Survived'])['Age'].mean()"
   ]
  },
  {
   "cell_type": "markdown",
   "metadata": {},
   "source": [
    "# Summary"
   ]
  },
  {
   "cell_type": "markdown",
   "metadata": {},
   "source": [
    "- Aggregation involves applying a function to a dataset that reduces multiple values into a single value. Common aggregation functions in pandas include `mean()`, `sum()`, `min()`, `max()`, `count()`, and `std()`.\n",
    "- Grouping in pandas is done using the `groupby()` function, which splits data into groups based on certain criteria. The grouped data can then be aggregated separately.\n",
    "    - A `GroupBy` object can be iterated over, with each iteration yielding a tuple where the first item is the group identifier, and the second item is the data in that group as a DataFrame.\n",
    "    - The `groups` attribute of a `GroupBy` object is a dictionary where the keys are the computed unique groups, and the corresponding values are the axis labels belonging to each group.\n",
    "    - The `size` attribute of a `GroupBy` object returns a Series giving the size of each group. Unlike the `count()` function, `size` includes `NaN` values.\n",
    "    - The `get_group()` method of a `GroupBy` object allows for the selection of a single group as a DataFrame.\n",
    "- After a `groupby()` operation, an aggregation function is necessary to represent each group in the resulting output.\n",
    "- Multiple aggregations can be performed at once using the `agg()` function.\n",
    "- Grouping can be done by multiple variables by passing a list to the `groupby()` function. This can be helpful when you want to analyze your data at different levels of granularity."
   ]
  },
  {
   "cell_type": "markdown",
   "metadata": {},
   "source": [
    "### 💡 Check for understanding"
   ]
  },
  {
   "cell_type": "markdown",
   "metadata": {
    "tags": []
   },
   "source": [
    "Using the Titanic dataset (`'https://raw.githubusercontent.com/data-bootcamp-v4/data/main/titanic_train.csv'`), perform the following operations and **write your conclusions after each step**:\n",
    "\n",
    "- Calculate the number, mean, and standard deviation of the 'Fare' paid by passengers, grouped by their 'Sex'.\n",
    "\n",
    "- Determine the number of survivors and non-survivors by class (use 'Pclass' variable).\n",
    "\n",
    "- Determine the number of survivors and non-survivors by gender.\n",
    "\n",
    "- Use the `get_group` method to select the group of 1st Class passengers and display the first 5 rows of this group. Then, group by 'Survived' within the first class group, and calculate the average fare.\n",
    "\n",
    "- Create a new column 'AgeGroup' . This column should categorize passengers as 'Child' (age <= 12), 'Teen' (12 < age <=18), 'Adult' (18 < age <= 60), and 'Senior' (age > 60). Then, find out how many survivors are there in each age group.\n",
    "\n",
    "- BONUS: calculate the survival rates within each age group in percentages."
   ]
  },
  {
   "cell_type": "code",
   "execution_count": null,
   "metadata": {},
   "outputs": [],
   "source": [
    "# Your code here"
   ]
  }
 ],
 "metadata": {
  "kernelspec": {
   "display_name": "Python 3 (ipykernel)",
   "language": "python",
   "name": "python3"
  },
  "language_info": {
   "codemirror_mode": {
    "name": "ipython",
    "version": 3
   },
   "file_extension": ".py",
   "mimetype": "text/x-python",
   "name": "python",
   "nbconvert_exporter": "python",
   "pygments_lexer": "ipython3",
   "version": "3.9.13"
  },
  "toc": {
   "base_numbering": 1,
   "nav_menu": {},
   "number_sections": true,
   "sideBar": false,
   "skip_h1_title": false,
   "title_cell": "Table of Contents",
   "title_sidebar": "Contents",
   "toc_cell": true,
   "toc_position": {
    "height": "537.273px",
    "left": "420px",
    "top": "110.824px",
    "width": "426.996px"
   },
   "toc_section_display": true,
   "toc_window_display": true
  }
 },
 "nbformat": 4,
 "nbformat_minor": 4
}
