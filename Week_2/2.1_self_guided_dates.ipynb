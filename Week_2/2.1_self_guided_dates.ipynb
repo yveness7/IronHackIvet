{
 "cells": [
  {
   "cell_type": "markdown",
   "metadata": {
    "toc": true
   },
   "source": [
    "<h1>Table of Contents<span class=\"tocSkip\"></span></h1>\n",
    "<div class=\"toc\"><ul class=\"toc-item\"><li><span><a href=\"#Dealing-with-dates\" data-toc-modified-id=\"Dealing-with-dates-1\"><span class=\"toc-item-num\">1&nbsp;&nbsp;</span>Dealing with dates</a></span><ul class=\"toc-item\"><li><span><a href=\"#to_datetime()---convert-string-to-datetime\" data-toc-modified-id=\"to_datetime()---convert-string-to-datetime-1.1\"><span class=\"toc-item-num\">1.1&nbsp;&nbsp;</span><code>to_datetime()</code> - convert string to datetime</a></span><ul class=\"toc-item\"><li><span><a href=\"#Format-parameter\" data-toc-modified-id=\"Format-parameter-1.1.1\"><span class=\"toc-item-num\">1.1.1&nbsp;&nbsp;</span><code>Format</code> parameter</a></span></li><li><span><a href=\"#More-parameters\" data-toc-modified-id=\"More-parameters-1.1.2\"><span class=\"toc-item-num\">1.1.2&nbsp;&nbsp;</span>More parameters</a></span><ul class=\"toc-item\"><li><span><a href=\"#dayfirst\" data-toc-modified-id=\"dayfirst-1.1.2.1\"><span class=\"toc-item-num\">1.1.2.1&nbsp;&nbsp;</span><code>dayfirst</code></a></span></li><li><span><a href=\"#infer_datetime_format\" data-toc-modified-id=\"infer_datetime_format-1.1.2.2\"><span class=\"toc-item-num\">1.1.2.2&nbsp;&nbsp;</span><code>infer_datetime_format</code></a></span></li><li><span><a href=\"#errors\" data-toc-modified-id=\"errors-1.1.2.3\"><span class=\"toc-item-num\">1.1.2.3&nbsp;&nbsp;</span><code>errors</code></a></span></li></ul></li></ul></li><li><span><a href=\"#strftime()---changing-the-format-of-a-datetime\" data-toc-modified-id=\"strftime()---changing-the-format-of-a-datetime-1.2\"><span class=\"toc-item-num\">1.2&nbsp;&nbsp;</span><code>strftime()</code> - changing the format of a datetime</a></span></li><li><span><a href=\"#timedelta()---Add/remove-a-period-of-time-to-a-date\" data-toc-modified-id=\"timedelta()---Add/remove-a-period-of-time-to-a-date-1.3\"><span class=\"toc-item-num\">1.3&nbsp;&nbsp;</span><code>timedelta()</code> - Add/remove a period of time to a date</a></span><ul class=\"toc-item\"><li><span><a href=\"#Lets-use-Python's-timedelta-function\" data-toc-modified-id=\"Lets-use-Python's-timedelta-function-1.3.1\"><span class=\"toc-item-num\">1.3.1&nbsp;&nbsp;</span>Lets use Python's timedelta function</a></span></li><li><span><a href=\"#Lets-use-Pandas-to_timedelta()\" data-toc-modified-id=\"Lets-use-Pandas-to_timedelta()-1.3.2\"><span class=\"toc-item-num\">1.3.2&nbsp;&nbsp;</span>Lets use Pandas <code>to_timedelta()</code></a></span></li></ul></li><li><span><a href=\"#dt-object---Extract-parts-of-the-date\" data-toc-modified-id=\"dt-object---Extract-parts-of-the-date-1.4\"><span class=\"toc-item-num\">1.4&nbsp;&nbsp;</span><code>dt</code> object - Extract parts of the date</a></span></li><li><span><a href=\"#to_datetime()---create-a-datetime-from-several-columns-month,-day,-year...\" data-toc-modified-id=\"to_datetime()---create-a-datetime-from-several-columns-month,-day,-year...-1.5\"><span class=\"toc-item-num\">1.5&nbsp;&nbsp;</span><code>to_datetime()</code> - create a datetime from several columns month, day, year...</a></span></li><li><span><a href=\"#Parsing-dates-when-reading-a-CSV\" data-toc-modified-id=\"Parsing-dates-when-reading-a-CSV-1.6\"><span class=\"toc-item-num\">1.6&nbsp;&nbsp;</span>Parsing dates when reading a CSV</a></span></li><li><span><a href=\"#Setting-the-date-as-an-index\" data-toc-modified-id=\"Setting-the-date-as-an-index-1.7\"><span class=\"toc-item-num\">1.7&nbsp;&nbsp;</span>Setting the date as an index</a></span></li></ul></li><li><span><a href=\"#💡-Check-for-understanding\" data-toc-modified-id=\"💡-Check-for-understanding-2\"><span class=\"toc-item-num\">2&nbsp;&nbsp;</span>💡 Check for understanding</a></span></li><li><span><a href=\"#Summary\" data-toc-modified-id=\"Summary-3\"><span class=\"toc-item-num\">3&nbsp;&nbsp;</span>Summary</a></span></li></ul></div>"
   ]
  },
  {
   "cell_type": "markdown",
   "metadata": {},
   "source": [
    "# Dealing with dates\n",
    "\n",
    "Python simplifies the process of working with dates through the built-in `datetime` module and specific `date` type objects. These tools handle the complexities inherent in date-related calculations, such as accounting for the varying number of days in different months, leap years, and week numbering conventions.\n",
    "\n",
    "However, for an even more streamlined experience when dealing with dates, particularly within the context of data analysis, the Pandas library is highly recommended. Pandas provides its own set of methods for managing date-type columns and for converting string-type columns to datetime64 type, making it an excellent choice for efficient date manipulation in Python."
   ]
  },
  {
   "cell_type": "code",
   "execution_count": 1,
   "metadata": {},
   "outputs": [],
   "source": [
    "import pandas as pd"
   ]
  },
  {
   "cell_type": "code",
   "execution_count": 2,
   "metadata": {},
   "outputs": [
    {
     "data": {
      "text/html": [
       "<div>\n",
       "<style scoped>\n",
       "    .dataframe tbody tr th:only-of-type {\n",
       "        vertical-align: middle;\n",
       "    }\n",
       "\n",
       "    .dataframe tbody tr th {\n",
       "        vertical-align: top;\n",
       "    }\n",
       "\n",
       "    .dataframe thead th {\n",
       "        text-align: right;\n",
       "    }\n",
       "</style>\n",
       "<table border=\"1\" class=\"dataframe\">\n",
       "  <thead>\n",
       "    <tr style=\"text-align: right;\">\n",
       "      <th></th>\n",
       "      <th>index</th>\n",
       "      <th>date</th>\n",
       "    </tr>\n",
       "  </thead>\n",
       "  <tbody>\n",
       "    <tr>\n",
       "      <th>0</th>\n",
       "      <td>0</td>\n",
       "      <td>01-09-18 15:23:11</td>\n",
       "    </tr>\n",
       "    <tr>\n",
       "      <th>1</th>\n",
       "      <td>1</td>\n",
       "      <td>02-09-18 17:21:45</td>\n",
       "    </tr>\n",
       "  </tbody>\n",
       "</table>\n",
       "</div>"
      ],
      "text/plain": [
       "   index               date\n",
       "0      0  01-09-18 15:23:11\n",
       "1      1  02-09-18 17:21:45"
      ]
     },
     "execution_count": 2,
     "metadata": {},
     "output_type": "execute_result"
    }
   ],
   "source": [
    "df = pd.DataFrame({'index':[0,1],'date':['01-09-18 15:23:11','02-09-18 17:21:45']})\n",
    "df"
   ]
  },
  {
   "cell_type": "code",
   "execution_count": 4,
   "metadata": {},
   "outputs": [],
   "source": [
    "df_copy = df.copy()"
   ]
  },
  {
   "cell_type": "code",
   "execution_count": 5,
   "metadata": {},
   "outputs": [
    {
     "data": {
      "text/plain": [
       "index     int64\n",
       "date     object\n",
       "dtype: object"
      ]
     },
     "execution_count": 5,
     "metadata": {},
     "output_type": "execute_result"
    }
   ],
   "source": [
    "df.dtypes"
   ]
  },
  {
   "cell_type": "markdown",
   "metadata": {},
   "source": [
    "`date` is of type `object` since it's a *string*. If we want it as type `date`we can do so using `to_datetime()`."
   ]
  },
  {
   "cell_type": "markdown",
   "metadata": {},
   "source": [
    "## `to_datetime()` - convert string to datetime\n",
    "\n",
    "Many times we will find that dates appear as Strings. In order to perform operations with dates, we need them to be in type `date. Pandas has `to_datetime()` method, which converts a Series of Strings to `datetime64`."
   ]
  },
  {
   "cell_type": "code",
   "execution_count": 6,
   "metadata": {},
   "outputs": [
    {
     "data": {
      "text/plain": [
       "0   2018-01-09 15:23:11\n",
       "1   2018-02-09 17:21:45\n",
       "Name: date, dtype: datetime64[ns]"
      ]
     },
     "execution_count": 6,
     "metadata": {},
     "output_type": "execute_result"
    }
   ],
   "source": [
    "pd.to_datetime(df.date)"
   ]
  },
  {
   "cell_type": "markdown",
   "metadata": {},
   "source": [
    "We see that by default it first places the month and then the day (US format) - unless it's impossible because the day is 23/10, in which case it uses the European format. If we want to change the format, we use the `format` method."
   ]
  },
  {
   "cell_type": "markdown",
   "metadata": {},
   "source": [
    "### `Format` parameter"
   ]
  },
  {
   "cell_type": "markdown",
   "metadata": {},
   "source": [
    "**Representation of elements of the date**"
   ]
  },
  {
   "cell_type": "markdown",
   "metadata": {},
   "source": [
    "Each element of the date is represented by the combination of the percentage symbol \"%\" and a letter. In our case:\n",
    "- `%d` represents the day of the month in 2 digit format\n",
    "- `%m` represents the month in 2 digit format.\n",
    "- `%y` represents the year in 2 digit format. Example: 23 (not 2023)\n",
    "- `%Y` represents the year in 4 digit format. Example: 2023 (not 23)\n",
    "\n",
    "Similar to the date, the elements referring to the date are represented by the same set of letters, while those of the hour do so by default by the following set:\n",
    "\n",
    "- `%H` represents the hour.\n",
    "- `%M` represents the minutes.\n",
    "- `%S` represents the seconds.\n",
    "- `%f` represents the microseconds."
   ]
  },
  {
   "cell_type": "code",
   "execution_count": 7,
   "metadata": {},
   "outputs": [],
   "source": [
    "df[\"date_2\"] = pd.to_datetime(df.date,format='%d-%m-%y %H:%M:%S')"
   ]
  },
  {
   "cell_type": "code",
   "execution_count": 8,
   "metadata": {},
   "outputs": [
    {
     "data": {
      "text/plain": [
       "index              int64\n",
       "date              object\n",
       "date_2    datetime64[ns]\n",
       "dtype: object"
      ]
     },
     "execution_count": 8,
     "metadata": {},
     "output_type": "execute_result"
    }
   ],
   "source": [
    "df.dtypes"
   ]
  },
  {
   "cell_type": "markdown",
   "metadata": {},
   "source": [
    "We can see it changed to *datetime64[ns]*."
   ]
  },
  {
   "cell_type": "markdown",
   "metadata": {},
   "source": [
    "### More parameters"
   ]
  },
  {
   "cell_type": "markdown",
   "metadata": {},
   "source": [
    "#### `dayfirst`\n",
    "\n",
    "Instead of format, we can use **dayfirst** parameter."
   ]
  },
  {
   "cell_type": "code",
   "execution_count": 9,
   "metadata": {},
   "outputs": [
    {
     "data": {
      "text/plain": [
       "0   2018-09-01 15:23:11\n",
       "1   2018-09-02 17:21:45\n",
       "Name: date, dtype: datetime64[ns]"
      ]
     },
     "execution_count": 9,
     "metadata": {},
     "output_type": "execute_result"
    }
   ],
   "source": [
    "pd.to_datetime(df['date'], dayfirst=True) # change to false to see how it looks!"
   ]
  },
  {
   "cell_type": "markdown",
   "metadata": {},
   "source": [
    "#### `infer_datetime_format`"
   ]
  },
  {
   "cell_type": "code",
   "execution_count": 10,
   "metadata": {},
   "outputs": [
    {
     "data": {
      "text/plain": [
       "0   2018-01-09 15:23:11\n",
       "1   2018-02-09 17:21:45\n",
       "Name: date, dtype: datetime64[ns]"
      ]
     },
     "execution_count": 10,
     "metadata": {},
     "output_type": "execute_result"
    }
   ],
   "source": [
    "pd.to_datetime(df['date'], infer_datetime_format=True) # it doesnt infer them as we wanted it to"
   ]
  },
  {
   "cell_type": "code",
   "execution_count": 11,
   "metadata": {},
   "outputs": [
    {
     "data": {
      "text/html": [
       "<div>\n",
       "<style scoped>\n",
       "    .dataframe tbody tr th:only-of-type {\n",
       "        vertical-align: middle;\n",
       "    }\n",
       "\n",
       "    .dataframe tbody tr th {\n",
       "        vertical-align: top;\n",
       "    }\n",
       "\n",
       "    .dataframe thead th {\n",
       "        text-align: right;\n",
       "    }\n",
       "</style>\n",
       "<table border=\"1\" class=\"dataframe\">\n",
       "  <thead>\n",
       "    <tr style=\"text-align: right;\">\n",
       "      <th></th>\n",
       "      <th>index</th>\n",
       "      <th>date</th>\n",
       "    </tr>\n",
       "  </thead>\n",
       "  <tbody>\n",
       "    <tr>\n",
       "      <th>0</th>\n",
       "      <td>0</td>\n",
       "      <td>18/09/19 15:23:11</td>\n",
       "    </tr>\n",
       "    <tr>\n",
       "      <th>1</th>\n",
       "      <td>1</td>\n",
       "      <td>18/09/23 17:21:45</td>\n",
       "    </tr>\n",
       "  </tbody>\n",
       "</table>\n",
       "</div>"
      ],
      "text/plain": [
       "   index               date\n",
       "0      0  18/09/19 15:23:11\n",
       "1      1  18/09/23 17:21:45"
      ]
     },
     "execution_count": 11,
     "metadata": {},
     "output_type": "execute_result"
    }
   ],
   "source": [
    "# same if we use /instead of -\n",
    "df = pd.DataFrame({'index':[0,1],'date':['18/09/19 15:23:11','18/09/23 17:21:45']})\n",
    "df"
   ]
  },
  {
   "cell_type": "code",
   "execution_count": 12,
   "metadata": {},
   "outputs": [
    {
     "data": {
      "text/plain": [
       "0   2019-09-18 15:23:11\n",
       "1   2023-09-18 17:21:45\n",
       "Name: date, dtype: datetime64[ns]"
      ]
     },
     "execution_count": 12,
     "metadata": {},
     "output_type": "execute_result"
    }
   ],
   "source": [
    "pd.to_datetime(df['date'], infer_datetime_format=True) # since month 19 would be invalid, it does infer it well now"
   ]
  },
  {
   "cell_type": "code",
   "execution_count": 13,
   "metadata": {},
   "outputs": [
    {
     "data": {
      "text/plain": [
       "0   2018-09-19 15:23:11\n",
       "1   2018-09-23 17:21:45\n",
       "Name: date, dtype: datetime64[ns]"
      ]
     },
     "execution_count": 13,
     "metadata": {},
     "output_type": "execute_result"
    }
   ],
   "source": [
    "# or with format\n",
    "df[\"date\"] = pd.to_datetime(df.date,format='%y/%m/%d %H:%M:%S') # converts it to datetime, but uses - instead of /\n",
    "df[\"date\"]"
   ]
  },
  {
   "cell_type": "markdown",
   "metadata": {},
   "source": [
    "#### `errors`"
   ]
  },
  {
   "cell_type": "markdown",
   "metadata": {},
   "source": [
    "If we use the `errors` parameter, it allows us to ignore errors caused by invalid date formats or force them to an invalid value, NaT (Not a Time)."
   ]
  },
  {
   "cell_type": "code",
   "execution_count": null,
   "metadata": {},
   "outputs": [],
   "source": [
    "df_error = pd.DataFrame({'date': ['3/10/2000', 'a/11/2000', '3/12/2000']})\n",
    "df_error['date'] = pd.to_datetime(df_error['date'])\n"
   ]
  },
  {
   "cell_type": "code",
   "execution_count": null,
   "metadata": {},
   "outputs": [],
   "source": [
    "df_error['date'] = pd.to_datetime(df_error['date'], errors='ignore')\n",
    "df_error"
   ]
  },
  {
   "cell_type": "code",
   "execution_count": null,
   "metadata": {},
   "outputs": [],
   "source": [
    "df_error['date'] = pd.to_datetime(df_error['date'], errors='coerce')\n",
    "df_error"
   ]
  },
  {
   "cell_type": "markdown",
   "metadata": {},
   "source": [
    "Pandas always represents dates in the `%Y-%m-%d` format. If we want to use a different format, we need to change it after converting the column from a `string` type to a `datetime64` type."
   ]
  },
  {
   "cell_type": "markdown",
   "metadata": {},
   "source": [
    "## `strftime()` - changing the format of a datetime\n",
    "\n",
    "We can change the date format, for example by replacing the dashes with slashes using the strftime method. **It returns a String.**\n",
    "\n",
    "Note: It is called on the **'dt' object** of a Series (datetime)."
   ]
  },
  {
   "cell_type": "code",
   "execution_count": null,
   "metadata": {},
   "outputs": [],
   "source": [
    "df[\"date_2\"] = df.date.dt.strftime('%d %B %Y') #serie.dt() Accessor object for datetimelike properties of the Series values.\n",
    "df[\"date_2\"]\n",
    "#To extract each component of the date, pandas implements its own methods from the `dt` (datetime) object."
   ]
  },
  {
   "cell_type": "code",
   "execution_count": null,
   "metadata": {},
   "outputs": [],
   "source": [
    "df.dtypes"
   ]
  },
  {
   "cell_type": "markdown",
   "metadata": {},
   "source": [
    "The column is converted back to a string, which means we will lose the methods specific to dates."
   ]
  },
  {
   "cell_type": "markdown",
   "metadata": {},
   "source": [
    "For example, we could also switch from a long year format to a short one by changing `\"%Y\"` to `\"%y\"`."
   ]
  },
  {
   "cell_type": "code",
   "execution_count": null,
   "metadata": {},
   "outputs": [],
   "source": [
    "df.date.dt.strftime(\"%Y/%m/%d\")"
   ]
  },
  {
   "cell_type": "markdown",
   "metadata": {},
   "source": [
    "We can change the month number to its English name using `\"%B\"`."
   ]
  },
  {
   "cell_type": "code",
   "execution_count": null,
   "metadata": {},
   "outputs": [],
   "source": [
    "df.date.dt.strftime(\"%y/%m/%d\")"
   ]
  },
  {
   "cell_type": "markdown",
   "metadata": {},
   "source": [
    "Of course, we can change the order of each element according to our preferences:"
   ]
  },
  {
   "cell_type": "code",
   "execution_count": null,
   "metadata": {},
   "outputs": [],
   "source": [
    "df.date.dt.strftime(\"%Y/%B/%d\")"
   ]
  },
  {
   "cell_type": "code",
   "execution_count": null,
   "metadata": {},
   "outputs": [],
   "source": [
    "df.date.dt.strftime(\"%d/%m/%Y\")"
   ]
  },
  {
   "cell_type": "markdown",
   "metadata": {},
   "source": [
    "We can also work with both the date and time.\n",
    "\n",
    "It is not mandatory to declare all the elements that make up the `datetime` object when we change the format, but obviously, the ones that are not declared will not appear. So, if we don't want milliseconds to appear in our variable, it's as simple as removing that part when we create the format."
   ]
  },
  {
   "cell_type": "code",
   "execution_count": null,
   "metadata": {},
   "outputs": [],
   "source": [
    "df.date.dt.strftime(\"%d/%m/%Y %H:%M:%S\")"
   ]
  },
  {
   "cell_type": "markdown",
   "metadata": {},
   "source": [
    "## `timedelta()` - Add/remove a period of time to a date"
   ]
  },
  {
   "cell_type": "markdown",
   "metadata": {},
   "source": [
    "The really interesting thing about datetime type objects is that they possess the logic of date operations, so we don't have to worry about the days a month has or about leap years, since Python itself will take care of these considerations."
   ]
  },
  {
   "cell_type": "markdown",
   "metadata": {},
   "source": [
    "### Lets use Python's timedelta function"
   ]
  },
  {
   "cell_type": "code",
   "execution_count": null,
   "metadata": {},
   "outputs": [],
   "source": [
    "from datetime import timedelta\n",
    "\n",
    "df[\"date_3\"] = df.date + timedelta(days=3)\n",
    "df"
   ]
  },
  {
   "cell_type": "code",
   "execution_count": null,
   "metadata": {},
   "outputs": [],
   "source": [
    "df.date + timedelta(hours=24)"
   ]
  },
  {
   "cell_type": "code",
   "execution_count": null,
   "metadata": {},
   "outputs": [],
   "source": [
    "df.date + timedelta(days=31)"
   ]
  },
  {
   "cell_type": "markdown",
   "metadata": {},
   "source": [
    "When we add 31 days to our current date, Python automatically determines whether the month has 30 or 31 days and will add as many units to the month as necessary. \n",
    "\n",
    "However, we cannot add full months using the 'months' argument. This is because timedelta doesn't support 'months' as an argument due to variability in the number of days in a month."
   ]
  },
  {
   "cell_type": "code",
   "execution_count": null,
   "metadata": {},
   "outputs": [],
   "source": [
    "df.date+timedelta(months=1)"
   ]
  },
  {
   "cell_type": "markdown",
   "metadata": {},
   "source": [
    "### Lets use Pandas `to_timedelta()`"
   ]
  },
  {
   "cell_type": "markdown",
   "metadata": {},
   "source": [
    "The `pd.to_timedelta()` function in Pandas is used to convert a scalar, array, list, or series from a recognized time format or value into a Timedelta type. Timedelta is a type that represents a duration, the difference between two dates or times.\n",
    "\n",
    "The `pd.to_timedelta()` function can accept several types of arguments:\n",
    "\n",
    "- A single string or a list of strings: These should represent a duration. For example, '1 days', '1 days 00:00:00', '1 days 2 hours', '1D', etc.\n",
    "- An integer, float, array of these, or a Series: These should represent the duration in terms of the unit specified.\n",
    "\n",
    "You can specify the unit of the input with the `unit` parameter. For instance, if you provide an integer with `unit='s'`, the function will interpret the input as seconds. If you provide an integer with `unit='m'`, the function will interpret the input as minutes."
   ]
  },
  {
   "cell_type": "code",
   "execution_count": null,
   "metadata": {},
   "outputs": [],
   "source": [
    "df.date+pd.to_timedelta(1, unit='m')"
   ]
  },
  {
   "cell_type": "markdown",
   "metadata": {},
   "source": [
    "## `dt` object - Extract parts of the date"
   ]
  },
  {
   "cell_type": "markdown",
   "metadata": {},
   "source": [
    "In order to extract each part that makes up the date, pandas implements its own methods from the dt (datetime) object."
   ]
  },
  {
   "cell_type": "code",
   "execution_count": null,
   "metadata": {},
   "outputs": [],
   "source": [
    "df.date.dt.year # Extracts the year from the date. For instance, '2023-08-02' will return 2023."
   ]
  },
  {
   "cell_type": "code",
   "execution_count": null,
   "metadata": {},
   "outputs": [],
   "source": [
    "df.date.dt.day # Extracts the day of the month from the date. For '2023-08-02', this will return 2."
   ]
  },
  {
   "cell_type": "code",
   "execution_count": null,
   "metadata": {},
   "outputs": [],
   "source": [
    "df.date.dt.month # Extracts the numerical month from the date. For example, '2023-08-02' will return 8."
   ]
  },
  {
   "cell_type": "code",
   "execution_count": null,
   "metadata": {},
   "outputs": [],
   "source": [
    "df.date.dt.hour # Extracts the hour from the time component of the datetime. For a date like '2023-08-02 15:23:11', this will return 15."
   ]
  },
  {
   "cell_type": "code",
   "execution_count": null,
   "metadata": {},
   "outputs": [],
   "source": [
    "df.date.dt.minute # Extracts the minutes from the time component of the datetime. '2023-08-02 15:23:11' would return 23."
   ]
  },
  {
   "cell_type": "code",
   "execution_count": null,
   "metadata": {},
   "outputs": [],
   "source": [
    "df.date.dt.second"
   ]
  },
  {
   "cell_type": "markdown",
   "metadata": {},
   "source": [
    "We can also obtain more complex information from the `datetime` object that does not appear in the tuple we see on screen, such as the day of the week."
   ]
  },
  {
   "cell_type": "code",
   "execution_count": null,
   "metadata": {},
   "outputs": [],
   "source": [
    "df.date.dt.weekday # This extracts the weekday from the date. The days are numbered from 0 (Monday) to 6 (Sunday)."
   ]
  },
  {
   "cell_type": "code",
   "execution_count": null,
   "metadata": {},
   "outputs": [],
   "source": [
    "df.date.dt.isocalendar() # This returns a DataFrame with the year, week number, and weekday as per ISO 8601."
   ]
  },
  {
   "cell_type": "markdown",
   "metadata": {},
   "source": [
    "## `to_datetime()` - create a datetime from several columns month, day, year..."
   ]
  },
  {
   "cell_type": "markdown",
   "metadata": {},
   "source": [
    "to_datetime() can be used to assemble a datetime from multiple columns as well. The keys (column labels) can be common abbreviations like ['year', 'month', 'day', 'minute', 'second', 'ms', 'us', 'ns']) or plurals of the same."
   ]
  },
  {
   "cell_type": "code",
   "execution_count": null,
   "metadata": {},
   "outputs": [],
   "source": [
    "df = pd.DataFrame({'year': [2015, 2016],\n",
    "                   'month': [2, 3],\n",
    "                   'day': [4, 5]})\n",
    "df['date'] = pd.to_datetime(df)\n",
    "df"
   ]
  },
  {
   "cell_type": "markdown",
   "metadata": {},
   "source": [
    "## Parsing dates when reading a CSV\n",
    "\n",
    "We can specify which fields are dates so that they are read as such using the parameter `parse_dates=['column_name']`."
   ]
  },
  {
   "cell_type": "markdown",
   "metadata": {},
   "source": [
    "The following CSV contains information about football matches, including the date, home and away teams, scores, tournament type, city, country, and whether the match was played at a neutral venue."
   ]
  },
  {
   "cell_type": "code",
   "execution_count": null,
   "metadata": {},
   "outputs": [],
   "source": [
    "url = \"https://raw.githubusercontent.com/data-bootcamp-v4/data/main/results.csv\""
   ]
  },
  {
   "cell_type": "code",
   "execution_count": null,
   "metadata": {},
   "outputs": [],
   "source": [
    "df = pd.read_csv(url)\n",
    "df.head()"
   ]
  },
  {
   "cell_type": "code",
   "execution_count": null,
   "metadata": {},
   "outputs": [],
   "source": [
    "df.dtypes"
   ]
  },
  {
   "cell_type": "code",
   "execution_count": null,
   "metadata": {},
   "outputs": [],
   "source": [
    "df = pd.read_csv(url, parse_dates = [\"date\"])\n",
    "df.dtypes"
   ]
  },
  {
   "cell_type": "markdown",
   "metadata": {},
   "source": [
    "## Setting the date as an index"
   ]
  },
  {
   "cell_type": "markdown",
   "metadata": {},
   "source": [
    "If you are going to do a lot of selections by date, it would be faster to set the date column as the index first so you take advantage of the Pandas built-in optimization."
   ]
  },
  {
   "cell_type": "markdown",
   "metadata": {},
   "source": [
    "Instead of doing \n",
    "\n",
    "```python\n",
    "condition = (df['date'] > start_date) & (df['date'] <= end_date)\n",
    "\n",
    "df.loc[condition]\n",
    "```"
   ]
  },
  {
   "cell_type": "markdown",
   "metadata": {},
   "source": [
    "With the date as index, you could do\n",
    "```python\n",
    "df.loc[start_date:end_date]\n",
    "```"
   ]
  },
  {
   "cell_type": "code",
   "execution_count": null,
   "metadata": {},
   "outputs": [],
   "source": [
    "df.head(1)"
   ]
  },
  {
   "cell_type": "code",
   "execution_count": null,
   "metadata": {},
   "outputs": [],
   "source": [
    "# Without the date as index\n",
    "condition = (df['date'] > '2022-1-1') & (df['date'] <= '2023-1-1')\n",
    "\n",
    "df.loc[condition]"
   ]
  },
  {
   "cell_type": "code",
   "execution_count": null,
   "metadata": {},
   "outputs": [],
   "source": [
    "# With the date as index\n",
    "df.set_index(\"date\", drop=True, inplace=True)"
   ]
  },
  {
   "cell_type": "code",
   "execution_count": null,
   "metadata": {},
   "outputs": [],
   "source": [
    "df.loc['2022':'2023']"
   ]
  },
  {
   "cell_type": "code",
   "execution_count": null,
   "metadata": {},
   "outputs": [],
   "source": [
    "df.loc['2018-5'].head(3) #get specific month\n",
    "#To select data with a specific day of the month, for example, 1st May 2018 df.loc['2018-5-1']"
   ]
  },
  {
   "cell_type": "markdown",
   "metadata": {},
   "source": [
    "There is no time in this dataframe, but if there were, we could just do:\n",
    "```python\n",
    "df.between_time('10:30','10:45') \n",
    "```"
   ]
  },
  {
   "cell_type": "code",
   "execution_count": null,
   "metadata": {},
   "outputs": [],
   "source": [
    "# We can also perform aggregations\n",
    "# Let's get the total home score in 2018\n",
    "\n",
    "df.loc['2018',\"home_score\"].sum()"
   ]
  },
  {
   "cell_type": "markdown",
   "metadata": {},
   "source": [
    "# 💡 Check for understanding"
   ]
  },
  {
   "cell_type": "markdown",
   "metadata": {},
   "source": [
    "**Analyzing Football Shootouts Data**"
   ]
  },
  {
   "cell_type": "markdown",
   "metadata": {},
   "source": [
    "The dataset you have is a collection of football shootouts between various teams, with the following columns:\n",
    "- `date`: The date of the match in the format YYYY-MM-DD.\n",
    "- `home_team`: The name of the home team.\n",
    "- `away_team`: The name of the away team.\n",
    "- `winner`: The name of the winning team.\n",
    "\n",
    "Your tasks are:\n",
    "\n",
    "1. **Load the Dataset**: Load the CSV file into a Pandas DataFrame.\n",
    "\n",
    "2. **Convert Date Column**: Convert the `date` column to a Pandas datetime object. Ensure that the format is correct.\n",
    "\n",
    "3. **Time Analysis**:\n",
    "    - Find the earliest and latest dates in the dataset.\n",
    "    - Extract the month and year from the dates, and create two new columns `month` and `year` in the DataFrame.\n",
    "    - Find out which specific month and year had the most shootouts in the dataset.   \n",
    "\n",
    "**Tips**\n",
    "- Utilize Pandas' date-related functions like `dt.month`, `dt.year`, etc., for extracting components of the date.\n",
    "- Consider using groupby, aggregation, and sorting to perform the analyses.\n",
    "- *Hint: To find out which specific month and year had the most shootouts in the dataset, you'll need to group the data by both the year and month, then count the number of occurrences for each group to identify the month and year with the maximum number of shootouts. Check the `size` method.* "
   ]
  },
  {
   "cell_type": "code",
   "execution_count": null,
   "metadata": {},
   "outputs": [],
   "source": [
    "url = \"https://raw.githubusercontent.com/data-bootcamp-v4/data/main/shootouts.csv\""
   ]
  },
  {
   "cell_type": "markdown",
   "metadata": {},
   "source": [
    "# Summary\n",
    "\n",
    "This lesson introduced handling dates in Python through the built-in datetime module and the Pandas library. \n",
    "\n",
    "1. **to_datetime() - Convert String to Datetime**\n",
    "    - Converts string to datetime64 type.\n",
    "    - **Format parameter**: Uses combinations of \"%\" and a letter to represent elements of the date and time.\n",
    "    - **More parameters**: `dayfirst`, `infer_datetime_format`, and `errors` to handle various date-related situations.\n",
    "\n",
    "2. **strftime() - Changing the Format of a Datetime**\n",
    "    - Changes the date format, returning a string.\n",
    "    - Allows customization of date and time format.\n",
    "\n",
    "3. **timedelta() - Add/Remove a Period of Time to a Date**\n",
    "    - Allows addition or subtraction of specific periods to a date.\n",
    "    - Uses Python's `timedelta` function or Pandas' `to_timedelta()`.\n",
    "\n",
    "4. **dt Object - Extract Parts of the Date**\n",
    "    - Extracts specific parts like year, month, day, hour, minute, second.\n",
    "    - Provides more complex information such as the day of the week.\n",
    "\n",
    "5. **to_datetime() - Create a Datetime from Several Columns (month, day, year...)**\n",
    "    - Assembles a datetime from multiple columns using common abbreviations.\n",
    "\n",
    "6. **Parsing Dates When Reading a CSV**\n",
    "    - Specifies date fields when reading a CSV using `parse_dates=['column_name']`.\n",
    "\n",
    "7. **Setting the Date as an Index**\n",
    "    - Allows faster selections by date.\n",
    "    - Enables specific date and time operations, like selecting a specific month or performing aggregations.\n"
   ]
  },
  {
   "cell_type": "markdown",
   "metadata": {},
   "source": [
    "\n"
   ]
  }
 ],
 "metadata": {
  "kernelspec": {
   "display_name": "Python 3 (ipykernel)",
   "language": "python",
   "name": "python3"
  },
  "language_info": {
   "codemirror_mode": {
    "name": "ipython",
    "version": 3
   },
   "file_extension": ".py",
   "mimetype": "text/x-python",
   "name": "python",
   "nbconvert_exporter": "python",
   "pygments_lexer": "ipython3",
   "version": "3.11.4"
  },
  "toc": {
   "base_numbering": 1,
   "nav_menu": {},
   "number_sections": true,
   "sideBar": true,
   "skip_h1_title": false,
   "title_cell": "Table of Contents",
   "title_sidebar": "Contents",
   "toc_cell": true,
   "toc_position": {
    "height": "537.273px",
    "left": "960px",
    "top": "110.824px",
    "width": "165px"
   },
   "toc_section_display": true,
   "toc_window_display": true
  },
  "toc-autonumbering": false,
  "toc-showcode": false,
  "toc-showmarkdowntxt": false,
  "toc-showtags": false,
  "varInspector": {
   "cols": {
    "lenName": 16,
    "lenType": 16,
    "lenVar": 40
   },
   "kernels_config": {
    "python": {
     "delete_cmd_postfix": "",
     "delete_cmd_prefix": "del ",
     "library": "var_list.py",
     "varRefreshCmd": "print(var_dic_list())"
    },
    "r": {
     "delete_cmd_postfix": ") ",
     "delete_cmd_prefix": "rm(",
     "library": "var_list.r",
     "varRefreshCmd": "cat(var_dic_list()) "
    }
   },
   "types_to_exclude": [
    "module",
    "function",
    "builtin_function_or_method",
    "instance",
    "_Feature"
   ],
   "window_display": false
  }
 },
 "nbformat": 4,
 "nbformat_minor": 4
}
