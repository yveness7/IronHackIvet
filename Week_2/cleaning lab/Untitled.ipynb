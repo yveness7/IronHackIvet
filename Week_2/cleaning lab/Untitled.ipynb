{
 "cells": [
  {
   "cell_type": "code",
   "execution_count": null,
   "id": "86c4d8b6",
   "metadata": {},
   "outputs": [],
   "source": [
    "\n",
    "\n",
    "\n",
    "import pandas as pd\n",
    "\n",
    "def analyze(factbook_pop: str, factbook_obesity: str) -> pd.DataFrame:\n",
    "    \n",
    "    \n",
    "    \n",
    "    \n",
    "    pass"
   ]
  },
  {
   "cell_type": "markdown",
   "id": "0f7db51c",
   "metadata": {},
   "source": [
    "Task\n",
    "\n",
    "In this task, you'll be using two CSVs from the CIA's world factbook dataset. The file data/c2119.csv maps country names to population. The file data/c2228.csv maps country names to adult obesity rates.\n",
    "\n",
    "Your task is to fill out the analyze(factbook_pop, factbook_obesity) function in analyze.py. This function should:\n",
    "\n",
    "    Read the CSV files (from the two parameter path strings) into a dataframe with Country, Population and Obesity Rate columns\n",
    "    Select countries with obesity rates higher than 20 percent and populations larger than 10,000,000 (107)\n",
    "    Sort the data by Obesity Rate descending\n",
    "    Select the top 10 countries\n",
    "    Index the result from 1-10\n",
    "    Return the dataframe.\n",
    "\n",
    "The expected result (available in data/result.csv) is:\n",
    "\n",
    "           Country  Population  Obesity Rate\n",
    "1            Egypt    88487396          33.1\n",
    "2    United States   321368864          33.0\n",
    "3     Saudi Arabia    27752316          33.0\n",
    "4   Czech Republic    10644842          32.7\n",
    "5           Mexico   121736809          32.1\n",
    "6     South Africa    53675563          31.3\n",
    "7        Venezuela    29275460          30.3\n",
    "8        Argentina    43431886          29.7\n",
    "9            Chile    17508260          29.4\n",
    "10          Turkey    79414269          27.8\n",
    "\n",
    "Notes\n",
    "\n",
    "Paths to CSVs are always relative to the current directory, so you don't need to worry about handling special cases.\n",
    "\n",
    "Your code will be tested on submission with random values to ensure the result wasn't hardcoded.\n",
    "\n",
    "Note that Pandas' testing library offers excellent diffs upon test failure but uses the somewhat confusing left and right names rather than actual and expected. Keep in mind that left == actual and right == expected. The call will be pd.testing.assert_frame_equal(actual, expected) throughout the challenge.\n",
    "Rubric\n",
    "\n",
    "The solution will be evaluated mainly on correctness but use of idiomatic, maintainable Pandas code is taken into consideration as well.\n",
    "Resources\n",
    "\n",
    "You may consult Pandas and Python documentation.\n"
   ]
  }
 ],
 "metadata": {
  "kernelspec": {
   "display_name": "Python 3 (ipykernel)",
   "language": "python",
   "name": "python3"
  },
  "language_info": {
   "codemirror_mode": {
    "name": "ipython",
    "version": 3
   },
   "file_extension": ".py",
   "mimetype": "text/x-python",
   "name": "python",
   "nbconvert_exporter": "python",
   "pygments_lexer": "ipython3",
   "version": "3.11.4"
  }
 },
 "nbformat": 4,
 "nbformat_minor": 5
}
