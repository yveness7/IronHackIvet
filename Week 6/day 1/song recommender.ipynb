{
 "cells": [
  {
   "cell_type": "code",
   "execution_count": 1,
   "id": "c2b3cf22",
   "metadata": {},
   "outputs": [
    {
     "name": "stdout",
     "output_type": "stream",
     "text": [
      "Please enter a song name: g\n"
     ]
    },
    {
     "ename": "NameError",
     "evalue": "name 'stripped_songs' is not defined",
     "output_type": "error",
     "traceback": [
      "\u001b[0;31m---------------------------------------------------------------------------\u001b[0m",
      "\u001b[0;31mNameError\u001b[0m                                 Traceback (most recent call last)",
      "Cell \u001b[0;32mIn[1], line 12\u001b[0m\n\u001b[1;32m      7\u001b[0m         \u001b[38;5;28;01mreturn\u001b[39;00m \u001b[38;5;124m'\u001b[39m\u001b[38;5;124mNo recommendation available!\u001b[39m\u001b[38;5;124m'\u001b[39m\n\u001b[1;32m     10\u001b[0m user_input \u001b[38;5;241m=\u001b[39m \u001b[38;5;28minput\u001b[39m(\u001b[38;5;124m\"\u001b[39m\u001b[38;5;124mPlease enter a song name: \u001b[39m\u001b[38;5;124m\"\u001b[39m)\u001b[38;5;241m.\u001b[39mlower()\n\u001b[0;32m---> 12\u001b[0m \u001b[38;5;28mprint\u001b[39m(song_recommender(user_input, stripped_songs))\n",
      "\u001b[0;31mNameError\u001b[0m: name 'stripped_songs' is not defined"
     ]
    }
   ],
   "source": [
    "import random\n",
    "def song_recommender(user_input, stripped_songs):\n",
    "    lowercase_songs = [song.lower() for song in stripped_songs]  \n",
    "    if user_input in lowercase_songs:\n",
    "        return random.choice(stripped_songs)\n",
    "    else:\n",
    "        return 'No recommendation available!'\n",
    "    \n",
    "\n",
    "user_input = input(\"Please enter a song name: \").lower()\n",
    "\n",
    "print(song_recommender(user_input, stripped_songs))"
   ]
  },
  {
   "cell_type": "code",
   "execution_count": null,
   "id": "160c2758",
   "metadata": {},
   "outputs": [],
   "source": []
  }
 ],
 "metadata": {
  "kernelspec": {
   "display_name": "Python 3 (ipykernel)",
   "language": "python",
   "name": "python3"
  },
  "language_info": {
   "codemirror_mode": {
    "name": "ipython",
    "version": 3
   },
   "file_extension": ".py",
   "mimetype": "text/x-python",
   "name": "python",
   "nbconvert_exporter": "python",
   "pygments_lexer": "ipython3",
   "version": "3.11.4"
  }
 },
 "nbformat": 4,
 "nbformat_minor": 5
}
