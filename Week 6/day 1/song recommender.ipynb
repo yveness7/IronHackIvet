{
 "cells": [
  {
   "cell_type": "code",
   "execution_count": null,
   "id": "e6ce7551",
   "metadata": {},
   "outputs": [],
   "source": [
    "import random\n",
    "def song_recommender(user_input, stripped_songs):\n",
    "    lowercase_songs = [song.lower() for song in stripped_songs]  \n",
    "    if user_input in lowercase_songs:\n",
    "        return random.choice(stripped_songs)\n",
    "    else:\n",
    "        return 'No recommendation available!'\n",
    "    \n",
    "\n",
    "user_input = input(\"Please enter a song name: \").lower()\n",
    "\n",
    "print(song_recommender(user_input, stripped_songs))"
   ]
  }
 ],
 "metadata": {
  "kernelspec": {
   "display_name": "Python 3 (ipykernel)",
   "language": "python",
   "name": "python3"
  },
  "language_info": {
   "codemirror_mode": {
    "name": "ipython",
    "version": 3
   },
   "file_extension": ".py",
   "mimetype": "text/x-python",
   "name": "python",
   "nbconvert_exporter": "python",
   "pygments_lexer": "ipython3",
   "version": "3.11.4"
  }
 },
 "nbformat": 4,
 "nbformat_minor": 5
}
