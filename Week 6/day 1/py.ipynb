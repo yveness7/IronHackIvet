{
 "cells": [
  {
   "cell_type": "code",
   "execution_count": null,
   "id": "db53d140",
   "metadata": {},
   "outputs": [],
   "source": [
    "client_id = '88d14c95dbcf40a794550925e63810e7'\n",
    "client_secret = '689a20982e264019b595d3a669138a7e' "
   ]
  }
 ],
 "metadata": {
  "kernelspec": {
   "display_name": "Python 3 (ipykernel)",
   "language": "python",
   "name": "python3"
  },
  "language_info": {
   "codemirror_mode": {
    "name": "ipython",
    "version": 3
   },
   "file_extension": ".py",
   "mimetype": "text/x-python",
   "name": "python",
   "nbconvert_exporter": "python",
   "pygments_lexer": "ipython3",
   "version": "3.11.4"
  }
 },
 "nbformat": 4,
 "nbformat_minor": 5
}
