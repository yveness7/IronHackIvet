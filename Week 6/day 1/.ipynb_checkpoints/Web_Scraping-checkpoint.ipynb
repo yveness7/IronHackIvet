{
 "cells": [
  {
   "cell_type": "markdown",
   "metadata": {
    "id": "2MeowL7BaAbT"
   },
   "source": [
    "# Intro to web scraping"
   ]
  },
  {
   "cell_type": "markdown",
   "metadata": {
    "id": "xdO0nKqpaAba"
   },
   "source": [
    "The first step of web scraping is to identify a website and download the html code from it. \n",
    "\n",
    "Real html from websites tends to be long and a bit too chaotic for a total beginner. Here we will start with a dummy html document and learn the basics of extracting info with beautifulsoup.\n",
    "\n",
    "- You can learn about Html here https://www.w3schools.com/html/\n",
    "- You can use codebeautify to make your html more readable and clean https://codebeautify.org/htmlviewer"
   ]
  },
  {
   "cell_type": "code",
   "execution_count": 1,
   "metadata": {
    "ExecuteTime": {
     "end_time": "2022-11-21T10:23:59.833994Z",
     "start_time": "2022-11-21T10:23:59.831082Z"
    },
    "executionInfo": {
     "elapsed": 660,
     "status": "ok",
     "timestamp": 1617465193963,
     "user": {
      "displayName": "Ignacio Soteras",
      "photoUrl": "",
      "userId": "02050793736257155229"
     },
     "user_tz": -120
    },
    "id": "iYgB5Jt4aAbb"
   },
   "outputs": [],
   "source": [
    "html_doc = \"\"\" <!DOCTYPE html><html><head><title>The Dormouse's story</title></head><body><p class=\"title\"><b>The Dormouse's story</b></p><p class=\"story\">Once upon a time there were three little sisters; and their names were<a href=\"http://example.com/elsie\" class=\"sister\" id=\"link1\">Elsie</a>,<a href=\"http://example.com/lacie\" class=\"sister\" id=\"link2\">Lacie</a> and<a href=\"http://example.com/tillie\" class=\"sister\" id=\"link3\">Tillie</a>;and they lived at the bottom of a well.</p><p class=\"story\">...</p></html>\"\"\""
   ]
  },
  {
   "cell_type": "raw",
   "metadata": {},
   "source": [
    "html_doc = \"\"\"\n",
    "<!DOCTYPE html>\n",
    "<html>\n",
    "  <head>\n",
    "    <title>The Dormouse's story</title>\n",
    "  </head>\n",
    "  <body>\n",
    "  \n",
    "    <p class=\"title\">\n",
    "      <b>The Dormouse's story</b>\n",
    "    </p>\n",
    "    \n",
    "    <p class=\"story\">Once upon a time there were three little sisters; and their names were\n",
    "    <a href=\"http://example.com/elsie\" class=\"sister\" id=\"link1\">Elsie</a>, \n",
    "    <a href=\"http://example.com/lacie\" class=\"sister\" id=\"link2\">Lacie</a> and \n",
    "    <a href=\"http://example.com/tillie\" class=\"sister\" id=\"link3\">Tillie</a>\n",
    "    ;and they lived at the bottom of a well. \n",
    "    </p>\n",
    "    \n",
    "    <p class=\"story\">...</p>\n",
    "</html>\"\"\""
   ]
  },
  {
   "cell_type": "code",
   "execution_count": 2,
   "metadata": {
    "ExecuteTime": {
     "end_time": "2022-11-21T10:23:59.841348Z",
     "start_time": "2022-11-21T10:23:59.836157Z"
    },
    "colab": {
     "base_uri": "https://localhost:8080/",
     "height": 86
    },
    "executionInfo": {
     "elapsed": 561,
     "status": "ok",
     "timestamp": 1617465197153,
     "user": {
      "displayName": "Ignacio Soteras",
      "photoUrl": "",
      "userId": "02050793736257155229"
     },
     "user_tz": -120
    },
    "id": "9ndQx21PaAbb",
    "outputId": "dacc5618-8d74-4646-8321-f9116687e41b"
   },
   "outputs": [
    {
     "data": {
      "text/plain": [
       "' <!DOCTYPE html><html><head><title>The Dormouse\\'s story</title></head><body><p class=\"title\"><b>The Dormouse\\'s story</b></p><p class=\"story\">Once upon a time there were three little sisters; and their names were<a href=\"http://example.com/elsie\" class=\"sister\" id=\"link1\">Elsie</a>,<a href=\"http://example.com/lacie\" class=\"sister\" id=\"link2\">Lacie</a> and<a href=\"http://example.com/tillie\" class=\"sister\" id=\"link3\">Tillie</a>;and they lived at the bottom of a well.</p><p class=\"story\">...</p></html>'"
      ]
     },
     "execution_count": 2,
     "metadata": {},
     "output_type": "execute_result"
    }
   ],
   "source": [
    "html_doc"
   ]
  },
  {
   "cell_type": "code",
   "execution_count": 3,
   "metadata": {
    "ExecuteTime": {
     "end_time": "2022-11-21T10:23:59.898135Z",
     "start_time": "2022-11-21T10:23:59.842292Z"
    },
    "executionInfo": {
     "elapsed": 533,
     "status": "ok",
     "timestamp": 1617465207602,
     "user": {
      "displayName": "Ignacio Soteras",
      "photoUrl": "",
      "userId": "02050793736257155229"
     },
     "user_tz": -120
    },
    "id": "KsSDasPgaAbc"
   },
   "outputs": [],
   "source": [
    "from bs4 import BeautifulSoup"
   ]
  },
  {
   "cell_type": "markdown",
   "metadata": {
    "id": "i1OdYTuJaAbd"
   },
   "source": [
    "#### \"creating the soup\""
   ]
  },
  {
   "cell_type": "code",
   "execution_count": 4,
   "metadata": {
    "ExecuteTime": {
     "end_time": "2022-11-21T10:23:59.901202Z",
     "start_time": "2022-11-21T10:23:59.898921Z"
    },
    "executionInfo": {
     "elapsed": 532,
     "status": "ok",
     "timestamp": 1617465228581,
     "user": {
      "displayName": "Ignacio Soteras",
      "photoUrl": "",
      "userId": "02050793736257155229"
     },
     "user_tz": -120
    },
    "id": "cs0ECFiBaAbd"
   },
   "outputs": [],
   "source": [
    "# parse the element\n",
    "soup = BeautifulSoup(html_doc, 'html.parser') "
   ]
  },
  {
   "cell_type": "code",
   "execution_count": 5,
   "metadata": {},
   "outputs": [
    {
     "data": {
      "text/plain": [
       " <!DOCTYPE html>\n",
       "<html><head><title>The Dormouse's story</title></head><body><p class=\"title\"><b>The Dormouse's story</b></p><p class=\"story\">Once upon a time there were three little sisters; and their names were<a class=\"sister\" href=\"http://example.com/elsie\" id=\"link1\">Elsie</a>,<a class=\"sister\" href=\"http://example.com/lacie\" id=\"link2\">Lacie</a> and<a class=\"sister\" href=\"http://example.com/tillie\" id=\"link3\">Tillie</a>;and they lived at the bottom of a well.</p><p class=\"story\">...</p></body></html>"
      ]
     },
     "execution_count": 5,
     "metadata": {},
     "output_type": "execute_result"
    }
   ],
   "source": [
    "soup"
   ]
  },
  {
   "cell_type": "code",
   "execution_count": 6,
   "metadata": {},
   "outputs": [],
   "source": [
    "import pprint"
   ]
  },
  {
   "cell_type": "code",
   "execution_count": 7,
   "metadata": {},
   "outputs": [
    {
     "name": "stdout",
     "output_type": "stream",
     "text": [
      "<!DOCTYPE html>\n",
      "<html>\n",
      " <head>\n",
      "  <title>\n",
      "   The Dormouse's story\n",
      "  </title>\n",
      " </head>\n",
      " <body>\n",
      "  <p class=\"title\">\n",
      "   <b>\n",
      "    The Dormouse's story\n",
      "   </b>\n",
      "  </p>\n",
      "  <p class=\"story\">\n",
      "   Once upon a time there were three little sisters; and their names were\n",
      "   <a class=\"sister\" href=\"http://example.com/elsie\" id=\"link1\">\n",
      "    Elsie\n",
      "   </a>\n",
      "   ,\n",
      "   <a class=\"sister\" href=\"http://example.com/lacie\" id=\"link2\">\n",
      "    Lacie\n",
      "   </a>\n",
      "   and\n",
      "   <a class=\"sister\" href=\"http://example.com/tillie\" id=\"link3\">\n",
      "    Tillie\n",
      "   </a>\n",
      "   ;and they lived at the bottom of a well.\n",
      "  </p>\n",
      "  <p class=\"story\">\n",
      "   ...\n",
      "  </p>\n",
      " </body>\n",
      "</html>\n",
      "\n"
     ]
    }
   ],
   "source": [
    "print(soup.prettify())"
   ]
  },
  {
   "cell_type": "markdown",
   "metadata": {
    "id": "RLuvDPDzaAbd"
   },
   "source": [
    "#### accessing single elements"
   ]
  },
  {
   "cell_type": "markdown",
   "metadata": {
    "id": "JBSO_YnfcXrX"
   },
   "source": [
    "We can access html tags by appending to the `soup` a dot `.` and the name of the corresponding tag. In case of having multiple instances of the tag, only the first one will be retrieved.  "
   ]
  },
  {
   "cell_type": "code",
   "execution_count": 8,
   "metadata": {
    "ExecuteTime": {
     "end_time": "2022-11-21T10:23:59.904844Z",
     "start_time": "2022-11-21T10:23:59.902140Z"
    },
    "colab": {
     "base_uri": "https://localhost:8080/"
    },
    "executionInfo": {
     "elapsed": 566,
     "status": "ok",
     "timestamp": 1617465238564,
     "user": {
      "displayName": "Ignacio Soteras",
      "photoUrl": "",
      "userId": "02050793736257155229"
     },
     "user_tz": -120
    },
    "id": "pnxH2FiPaAbe",
    "outputId": "b55fa1b7-8959-4b30-c09c-5a2276531e87"
   },
   "outputs": [
    {
     "data": {
      "text/plain": [
       "<title>The Dormouse's story</title>"
      ]
     },
     "execution_count": 8,
     "metadata": {},
     "output_type": "execute_result"
    }
   ],
   "source": [
    "soup.title"
   ]
  },
  {
   "cell_type": "code",
   "execution_count": 9,
   "metadata": {
    "ExecuteTime": {
     "end_time": "2022-11-21T10:23:59.914307Z",
     "start_time": "2022-11-21T10:23:59.910820Z"
    },
    "colab": {
     "base_uri": "https://localhost:8080/",
     "height": 35
    },
    "executionInfo": {
     "elapsed": 559,
     "status": "ok",
     "timestamp": 1617465253514,
     "user": {
      "displayName": "Ignacio Soteras",
      "photoUrl": "",
      "userId": "02050793736257155229"
     },
     "user_tz": -120
    },
    "id": "f0MsU15MaAbe",
    "outputId": "d0d9b290-7934-414f-be4c-ef8cc95dca25"
   },
   "outputs": [
    {
     "data": {
      "text/plain": [
       "<head><title>The Dormouse's story</title></head>"
      ]
     },
     "execution_count": 9,
     "metadata": {},
     "output_type": "execute_result"
    }
   ],
   "source": [
    "soup.title.parent"
   ]
  },
  {
   "cell_type": "code",
   "execution_count": 10,
   "metadata": {
    "ExecuteTime": {
     "end_time": "2022-11-21T10:23:59.918179Z",
     "start_time": "2022-11-21T10:23:59.915465Z"
    }
   },
   "outputs": [
    {
     "data": {
      "text/plain": [
       "<p class=\"title\"><b>The Dormouse's story</b></p>"
      ]
     },
     "execution_count": 10,
     "metadata": {},
     "output_type": "execute_result"
    }
   ],
   "source": [
    "soup.html.body.p"
   ]
  },
  {
   "cell_type": "markdown",
   "metadata": {},
   "source": [
    "<b> searching using find() function"
   ]
  },
  {
   "cell_type": "code",
   "execution_count": 12,
   "metadata": {
    "ExecuteTime": {
     "end_time": "2022-11-21T10:23:59.921751Z",
     "start_time": "2022-11-21T10:23:59.919225Z"
    },
    "colab": {
     "base_uri": "https://localhost:8080/"
    },
    "executionInfo": {
     "elapsed": 569,
     "status": "ok",
     "timestamp": 1617465256917,
     "user": {
      "displayName": "Ignacio Soteras",
      "photoUrl": "",
      "userId": "02050793736257155229"
     },
     "user_tz": -120
    },
    "id": "YpUQh0exaAbe",
    "outputId": "605f9d35-44a9-42fa-b326-22a0a26b17db"
   },
   "outputs": [
    {
     "data": {
      "text/plain": [
       "\"The Dormouse's story\""
      ]
     },
     "execution_count": 12,
     "metadata": {},
     "output_type": "execute_result"
    }
   ],
   "source": [
    "soup.find(\"p\").get_text()"
   ]
  },
  {
   "cell_type": "code",
   "execution_count": 13,
   "metadata": {
    "ExecuteTime": {
     "end_time": "2022-11-21T10:23:59.925492Z",
     "start_time": "2022-11-21T10:23:59.922653Z"
    },
    "colab": {
     "base_uri": "https://localhost:8080/"
    },
    "executionInfo": {
     "elapsed": 645,
     "status": "ok",
     "timestamp": 1617465265285,
     "user": {
      "displayName": "Ignacio Soteras",
      "photoUrl": "",
      "userId": "02050793736257155229"
     },
     "user_tz": -120
    },
    "id": "9FL9FBEzaAbf",
    "outputId": "c0a33bd0-19f2-4cea-971a-32d79cf1e021"
   },
   "outputs": [
    {
     "data": {
      "text/plain": [
       "<p class=\"title\"><b>The Dormouse's story</b></p>"
      ]
     },
     "execution_count": 13,
     "metadata": {},
     "output_type": "execute_result"
    }
   ],
   "source": [
    "# this method only retrieves the first element of the specified tag\n",
    "soup.p"
   ]
  },
  {
   "cell_type": "markdown",
   "metadata": {
    "id": "2zgj0GceaAbf"
   },
   "source": [
    "#### finding all elements of a tag with the powerful find_all()"
   ]
  },
  {
   "cell_type": "code",
   "execution_count": null,
   "metadata": {
    "ExecuteTime": {
     "end_time": "2022-11-21T10:23:59.931719Z",
     "start_time": "2022-11-21T10:23:59.926428Z"
    },
    "colab": {
     "base_uri": "https://localhost:8080/"
    },
    "executionInfo": {
     "elapsed": 543,
     "status": "ok",
     "timestamp": 1617465454278,
     "user": {
      "displayName": "Ignacio Soteras",
      "photoUrl": "",
      "userId": "02050793736257155229"
     },
     "user_tz": -120
    },
    "id": "opAvwEFZaAbf",
    "outputId": "ead0b364-e609-4a5c-b5da-17b7c824cfaa"
   },
   "outputs": [],
   "source": [
    "p_tags = soup.find_all(\"p\")\n",
    "p_tags"
   ]
  },
  {
   "cell_type": "markdown",
   "metadata": {
    "id": "WuGgfL7EdF65"
   },
   "source": [
    "To get the `text`from the corresponding html code, we can use the function: get_text()"
   ]
  },
  {
   "cell_type": "code",
   "execution_count": null,
   "metadata": {
    "ExecuteTime": {
     "end_time": "2022-11-21T10:23:59.934958Z",
     "start_time": "2022-11-21T10:23:59.932615Z"
    },
    "id": "tlzGmYxVaAbf",
    "outputId": "5b891a84-bf77-4844-b0e0-8a60a8420551"
   },
   "outputs": [],
   "source": [
    "for p in p_tags:\n",
    "    print(p.get_text())"
   ]
  },
  {
   "cell_type": "markdown",
   "metadata": {},
   "source": [
    "## Return the 3 names of the sisters"
   ]
  },
  {
   "cell_type": "code",
   "execution_count": null,
   "metadata": {},
   "outputs": [],
   "source": [
    "a_tags = soup.find_all('a')"
   ]
  },
  {
   "cell_type": "code",
   "execution_count": null,
   "metadata": {},
   "outputs": [],
   "source": [
    "for a in a_tags:\n",
    "    print(a.get_text())"
   ]
  },
  {
   "cell_type": "markdown",
   "metadata": {
    "id": "iSzD6IxbaAbf"
   },
   "source": [
    "## Using css selectors\n",
    "Another way to find contents using select(). \n",
    "\n",
    "Let's learn first the syntax of css selectors playing this game: https://flukeout.github.io/\n",
    "\n",
    "Everyone should reach level 6!\n",
    "\n",
    "https://www.w3schools.com/css/css_howto.asp"
   ]
  },
  {
   "cell_type": "code",
   "execution_count": null,
   "metadata": {
    "ExecuteTime": {
     "end_time": "2022-11-21T10:23:59.939380Z",
     "start_time": "2022-11-21T10:23:59.936028Z"
    },
    "id": "dNk8C2hoaAbf",
    "outputId": "900aa5e6-ae40-45c2-e894-7795b15c20ff"
   },
   "outputs": [],
   "source": [
    "soup.select(\"a\")"
   ]
  },
  {
   "cell_type": "code",
   "execution_count": null,
   "metadata": {
    "ExecuteTime": {
     "end_time": "2022-11-21T10:23:59.942591Z",
     "start_time": "2022-11-21T10:23:59.940234Z"
    }
   },
   "outputs": [],
   "source": [
    "for a in soup.select('a'):\n",
    "    print(a.get_text())"
   ]
  },
  {
   "cell_type": "code",
   "execution_count": null,
   "metadata": {},
   "outputs": [],
   "source": [
    "soup.select('p')"
   ]
  },
  {
   "cell_type": "code",
   "execution_count": null,
   "metadata": {
    "ExecuteTime": {
     "end_time": "2022-11-21T10:23:59.948173Z",
     "start_time": "2022-11-21T10:23:59.943587Z"
    }
   },
   "outputs": [],
   "source": [
    "soup.select(\"p\")[0]"
   ]
  },
  {
   "cell_type": "markdown",
   "metadata": {},
   "source": [
    "using css selector, you can search directly using Css classes!"
   ]
  },
  {
   "cell_type": "code",
   "execution_count": null,
   "metadata": {
    "ExecuteTime": {
     "end_time": "2022-11-21T10:23:59.951745Z",
     "start_time": "2022-11-21T10:23:59.948985Z"
    },
    "id": "zzColpFDaAbg",
    "outputId": "5f20e08b-157c-43de-f8f6-7a75fbc01416"
   },
   "outputs": [],
   "source": [
    "soup.select(\".title\")"
   ]
  },
  {
   "cell_type": "markdown",
   "metadata": {},
   "source": [
    "<b> comparing to find_all() .."
   ]
  },
  {
   "cell_type": "code",
   "execution_count": null,
   "metadata": {
    "ExecuteTime": {
     "end_time": "2022-11-21T10:23:59.955538Z",
     "start_time": "2022-11-21T10:23:59.952594Z"
    }
   },
   "outputs": [],
   "source": [
    "soup.find_all(\"a\", class_=\"sister\")"
   ]
  },
  {
   "cell_type": "code",
   "execution_count": null,
   "metadata": {
    "ExecuteTime": {
     "end_time": "2022-11-21T10:23:59.959269Z",
     "start_time": "2022-11-21T10:23:59.956330Z"
    },
    "colab": {
     "base_uri": "https://localhost:8080/"
    },
    "executionInfo": {
     "elapsed": 589,
     "status": "ok",
     "timestamp": 1617465582120,
     "user": {
      "displayName": "Ignacio Soteras",
      "photoUrl": "",
      "userId": "02050793736257155229"
     },
     "user_tz": -120
    },
    "id": "6mZMh6fEaAbg",
    "outputId": "4c422533-a45e-408d-9cd7-01c0aaf59a16",
    "scrolled": true
   },
   "outputs": [],
   "source": [
    "soup.select(\"a.sister\")"
   ]
  },
  {
   "cell_type": "markdown",
   "metadata": {},
   "source": [
    "<b>  You can searc directly using id attributes"
   ]
  },
  {
   "cell_type": "code",
   "execution_count": null,
   "metadata": {
    "ExecuteTime": {
     "end_time": "2022-11-21T10:23:59.962881Z",
     "start_time": "2022-11-21T10:23:59.960086Z"
    },
    "colab": {
     "base_uri": "https://localhost:8080/"
    },
    "executionInfo": {
     "elapsed": 571,
     "status": "ok",
     "timestamp": 1617465565574,
     "user": {
      "displayName": "Ignacio Soteras",
      "photoUrl": "",
      "userId": "02050793736257155229"
     },
     "user_tz": -120
    },
    "id": "n4dJ3ZmmaAbg",
    "outputId": "5e1911c9-d6e3-4be4-eab8-b37db79749eb"
   },
   "outputs": [],
   "source": [
    "soup.select(\"#link2\")"
   ]
  },
  {
   "cell_type": "markdown",
   "metadata": {
    "id": "pmG7uZlQaAbg"
   },
   "source": [
    "We can combine the `select()` method with other bs4 methods, such as `get_text()`.\n",
    "\n",
    "`get_text()`, however, can only be applied to single elements, while `select()` might return multiple elements. It's common to iterate through the output of `select()`"
   ]
  },
  {
   "cell_type": "code",
   "execution_count": null,
   "metadata": {
    "ExecuteTime": {
     "end_time": "2022-11-21T10:23:59.966632Z",
     "start_time": "2022-11-21T10:23:59.963708Z"
    },
    "colab": {
     "base_uri": "https://localhost:8080/"
    },
    "executionInfo": {
     "elapsed": 556,
     "status": "ok",
     "timestamp": 1617465602862,
     "user": {
      "displayName": "Ignacio Soteras",
      "photoUrl": "",
      "userId": "02050793736257155229"
     },
     "user_tz": -120
    },
    "id": "xMaRktqaaAbg",
    "outputId": "c31aede1-3671-4e01-dda8-4ad1c34236f4"
   },
   "outputs": [],
   "source": [
    "print(soup.select(\".story\"))"
   ]
  },
  {
   "cell_type": "code",
   "execution_count": null,
   "metadata": {
    "ExecuteTime": {
     "end_time": "2022-11-21T10:23:59.969843Z",
     "start_time": "2022-11-21T10:23:59.967544Z"
    },
    "colab": {
     "base_uri": "https://localhost:8080/"
    },
    "executionInfo": {
     "elapsed": 545,
     "status": "ok",
     "timestamp": 1617465606338,
     "user": {
      "displayName": "Ignacio Soteras",
      "photoUrl": "",
      "userId": "02050793736257155229"
     },
     "user_tz": -120
    },
    "id": "-I92xAykaAbh",
    "outputId": "cb2ac2fc-f842-4141-f742-bcb76a70d0ca"
   },
   "outputs": [],
   "source": [
    "for p in soup.select(\"p.story\"):\n",
    "    print(p.get_text())"
   ]
  },
  {
   "cell_type": "markdown",
   "metadata": {
    "id": "6KfG8vDwaAbh"
   },
   "source": [
    "\n",
    "\n",
    "Write code to print the following contents (not including the html tags, only human-readable text): \n",
    "\n",
    "1. All the \"fun facts\". \n",
    "\n",
    "2. The names of all the places. \n",
    "\n",
    "3. The content (name and fact) of all the cities (only cities, not countries!) \n",
    "\n",
    "4. The names (not facts!) of all the cities (not countries!)"
   ]
  },
  {
   "cell_type": "code",
   "execution_count": null,
   "metadata": {
    "ExecuteTime": {
     "end_time": "2022-11-21T10:23:59.975879Z",
     "start_time": "2022-11-21T10:23:59.974274Z"
    },
    "executionInfo": {
     "elapsed": 537,
     "status": "ok",
     "timestamp": 1617465616779,
     "user": {
      "displayName": "Ignacio Soteras",
      "photoUrl": "",
      "userId": "02050793736257155229"
     },
     "user_tz": -120
    },
    "id": "IeMQdO9oaAbh"
   },
   "outputs": [],
   "source": [
    "geography = \"\"\"\n",
    "<!DOCTYPE html>\n",
    "<html>\n",
    "<head> Geography</head>\n",
    "<body>\n",
    "\n",
    "<div class=\"city\">\n",
    "  <h2>London</h2>\n",
    "  <p>London is the most popular tourist destination in the world.</p>\n",
    "</div>\n",
    "\n",
    "<div class=\"city\">\n",
    "  <h2>Paris</h2>\n",
    "  <p>Paris was originally a Roman City called Lutetia.</p>\n",
    "</div>\n",
    "\n",
    "<div class=\"country\">\n",
    "  <h2>Spain</h2>\n",
    "  <p>Spain produces 43,8% of all the world's Olive Oil.</p>\n",
    "</div>\n",
    "\n",
    "</body>\n",
    "</html>\n",
    "\"\"\""
   ]
  },
  {
   "cell_type": "code",
   "execution_count": null,
   "metadata": {
    "ExecuteTime": {
     "end_time": "2022-11-21T10:23:59.981254Z",
     "start_time": "2022-11-21T10:23:59.976715Z"
    },
    "colab": {
     "base_uri": "https://localhost:8080/"
    },
    "executionInfo": {
     "elapsed": 558,
     "status": "ok",
     "timestamp": 1617465618931,
     "user": {
      "displayName": "Ignacio Soteras",
      "photoUrl": "",
      "userId": "02050793736257155229"
     },
     "user_tz": -120
    },
    "id": "N30WN3l0aAbh",
    "outputId": "c60877a2-c689-412d-a2a5-7f74d019cb07"
   },
   "outputs": [],
   "source": [
    "soup = BeautifulSoup(geography, 'html.parser')\n",
    "\n",
    "print(soup.prettify())"
   ]
  },
  {
   "cell_type": "code",
   "execution_count": null,
   "metadata": {},
   "outputs": [],
   "source": [
    "# Your code goes here"
   ]
  },
  {
   "cell_type": "markdown",
   "metadata": {
    "id": "du1eWZioaAbi"
   },
   "source": [
    "## Use case: \n",
    "\n",
    "\n",
    "\n"
   ]
  },
  {
   "cell_type": "code",
   "execution_count": null,
   "metadata": {
    "ExecuteTime": {
     "end_time": "2022-11-21T10:24:00.280927Z",
     "start_time": "2022-11-21T10:24:00.007741Z"
    },
    "id": "yVB5PyUKaAbi"
   },
   "outputs": [],
   "source": [
    "# 1. import libraries\n",
    "from bs4 import BeautifulSoup\n",
    "import requests\n",
    "import pandas as pd"
   ]
  },
  {
   "cell_type": "code",
   "execution_count": null,
   "metadata": {
    "ExecuteTime": {
     "end_time": "2022-11-21T10:24:00.283691Z",
     "start_time": "2022-11-21T10:24:00.281914Z"
    },
    "id": "aeTnMAh4aAbi"
   },
   "outputs": [],
   "source": [
    "# 2. find url and store it in a variable\n",
    "url = \"\""
   ]
  },
  {
   "cell_type": "markdown",
   "metadata": {},
   "source": [
    "# <b> using request package"
   ]
  },
  {
   "cell_type": "code",
   "execution_count": null,
   "metadata": {
    "ExecuteTime": {
     "end_time": "2022-11-21T10:24:01.134137Z",
     "start_time": "2022-11-21T10:24:00.285049Z"
    },
    "id": "wY1bee2oaAbi",
    "outputId": "c0d28c71-973c-43d4-e325-95eb14468348"
   },
   "outputs": [],
   "source": [
    "# 3. download html with a get request \n",
    "response = requests.get(url)"
   ]
  },
  {
   "cell_type": "code",
   "execution_count": null,
   "metadata": {
    "ExecuteTime": {
     "end_time": "2022-11-21T10:24:01.146189Z",
     "start_time": "2022-11-21T10:24:01.138235Z"
    }
   },
   "outputs": [],
   "source": [
    "response.status_code # 200 status code means OK!"
   ]
  },
  {
   "cell_type": "markdown",
   "metadata": {},
   "source": [
    "### HTTP Response status codes \n",
    "https://developer.mozilla.org/en-US/docs/Web/HTTP/Status"
   ]
  },
  {
   "cell_type": "code",
   "execution_count": null,
   "metadata": {
    "ExecuteTime": {
     "end_time": "2022-11-21T10:24:01.674367Z",
     "start_time": "2022-11-21T10:24:01.162318Z"
    },
    "id": "N4muU72MaAbj",
    "outputId": "fd2d1078-7507-41ac-b3cd-2d872f2053bc",
    "scrolled": true
   },
   "outputs": [],
   "source": [
    "# 4.1. parse html (create the 'soup')\n",
    "soup = BeautifulSoup(response.content, \"html.parser\")\n",
    "# 4.2. check that the html code looks like it should\n",
    "soup"
   ]
  },
  {
   "cell_type": "markdown",
   "metadata": {
    "id": "kXxPimjraAbk"
   },
   "source": [
    "#### Building the dataframe"
   ]
  },
  {
   "cell_type": "code",
   "execution_count": null,
   "metadata": {},
   "outputs": [],
   "source": [
    "#your code here"
   ]
  },
  {
   "cell_type": "markdown",
   "metadata": {
    "id": "nQcALDRsaAbl"
   },
   "source": [
    "### Cleaning the data"
   ]
  },
  {
   "cell_type": "code",
   "execution_count": null,
   "metadata": {
    "ExecuteTime": {
     "end_time": "2022-11-21T10:24:26.496041Z",
     "start_time": "2022-11-21T10:24:26.489637Z"
    },
    "id": "V3hwm4jRaAbm"
   },
   "outputs": [],
   "source": [
    "# your code here"
   ]
  }
 ],
 "metadata": {
  "colab": {
   "name": "Web Scraping Code Along.ipynb",
   "provenance": [],
   "toc_visible": true
  },
  "kernelspec": {
   "display_name": "Python 3 (ipykernel)",
   "language": "python",
   "name": "python3"
  },
  "language_info": {
   "codemirror_mode": {
    "name": "ipython",
    "version": 3
   },
   "file_extension": ".py",
   "mimetype": "text/x-python",
   "name": "python",
   "nbconvert_exporter": "python",
   "pygments_lexer": "ipython3",
   "version": "3.11.4"
  },
  "toc": {
   "base_numbering": 1,
   "nav_menu": {},
   "number_sections": true,
   "sideBar": true,
   "skip_h1_title": false,
   "title_cell": "Table of Contents",
   "title_sidebar": "Contents",
   "toc_cell": false,
   "toc_position": {},
   "toc_section_display": true,
   "toc_window_display": false
  },
  "varInspector": {
   "cols": {
    "lenName": 16,
    "lenType": 16,
    "lenVar": 40
   },
   "kernels_config": {
    "python": {
     "delete_cmd_postfix": "",
     "delete_cmd_prefix": "del ",
     "library": "var_list.py",
     "varRefreshCmd": "print(var_dic_list())"
    },
    "r": {
     "delete_cmd_postfix": ") ",
     "delete_cmd_prefix": "rm(",
     "library": "var_list.r",
     "varRefreshCmd": "cat(var_dic_list()) "
    }
   },
   "types_to_exclude": [
    "module",
    "function",
    "builtin_function_or_method",
    "instance",
    "_Feature"
   ],
   "window_display": false
  }
 },
 "nbformat": 4,
 "nbformat_minor": 1
}
