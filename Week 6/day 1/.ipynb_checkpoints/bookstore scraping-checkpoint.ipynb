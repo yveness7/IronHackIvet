{
 "cells": [
  {
   "cell_type": "code",
   "execution_count": 6,
   "id": "641187ed",
   "metadata": {},
   "outputs": [],
   "source": [
    "url2 = 'https://gutenberg.org/ebooks/search/?query=&submit_search=Search'"
   ]
  },
  {
   "cell_type": "code",
   "execution_count": 8,
   "id": "abc33a90",
   "metadata": {},
   "outputs": [],
   "source": [
    "from bs4 import BeautifulSoup\n",
    "import pprint\n",
    "import requests\n"
   ]
  },
  {
   "cell_type": "code",
   "execution_count": 10,
   "id": "367b7180",
   "metadata": {
    "scrolled": true
   },
   "outputs": [
    {
     "name": "stdout",
     "output_type": "stream",
     "text": [
      "200\n"
     ]
    }
   ],
   "source": [
    "response = requests.get(url2)\n",
    "print(response.status_code)"
   ]
  },
  {
   "cell_type": "code",
   "execution_count": 11,
   "id": "9b304ff3",
   "metadata": {},
   "outputs": [],
   "source": [
    "soup = BeautifulSoup(response.content)"
   ]
  },
  {
   "cell_type": "code",
   "execution_count": 20,
   "id": "10e5c4d0",
   "metadata": {},
   "outputs": [
    {
     "data": {
      "text/plain": [
       "[<title>All Books (sorted by popularity) - Project Gutenberg</title>]"
      ]
     },
     "execution_count": 20,
     "metadata": {},
     "output_type": "execute_result"
    }
   ],
   "source": [
    "soup.select('title')"
   ]
  },
  {
   "cell_type": "code",
   "execution_count": 22,
   "id": "2a212bbb",
   "metadata": {},
   "outputs": [
    {
     "data": {
      "text/plain": [
       "['Frankenstein; Or, The Modern Prometheus',\n",
       " 'Pride and Prejudice',\n",
       " 'Romeo and Juliet',\n",
       " 'Calculus Made Easy\\r',\n",
       " 'The Scarlet Letter',\n",
       " \"Alice's Adventures in Wonderland\",\n",
       " 'Dracula',\n",
       " 'A Christmas Carol in Prose; Being a Ghost Story of Christmas',\n",
       " 'The Great Gatsby',\n",
       " \"A Doll's House : a play\",\n",
       " 'The Picture of Dorian Gray',\n",
       " 'Simple Sabotage Field Manual',\n",
       " 'Metamorphosis',\n",
       " 'A Modest Proposal\\r',\n",
       " 'The Importance of Being Earnest: A Trivial Comedy for Serious People',\n",
       " 'The Strange Case of Dr. Jekyll and Mr. Hyde',\n",
       " 'Moby Dick; Or, The Whale',\n",
       " 'The Yellow Wallpaper',\n",
       " 'A Tale of Two Cities',\n",
       " 'Jane Eyre: An Autobiography',\n",
       " 'The Adventures of Sherlock Holmes',\n",
       " 'Great Expectations',\n",
       " 'The Prince',\n",
       " 'Adventures of Huckleberry Finn',\n",
       " 'The Iliad']"
      ]
     },
     "execution_count": 22,
     "metadata": {},
     "output_type": "execute_result"
    }
   ],
   "source": [
    "book_titles = []\n",
    "for book in soup.select('.title')[2:]:\n",
    "    book_titles.append(book.get_text())\n",
    "\n",
    "book_titles"
   ]
  },
  {
   "cell_type": "code",
   "execution_count": 17,
   "id": "582b209f",
   "metadata": {},
   "outputs": [
    {
     "data": {
      "text/plain": [
       "['Mary Wollstonecraft Shelley',\n",
       " 'Jane Austen',\n",
       " 'William Shakespeare',\n",
       " 'Silvanus P. Thompson',\n",
       " 'Nathaniel Hawthorne',\n",
       " 'Lewis Carroll',\n",
       " 'Bram Stoker',\n",
       " 'Charles Dickens',\n",
       " 'F. Scott Fitzgerald',\n",
       " 'Henrik Ibsen',\n",
       " 'Oscar Wilde',\n",
       " 'United States. Office of Strategic Services',\n",
       " 'Franz Kafka',\n",
       " 'Jonathan Swift',\n",
       " 'Oscar Wilde',\n",
       " 'Robert Louis Stevenson',\n",
       " 'Herman Melville',\n",
       " 'Charlotte Perkins Gilman',\n",
       " 'Charles Dickens',\n",
       " 'Charlotte Brontë',\n",
       " 'Arthur Conan Doyle',\n",
       " 'Charles Dickens',\n",
       " 'Niccolò Machiavelli',\n",
       " 'Mark Twain',\n",
       " 'Homer']"
      ]
     },
     "execution_count": 17,
     "metadata": {},
     "output_type": "execute_result"
    }
   ],
   "source": [
    "authors = []\n",
    "for author in soup.select('.subtitle'):\n",
    "    authors.append(author.get_text())\n",
    "    \n",
    "authors"
   ]
  },
  {
   "cell_type": "code",
   "execution_count": 26,
   "id": "77261473",
   "metadata": {},
   "outputs": [
    {
     "data": {
      "text/html": [
       "<div>\n",
       "<style scoped>\n",
       "    .dataframe tbody tr th:only-of-type {\n",
       "        vertical-align: middle;\n",
       "    }\n",
       "\n",
       "    .dataframe tbody tr th {\n",
       "        vertical-align: top;\n",
       "    }\n",
       "\n",
       "    .dataframe thead th {\n",
       "        text-align: right;\n",
       "    }\n",
       "</style>\n",
       "<table border=\"1\" class=\"dataframe\">\n",
       "  <thead>\n",
       "    <tr style=\"text-align: right;\">\n",
       "      <th></th>\n",
       "      <th>book_titles</th>\n",
       "      <th>authors</th>\n",
       "    </tr>\n",
       "  </thead>\n",
       "  <tbody>\n",
       "    <tr>\n",
       "      <th>0</th>\n",
       "      <td>Frankenstein; Or, The Modern Prometheus</td>\n",
       "      <td>Mary Wollstonecraft Shelley</td>\n",
       "    </tr>\n",
       "    <tr>\n",
       "      <th>1</th>\n",
       "      <td>Pride and Prejudice</td>\n",
       "      <td>Jane Austen</td>\n",
       "    </tr>\n",
       "    <tr>\n",
       "      <th>2</th>\n",
       "      <td>Romeo and Juliet</td>\n",
       "      <td>William Shakespeare</td>\n",
       "    </tr>\n",
       "    <tr>\n",
       "      <th>3</th>\n",
       "      <td>Calculus Made Easy\\r</td>\n",
       "      <td>Silvanus P. Thompson</td>\n",
       "    </tr>\n",
       "    <tr>\n",
       "      <th>4</th>\n",
       "      <td>The Scarlet Letter</td>\n",
       "      <td>Nathaniel Hawthorne</td>\n",
       "    </tr>\n",
       "    <tr>\n",
       "      <th>5</th>\n",
       "      <td>Alice's Adventures in Wonderland</td>\n",
       "      <td>Lewis Carroll</td>\n",
       "    </tr>\n",
       "    <tr>\n",
       "      <th>6</th>\n",
       "      <td>Dracula</td>\n",
       "      <td>Bram Stoker</td>\n",
       "    </tr>\n",
       "    <tr>\n",
       "      <th>7</th>\n",
       "      <td>A Christmas Carol in Prose; Being a Ghost Stor...</td>\n",
       "      <td>Charles Dickens</td>\n",
       "    </tr>\n",
       "    <tr>\n",
       "      <th>8</th>\n",
       "      <td>The Great Gatsby</td>\n",
       "      <td>F. Scott Fitzgerald</td>\n",
       "    </tr>\n",
       "    <tr>\n",
       "      <th>9</th>\n",
       "      <td>A Doll's House : a play</td>\n",
       "      <td>Henrik Ibsen</td>\n",
       "    </tr>\n",
       "    <tr>\n",
       "      <th>10</th>\n",
       "      <td>The Picture of Dorian Gray</td>\n",
       "      <td>Oscar Wilde</td>\n",
       "    </tr>\n",
       "    <tr>\n",
       "      <th>11</th>\n",
       "      <td>Simple Sabotage Field Manual</td>\n",
       "      <td>United States. Office of Strategic Services</td>\n",
       "    </tr>\n",
       "    <tr>\n",
       "      <th>12</th>\n",
       "      <td>Metamorphosis</td>\n",
       "      <td>Franz Kafka</td>\n",
       "    </tr>\n",
       "    <tr>\n",
       "      <th>13</th>\n",
       "      <td>A Modest Proposal\\r</td>\n",
       "      <td>Jonathan Swift</td>\n",
       "    </tr>\n",
       "    <tr>\n",
       "      <th>14</th>\n",
       "      <td>The Importance of Being Earnest: A Trivial Com...</td>\n",
       "      <td>Oscar Wilde</td>\n",
       "    </tr>\n",
       "    <tr>\n",
       "      <th>15</th>\n",
       "      <td>The Strange Case of Dr. Jekyll and Mr. Hyde</td>\n",
       "      <td>Robert Louis Stevenson</td>\n",
       "    </tr>\n",
       "    <tr>\n",
       "      <th>16</th>\n",
       "      <td>Moby Dick; Or, The Whale</td>\n",
       "      <td>Herman Melville</td>\n",
       "    </tr>\n",
       "    <tr>\n",
       "      <th>17</th>\n",
       "      <td>The Yellow Wallpaper</td>\n",
       "      <td>Charlotte Perkins Gilman</td>\n",
       "    </tr>\n",
       "    <tr>\n",
       "      <th>18</th>\n",
       "      <td>A Tale of Two Cities</td>\n",
       "      <td>Charles Dickens</td>\n",
       "    </tr>\n",
       "    <tr>\n",
       "      <th>19</th>\n",
       "      <td>Jane Eyre: An Autobiography</td>\n",
       "      <td>Charlotte Brontë</td>\n",
       "    </tr>\n",
       "    <tr>\n",
       "      <th>20</th>\n",
       "      <td>The Adventures of Sherlock Holmes</td>\n",
       "      <td>Arthur Conan Doyle</td>\n",
       "    </tr>\n",
       "    <tr>\n",
       "      <th>21</th>\n",
       "      <td>Great Expectations</td>\n",
       "      <td>Charles Dickens</td>\n",
       "    </tr>\n",
       "    <tr>\n",
       "      <th>22</th>\n",
       "      <td>The Prince</td>\n",
       "      <td>Niccolò Machiavelli</td>\n",
       "    </tr>\n",
       "    <tr>\n",
       "      <th>23</th>\n",
       "      <td>Adventures of Huckleberry Finn</td>\n",
       "      <td>Mark Twain</td>\n",
       "    </tr>\n",
       "    <tr>\n",
       "      <th>24</th>\n",
       "      <td>The Iliad</td>\n",
       "      <td>Homer</td>\n",
       "    </tr>\n",
       "  </tbody>\n",
       "</table>\n",
       "</div>"
      ],
      "text/plain": [
       "                                          book_titles  \\\n",
       "0             Frankenstein; Or, The Modern Prometheus   \n",
       "1                                 Pride and Prejudice   \n",
       "2                                    Romeo and Juliet   \n",
       "3                                Calculus Made Easy\\r   \n",
       "4                                  The Scarlet Letter   \n",
       "5                    Alice's Adventures in Wonderland   \n",
       "6                                             Dracula   \n",
       "7   A Christmas Carol in Prose; Being a Ghost Stor...   \n",
       "8                                    The Great Gatsby   \n",
       "9                             A Doll's House : a play   \n",
       "10                         The Picture of Dorian Gray   \n",
       "11                       Simple Sabotage Field Manual   \n",
       "12                                      Metamorphosis   \n",
       "13                                A Modest Proposal\\r   \n",
       "14  The Importance of Being Earnest: A Trivial Com...   \n",
       "15        The Strange Case of Dr. Jekyll and Mr. Hyde   \n",
       "16                           Moby Dick; Or, The Whale   \n",
       "17                               The Yellow Wallpaper   \n",
       "18                               A Tale of Two Cities   \n",
       "19                        Jane Eyre: An Autobiography   \n",
       "20                  The Adventures of Sherlock Holmes   \n",
       "21                                 Great Expectations   \n",
       "22                                         The Prince   \n",
       "23                     Adventures of Huckleberry Finn   \n",
       "24                                          The Iliad   \n",
       "\n",
       "                                        authors  \n",
       "0                   Mary Wollstonecraft Shelley  \n",
       "1                                   Jane Austen  \n",
       "2                           William Shakespeare  \n",
       "3                          Silvanus P. Thompson  \n",
       "4                           Nathaniel Hawthorne  \n",
       "5                                 Lewis Carroll  \n",
       "6                                   Bram Stoker  \n",
       "7                               Charles Dickens  \n",
       "8                           F. Scott Fitzgerald  \n",
       "9                                  Henrik Ibsen  \n",
       "10                                  Oscar Wilde  \n",
       "11  United States. Office of Strategic Services  \n",
       "12                                  Franz Kafka  \n",
       "13                               Jonathan Swift  \n",
       "14                                  Oscar Wilde  \n",
       "15                       Robert Louis Stevenson  \n",
       "16                              Herman Melville  \n",
       "17                     Charlotte Perkins Gilman  \n",
       "18                              Charles Dickens  \n",
       "19                             Charlotte Brontë  \n",
       "20                           Arthur Conan Doyle  \n",
       "21                              Charles Dickens  \n",
       "22                          Niccolò Machiavelli  \n",
       "23                                   Mark Twain  \n",
       "24                                        Homer  "
      ]
     },
     "execution_count": 26,
     "metadata": {},
     "output_type": "execute_result"
    }
   ],
   "source": [
    "import pandas as pd\n",
    "book_df = pd.DataFrame({'book_titles':book_titles,\"authors\":authors})\n",
    "book_df\n"
   ]
  },
  {
   "cell_type": "code",
   "execution_count": null,
   "id": "907e4bab",
   "metadata": {},
   "outputs": [],
   "source": []
  }
 ],
 "metadata": {
  "kernelspec": {
   "display_name": "Python 3 (ipykernel)",
   "language": "python",
   "name": "python3"
  },
  "language_info": {
   "codemirror_mode": {
    "name": "ipython",
    "version": 3
   },
   "file_extension": ".py",
   "mimetype": "text/x-python",
   "name": "python",
   "nbconvert_exporter": "python",
   "pygments_lexer": "ipython3",
   "version": "3.11.4"
  }
 },
 "nbformat": 4,
 "nbformat_minor": 5
}
